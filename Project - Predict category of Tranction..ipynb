{
 "cells": [
  {
   "cell_type": "code",
   "execution_count": 1,
   "id": "748eb9e8",
   "metadata": {},
   "outputs": [],
   "source": [
    "# importing Libriries\n",
    "\n",
    "# Importing pandas and numpy for data wrangaling and numerical operations.\n",
    "import pandas as pd\n",
    "import numpy as np\n",
    "\n",
    "# Importing matplotlib and seaborn for Visualization.\n",
    "import matplotlib.pyplot as plt\n",
    "import seaborn as sns\n",
    "\n",
    "# To avoid warnings.\n",
    "import warnings\n",
    "warnings.filterwarnings('ignore')\n",
    "\n",
    "#to explore data, estimate statistical models, and perform statistical tests.\n",
    "import statsmodels.api as sm\n",
    "import scipy.stats as stats\n",
    "\n",
    "# hyperparameter tuning using Grid search\n",
    "from sklearn.model_selection import GridSearchCV \n",
    "\n",
    "# Libraries for Model building\n",
    "from sklearn.compose import ColumnTransformer\n",
    "from sklearn.impute import SimpleImputer\n",
    "from sklearn.pipeline import Pipeline, make_pipeline \n",
    "from sklearn.preprocessing import OneHotEncoder\n",
    "from sklearn.preprocessing import MinMaxScaler\n",
    "\n",
    "# Librarie for HTML outline of Ml Pipeline.\n",
    "from sklearn import set_config\n",
    "set_config(display= 'diagram')\n",
    "\n",
    "from sklearn.feature_selection import SelectKBest,chi2\n",
    "\n",
    "# Importing varies Algorithims.\n",
    "from sklearn.tree import DecisionTreeClassifier\n",
    "from sklearn.ensemble import RandomForestClassifier\n",
    "from sklearn.ensemble import GradientBoostingClassifier\n",
    "from xgboost import XGBClassifier\n",
    "\n",
    "# Importing performance validation metrics.\n",
    "from sklearn.metrics import accuracy_score, confusion_matrix ,precision_score,recall_score,f1_score\n",
    "from sklearn.metrics import classification_report\n",
    "\n",
    "# Importing smote for oversampling minority class.\n",
    "from imblearn.over_sampling import SMOTE\n"
   ]
  },
  {
   "cell_type": "code",
   "execution_count": 2,
   "id": "23edc678",
   "metadata": {
    "scrolled": true
   },
   "outputs": [
    {
     "data": {
      "text/html": [
       "<div>\n",
       "<style scoped>\n",
       "    .dataframe tbody tr th:only-of-type {\n",
       "        vertical-align: middle;\n",
       "    }\n",
       "\n",
       "    .dataframe tbody tr th {\n",
       "        vertical-align: top;\n",
       "    }\n",
       "\n",
       "    .dataframe thead th {\n",
       "        text-align: right;\n",
       "    }\n",
       "</style>\n",
       "<table border=\"1\" class=\"dataframe\">\n",
       "  <thead>\n",
       "    <tr style=\"text-align: right;\">\n",
       "      <th></th>\n",
       "      <th>CompanyName</th>\n",
       "      <th>Financial Department</th>\n",
       "      <th>Financial AccountGroup</th>\n",
       "      <th>VendorName</th>\n",
       "      <th>Amount Month 1</th>\n",
       "      <th>Amount Month 2</th>\n",
       "      <th>Amount Month 3</th>\n",
       "      <th>Amount Month 4</th>\n",
       "      <th>Category</th>\n",
       "    </tr>\n",
       "  </thead>\n",
       "  <tbody>\n",
       "    <tr>\n",
       "      <th>0</th>\n",
       "      <td>B0</td>\n",
       "      <td>D0</td>\n",
       "      <td>C0</td>\n",
       "      <td>E0</td>\n",
       "      <td>930.076541</td>\n",
       "      <td>897.167475</td>\n",
       "      <td>855.332105</td>\n",
       "      <td>837.175251</td>\n",
       "      <td>X0</td>\n",
       "    </tr>\n",
       "    <tr>\n",
       "      <th>1</th>\n",
       "      <td>B0</td>\n",
       "      <td>D0</td>\n",
       "      <td>C0</td>\n",
       "      <td>E1</td>\n",
       "      <td>929.726216</td>\n",
       "      <td>897.167475</td>\n",
       "      <td>856.459905</td>\n",
       "      <td>837.175251</td>\n",
       "      <td>X0</td>\n",
       "    </tr>\n",
       "    <tr>\n",
       "      <th>2</th>\n",
       "      <td>B0</td>\n",
       "      <td>D0</td>\n",
       "      <td>C0</td>\n",
       "      <td>E2</td>\n",
       "      <td>930.076541</td>\n",
       "      <td>897.167475</td>\n",
       "      <td>856.459905</td>\n",
       "      <td>837.096763</td>\n",
       "      <td>X0</td>\n",
       "    </tr>\n",
       "    <tr>\n",
       "      <th>3</th>\n",
       "      <td>B0</td>\n",
       "      <td>D0</td>\n",
       "      <td>C0</td>\n",
       "      <td>E3</td>\n",
       "      <td>926.513586</td>\n",
       "      <td>897.167475</td>\n",
       "      <td>856.459905</td>\n",
       "      <td>837.175251</td>\n",
       "      <td>X0</td>\n",
       "    </tr>\n",
       "    <tr>\n",
       "      <th>4</th>\n",
       "      <td>B0</td>\n",
       "      <td>D0</td>\n",
       "      <td>C1</td>\n",
       "      <td>E4</td>\n",
       "      <td>930.076541</td>\n",
       "      <td>897.167475</td>\n",
       "      <td>856.459905</td>\n",
       "      <td>836.399490</td>\n",
       "      <td>X0</td>\n",
       "    </tr>\n",
       "    <tr>\n",
       "      <th>...</th>\n",
       "      <td>...</td>\n",
       "      <td>...</td>\n",
       "      <td>...</td>\n",
       "      <td>...</td>\n",
       "      <td>...</td>\n",
       "      <td>...</td>\n",
       "      <td>...</td>\n",
       "      <td>...</td>\n",
       "      <td>...</td>\n",
       "    </tr>\n",
       "    <tr>\n",
       "      <th>4715</th>\n",
       "      <td>B8</td>\n",
       "      <td>D15</td>\n",
       "      <td>C4</td>\n",
       "      <td>E1505</td>\n",
       "      <td>816.780325</td>\n",
       "      <td>846.908198</td>\n",
       "      <td>747.866497</td>\n",
       "      <td>738.087166</td>\n",
       "      <td>NaN</td>\n",
       "    </tr>\n",
       "    <tr>\n",
       "      <th>4716</th>\n",
       "      <td>B8</td>\n",
       "      <td>D15</td>\n",
       "      <td>C4</td>\n",
       "      <td>E1506</td>\n",
       "      <td>743.441494</td>\n",
       "      <td>804.010713</td>\n",
       "      <td>666.495417</td>\n",
       "      <td>657.722959</td>\n",
       "      <td>NaN</td>\n",
       "    </tr>\n",
       "    <tr>\n",
       "      <th>4717</th>\n",
       "      <td>B8</td>\n",
       "      <td>D15</td>\n",
       "      <td>C4</td>\n",
       "      <td>E1507</td>\n",
       "      <td>801.134982</td>\n",
       "      <td>837.856874</td>\n",
       "      <td>794.708694</td>\n",
       "      <td>837.175251</td>\n",
       "      <td>NaN</td>\n",
       "    </tr>\n",
       "    <tr>\n",
       "      <th>4718</th>\n",
       "      <td>B8</td>\n",
       "      <td>D15</td>\n",
       "      <td>C4</td>\n",
       "      <td>E486</td>\n",
       "      <td>930.076541</td>\n",
       "      <td>897.167475</td>\n",
       "      <td>856.459905</td>\n",
       "      <td>832.326991</td>\n",
       "      <td>NaN</td>\n",
       "    </tr>\n",
       "    <tr>\n",
       "      <th>4719</th>\n",
       "      <td>B8</td>\n",
       "      <td>D15</td>\n",
       "      <td>C5</td>\n",
       "      <td>E32</td>\n",
       "      <td>930.076541</td>\n",
       "      <td>897.107541</td>\n",
       "      <td>856.459905</td>\n",
       "      <td>837.175251</td>\n",
       "      <td>NaN</td>\n",
       "    </tr>\n",
       "  </tbody>\n",
       "</table>\n",
       "<p>4720 rows × 9 columns</p>\n",
       "</div>"
      ],
      "text/plain": [
       "     CompanyName Financial Department Financial AccountGroup VendorName  \\\n",
       "0             B0                   D0                     C0         E0   \n",
       "1             B0                   D0                     C0         E1   \n",
       "2             B0                   D0                     C0         E2   \n",
       "3             B0                   D0                     C0         E3   \n",
       "4             B0                   D0                     C1         E4   \n",
       "...          ...                  ...                    ...        ...   \n",
       "4715          B8                  D15                     C4      E1505   \n",
       "4716          B8                  D15                     C4      E1506   \n",
       "4717          B8                  D15                     C4      E1507   \n",
       "4718          B8                  D15                     C4       E486   \n",
       "4719          B8                  D15                     C5        E32   \n",
       "\n",
       "      Amount Month 1  Amount Month 2  Amount Month 3  Amount Month 4 Category  \n",
       "0         930.076541      897.167475      855.332105      837.175251       X0  \n",
       "1         929.726216      897.167475      856.459905      837.175251       X0  \n",
       "2         930.076541      897.167475      856.459905      837.096763       X0  \n",
       "3         926.513586      897.167475      856.459905      837.175251       X0  \n",
       "4         930.076541      897.167475      856.459905      836.399490       X0  \n",
       "...              ...             ...             ...             ...      ...  \n",
       "4715      816.780325      846.908198      747.866497      738.087166      NaN  \n",
       "4716      743.441494      804.010713      666.495417      657.722959      NaN  \n",
       "4717      801.134982      837.856874      794.708694      837.175251      NaN  \n",
       "4718      930.076541      897.167475      856.459905      832.326991      NaN  \n",
       "4719      930.076541      897.107541      856.459905      837.175251      NaN  \n",
       "\n",
       "[4720 rows x 9 columns]"
      ]
     },
     "execution_count": 2,
     "metadata": {},
     "output_type": "execute_result"
    }
   ],
   "source": [
    "# Loding data \n",
    "df = pd.read_excel(r\"C:\\Users\\lenovo\\OneDrive\\Desktop\\Assigenment\\DataSet for the Data Science Test (1).xlsx\")\n",
    "\n",
    "# Making deep copy in new dataframe 'Origional_df'\n",
    "origional_df = df.copy()                   \n",
    "df"
   ]
  },
  {
   "cell_type": "code",
   "execution_count": 3,
   "id": "1c938096",
   "metadata": {},
   "outputs": [
    {
     "data": {
      "text/plain": [
       "(4720, 9)"
      ]
     },
     "execution_count": 3,
     "metadata": {},
     "output_type": "execute_result"
    }
   ],
   "source": [
    "# Knowing shape of dataframe\n",
    "df.shape"
   ]
  },
  {
   "cell_type": "code",
   "execution_count": 4,
   "id": "e7b35bfb",
   "metadata": {},
   "outputs": [
    {
     "data": {
      "text/plain": [
       "Index(['CompanyName', 'Financial Department', 'Financial AccountGroup',\n",
       "       'VendorName', 'Amount Month 1', 'Amount Month 2', 'Amount Month 3',\n",
       "       'Amount Month 4', 'Category'],\n",
       "      dtype='object')"
      ]
     },
     "execution_count": 4,
     "metadata": {},
     "output_type": "execute_result"
    }
   ],
   "source": [
    "df.columns"
   ]
  },
  {
   "cell_type": "code",
   "execution_count": 5,
   "id": "2ab7c805",
   "metadata": {},
   "outputs": [
    {
     "name": "stdout",
     "output_type": "stream",
     "text": [
      "<class 'pandas.core.frame.DataFrame'>\n",
      "RangeIndex: 4720 entries, 0 to 4719\n",
      "Data columns (total 9 columns):\n",
      " #   Column                  Non-Null Count  Dtype  \n",
      "---  ------                  --------------  -----  \n",
      " 0   CompanyName             4720 non-null   object \n",
      " 1   Financial Department    4720 non-null   object \n",
      " 2   Financial AccountGroup  4720 non-null   object \n",
      " 3   VendorName              4720 non-null   object \n",
      " 4   Amount Month 1          4717 non-null   float64\n",
      " 5   Amount Month 2          4719 non-null   float64\n",
      " 6   Amount Month 3          4718 non-null   float64\n",
      " 7   Amount Month 4          4719 non-null   float64\n",
      " 8   Category                3695 non-null   object \n",
      "dtypes: float64(4), object(5)\n",
      "memory usage: 332.0+ KB\n"
     ]
    }
   ],
   "source": [
    "df.info()"
   ]
  },
  {
   "cell_type": "code",
   "execution_count": 6,
   "id": "75644766",
   "metadata": {},
   "outputs": [
    {
     "data": {
      "text/html": [
       "<div>\n",
       "<style scoped>\n",
       "    .dataframe tbody tr th:only-of-type {\n",
       "        vertical-align: middle;\n",
       "    }\n",
       "\n",
       "    .dataframe tbody tr th {\n",
       "        vertical-align: top;\n",
       "    }\n",
       "\n",
       "    .dataframe thead th {\n",
       "        text-align: right;\n",
       "    }\n",
       "</style>\n",
       "<table border=\"1\" class=\"dataframe\">\n",
       "  <thead>\n",
       "    <tr style=\"text-align: right;\">\n",
       "      <th></th>\n",
       "      <th>Amount Month 1</th>\n",
       "      <th>Amount Month 2</th>\n",
       "      <th>Amount Month 3</th>\n",
       "      <th>Amount Month 4</th>\n",
       "    </tr>\n",
       "  </thead>\n",
       "  <tbody>\n",
       "    <tr>\n",
       "      <th>count</th>\n",
       "      <td>4717.000000</td>\n",
       "      <td>4.719000e+03</td>\n",
       "      <td>4718.000000</td>\n",
       "      <td>4.719000e+03</td>\n",
       "    </tr>\n",
       "    <tr>\n",
       "      <th>mean</th>\n",
       "      <td>911.547581</td>\n",
       "      <td>8.862468e+02</td>\n",
       "      <td>832.403176</td>\n",
       "      <td>8.150937e+02</td>\n",
       "    </tr>\n",
       "    <tr>\n",
       "      <th>std</th>\n",
       "      <td>59.723420</td>\n",
       "      <td>4.410200e+01</td>\n",
       "      <td>62.674567</td>\n",
       "      <td>5.601395e+01</td>\n",
       "    </tr>\n",
       "    <tr>\n",
       "      <th>min</th>\n",
       "      <td>0.000000</td>\n",
       "      <td>4.821640e-14</td>\n",
       "      <td>0.000000</td>\n",
       "      <td>4.821640e-14</td>\n",
       "    </tr>\n",
       "    <tr>\n",
       "      <th>25%</th>\n",
       "      <td>927.517998</td>\n",
       "      <td>8.954633e+02</td>\n",
       "      <td>845.248172</td>\n",
       "      <td>8.259513e+02</td>\n",
       "    </tr>\n",
       "    <tr>\n",
       "      <th>50%</th>\n",
       "      <td>930.076541</td>\n",
       "      <td>8.971675e+02</td>\n",
       "      <td>856.177985</td>\n",
       "      <td>8.367251e+02</td>\n",
       "    </tr>\n",
       "    <tr>\n",
       "      <th>75%</th>\n",
       "      <td>930.076541</td>\n",
       "      <td>8.971675e+02</td>\n",
       "      <td>856.459905</td>\n",
       "      <td>8.371753e+02</td>\n",
       "    </tr>\n",
       "    <tr>\n",
       "      <th>max</th>\n",
       "      <td>1163.521001</td>\n",
       "      <td>1.303063e+03</td>\n",
       "      <td>1237.874227</td>\n",
       "      <td>1.116251e+03</td>\n",
       "    </tr>\n",
       "  </tbody>\n",
       "</table>\n",
       "</div>"
      ],
      "text/plain": [
       "       Amount Month 1  Amount Month 2  Amount Month 3  Amount Month 4\n",
       "count     4717.000000    4.719000e+03     4718.000000    4.719000e+03\n",
       "mean       911.547581    8.862468e+02      832.403176    8.150937e+02\n",
       "std         59.723420    4.410200e+01       62.674567    5.601395e+01\n",
       "min          0.000000    4.821640e-14        0.000000    4.821640e-14\n",
       "25%        927.517998    8.954633e+02      845.248172    8.259513e+02\n",
       "50%        930.076541    8.971675e+02      856.177985    8.367251e+02\n",
       "75%        930.076541    8.971675e+02      856.459905    8.371753e+02\n",
       "max       1163.521001    1.303063e+03     1237.874227    1.116251e+03"
      ]
     },
     "execution_count": 6,
     "metadata": {},
     "output_type": "execute_result"
    }
   ],
   "source": [
    "df.describe()"
   ]
  },
  {
   "cell_type": "code",
   "execution_count": 7,
   "id": "bd6a328e",
   "metadata": {},
   "outputs": [
    {
     "data": {
      "text/plain": [
       "CompanyName                  0\n",
       "Financial Department         0\n",
       "Financial AccountGroup       0\n",
       "VendorName                   0\n",
       "Amount Month 1               3\n",
       "Amount Month 2               1\n",
       "Amount Month 3               2\n",
       "Amount Month 4               1\n",
       "Category                  1025\n",
       "dtype: int64"
      ]
     },
     "execution_count": 7,
     "metadata": {},
     "output_type": "execute_result"
    }
   ],
   "source": [
    "df.isnull().sum()"
   ]
  },
  {
   "cell_type": "code",
   "execution_count": 8,
   "id": "c0d0c4f1",
   "metadata": {
    "scrolled": true
   },
   "outputs": [
    {
     "data": {
      "text/plain": [
       "<AxesSubplot:>"
      ]
     },
     "execution_count": 8,
     "metadata": {},
     "output_type": "execute_result"
    },
    {
     "data": {
      "image/png": "[encoded data removed]",
      "text/plain": [
       "<Figure size 864x432 with 2 Axes>"
      ]
     },
     "metadata": {
      "needs_background": "light"
     },
     "output_type": "display_data"
    }
   ],
   "source": [
    "plt.figure(figsize=(12,6))\n",
    "sns.heatmap(df.corr(),annot=True)"
   ]
  },
  {
   "cell_type": "markdown",
   "id": "f7038baa",
   "metadata": {},
   "source": [
    "Above two plots shaow that there is linear reationship among  independent variables.\n",
    "1. Amount month 3 is highly linearly related with Amount month 4\n",
    "2. Amount month 1 is linearly dependent in Amount month 2"
   ]
  },
  {
   "cell_type": "markdown",
   "id": "b141d5b4",
   "metadata": {},
   "source": [
    "### Analysing the numerical variables "
   ]
  },
  {
   "cell_type": "markdown",
   "id": "1c0aa055",
   "metadata": {},
   "source": [
    "### Variable: Amount Month 1"
   ]
  },
  {
   "cell_type": "code",
   "execution_count": 9,
   "id": "6da07cc5",
   "metadata": {},
   "outputs": [
    {
     "data": {
      "text/plain": [
       "count    4717.000000\n",
       "mean      911.547581\n",
       "std        59.723420\n",
       "min         0.000000\n",
       "25%       927.517998\n",
       "50%       930.076541\n",
       "75%       930.076541\n",
       "max      1163.521001\n",
       "Name: Amount Month 1, dtype: float64"
      ]
     },
     "execution_count": 9,
     "metadata": {},
     "output_type": "execute_result"
    }
   ],
   "source": [
    "df['Amount Month 1'].describe()"
   ]
  },
  {
   "cell_type": "code",
   "execution_count": 10,
   "id": "11ad8e44",
   "metadata": {},
   "outputs": [
    {
     "data": {
      "text/plain": [
       "((array([-3.62080759, -3.38458147, -3.25433924, ...,  3.25433924,\n",
       "          3.38458147,  3.62080759]),\n",
       "  array([ 0.,  0.,  0., ..., nan, nan, nan])),\n",
       " (nan, nan, nan))"
      ]
     },
     "execution_count": 10,
     "metadata": {},
     "output_type": "execute_result"
    },
    {
     "data": {
      "image/png": "[encoded data removed]",
      "text/plain": [
       "<Figure size 1152x432 with 3 Axes>"
      ]
     },
     "metadata": {
      "needs_background": "light"
     },
     "output_type": "display_data"
    }
   ],
   "source": [
    "# seeing the distribution of data\n",
    "plt.figure(figsize=(16,6))\n",
    "plt.subplot(2,2,1)\n",
    "sns.distplot(df['Amount Month 1'])\n",
    "plt.subplot(2,2,2)\n",
    "sns.boxplot(df['Amount Month 1'])\n",
    "plt.subplot(2,2,3)\n",
    "stats.probplot(df['Amount Month 1'], dist = 'norm', plot = plt)\n"
   ]
  },
  {
   "cell_type": "markdown",
   "id": "bc101749",
   "metadata": {},
   "source": [
    "Inference : The distribution of above column is left skewed also it has many outliers "
   ]
  },
  {
   "cell_type": "code",
   "execution_count": 11,
   "id": "1fb05003",
   "metadata": {},
   "outputs": [
    {
     "data": {
      "text/plain": [
       "0       930.076541\n",
       "1       929.726216\n",
       "2       930.076541\n",
       "3       926.513586\n",
       "4       930.076541\n",
       "           ...    \n",
       "4715    816.780325\n",
       "4716    743.441494\n",
       "4717    801.134982\n",
       "4718    930.076541\n",
       "4719    930.076541\n",
       "Name: Amount Month 1, Length: 4720, dtype: float64"
      ]
     },
     "execution_count": 11,
     "metadata": {},
     "output_type": "execute_result"
    }
   ],
   "source": [
    "df['Amount Month 1']"
   ]
  },
  {
   "cell_type": "code",
   "execution_count": 12,
   "id": "286c954f",
   "metadata": {},
   "outputs": [
    {
     "data": {
      "text/plain": [
       "930.0765408"
      ]
     },
     "execution_count": 12,
     "metadata": {},
     "output_type": "execute_result"
    }
   ],
   "source": [
    "df['Amount Month 1'].median()\n"
   ]
  },
  {
   "cell_type": "code",
   "execution_count": 13,
   "id": "a99ba01b",
   "metadata": {},
   "outputs": [
    {
     "data": {
      "text/plain": [
       "3"
      ]
     },
     "execution_count": 13,
     "metadata": {},
     "output_type": "execute_result"
    }
   ],
   "source": [
    "df['Amount Month 1'] .isnull().sum()"
   ]
  },
  {
   "cell_type": "code",
   "execution_count": 14,
   "id": "3fd2d0cc",
   "metadata": {},
   "outputs": [],
   "source": [
    "df['Amount Month 1'] = df['Amount Month 1'].fillna(df['Amount Month 1'].median())\n"
   ]
  },
  {
   "cell_type": "code",
   "execution_count": 15,
   "id": "6211679f",
   "metadata": {},
   "outputs": [
    {
     "data": {
      "text/plain": [
       "0"
      ]
     },
     "execution_count": 15,
     "metadata": {},
     "output_type": "execute_result"
    }
   ],
   "source": [
    "df['Amount Month 1'] .isnull().sum()"
   ]
  },
  {
   "cell_type": "code",
   "execution_count": 16,
   "id": "10d219a0",
   "metadata": {},
   "outputs": [
    {
     "data": {
      "text/plain": [
       "((array([-3.62080759, -3.38458147, -3.25433924, ...,  3.25433924,\n",
       "          3.38458147,  3.62080759]),\n",
       "  array([0.        , 0.        , 0.        , ..., 6.93218538, 6.98048263,\n",
       "         7.06006512])),\n",
       " (0.05741916984674294, 6.8100917435905854, 0.3051002937082612))"
      ]
     },
     "execution_count": 16,
     "metadata": {},
     "output_type": "execute_result"
    },
    {
     "data": {
      "image/png": "[encoded data removed]",
      "text/plain": [
       "<Figure size 1152x432 with 3 Axes>"
      ]
     },
     "metadata": {
      "needs_background": "light"
     },
     "output_type": "display_data"
    }
   ],
   "source": [
    "'''\n",
    "we have to use feature scaling(log Transform) here because we large number of amounts in small amout where \n",
    "as few values have larger in magnitude \n",
    "'''\n",
    "df['Amount Month 1']  = np.log1p(df['Amount Month 1'])\n",
    "\n",
    "plt.figure(figsize=(16,6))\n",
    "plt.subplot(2,2,1)\n",
    "sns.distplot(df['Amount Month 1'])\n",
    "plt.subplot(2,2,2)\n",
    "sns.boxplot(df['Amount Month 1'])\n",
    "plt.subplot(2,2,3)\n",
    "stats.probplot(df['Amount Month 1'], dist = 'norm', plot = plt)"
   ]
  },
  {
   "cell_type": "markdown",
   "id": "3f05f041",
   "metadata": {},
   "source": [
    "There is some impact of Log transform on above column."
   ]
  },
  {
   "cell_type": "code",
   "execution_count": 17,
   "id": "51cb7462",
   "metadata": {},
   "outputs": [
    {
     "data": {
      "text/plain": [
       "0       6.836341\n",
       "1       6.835965\n",
       "2       6.836341\n",
       "3       6.832507\n",
       "4       6.836341\n",
       "          ...   \n",
       "4715    6.706594\n",
       "4716    6.612634\n",
       "4717    6.687277\n",
       "4718    6.836341\n",
       "4719    6.836341\n",
       "Name: Amount Month 1, Length: 4720, dtype: float64"
      ]
     },
     "execution_count": 17,
     "metadata": {},
     "output_type": "execute_result"
    }
   ],
   "source": [
    "df['Amount Month 1'] # seeing the the scalled values"
   ]
  },
  {
   "cell_type": "markdown",
   "id": "025b2112",
   "metadata": {},
   "source": [
    "###  Variable : Amount Month 2"
   ]
  },
  {
   "cell_type": "code",
   "execution_count": 18,
   "id": "983c86f7",
   "metadata": {},
   "outputs": [
    {
     "data": {
      "text/plain": [
       "1"
      ]
     },
     "execution_count": 18,
     "metadata": {},
     "output_type": "execute_result"
    }
   ],
   "source": [
    "df['Amount Month 2'].isna().sum()"
   ]
  },
  {
   "cell_type": "code",
   "execution_count": 19,
   "id": "2a37b47d",
   "metadata": {},
   "outputs": [
    {
     "data": {
      "text/plain": [
       "((array([-3.62080759, -3.38458147, -3.25433924, ...,  3.25433924,\n",
       "          3.38458147,  3.62080759]),\n",
       "  array([4.82164000e-14, 4.82164000e-14, 4.82164000e-14, ...,\n",
       "         1.04116223e+03, 1.30306334e+03,            nan])),\n",
       " (nan, nan, nan))"
      ]
     },
     "execution_count": 19,
     "metadata": {},
     "output_type": "execute_result"
    },
    {
     "data": {
      "image/png": "[encoded data removed]",
      "text/plain": [
       "<Figure size 1296x432 with 3 Axes>"
      ]
     },
     "metadata": {
      "needs_background": "light"
     },
     "output_type": "display_data"
    }
   ],
   "source": [
    "plt.figure(figsize=(18,6))\n",
    "plt.subplot(2,2,1)\n",
    "sns.distplot(df['Amount Month 2'])\n",
    "plt.subplot(2,2,2)\n",
    "sns.boxplot(df['Amount Month 2'])\n",
    "plt.subplot(2,2,3)\n",
    "stats.probplot(df['Amount Month 2'], dist = 'norm', plot = plt)"
   ]
  },
  {
   "cell_type": "code",
   "execution_count": 20,
   "id": "2b08cfb6",
   "metadata": {},
   "outputs": [
    {
     "data": {
      "text/plain": [
       "897.1674750000001"
      ]
     },
     "execution_count": 20,
     "metadata": {},
     "output_type": "execute_result"
    }
   ],
   "source": [
    "df['Amount Month 2'].median()"
   ]
  },
  {
   "cell_type": "code",
   "execution_count": 21,
   "id": "ec29335a",
   "metadata": {},
   "outputs": [],
   "source": [
    "df['Amount Month 2'] = df['Amount Month 2'].fillna(df['Amount Month 2'].median())"
   ]
  },
  {
   "cell_type": "code",
   "execution_count": 22,
   "id": "393a711e",
   "metadata": {},
   "outputs": [
    {
     "data": {
      "text/plain": [
       "0"
      ]
     },
     "execution_count": 22,
     "metadata": {},
     "output_type": "execute_result"
    }
   ],
   "source": [
    "df['Amount Month 2'].isna().sum()"
   ]
  },
  {
   "cell_type": "code",
   "execution_count": 23,
   "id": "9dfd8b22",
   "metadata": {},
   "outputs": [
    {
     "data": {
      "text/plain": [
       "((array([-3.62080759, -3.38458147, -3.25433924, ...,  3.25433924,\n",
       "          3.38458147,  3.62080759]),\n",
       "  array([0.        , 0.        , 0.        , ..., 6.93218538, 6.98048263,\n",
       "         7.06006512])),\n",
       " (0.05741916984674294, 6.8100917435905854, 0.3051002937082612))"
      ]
     },
     "execution_count": 23,
     "metadata": {},
     "output_type": "execute_result"
    },
    {
     "data": {
      "image/png": "[encoded data removed]",
      "text/plain": [
       "<Figure size 1296x720 with 3 Axes>"
      ]
     },
     "metadata": {
      "needs_background": "light"
     },
     "output_type": "display_data"
    }
   ],
   "source": [
    "'''\n",
    "we have to use feature scaling here because we significant number transations in samll amout where \n",
    "as few transations have larger magnitude .\n",
    "'''\n",
    "df['Amount Month 2']  = np.log1p(df['Amount Month 2'])\n",
    "\n",
    "plt.figure(figsize=(18,10))\n",
    "plt.subplot(2,2,1)\n",
    "sns.distplot(df['Amount Month 2'])\n",
    "plt.subplot(2,2,2)\n",
    "sns.boxplot(df['Amount Month 2'])\n",
    "plt.subplot(2,2,3)\n",
    "stats.probplot(df['Amount Month 1'], dist = 'norm', plot = plt)"
   ]
  },
  {
   "cell_type": "markdown",
   "id": "0d670200",
   "metadata": {},
   "source": [
    "### Variable : Amount Month 3"
   ]
  },
  {
   "cell_type": "code",
   "execution_count": 24,
   "id": "43da9eee",
   "metadata": {},
   "outputs": [
    {
     "data": {
      "text/plain": [
       "count    4718.000000\n",
       "mean      832.403176\n",
       "std        62.674567\n",
       "min         0.000000\n",
       "25%       845.248172\n",
       "50%       856.177985\n",
       "75%       856.459905\n",
       "max      1237.874227\n",
       "Name: Amount Month 3, dtype: float64"
      ]
     },
     "execution_count": 24,
     "metadata": {},
     "output_type": "execute_result"
    }
   ],
   "source": [
    "df['Amount Month 3'].describe()"
   ]
  },
  {
   "cell_type": "code",
   "execution_count": 25,
   "id": "6526f7f4",
   "metadata": {},
   "outputs": [
    {
     "data": {
      "text/plain": [
       "((array([-3.62080759, -3.38458147, -3.25433924, ...,  3.25433924,\n",
       "          3.38458147,  3.62080759]),\n",
       "  array([   0.      ,    0.      ,  132.360359, ..., 1237.874227,\n",
       "                 nan,         nan])),\n",
       " (nan, nan, nan))"
      ]
     },
     "execution_count": 25,
     "metadata": {},
     "output_type": "execute_result"
    },
    {
     "data": {
      "image/png": "[encoded data removed]",
      "text/plain": [
       "<Figure size 1296x720 with 3 Axes>"
      ]
     },
     "metadata": {
      "needs_background": "light"
     },
     "output_type": "display_data"
    }
   ],
   "source": [
    "plt.figure(figsize=(18,10))\n",
    "plt.subplot(2,2,1)\n",
    "sns.distplot(df['Amount Month 3'])\n",
    "plt.subplot(2,2,2)\n",
    "sns.boxplot(df['Amount Month 3'])\n",
    "plt.subplot(2,2,3)\n",
    "stats.probplot(df['Amount Month 3'], dist = 'norm', plot = plt)"
   ]
  },
  {
   "cell_type": "code",
   "execution_count": 26,
   "id": "4cd7d7c7",
   "metadata": {},
   "outputs": [
    {
     "data": {
      "text/plain": [
       "2"
      ]
     },
     "execution_count": 26,
     "metadata": {},
     "output_type": "execute_result"
    }
   ],
   "source": [
    "df['Amount Month 3'].isna().sum()"
   ]
  },
  {
   "cell_type": "code",
   "execution_count": 27,
   "id": "6a78ebe1",
   "metadata": {},
   "outputs": [
    {
     "data": {
      "text/plain": [
       "856.1779849999999"
      ]
     },
     "execution_count": 27,
     "metadata": {},
     "output_type": "execute_result"
    }
   ],
   "source": [
    "df['Amount Month 3'].median()"
   ]
  },
  {
   "cell_type": "code",
   "execution_count": 28,
   "id": "eaee366f",
   "metadata": {},
   "outputs": [],
   "source": [
    "df['Amount Month 3'] = df['Amount Month 3'].fillna(df['Amount Month 3'].median())"
   ]
  },
  {
   "cell_type": "code",
   "execution_count": 29,
   "id": "8d4bbb69",
   "metadata": {},
   "outputs": [
    {
     "data": {
      "text/plain": [
       "0"
      ]
     },
     "execution_count": 29,
     "metadata": {},
     "output_type": "execute_result"
    }
   ],
   "source": [
    "df['Amount Month 3'].isna().sum()"
   ]
  },
  {
   "cell_type": "code",
   "execution_count": 30,
   "id": "8432583c",
   "metadata": {},
   "outputs": [
    {
     "data": {
      "text/plain": [
       "((array([-3.62080759, -3.38458147, -3.25433924, ...,  3.25433924,\n",
       "          3.38458147,  3.62080759]),\n",
       "  array([0.        , 0.        , 4.89305493, ..., 7.10764037, 7.12195836,\n",
       "         7.12195836])),\n",
       " (0.06792619743101455, 6.719530793647477, 0.4064669014748729))"
      ]
     },
     "execution_count": 30,
     "metadata": {},
     "output_type": "execute_result"
    },
    {
     "data": {
      "image/png": "[encoded data removed]",
      "text/plain": [
       "<Figure size 1152x432 with 3 Axes>"
      ]
     },
     "metadata": {
      "needs_background": "light"
     },
     "output_type": "display_data"
    }
   ],
   "source": [
    "df['Amount Month 3']  = np.log1p(df['Amount Month 3'])\n",
    "\n",
    "plt.figure(figsize=(16,6))\n",
    "plt.subplot(2,2,1)\n",
    "sns.distplot(df['Amount Month 3'])\n",
    "plt.subplot(2,2,2)\n",
    "sns.boxplot(df['Amount Month 3'])\n",
    "plt.subplot(2,2,3)\n",
    "stats.probplot(df['Amount Month 3'], dist = 'norm', plot = plt)"
   ]
  },
  {
   "cell_type": "markdown",
   "id": "efdf9f06",
   "metadata": {},
   "source": [
    "Here also we can see impact of log transform on above column."
   ]
  },
  {
   "cell_type": "markdown",
   "id": "7af0f35d",
   "metadata": {},
   "source": [
    "### Variable : Amount Month 4"
   ]
  },
  {
   "cell_type": "code",
   "execution_count": 31,
   "id": "f81604bb",
   "metadata": {},
   "outputs": [
    {
     "data": {
      "text/plain": [
       "count    4.719000e+03\n",
       "mean     8.150937e+02\n",
       "std      5.601395e+01\n",
       "min      4.821640e-14\n",
       "25%      8.259513e+02\n",
       "50%      8.367251e+02\n",
       "75%      8.371753e+02\n",
       "max      1.116251e+03\n",
       "Name: Amount Month 4, dtype: float64"
      ]
     },
     "execution_count": 31,
     "metadata": {},
     "output_type": "execute_result"
    }
   ],
   "source": [
    "df['Amount Month 4'].describe()"
   ]
  },
  {
   "cell_type": "code",
   "execution_count": 32,
   "id": "5538a5d0",
   "metadata": {},
   "outputs": [
    {
     "data": {
      "text/plain": [
       "((array([-3.62080759, -3.38458147, -3.25433924, ...,  3.25433924,\n",
       "          3.38458147,  3.62080759]),\n",
       "  array([4.82164000e-14, 4.82164000e-14, 2.12316068e+02, ...,\n",
       "         1.11625067e+03, 1.11625067e+03,            nan])),\n",
       " (nan, nan, nan))"
      ]
     },
     "execution_count": 32,
     "metadata": {},
     "output_type": "execute_result"
    },
    {
     "data": {
      "image/png": "[encoded data removed]",
      "text/plain": [
       "<Figure size 1296x720 with 3 Axes>"
      ]
     },
     "metadata": {
      "needs_background": "light"
     },
     "output_type": "display_data"
    }
   ],
   "source": [
    "plt.figure(figsize=(18,10))\n",
    "plt.subplot(2,2,1)\n",
    "sns.distplot(df['Amount Month 4'])\n",
    "plt.subplot(2,2,2)\n",
    "sns.boxplot(df['Amount Month 4'])\n",
    "plt.subplot(2,2,3)\n",
    "stats.probplot(df['Amount Month 4'], dist = 'norm', plot = plt)"
   ]
  },
  {
   "cell_type": "code",
   "execution_count": 33,
   "id": "2eaaa9f1",
   "metadata": {},
   "outputs": [
    {
     "data": {
      "text/plain": [
       "1"
      ]
     },
     "execution_count": 33,
     "metadata": {},
     "output_type": "execute_result"
    }
   ],
   "source": [
    "df['Amount Month 4'].isna().sum()"
   ]
  },
  {
   "cell_type": "code",
   "execution_count": 34,
   "id": "d851647c",
   "metadata": {},
   "outputs": [
    {
     "data": {
      "text/plain": [
       "836.725104"
      ]
     },
     "execution_count": 34,
     "metadata": {},
     "output_type": "execute_result"
    }
   ],
   "source": [
    "df['Amount Month 4'].median()"
   ]
  },
  {
   "cell_type": "code",
   "execution_count": 35,
   "id": "6b435875",
   "metadata": {},
   "outputs": [],
   "source": [
    "df['Amount Month 4'] = df['Amount Month 4'].fillna(df['Amount Month 4'].median())"
   ]
  },
  {
   "cell_type": "code",
   "execution_count": 36,
   "id": "eeff6b8a",
   "metadata": {},
   "outputs": [
    {
     "data": {
      "text/plain": [
       "0"
      ]
     },
     "execution_count": 36,
     "metadata": {},
     "output_type": "execute_result"
    }
   ],
   "source": [
    "df['Amount Month 4'].isna().sum()"
   ]
  },
  {
   "cell_type": "code",
   "execution_count": 37,
   "id": "812dc34e",
   "metadata": {},
   "outputs": [
    {
     "data": {
      "text/plain": [
       "((array([-3.62080759, -3.38458147, -3.25433924, ...,  3.25433924,\n",
       "          3.38458147,  3.62080759]),\n",
       "  array([4.82164000e-14, 4.82164000e-14, 5.36277495e+00, ...,\n",
       "         7.01862619e+00, 7.01862619e+00, 7.01862619e+00])),\n",
       " (0.06224663065111196, 6.699552227805093, 0.3955886529597778))"
      ]
     },
     "execution_count": 37,
     "metadata": {},
     "output_type": "execute_result"
    },
    {
     "data": {
      "image/png": "[encoded data removed]",
      "text/plain": [
       "<Figure size 1152x432 with 3 Axes>"
      ]
     },
     "metadata": {
      "needs_background": "light"
     },
     "output_type": "display_data"
    }
   ],
   "source": [
    "df['Amount Month 4']  = np.log1p(df['Amount Month 4'])\n",
    "\n",
    "plt.figure(figsize=(16,6))\n",
    "plt.subplot(2,2,1)\n",
    "sns.distplot(df['Amount Month 4'])\n",
    "plt.subplot(2,2,2)\n",
    "sns.boxplot(df['Amount Month 4'])\n",
    "plt.subplot(2,2,3)\n",
    "stats.probplot(df['Amount Month 4'], dist = 'norm', plot = plt)"
   ]
  },
  {
   "cell_type": "code",
   "execution_count": 38,
   "id": "f6211109",
   "metadata": {},
   "outputs": [
    {
     "data": {
      "text/plain": [
       "CompanyName                  0\n",
       "Financial Department         0\n",
       "Financial AccountGroup       0\n",
       "VendorName                   0\n",
       "Amount Month 1               0\n",
       "Amount Month 2               0\n",
       "Amount Month 3               0\n",
       "Amount Month 4               0\n",
       "Category                  1025\n",
       "dtype: int64"
      ]
     },
     "execution_count": 38,
     "metadata": {},
     "output_type": "execute_result"
    }
   ],
   "source": [
    "df.isna().sum()"
   ]
  },
  {
   "cell_type": "markdown",
   "id": "f916237c",
   "metadata": {},
   "source": [
    "## Analysing catagorical variables "
   ]
  },
  {
   "cell_type": "markdown",
   "id": "ed82bd2c",
   "metadata": {},
   "source": [
    "### Variable:CompanyName"
   ]
  },
  {
   "cell_type": "code",
   "execution_count": 39,
   "id": "c29b5e91",
   "metadata": {},
   "outputs": [
    {
     "data": {
      "text/plain": [
       "9"
      ]
     },
     "execution_count": 39,
     "metadata": {},
     "output_type": "execute_result"
    }
   ],
   "source": [
    "df['CompanyName'].nunique()"
   ]
  },
  {
   "cell_type": "code",
   "execution_count": 40,
   "id": "3cdc795d",
   "metadata": {},
   "outputs": [
    {
     "data": {
      "text/plain": [
       "B3    1341\n",
       "B1    1134\n",
       "B8     548\n",
       "B2     347\n",
       "B5     346\n",
       "B7     330\n",
       "B0     303\n",
       "B4     224\n",
       "B6     147\n",
       "Name: CompanyName, dtype: int64"
      ]
     },
     "execution_count": 40,
     "metadata": {},
     "output_type": "execute_result"
    }
   ],
   "source": [
    "df['CompanyName'].value_counts()"
   ]
  },
  {
   "cell_type": "code",
   "execution_count": 41,
   "id": "e6bb5b3c",
   "metadata": {},
   "outputs": [
    {
     "data": {
      "text/plain": [
       "<AxesSubplot:xlabel='CompanyName', ylabel='count'>"
      ]
     },
     "execution_count": 41,
     "metadata": {},
     "output_type": "execute_result"
    },
    {
     "data": {
      "image/png": "[encoded data removed]",
      "text/plain": [
       "<Figure size 432x288 with 1 Axes>"
      ]
     },
     "metadata": {
      "needs_background": "light"
     },
     "output_type": "display_data"
    }
   ],
   "source": [
    "sns.countplot(df['CompanyName'])"
   ]
  },
  {
   "cell_type": "code",
   "execution_count": 42,
   "id": "4a7fd878",
   "metadata": {},
   "outputs": [
    {
     "data": {
      "text/html": [
       "<div>\n",
       "<style scoped>\n",
       "    .dataframe tbody tr th:only-of-type {\n",
       "        vertical-align: middle;\n",
       "    }\n",
       "\n",
       "    .dataframe tbody tr th {\n",
       "        vertical-align: top;\n",
       "    }\n",
       "\n",
       "    .dataframe thead th {\n",
       "        text-align: right;\n",
       "    }\n",
       "</style>\n",
       "<table border=\"1\" class=\"dataframe\">\n",
       "  <thead>\n",
       "    <tr style=\"text-align: right;\">\n",
       "      <th>Category</th>\n",
       "      <th>X0</th>\n",
       "      <th>X1</th>\n",
       "      <th>X2</th>\n",
       "      <th>X3</th>\n",
       "      <th>X4</th>\n",
       "    </tr>\n",
       "    <tr>\n",
       "      <th>CompanyName</th>\n",
       "      <th></th>\n",
       "      <th></th>\n",
       "      <th></th>\n",
       "      <th></th>\n",
       "      <th></th>\n",
       "    </tr>\n",
       "  </thead>\n",
       "  <tbody>\n",
       "    <tr>\n",
       "      <th>B0</th>\n",
       "      <td>279</td>\n",
       "      <td>15</td>\n",
       "      <td>3</td>\n",
       "      <td>6</td>\n",
       "      <td>0</td>\n",
       "    </tr>\n",
       "    <tr>\n",
       "      <th>B1</th>\n",
       "      <td>979</td>\n",
       "      <td>51</td>\n",
       "      <td>34</td>\n",
       "      <td>70</td>\n",
       "      <td>0</td>\n",
       "    </tr>\n",
       "    <tr>\n",
       "      <th>B2</th>\n",
       "      <td>277</td>\n",
       "      <td>37</td>\n",
       "      <td>14</td>\n",
       "      <td>19</td>\n",
       "      <td>0</td>\n",
       "    </tr>\n",
       "    <tr>\n",
       "      <th>B3</th>\n",
       "      <td>1169</td>\n",
       "      <td>64</td>\n",
       "      <td>39</td>\n",
       "      <td>56</td>\n",
       "      <td>13</td>\n",
       "    </tr>\n",
       "    <tr>\n",
       "      <th>B4</th>\n",
       "      <td>161</td>\n",
       "      <td>27</td>\n",
       "      <td>0</td>\n",
       "      <td>34</td>\n",
       "      <td>2</td>\n",
       "    </tr>\n",
       "    <tr>\n",
       "      <th>B5</th>\n",
       "      <td>271</td>\n",
       "      <td>38</td>\n",
       "      <td>27</td>\n",
       "      <td>10</td>\n",
       "      <td>0</td>\n",
       "    </tr>\n",
       "  </tbody>\n",
       "</table>\n",
       "</div>"
      ],
      "text/plain": [
       "Category       X0  X1  X2  X3  X4\n",
       "CompanyName                      \n",
       "B0            279  15   3   6   0\n",
       "B1            979  51  34  70   0\n",
       "B2            277  37  14  19   0\n",
       "B3           1169  64  39  56  13\n",
       "B4            161  27   0  34   2\n",
       "B5            271  38  27  10   0"
      ]
     },
     "execution_count": 42,
     "metadata": {},
     "output_type": "execute_result"
    }
   ],
   "source": [
    "pd.crosstab(df['CompanyName'],df['Category'])"
   ]
  },
  {
   "cell_type": "markdown",
   "id": "af0312da",
   "metadata": {},
   "source": [
    "Company B3 had higest tranction that too of X0 category whereas B4 had lowest tranctions."
   ]
  },
  {
   "cell_type": "markdown",
   "id": "a6935c99",
   "metadata": {},
   "source": [
    "### Variable :Financial Department"
   ]
  },
  {
   "cell_type": "code",
   "execution_count": 43,
   "id": "d3b2139e",
   "metadata": {},
   "outputs": [
    {
     "data": {
      "text/plain": [
       "27"
      ]
     },
     "execution_count": 43,
     "metadata": {},
     "output_type": "execute_result"
    }
   ],
   "source": [
    "df['Financial Department'].nunique()"
   ]
  },
  {
   "cell_type": "code",
   "execution_count": 44,
   "id": "de213ca4",
   "metadata": {},
   "outputs": [
    {
     "data": {
      "text/plain": [
       "<AxesSubplot:xlabel='Financial Department', ylabel='count'>"
      ]
     },
     "execution_count": 44,
     "metadata": {},
     "output_type": "execute_result"
    },
    {
     "data": {
      "image/png": "[encoded data removed]",
      "text/plain": [
       "<Figure size 1152x432 with 1 Axes>"
      ]
     },
     "metadata": {
      "needs_background": "light"
     },
     "output_type": "display_data"
    }
   ],
   "source": [
    "\n",
    "plt.figure(figsize=(16,6))\n",
    "sns.countplot(df['Financial Department'])"
   ]
  },
  {
   "cell_type": "code",
   "execution_count": 45,
   "id": "1d5a93cc",
   "metadata": {},
   "outputs": [
    {
     "data": {
      "text/html": [
       "<div>\n",
       "<style scoped>\n",
       "    .dataframe tbody tr th:only-of-type {\n",
       "        vertical-align: middle;\n",
       "    }\n",
       "\n",
       "    .dataframe tbody tr th {\n",
       "        vertical-align: top;\n",
       "    }\n",
       "\n",
       "    .dataframe thead th {\n",
       "        text-align: right;\n",
       "    }\n",
       "</style>\n",
       "<table border=\"1\" class=\"dataframe\">\n",
       "  <thead>\n",
       "    <tr style=\"text-align: right;\">\n",
       "      <th>Category</th>\n",
       "      <th>X0</th>\n",
       "      <th>X1</th>\n",
       "      <th>X2</th>\n",
       "      <th>X3</th>\n",
       "      <th>X4</th>\n",
       "    </tr>\n",
       "    <tr>\n",
       "      <th>Financial Department</th>\n",
       "      <th></th>\n",
       "      <th></th>\n",
       "      <th></th>\n",
       "      <th></th>\n",
       "      <th></th>\n",
       "    </tr>\n",
       "  </thead>\n",
       "  <tbody>\n",
       "    <tr>\n",
       "      <th>D0</th>\n",
       "      <td>226</td>\n",
       "      <td>19</td>\n",
       "      <td>2</td>\n",
       "      <td>16</td>\n",
       "      <td>1</td>\n",
       "    </tr>\n",
       "    <tr>\n",
       "      <th>D1</th>\n",
       "      <td>580</td>\n",
       "      <td>41</td>\n",
       "      <td>15</td>\n",
       "      <td>24</td>\n",
       "      <td>0</td>\n",
       "    </tr>\n",
       "    <tr>\n",
       "      <th>D10</th>\n",
       "      <td>60</td>\n",
       "      <td>4</td>\n",
       "      <td>8</td>\n",
       "      <td>2</td>\n",
       "      <td>0</td>\n",
       "    </tr>\n",
       "    <tr>\n",
       "      <th>D11</th>\n",
       "      <td>248</td>\n",
       "      <td>5</td>\n",
       "      <td>4</td>\n",
       "      <td>17</td>\n",
       "      <td>6</td>\n",
       "    </tr>\n",
       "    <tr>\n",
       "      <th>D12</th>\n",
       "      <td>52</td>\n",
       "      <td>2</td>\n",
       "      <td>0</td>\n",
       "      <td>6</td>\n",
       "      <td>0</td>\n",
       "    </tr>\n",
       "    <tr>\n",
       "      <th>D13</th>\n",
       "      <td>2</td>\n",
       "      <td>0</td>\n",
       "      <td>0</td>\n",
       "      <td>0</td>\n",
       "      <td>0</td>\n",
       "    </tr>\n",
       "    <tr>\n",
       "      <th>D14</th>\n",
       "      <td>16</td>\n",
       "      <td>0</td>\n",
       "      <td>0</td>\n",
       "      <td>0</td>\n",
       "      <td>0</td>\n",
       "    </tr>\n",
       "    <tr>\n",
       "      <th>D15</th>\n",
       "      <td>16</td>\n",
       "      <td>10</td>\n",
       "      <td>2</td>\n",
       "      <td>2</td>\n",
       "      <td>0</td>\n",
       "    </tr>\n",
       "    <tr>\n",
       "      <th>D16</th>\n",
       "      <td>8</td>\n",
       "      <td>0</td>\n",
       "      <td>0</td>\n",
       "      <td>2</td>\n",
       "      <td>0</td>\n",
       "    </tr>\n",
       "    <tr>\n",
       "      <th>D17</th>\n",
       "      <td>172</td>\n",
       "      <td>0</td>\n",
       "      <td>2</td>\n",
       "      <td>0</td>\n",
       "      <td>2</td>\n",
       "    </tr>\n",
       "    <tr>\n",
       "      <th>D18</th>\n",
       "      <td>171</td>\n",
       "      <td>21</td>\n",
       "      <td>12</td>\n",
       "      <td>15</td>\n",
       "      <td>0</td>\n",
       "    </tr>\n",
       "    <tr>\n",
       "      <th>D19</th>\n",
       "      <td>4</td>\n",
       "      <td>1</td>\n",
       "      <td>0</td>\n",
       "      <td>1</td>\n",
       "      <td>0</td>\n",
       "    </tr>\n",
       "    <tr>\n",
       "      <th>D2</th>\n",
       "      <td>327</td>\n",
       "      <td>36</td>\n",
       "      <td>14</td>\n",
       "      <td>48</td>\n",
       "      <td>1</td>\n",
       "    </tr>\n",
       "    <tr>\n",
       "      <th>D20</th>\n",
       "      <td>28</td>\n",
       "      <td>6</td>\n",
       "      <td>3</td>\n",
       "      <td>0</td>\n",
       "      <td>0</td>\n",
       "    </tr>\n",
       "    <tr>\n",
       "      <th>D21</th>\n",
       "      <td>49</td>\n",
       "      <td>5</td>\n",
       "      <td>2</td>\n",
       "      <td>0</td>\n",
       "      <td>0</td>\n",
       "    </tr>\n",
       "    <tr>\n",
       "      <th>D22</th>\n",
       "      <td>13</td>\n",
       "      <td>1</td>\n",
       "      <td>2</td>\n",
       "      <td>0</td>\n",
       "      <td>0</td>\n",
       "    </tr>\n",
       "    <tr>\n",
       "      <th>D3</th>\n",
       "      <td>65</td>\n",
       "      <td>0</td>\n",
       "      <td>4</td>\n",
       "      <td>3</td>\n",
       "      <td>0</td>\n",
       "    </tr>\n",
       "    <tr>\n",
       "      <th>D4</th>\n",
       "      <td>27</td>\n",
       "      <td>4</td>\n",
       "      <td>2</td>\n",
       "      <td>3</td>\n",
       "      <td>0</td>\n",
       "    </tr>\n",
       "    <tr>\n",
       "      <th>D5</th>\n",
       "      <td>685</td>\n",
       "      <td>36</td>\n",
       "      <td>22</td>\n",
       "      <td>38</td>\n",
       "      <td>3</td>\n",
       "    </tr>\n",
       "    <tr>\n",
       "      <th>D6</th>\n",
       "      <td>38</td>\n",
       "      <td>4</td>\n",
       "      <td>1</td>\n",
       "      <td>5</td>\n",
       "      <td>0</td>\n",
       "    </tr>\n",
       "    <tr>\n",
       "      <th>D7</th>\n",
       "      <td>55</td>\n",
       "      <td>6</td>\n",
       "      <td>9</td>\n",
       "      <td>1</td>\n",
       "      <td>0</td>\n",
       "    </tr>\n",
       "    <tr>\n",
       "      <th>D8</th>\n",
       "      <td>144</td>\n",
       "      <td>9</td>\n",
       "      <td>7</td>\n",
       "      <td>6</td>\n",
       "      <td>0</td>\n",
       "    </tr>\n",
       "    <tr>\n",
       "      <th>D9</th>\n",
       "      <td>150</td>\n",
       "      <td>22</td>\n",
       "      <td>6</td>\n",
       "      <td>6</td>\n",
       "      <td>2</td>\n",
       "    </tr>\n",
       "  </tbody>\n",
       "</table>\n",
       "</div>"
      ],
      "text/plain": [
       "Category               X0  X1  X2  X3  X4\n",
       "Financial Department                     \n",
       "D0                    226  19   2  16   1\n",
       "D1                    580  41  15  24   0\n",
       "D10                    60   4   8   2   0\n",
       "D11                   248   5   4  17   6\n",
       "D12                    52   2   0   6   0\n",
       "D13                     2   0   0   0   0\n",
       "D14                    16   0   0   0   0\n",
       "D15                    16  10   2   2   0\n",
       "D16                     8   0   0   2   0\n",
       "D17                   172   0   2   0   2\n",
       "D18                   171  21  12  15   0\n",
       "D19                     4   1   0   1   0\n",
       "D2                    327  36  14  48   1\n",
       "D20                    28   6   3   0   0\n",
       "D21                    49   5   2   0   0\n",
       "D22                    13   1   2   0   0\n",
       "D3                     65   0   4   3   0\n",
       "D4                     27   4   2   3   0\n",
       "D5                    685  36  22  38   3\n",
       "D6                     38   4   1   5   0\n",
       "D7                     55   6   9   1   0\n",
       "D8                    144   9   7   6   0\n",
       "D9                    150  22   6   6   2"
      ]
     },
     "execution_count": 45,
     "metadata": {},
     "output_type": "execute_result"
    }
   ],
   "source": [
    "pd.crosstab(df['Financial Department'],df['Category'])"
   ]
  },
  {
   "cell_type": "markdown",
   "id": "c7f1d3d3",
   "metadata": {},
   "source": [
    "Inference: Fincial department D5 done higest number of tranctions and D23 AND D24 had lowest tranctions"
   ]
  },
  {
   "cell_type": "markdown",
   "id": "49ec8bca",
   "metadata": {},
   "source": [
    "### Variable:Financial AccountGroup "
   ]
  },
  {
   "cell_type": "code",
   "execution_count": 46,
   "id": "dce0f480",
   "metadata": {},
   "outputs": [
    {
     "data": {
      "text/plain": [
       "13"
      ]
     },
     "execution_count": 46,
     "metadata": {},
     "output_type": "execute_result"
    }
   ],
   "source": [
    "df[\"Financial AccountGroup\"].nunique()"
   ]
  },
  {
   "cell_type": "code",
   "execution_count": 47,
   "id": "ae58dbbd",
   "metadata": {
    "scrolled": true
   },
   "outputs": [
    {
     "data": {
      "text/plain": [
       "C4     1129\n",
       "C0     1068\n",
       "C2      771\n",
       "C7      522\n",
       "C8      408\n",
       "C5      325\n",
       "C1      198\n",
       "C6      107\n",
       "C10      94\n",
       "C9       60\n",
       "C3       19\n",
       "C12      16\n",
       "C11       3\n",
       "Name: Financial AccountGroup, dtype: int64"
      ]
     },
     "execution_count": 47,
     "metadata": {},
     "output_type": "execute_result"
    }
   ],
   "source": [
    "df[\"Financial AccountGroup\"].value_counts()"
   ]
  },
  {
   "cell_type": "code",
   "execution_count": 48,
   "id": "8bfe1715",
   "metadata": {
    "scrolled": true
   },
   "outputs": [
    {
     "data": {
      "text/plain": [
       "<AxesSubplot:xlabel='Financial AccountGroup', ylabel='count'>"
      ]
     },
     "execution_count": 48,
     "metadata": {},
     "output_type": "execute_result"
    },
    {
     "data": {
      "image/png": "[encoded data removed]",
      "text/plain": [
       "<Figure size 432x288 with 1 Axes>"
      ]
     },
     "metadata": {
      "needs_background": "light"
     },
     "output_type": "display_data"
    }
   ],
   "source": [
    "\n",
    "sns.countplot(df['Financial AccountGroup'])"
   ]
  },
  {
   "cell_type": "code",
   "execution_count": 49,
   "id": "e573227a",
   "metadata": {},
   "outputs": [
    {
     "data": {
      "text/html": [
       "<div>\n",
       "<style scoped>\n",
       "    .dataframe tbody tr th:only-of-type {\n",
       "        vertical-align: middle;\n",
       "    }\n",
       "\n",
       "    .dataframe tbody tr th {\n",
       "        vertical-align: top;\n",
       "    }\n",
       "\n",
       "    .dataframe thead th {\n",
       "        text-align: right;\n",
       "    }\n",
       "</style>\n",
       "<table border=\"1\" class=\"dataframe\">\n",
       "  <thead>\n",
       "    <tr style=\"text-align: right;\">\n",
       "      <th>Category</th>\n",
       "      <th>X0</th>\n",
       "      <th>X1</th>\n",
       "      <th>X2</th>\n",
       "      <th>X3</th>\n",
       "      <th>X4</th>\n",
       "    </tr>\n",
       "    <tr>\n",
       "      <th>Financial AccountGroup</th>\n",
       "      <th></th>\n",
       "      <th></th>\n",
       "      <th></th>\n",
       "      <th></th>\n",
       "      <th></th>\n",
       "    </tr>\n",
       "  </thead>\n",
       "  <tbody>\n",
       "    <tr>\n",
       "      <th>C0</th>\n",
       "      <td>840</td>\n",
       "      <td>18</td>\n",
       "      <td>12</td>\n",
       "      <td>22</td>\n",
       "      <td>5</td>\n",
       "    </tr>\n",
       "    <tr>\n",
       "      <th>C1</th>\n",
       "      <td>82</td>\n",
       "      <td>10</td>\n",
       "      <td>4</td>\n",
       "      <td>3</td>\n",
       "      <td>0</td>\n",
       "    </tr>\n",
       "    <tr>\n",
       "      <th>C10</th>\n",
       "      <td>70</td>\n",
       "      <td>6</td>\n",
       "      <td>3</td>\n",
       "      <td>11</td>\n",
       "      <td>4</td>\n",
       "    </tr>\n",
       "    <tr>\n",
       "      <th>C11</th>\n",
       "      <td>3</td>\n",
       "      <td>0</td>\n",
       "      <td>0</td>\n",
       "      <td>0</td>\n",
       "      <td>0</td>\n",
       "    </tr>\n",
       "    <tr>\n",
       "      <th>C12</th>\n",
       "      <td>10</td>\n",
       "      <td>2</td>\n",
       "      <td>3</td>\n",
       "      <td>1</td>\n",
       "      <td>0</td>\n",
       "    </tr>\n",
       "    <tr>\n",
       "      <th>C2</th>\n",
       "      <td>446</td>\n",
       "      <td>30</td>\n",
       "      <td>15</td>\n",
       "      <td>15</td>\n",
       "      <td>0</td>\n",
       "    </tr>\n",
       "    <tr>\n",
       "      <th>C3</th>\n",
       "      <td>13</td>\n",
       "      <td>3</td>\n",
       "      <td>0</td>\n",
       "      <td>3</td>\n",
       "      <td>0</td>\n",
       "    </tr>\n",
       "    <tr>\n",
       "      <th>C4</th>\n",
       "      <td>877</td>\n",
       "      <td>42</td>\n",
       "      <td>14</td>\n",
       "      <td>80</td>\n",
       "      <td>5</td>\n",
       "    </tr>\n",
       "    <tr>\n",
       "      <th>C5</th>\n",
       "      <td>182</td>\n",
       "      <td>25</td>\n",
       "      <td>6</td>\n",
       "      <td>24</td>\n",
       "      <td>0</td>\n",
       "    </tr>\n",
       "    <tr>\n",
       "      <th>C6</th>\n",
       "      <td>51</td>\n",
       "      <td>14</td>\n",
       "      <td>9</td>\n",
       "      <td>5</td>\n",
       "      <td>1</td>\n",
       "    </tr>\n",
       "    <tr>\n",
       "      <th>C7</th>\n",
       "      <td>321</td>\n",
       "      <td>54</td>\n",
       "      <td>24</td>\n",
       "      <td>13</td>\n",
       "      <td>0</td>\n",
       "    </tr>\n",
       "    <tr>\n",
       "      <th>C8</th>\n",
       "      <td>214</td>\n",
       "      <td>24</td>\n",
       "      <td>25</td>\n",
       "      <td>15</td>\n",
       "      <td>0</td>\n",
       "    </tr>\n",
       "    <tr>\n",
       "      <th>C9</th>\n",
       "      <td>27</td>\n",
       "      <td>4</td>\n",
       "      <td>2</td>\n",
       "      <td>3</td>\n",
       "      <td>0</td>\n",
       "    </tr>\n",
       "  </tbody>\n",
       "</table>\n",
       "</div>"
      ],
      "text/plain": [
       "Category                 X0  X1  X2  X3  X4\n",
       "Financial AccountGroup                     \n",
       "C0                      840  18  12  22   5\n",
       "C1                       82  10   4   3   0\n",
       "C10                      70   6   3  11   4\n",
       "C11                       3   0   0   0   0\n",
       "C12                      10   2   3   1   0\n",
       "C2                      446  30  15  15   0\n",
       "C3                       13   3   0   3   0\n",
       "C4                      877  42  14  80   5\n",
       "C5                      182  25   6  24   0\n",
       "C6                       51  14   9   5   1\n",
       "C7                      321  54  24  13   0\n",
       "C8                      214  24  25  15   0\n",
       "C9                       27   4   2   3   0"
      ]
     },
     "execution_count": 49,
     "metadata": {},
     "output_type": "execute_result"
    }
   ],
   "source": [
    "pd.crosstab(df['Financial AccountGroup'],df['Category'])"
   ]
  },
  {
   "cell_type": "markdown",
   "id": "aee335f5",
   "metadata": {},
   "source": [
    "### Variable:VendorName"
   ]
  },
  {
   "cell_type": "code",
   "execution_count": 50,
   "id": "4a07eedd",
   "metadata": {},
   "outputs": [
    {
     "data": {
      "text/plain": [
       "1509"
      ]
     },
     "execution_count": 50,
     "metadata": {},
     "output_type": "execute_result"
    }
   ],
   "source": [
    "df['VendorName'].nunique()"
   ]
  },
  {
   "cell_type": "code",
   "execution_count": 51,
   "id": "be83474b",
   "metadata": {
    "scrolled": true
   },
   "outputs": [
    {
     "data": {
      "text/plain": [
       "E528     70\n",
       "E25      48\n",
       "E30      48\n",
       "E29      45\n",
       "E9       40\n",
       "         ..\n",
       "E969      1\n",
       "E970      1\n",
       "E971      1\n",
       "E972      1\n",
       "E1508     1\n",
       "Name: VendorName, Length: 1509, dtype: int64"
      ]
     },
     "execution_count": 51,
     "metadata": {},
     "output_type": "execute_result"
    }
   ],
   "source": [
    "df['VendorName'].value_counts()"
   ]
  },
  {
   "cell_type": "code",
   "execution_count": 52,
   "id": "6acc349a",
   "metadata": {},
   "outputs": [
    {
     "data": {
      "text/plain": [
       "0    E528\n",
       "dtype: object"
      ]
     },
     "execution_count": 52,
     "metadata": {},
     "output_type": "execute_result"
    }
   ],
   "source": [
    "df['VendorName'].mode()"
   ]
  },
  {
   "cell_type": "code",
   "execution_count": 53,
   "id": "9fb2037f",
   "metadata": {
    "scrolled": true
   },
   "outputs": [
    {
     "data": {
      "text/html": [
       "<div>\n",
       "<style scoped>\n",
       "    .dataframe tbody tr th:only-of-type {\n",
       "        vertical-align: middle;\n",
       "    }\n",
       "\n",
       "    .dataframe tbody tr th {\n",
       "        vertical-align: top;\n",
       "    }\n",
       "\n",
       "    .dataframe thead th {\n",
       "        text-align: right;\n",
       "    }\n",
       "</style>\n",
       "<table border=\"1\" class=\"dataframe\">\n",
       "  <thead>\n",
       "    <tr style=\"text-align: right;\">\n",
       "      <th></th>\n",
       "      <th>Amount Month 1</th>\n",
       "      <th>Amount Month 2</th>\n",
       "      <th>Amount Month 3</th>\n",
       "      <th>Amount Month 4</th>\n",
       "    </tr>\n",
       "    <tr>\n",
       "      <th>VendorName</th>\n",
       "      <th></th>\n",
       "      <th></th>\n",
       "      <th></th>\n",
       "      <th></th>\n",
       "    </tr>\n",
       "  </thead>\n",
       "  <tbody>\n",
       "    <tr>\n",
       "      <th>E0</th>\n",
       "      <td>20.509024</td>\n",
       "      <td>20.401070</td>\n",
       "      <td>20.257975</td>\n",
       "      <td>20.193682</td>\n",
       "    </tr>\n",
       "    <tr>\n",
       "      <th>E1</th>\n",
       "      <td>20.507895</td>\n",
       "      <td>20.401070</td>\n",
       "      <td>20.261923</td>\n",
       "      <td>20.193682</td>\n",
       "    </tr>\n",
       "    <tr>\n",
       "      <th>E10</th>\n",
       "      <td>27.344944</td>\n",
       "      <td>27.201426</td>\n",
       "      <td>27.015898</td>\n",
       "      <td>26.924909</td>\n",
       "    </tr>\n",
       "    <tr>\n",
       "      <th>E100</th>\n",
       "      <td>20.200756</td>\n",
       "      <td>20.265840</td>\n",
       "      <td>19.937605</td>\n",
       "      <td>19.879173</td>\n",
       "    </tr>\n",
       "    <tr>\n",
       "      <th>E1000</th>\n",
       "      <td>13.668983</td>\n",
       "      <td>13.599246</td>\n",
       "      <td>13.504478</td>\n",
       "      <td>13.459082</td>\n",
       "    </tr>\n",
       "    <tr>\n",
       "      <th>...</th>\n",
       "      <td>...</td>\n",
       "      <td>...</td>\n",
       "      <td>...</td>\n",
       "      <td>...</td>\n",
       "    </tr>\n",
       "    <tr>\n",
       "      <th>E995</th>\n",
       "      <td>41.008913</td>\n",
       "      <td>40.797208</td>\n",
       "      <td>40.515284</td>\n",
       "      <td>40.379798</td>\n",
       "    </tr>\n",
       "    <tr>\n",
       "      <th>E996</th>\n",
       "      <td>13.671512</td>\n",
       "      <td>13.598822</td>\n",
       "      <td>13.503974</td>\n",
       "      <td>13.462454</td>\n",
       "    </tr>\n",
       "    <tr>\n",
       "      <th>E997</th>\n",
       "      <td>6.817670</td>\n",
       "      <td>6.792835</td>\n",
       "      <td>6.753974</td>\n",
       "      <td>6.731227</td>\n",
       "    </tr>\n",
       "    <tr>\n",
       "      <th>E998</th>\n",
       "      <td>6.893955</td>\n",
       "      <td>6.800357</td>\n",
       "      <td>6.753974</td>\n",
       "      <td>6.731227</td>\n",
       "    </tr>\n",
       "    <tr>\n",
       "      <th>E999</th>\n",
       "      <td>6.833828</td>\n",
       "      <td>6.799361</td>\n",
       "      <td>6.753974</td>\n",
       "      <td>6.731227</td>\n",
       "    </tr>\n",
       "  </tbody>\n",
       "</table>\n",
       "<p>1509 rows × 4 columns</p>\n",
       "</div>"
      ],
      "text/plain": [
       "            Amount Month 1  Amount Month 2  Amount Month 3  Amount Month 4\n",
       "VendorName                                                                \n",
       "E0               20.509024       20.401070       20.257975       20.193682\n",
       "E1               20.507895       20.401070       20.261923       20.193682\n",
       "E10              27.344944       27.201426       27.015898       26.924909\n",
       "E100             20.200756       20.265840       19.937605       19.879173\n",
       "E1000            13.668983       13.599246       13.504478       13.459082\n",
       "...                    ...             ...             ...             ...\n",
       "E995             41.008913       40.797208       40.515284       40.379798\n",
       "E996             13.671512       13.598822       13.503974       13.462454\n",
       "E997              6.817670        6.792835        6.753974        6.731227\n",
       "E998              6.893955        6.800357        6.753974        6.731227\n",
       "E999              6.833828        6.799361        6.753974        6.731227\n",
       "\n",
       "[1509 rows x 4 columns]"
      ]
     },
     "execution_count": 53,
     "metadata": {},
     "output_type": "execute_result"
    }
   ],
   "source": [
    "df.groupby(['VendorName']).sum()"
   ]
  },
  {
   "cell_type": "markdown",
   "id": "c5d8eec2",
   "metadata": {},
   "source": [
    "### Target Variable : Category"
   ]
  },
  {
   "cell_type": "code",
   "execution_count": 54,
   "id": "88536ab3",
   "metadata": {},
   "outputs": [
    {
     "data": {
      "text/plain": [
       "X0    3136\n",
       "X1     232\n",
       "X3     195\n",
       "X2     117\n",
       "X4      15\n",
       "Name: Category, dtype: int64"
      ]
     },
     "execution_count": 54,
     "metadata": {},
     "output_type": "execute_result"
    }
   ],
   "source": [
    "df['Category'].value_counts()"
   ]
  },
  {
   "cell_type": "markdown",
   "id": "cc0f95c9",
   "metadata": {},
   "source": [
    "Apart from X0 category all other catogaries are very less in number, so need to make it balance using minority \n",
    "oversampling technique like SMOTE"
   ]
  },
  {
   "cell_type": "code",
   "execution_count": 55,
   "id": "6ace6a4a",
   "metadata": {},
   "outputs": [
    {
     "data": {
      "text/plain": [
       "<AxesSubplot:xlabel='Category', ylabel='count'>"
      ]
     },
     "execution_count": 55,
     "metadata": {},
     "output_type": "execute_result"
    },
    {
     "data": {
      "image/png": "[encoded data removed]",
      "text/plain": [
       "<Figure size 432x288 with 1 Axes>"
      ]
     },
     "metadata": {
      "needs_background": "light"
     },
     "output_type": "display_data"
    }
   ],
   "source": [
    "sns.countplot(df['Category'])"
   ]
  },
  {
   "cell_type": "code",
   "execution_count": 56,
   "id": "f97644e8",
   "metadata": {},
   "outputs": [
    {
     "data": {
      "text/plain": [
       "Category\n",
       "X0    3136\n",
       "X1     232\n",
       "X2     117\n",
       "X3     195\n",
       "X4      15\n",
       "Name: VendorName, dtype: int64"
      ]
     },
     "execution_count": 56,
     "metadata": {},
     "output_type": "execute_result"
    }
   ],
   "source": [
    "df.groupby(['Category'])['VendorName'].count()"
   ]
  },
  {
   "cell_type": "markdown",
   "id": "3a581192",
   "metadata": {},
   "source": [
    "Inference : X0 type tranctions done in max quantity where as x4 in lowest."
   ]
  },
  {
   "cell_type": "code",
   "execution_count": 57,
   "id": "31ac01c6",
   "metadata": {},
   "outputs": [
    {
     "data": {
      "text/plain": [
       "0       X0\n",
       "1       X0\n",
       "2       X0\n",
       "3       X0\n",
       "4       X0\n",
       "        ..\n",
       "3690    X1\n",
       "3691    X1\n",
       "3692    X0\n",
       "3693    X1\n",
       "3694    X1\n",
       "Name: Category, Length: 3695, dtype: object"
      ]
     },
     "execution_count": 57,
     "metadata": {},
     "output_type": "execute_result"
    }
   ],
   "source": [
    " x = df.drop(columns = ['Category'] , axis = 1)\n",
    " \n",
    " y = df['Category']\n",
    " y = y.iloc[:3695]\n",
    " y   "
   ]
  },
  {
   "cell_type": "code",
   "execution_count": 58,
   "id": "d8f8326f",
   "metadata": {},
   "outputs": [
    {
     "data": {
      "text/plain": [
       "((4720, 8), (3695,))"
      ]
     },
     "execution_count": 58,
     "metadata": {},
     "output_type": "execute_result"
    }
   ],
   "source": [
    "x.shape, y.shape"
   ]
  },
  {
   "cell_type": "code",
   "execution_count": 59,
   "id": "a48b2735",
   "metadata": {
    "scrolled": true
   },
   "outputs": [],
   "source": [
    "# converting categorical variables to numerical variables\n",
    "\n",
    "x= pd.get_dummies(x, drop_first = True)\n"
   ]
  },
  {
   "cell_type": "code",
   "execution_count": 60,
   "id": "13faf80f",
   "metadata": {},
   "outputs": [
    {
     "data": {
      "text/html": [
       "<div>\n",
       "<style scoped>\n",
       "    .dataframe tbody tr th:only-of-type {\n",
       "        vertical-align: middle;\n",
       "    }\n",
       "\n",
       "    .dataframe tbody tr th {\n",
       "        vertical-align: top;\n",
       "    }\n",
       "\n",
       "    .dataframe thead th {\n",
       "        text-align: right;\n",
       "    }\n",
       "</style>\n",
       "<table border=\"1\" class=\"dataframe\">\n",
       "  <thead>\n",
       "    <tr style=\"text-align: right;\">\n",
       "      <th></th>\n",
       "      <th>Amount Month 1</th>\n",
       "      <th>Amount Month 2</th>\n",
       "      <th>Amount Month 3</th>\n",
       "      <th>Amount Month 4</th>\n",
       "      <th>CompanyName_B1</th>\n",
       "      <th>CompanyName_B2</th>\n",
       "      <th>CompanyName_B3</th>\n",
       "      <th>CompanyName_B4</th>\n",
       "      <th>CompanyName_B5</th>\n",
       "      <th>CompanyName_B6</th>\n",
       "      <th>...</th>\n",
       "      <th>VendorName_E990</th>\n",
       "      <th>VendorName_E991</th>\n",
       "      <th>VendorName_E992</th>\n",
       "      <th>VendorName_E993</th>\n",
       "      <th>VendorName_E994</th>\n",
       "      <th>VendorName_E995</th>\n",
       "      <th>VendorName_E996</th>\n",
       "      <th>VendorName_E997</th>\n",
       "      <th>VendorName_E998</th>\n",
       "      <th>VendorName_E999</th>\n",
       "    </tr>\n",
       "  </thead>\n",
       "  <tbody>\n",
       "    <tr>\n",
       "      <th>3695</th>\n",
       "      <td>6.836341</td>\n",
       "      <td>6.800174</td>\n",
       "      <td>6.753974</td>\n",
       "      <td>6.731227</td>\n",
       "      <td>0</td>\n",
       "      <td>0</td>\n",
       "      <td>0</td>\n",
       "      <td>0</td>\n",
       "      <td>0</td>\n",
       "      <td>1</td>\n",
       "      <td>...</td>\n",
       "      <td>0</td>\n",
       "      <td>0</td>\n",
       "      <td>0</td>\n",
       "      <td>0</td>\n",
       "      <td>0</td>\n",
       "      <td>0</td>\n",
       "      <td>0</td>\n",
       "      <td>0</td>\n",
       "      <td>0</td>\n",
       "      <td>0</td>\n",
       "    </tr>\n",
       "    <tr>\n",
       "      <th>3696</th>\n",
       "      <td>6.836341</td>\n",
       "      <td>6.790604</td>\n",
       "      <td>6.731012</td>\n",
       "      <td>6.708904</td>\n",
       "      <td>0</td>\n",
       "      <td>0</td>\n",
       "      <td>0</td>\n",
       "      <td>0</td>\n",
       "      <td>0</td>\n",
       "      <td>1</td>\n",
       "      <td>...</td>\n",
       "      <td>0</td>\n",
       "      <td>0</td>\n",
       "      <td>0</td>\n",
       "      <td>0</td>\n",
       "      <td>0</td>\n",
       "      <td>0</td>\n",
       "      <td>0</td>\n",
       "      <td>0</td>\n",
       "      <td>0</td>\n",
       "      <td>0</td>\n",
       "    </tr>\n",
       "    <tr>\n",
       "      <th>3697</th>\n",
       "      <td>6.836341</td>\n",
       "      <td>6.798654</td>\n",
       "      <td>6.753974</td>\n",
       "      <td>6.731227</td>\n",
       "      <td>0</td>\n",
       "      <td>0</td>\n",
       "      <td>0</td>\n",
       "      <td>0</td>\n",
       "      <td>0</td>\n",
       "      <td>1</td>\n",
       "      <td>...</td>\n",
       "      <td>0</td>\n",
       "      <td>0</td>\n",
       "      <td>0</td>\n",
       "      <td>0</td>\n",
       "      <td>0</td>\n",
       "      <td>0</td>\n",
       "      <td>0</td>\n",
       "      <td>0</td>\n",
       "      <td>0</td>\n",
       "      <td>0</td>\n",
       "    </tr>\n",
       "    <tr>\n",
       "      <th>3698</th>\n",
       "      <td>6.836341</td>\n",
       "      <td>6.800357</td>\n",
       "      <td>6.753974</td>\n",
       "      <td>6.731227</td>\n",
       "      <td>0</td>\n",
       "      <td>0</td>\n",
       "      <td>0</td>\n",
       "      <td>0</td>\n",
       "      <td>0</td>\n",
       "      <td>1</td>\n",
       "      <td>...</td>\n",
       "      <td>0</td>\n",
       "      <td>0</td>\n",
       "      <td>0</td>\n",
       "      <td>0</td>\n",
       "      <td>0</td>\n",
       "      <td>0</td>\n",
       "      <td>0</td>\n",
       "      <td>0</td>\n",
       "      <td>0</td>\n",
       "      <td>0</td>\n",
       "    </tr>\n",
       "    <tr>\n",
       "      <th>3699</th>\n",
       "      <td>6.836341</td>\n",
       "      <td>6.800357</td>\n",
       "      <td>6.750648</td>\n",
       "      <td>6.731227</td>\n",
       "      <td>0</td>\n",
       "      <td>0</td>\n",
       "      <td>0</td>\n",
       "      <td>0</td>\n",
       "      <td>0</td>\n",
       "      <td>1</td>\n",
       "      <td>...</td>\n",
       "      <td>0</td>\n",
       "      <td>0</td>\n",
       "      <td>0</td>\n",
       "      <td>0</td>\n",
       "      <td>0</td>\n",
       "      <td>0</td>\n",
       "      <td>0</td>\n",
       "      <td>0</td>\n",
       "      <td>0</td>\n",
       "      <td>0</td>\n",
       "    </tr>\n",
       "    <tr>\n",
       "      <th>...</th>\n",
       "      <td>...</td>\n",
       "      <td>...</td>\n",
       "      <td>...</td>\n",
       "      <td>...</td>\n",
       "      <td>...</td>\n",
       "      <td>...</td>\n",
       "      <td>...</td>\n",
       "      <td>...</td>\n",
       "      <td>...</td>\n",
       "      <td>...</td>\n",
       "      <td>...</td>\n",
       "      <td>...</td>\n",
       "      <td>...</td>\n",
       "      <td>...</td>\n",
       "      <td>...</td>\n",
       "      <td>...</td>\n",
       "      <td>...</td>\n",
       "      <td>...</td>\n",
       "      <td>...</td>\n",
       "      <td>...</td>\n",
       "      <td>...</td>\n",
       "    </tr>\n",
       "    <tr>\n",
       "      <th>4715</th>\n",
       "      <td>6.706594</td>\n",
       "      <td>6.742772</td>\n",
       "      <td>6.618561</td>\n",
       "      <td>6.605416</td>\n",
       "      <td>0</td>\n",
       "      <td>0</td>\n",
       "      <td>0</td>\n",
       "      <td>0</td>\n",
       "      <td>0</td>\n",
       "      <td>0</td>\n",
       "      <td>...</td>\n",
       "      <td>0</td>\n",
       "      <td>0</td>\n",
       "      <td>0</td>\n",
       "      <td>0</td>\n",
       "      <td>0</td>\n",
       "      <td>0</td>\n",
       "      <td>0</td>\n",
       "      <td>0</td>\n",
       "      <td>0</td>\n",
       "      <td>0</td>\n",
       "    </tr>\n",
       "    <tr>\n",
       "      <th>4716</th>\n",
       "      <td>6.612634</td>\n",
       "      <td>6.690856</td>\n",
       "      <td>6.503533</td>\n",
       "      <td>6.490303</td>\n",
       "      <td>0</td>\n",
       "      <td>0</td>\n",
       "      <td>0</td>\n",
       "      <td>0</td>\n",
       "      <td>0</td>\n",
       "      <td>0</td>\n",
       "      <td>...</td>\n",
       "      <td>0</td>\n",
       "      <td>0</td>\n",
       "      <td>0</td>\n",
       "      <td>0</td>\n",
       "      <td>0</td>\n",
       "      <td>0</td>\n",
       "      <td>0</td>\n",
       "      <td>0</td>\n",
       "      <td>0</td>\n",
       "      <td>0</td>\n",
       "    </tr>\n",
       "    <tr>\n",
       "      <th>4717</th>\n",
       "      <td>6.687277</td>\n",
       "      <td>6.732040</td>\n",
       "      <td>6.679233</td>\n",
       "      <td>6.731227</td>\n",
       "      <td>0</td>\n",
       "      <td>0</td>\n",
       "      <td>0</td>\n",
       "      <td>0</td>\n",
       "      <td>0</td>\n",
       "      <td>0</td>\n",
       "      <td>...</td>\n",
       "      <td>0</td>\n",
       "      <td>0</td>\n",
       "      <td>0</td>\n",
       "      <td>0</td>\n",
       "      <td>0</td>\n",
       "      <td>0</td>\n",
       "      <td>0</td>\n",
       "      <td>0</td>\n",
       "      <td>0</td>\n",
       "      <td>0</td>\n",
       "    </tr>\n",
       "    <tr>\n",
       "      <th>4718</th>\n",
       "      <td>6.836341</td>\n",
       "      <td>6.800357</td>\n",
       "      <td>6.753974</td>\n",
       "      <td>6.725426</td>\n",
       "      <td>0</td>\n",
       "      <td>0</td>\n",
       "      <td>0</td>\n",
       "      <td>0</td>\n",
       "      <td>0</td>\n",
       "      <td>0</td>\n",
       "      <td>...</td>\n",
       "      <td>0</td>\n",
       "      <td>0</td>\n",
       "      <td>0</td>\n",
       "      <td>0</td>\n",
       "      <td>0</td>\n",
       "      <td>0</td>\n",
       "      <td>0</td>\n",
       "      <td>0</td>\n",
       "      <td>0</td>\n",
       "      <td>0</td>\n",
       "    </tr>\n",
       "    <tr>\n",
       "      <th>4719</th>\n",
       "      <td>6.836341</td>\n",
       "      <td>6.800290</td>\n",
       "      <td>6.753974</td>\n",
       "      <td>6.731227</td>\n",
       "      <td>0</td>\n",
       "      <td>0</td>\n",
       "      <td>0</td>\n",
       "      <td>0</td>\n",
       "      <td>0</td>\n",
       "      <td>0</td>\n",
       "      <td>...</td>\n",
       "      <td>0</td>\n",
       "      <td>0</td>\n",
       "      <td>0</td>\n",
       "      <td>0</td>\n",
       "      <td>0</td>\n",
       "      <td>0</td>\n",
       "      <td>0</td>\n",
       "      <td>0</td>\n",
       "      <td>0</td>\n",
       "      <td>0</td>\n",
       "    </tr>\n",
       "  </tbody>\n",
       "</table>\n",
       "<p>1025 rows × 1558 columns</p>\n",
       "</div>"
      ],
      "text/plain": [
       "      Amount Month 1  Amount Month 2  Amount Month 3  Amount Month 4  \\\n",
       "3695        6.836341        6.800174        6.753974        6.731227   \n",
       "3696        6.836341        6.790604        6.731012        6.708904   \n",
       "3697        6.836341        6.798654        6.753974        6.731227   \n",
       "3698        6.836341        6.800357        6.753974        6.731227   \n",
       "3699        6.836341        6.800357        6.750648        6.731227   \n",
       "...              ...             ...             ...             ...   \n",
       "4715        6.706594        6.742772        6.618561        6.605416   \n",
       "4716        6.612634        6.690856        6.503533        6.490303   \n",
       "4717        6.687277        6.732040        6.679233        6.731227   \n",
       "4718        6.836341        6.800357        6.753974        6.725426   \n",
       "4719        6.836341        6.800290        6.753974        6.731227   \n",
       "\n",
       "      CompanyName_B1  CompanyName_B2  CompanyName_B3  CompanyName_B4  \\\n",
       "3695               0               0               0               0   \n",
       "3696               0               0               0               0   \n",
       "3697               0               0               0               0   \n",
       "3698               0               0               0               0   \n",
       "3699               0               0               0               0   \n",
       "...              ...             ...             ...             ...   \n",
       "4715               0               0               0               0   \n",
       "4716               0               0               0               0   \n",
       "4717               0               0               0               0   \n",
       "4718               0               0               0               0   \n",
       "4719               0               0               0               0   \n",
       "\n",
       "      CompanyName_B5  CompanyName_B6  ...  VendorName_E990  VendorName_E991  \\\n",
       "3695               0               1  ...                0                0   \n",
       "3696               0               1  ...                0                0   \n",
       "3697               0               1  ...                0                0   \n",
       "3698               0               1  ...                0                0   \n",
       "3699               0               1  ...                0                0   \n",
       "...              ...             ...  ...              ...              ...   \n",
       "4715               0               0  ...                0                0   \n",
       "4716               0               0  ...                0                0   \n",
       "4717               0               0  ...                0                0   \n",
       "4718               0               0  ...                0                0   \n",
       "4719               0               0  ...                0                0   \n",
       "\n",
       "      VendorName_E992  VendorName_E993  VendorName_E994  VendorName_E995  \\\n",
       "3695                0                0                0                0   \n",
       "3696                0                0                0                0   \n",
       "3697                0                0                0                0   \n",
       "3698                0                0                0                0   \n",
       "3699                0                0                0                0   \n",
       "...               ...              ...              ...              ...   \n",
       "4715                0                0                0                0   \n",
       "4716                0                0                0                0   \n",
       "4717                0                0                0                0   \n",
       "4718                0                0                0                0   \n",
       "4719                0                0                0                0   \n",
       "\n",
       "      VendorName_E996  VendorName_E997  VendorName_E998  VendorName_E999  \n",
       "3695                0                0                0                0  \n",
       "3696                0                0                0                0  \n",
       "3697                0                0                0                0  \n",
       "3698                0                0                0                0  \n",
       "3699                0                0                0                0  \n",
       "...               ...              ...              ...              ...  \n",
       "4715                0                0                0                0  \n",
       "4716                0                0                0                0  \n",
       "4717                0                0                0                0  \n",
       "4718                0                0                0                0  \n",
       "4719                0                0                0                0  \n",
       "\n",
       "[1025 rows x 1558 columns]"
      ]
     },
     "execution_count": 60,
     "metadata": {},
     "output_type": "execute_result"
    }
   ],
   "source": [
    "test_data = x.iloc[ 3695: , : ]\n",
    "# test_data = test_data.drop(['Category'], axis = 1)\n",
    "test_data"
   ]
  },
  {
   "cell_type": "code",
   "execution_count": 61,
   "id": "c455f089",
   "metadata": {},
   "outputs": [],
   "source": [
    " x= x.iloc[ :3695, :]"
   ]
  },
  {
   "cell_type": "code",
   "execution_count": 62,
   "id": "3507a7c5",
   "metadata": {},
   "outputs": [],
   "source": [
    "smote  = SMOTE( k_neighbors=5)\n",
    "x_sm, y_sm = smote.fit_resample(x,y)"
   ]
  },
  {
   "cell_type": "code",
   "execution_count": 63,
   "id": "5f6d3973",
   "metadata": {},
   "outputs": [
    {
     "data": {
      "text/plain": [
       "X0    3136\n",
       "X1    3136\n",
       "X2    3136\n",
       "X3    3136\n",
       "X4    3136\n",
       "Name: Category, dtype: int64"
      ]
     },
     "execution_count": 63,
     "metadata": {},
     "output_type": "execute_result"
    }
   ],
   "source": [
    "y_sm.value_counts()"
   ]
  },
  {
   "cell_type": "code",
   "execution_count": 64,
   "id": "415afa6b",
   "metadata": {},
   "outputs": [],
   "source": [
    "# importing train_test_split\n",
    "\n",
    "from sklearn.model_selection import train_test_split\n",
    "x_train,x_test, y_train, y_test = train_test_split(x_sm,y_sm, test_size = 0.30, random_state = 1)\n"
   ]
  },
  {
   "cell_type": "code",
   "execution_count": 65,
   "id": "73f60c37",
   "metadata": {},
   "outputs": [
    {
     "data": {
      "text/plain": [
       "((10976, 1558), (10976,), (4704, 1558), (4704,))"
      ]
     },
     "execution_count": 65,
     "metadata": {},
     "output_type": "execute_result"
    }
   ],
   "source": [
    "x_train.shape , y_train.shape , x_test.shape, y_test.shape"
   ]
  },
  {
   "cell_type": "markdown",
   "id": "a59d3851",
   "metadata": {},
   "source": [
    "#### ML Pipeline Building and Using Decision tree as estimator"
   ]
  },
  {
   "cell_type": "code",
   "execution_count": 66,
   "id": "7e8ee3e6",
   "metadata": {},
   "outputs": [],
   "source": [
    "trf1 = ColumnTransformer([('impute_companyname', SimpleImputer(strategy = 'most_frequent'),[0]),\n",
    "                          ('impute_financial_department', SimpleImputer(strategy = 'most_frequent'),[1]),\n",
    "                          ('impute_fincial_account_group', SimpleImputer(strategy = 'most_frequent'),[2]),\n",
    "                          ('impute_vendor_name', SimpleImputer(strategy = 'most_frequent'),[3])],\n",
    "                         remainder = 'passthrough')\n",
    "\n",
    "trf2 = ColumnTransformer([('ohe_all_four',OneHotEncoder(sparse = False,handle_unknown = 'ignore'),[0,1,2,3])],\n",
    "                        remainder = 'passthrough')\n",
    "\n",
    "trf3 = ColumnTransformer([('scale', MinMaxScaler(),slice(0,1558))\n",
    "                         ])\n",
    "\n",
    "\n",
    "trf4 = SelectKBest(score_func = chi2,k = 7)\n",
    "\n",
    "trf5 = DecisionTreeClassifier()\n",
    "\n",
    "pipe_dt = Pipeline([('trf1',trf1),\n",
    "                 ('trf2',trf2),\n",
    "                 ('trf3',trf3),\n",
    "                 ('trf4',trf4),\n",
    "                 ('trf5',trf5),  \n",
    "                ])                        "
   ]
  },
  {
   "cell_type": "code",
   "execution_count": 67,
   "id": "b4950fee",
   "metadata": {
    "scrolled": true
   },
   "outputs": [
    {
     "data": {
      "text/html": [
       "<style>#sk-container-id-1 {color: black;background-color: white;}#sk-container-id-1 pre{padding: 0;}#sk-container-id-1 div.sk-toggleable {background-color: white;}#sk-container-id-1 label.sk-toggleable__label {cursor: pointer;display: block;width: 100%;margin-bottom: 0;padding: 0.3em;box-sizing: border-box;text-align: center;}#sk-container-id-1 label.sk-toggleable__label-arrow:before {content: \"▸\";float: left;margin-right: 0.25em;color: #696969;}#sk-container-id-1 label.sk-toggleable__label-arrow:hover:before {color: black;}#sk-container-id-1 div.sk-estimator:hover label.sk-toggleable__label-arrow:before {color: black;}#sk-container-id-1 div.sk-toggleable__content {max-height: 0;max-width: 0;overflow: hidden;text-align: left;background-color: #f0f8ff;}#sk-container-id-1 div.sk-toggleable__content pre {margin: 0.2em;color: black;border-radius: 0.25em;background-color: #f0f8ff;}#sk-container-id-1 input.sk-toggleable__control:checked~div.sk-toggleable__content {max-height: 200px;max-width: 100%;overflow: auto;}#sk-container-id-1 input.sk-toggleable__control:checked~label.sk-toggleable__label-arrow:before {content: \"▾\";}#sk-container-id-1 div.sk-estimator input.sk-toggleable__control:checked~label.sk-toggleable__label {background-color: #d4ebff;}#sk-container-id-1 div.sk-label input.sk-toggleable__control:checked~label.sk-toggleable__label {background-color: #d4ebff;}#sk-container-id-1 input.sk-hidden--visually {border: 0;clip: rect(1px 1px 1px 1px);clip: rect(1px, 1px, 1px, 1px);height: 1px;margin: -1px;overflow: hidden;padding: 0;position: absolute;width: 1px;}#sk-container-id-1 div.sk-estimator {font-family: monospace;background-color: #f0f8ff;border: 1px dotted black;border-radius: 0.25em;box-sizing: border-box;margin-bottom: 0.5em;}#sk-container-id-1 div.sk-estimator:hover {background-color: #d4ebff;}#sk-container-id-1 div.sk-parallel-item::after {content: \"\";width: 100%;border-bottom: 1px solid gray;flex-grow: 1;}#sk-container-id-1 div.sk-label:hover label.sk-toggleable__label {background-color: #d4ebff;}#sk-container-id-1 div.sk-serial::before {content: \"\";position: absolute;border-left: 1px solid gray;box-sizing: border-box;top: 0;bottom: 0;left: 50%;z-index: 0;}#sk-container-id-1 div.sk-serial {display: flex;flex-direction: column;align-items: center;background-color: white;padding-right: 0.2em;padding-left: 0.2em;position: relative;}#sk-container-id-1 div.sk-item {position: relative;z-index: 1;}#sk-container-id-1 div.sk-parallel {display: flex;align-items: stretch;justify-content: center;background-color: white;position: relative;}#sk-container-id-1 div.sk-item::before, #sk-container-id-1 div.sk-parallel-item::before {content: \"\";position: absolute;border-left: 1px solid gray;box-sizing: border-box;top: 0;bottom: 0;left: 50%;z-index: -1;}#sk-container-id-1 div.sk-parallel-item {display: flex;flex-direction: column;z-index: 1;position: relative;background-color: white;}#sk-container-id-1 div.sk-parallel-item:first-child::after {align-self: flex-end;width: 50%;}#sk-container-id-1 div.sk-parallel-item:last-child::after {align-self: flex-start;width: 50%;}#sk-container-id-1 div.sk-parallel-item:only-child::after {width: 0;}#sk-container-id-1 div.sk-dashed-wrapped {border: 1px dashed gray;margin: 0 0.4em 0.5em 0.4em;box-sizing: border-box;padding-bottom: 0.4em;background-color: white;}#sk-container-id-1 div.sk-label label {font-family: monospace;font-weight: bold;display: inline-block;line-height: 1.2em;}#sk-container-id-1 div.sk-label-container {text-align: center;}#sk-container-id-1 div.sk-container {/* jupyter's `normalize.less` sets `[hidden] { display: none; }` but bootstrap.min.css set `[hidden] { display: none !important; }` so we also need the `!important` here to be able to override the default hidden behavior on the sphinx rendered scikit-learn.org. See: https://github.com/scikit-learn/scikit-learn/issues/21755 */display: inline-block !important;position: relative;}#sk-container-id-1 div.sk-text-repr-fallback {display: none;}</style><div id=\"sk-container-id-1\" class=\"sk-top-container\"><div class=\"sk-text-repr-fallback\"><pre>Pipeline(steps=[(&#x27;trf1&#x27;,\n",
       "                 ColumnTransformer(remainder=&#x27;passthrough&#x27;,\n",
       "                                   transformers=[(&#x27;impute_companyname&#x27;,\n",
       "                                                  SimpleImputer(strategy=&#x27;most_frequent&#x27;),\n",
       "                                                  [0]),\n",
       "                                                 (&#x27;impute_financial_department&#x27;,\n",
       "                                                  SimpleImputer(strategy=&#x27;most_frequent&#x27;),\n",
       "                                                  [1]),\n",
       "                                                 (&#x27;impute_fincial_account_group&#x27;,\n",
       "                                                  SimpleImputer(strategy=&#x27;most_frequent&#x27;),\n",
       "                                                  [2]),\n",
       "                                                 (&#x27;impute_vendor_name&#x27;,\n",
       "                                                  SimpleImputer(strategy=&#x27;most...),\n",
       "                                                  [3])])),\n",
       "                (&#x27;trf2&#x27;,\n",
       "                 ColumnTransformer(remainder=&#x27;passthrough&#x27;,\n",
       "                                   transformers=[(&#x27;ohe_all_four&#x27;,\n",
       "                                                  OneHotEncoder(handle_unknown=&#x27;ignore&#x27;,\n",
       "                                                                sparse=False),\n",
       "                                                  [0, 1, 2, 3])])),\n",
       "                (&#x27;trf3&#x27;,\n",
       "                 ColumnTransformer(transformers=[(&#x27;scale&#x27;, MinMaxScaler(),\n",
       "                                                  slice(0, 1558, None))])),\n",
       "                (&#x27;trf4&#x27;,\n",
       "                 SelectKBest(k=7,\n",
       "                             score_func=&lt;function chi2 at 0x000001F84967E1F0&gt;)),\n",
       "                (&#x27;trf5&#x27;, DecisionTreeClassifier())])</pre><b>In a Jupyter environment, please rerun this cell to show the HTML representation or trust the notebook. <br />On GitHub, the HTML representation is unable to render, please try loading this page with nbviewer.org.</b></div><div class=\"sk-container\" hidden><div class=\"sk-item sk-dashed-wrapped\"><div class=\"sk-label-container\"><div class=\"sk-label sk-toggleable\"><input class=\"sk-toggleable__control sk-hidden--visually\" id=\"sk-estimator-id-1\" type=\"checkbox\" ><label for=\"sk-estimator-id-1\" class=\"sk-toggleable__label sk-toggleable__label-arrow\">Pipeline</label><div class=\"sk-toggleable__content\"><pre>Pipeline(steps=[(&#x27;trf1&#x27;,\n",
       "                 ColumnTransformer(remainder=&#x27;passthrough&#x27;,\n",
       "                                   transformers=[(&#x27;impute_companyname&#x27;,\n",
       "                                                  SimpleImputer(strategy=&#x27;most_frequent&#x27;),\n",
       "                                                  [0]),\n",
       "                                                 (&#x27;impute_financial_department&#x27;,\n",
       "                                                  SimpleImputer(strategy=&#x27;most_frequent&#x27;),\n",
       "                                                  [1]),\n",
       "                                                 (&#x27;impute_fincial_account_group&#x27;,\n",
       "                                                  SimpleImputer(strategy=&#x27;most_frequent&#x27;),\n",
       "                                                  [2]),\n",
       "                                                 (&#x27;impute_vendor_name&#x27;,\n",
       "                                                  SimpleImputer(strategy=&#x27;most...),\n",
       "                                                  [3])])),\n",
       "                (&#x27;trf2&#x27;,\n",
       "                 ColumnTransformer(remainder=&#x27;passthrough&#x27;,\n",
       "                                   transformers=[(&#x27;ohe_all_four&#x27;,\n",
       "                                                  OneHotEncoder(handle_unknown=&#x27;ignore&#x27;,\n",
       "                                                                sparse=False),\n",
       "                                                  [0, 1, 2, 3])])),\n",
       "                (&#x27;trf3&#x27;,\n",
       "                 ColumnTransformer(transformers=[(&#x27;scale&#x27;, MinMaxScaler(),\n",
       "                                                  slice(0, 1558, None))])),\n",
       "                (&#x27;trf4&#x27;,\n",
       "                 SelectKBest(k=7,\n",
       "                             score_func=&lt;function chi2 at 0x000001F84967E1F0&gt;)),\n",
       "                (&#x27;trf5&#x27;, DecisionTreeClassifier())])</pre></div></div></div><div class=\"sk-serial\"><div class=\"sk-item sk-dashed-wrapped\"><div class=\"sk-label-container\"><div class=\"sk-label sk-toggleable\"><input class=\"sk-toggleable__control sk-hidden--visually\" id=\"sk-estimator-id-2\" type=\"checkbox\" ><label for=\"sk-estimator-id-2\" class=\"sk-toggleable__label sk-toggleable__label-arrow\">trf1: ColumnTransformer</label><div class=\"sk-toggleable__content\"><pre>ColumnTransformer(remainder=&#x27;passthrough&#x27;,\n",
       "                  transformers=[(&#x27;impute_companyname&#x27;,\n",
       "                                 SimpleImputer(strategy=&#x27;most_frequent&#x27;), [0]),\n",
       "                                (&#x27;impute_financial_department&#x27;,\n",
       "                                 SimpleImputer(strategy=&#x27;most_frequent&#x27;), [1]),\n",
       "                                (&#x27;impute_fincial_account_group&#x27;,\n",
       "                                 SimpleImputer(strategy=&#x27;most_frequent&#x27;), [2]),\n",
       "                                (&#x27;impute_vendor_name&#x27;,\n",
       "                                 SimpleImputer(strategy=&#x27;most_frequent&#x27;),\n",
       "                                 [3])])</pre></div></div></div><div class=\"sk-parallel\"><div class=\"sk-parallel-item\"><div class=\"sk-item\"><div class=\"sk-label-container\"><div class=\"sk-label sk-toggleable\"><input class=\"sk-toggleable__control sk-hidden--visually\" id=\"sk-estimator-id-3\" type=\"checkbox\" ><label for=\"sk-estimator-id-3\" class=\"sk-toggleable__label sk-toggleable__label-arrow\">impute_companyname</label><div class=\"sk-toggleable__content\"><pre>[0]</pre></div></div></div><div class=\"sk-serial\"><div class=\"sk-item\"><div class=\"sk-estimator sk-toggleable\"><input class=\"sk-toggleable__control sk-hidden--visually\" id=\"sk-estimator-id-4\" type=\"checkbox\" ><label for=\"sk-estimator-id-4\" class=\"sk-toggleable__label sk-toggleable__label-arrow\">SimpleImputer</label><div class=\"sk-toggleable__content\"><pre>SimpleImputer(strategy=&#x27;most_frequent&#x27;)</pre></div></div></div></div></div></div><div class=\"sk-parallel-item\"><div class=\"sk-item\"><div class=\"sk-label-container\"><div class=\"sk-label sk-toggleable\"><input class=\"sk-toggleable__control sk-hidden--visually\" id=\"sk-estimator-id-5\" type=\"checkbox\" ><label for=\"sk-estimator-id-5\" class=\"sk-toggleable__label sk-toggleable__label-arrow\">impute_financial_department</label><div class=\"sk-toggleable__content\"><pre>[1]</pre></div></div></div><div class=\"sk-serial\"><div class=\"sk-item\"><div class=\"sk-estimator sk-toggleable\"><input class=\"sk-toggleable__control sk-hidden--visually\" id=\"sk-estimator-id-6\" type=\"checkbox\" ><label for=\"sk-estimator-id-6\" class=\"sk-toggleable__label sk-toggleable__label-arrow\">SimpleImputer</label><div class=\"sk-toggleable__content\"><pre>SimpleImputer(strategy=&#x27;most_frequent&#x27;)</pre></div></div></div></div></div></div><div class=\"sk-parallel-item\"><div class=\"sk-item\"><div class=\"sk-label-container\"><div class=\"sk-label sk-toggleable\"><input class=\"sk-toggleable__control sk-hidden--visually\" id=\"sk-estimator-id-7\" type=\"checkbox\" ><label for=\"sk-estimator-id-7\" class=\"sk-toggleable__label sk-toggleable__label-arrow\">impute_fincial_account_group</label><div class=\"sk-toggleable__content\"><pre>[2]</pre></div></div></div><div class=\"sk-serial\"><div class=\"sk-item\"><div class=\"sk-estimator sk-toggleable\"><input class=\"sk-toggleable__control sk-hidden--visually\" id=\"sk-estimator-id-8\" type=\"checkbox\" ><label for=\"sk-estimator-id-8\" class=\"sk-toggleable__label sk-toggleable__label-arrow\">SimpleImputer</label><div class=\"sk-toggleable__content\"><pre>SimpleImputer(strategy=&#x27;most_frequent&#x27;)</pre></div></div></div></div></div></div><div class=\"sk-parallel-item\"><div class=\"sk-item\"><div class=\"sk-label-container\"><div class=\"sk-label sk-toggleable\"><input class=\"sk-toggleable__control sk-hidden--visually\" id=\"sk-estimator-id-9\" type=\"checkbox\" ><label for=\"sk-estimator-id-9\" class=\"sk-toggleable__label sk-toggleable__label-arrow\">impute_vendor_name</label><div class=\"sk-toggleable__content\"><pre>[3]</pre></div></div></div><div class=\"sk-serial\"><div class=\"sk-item\"><div class=\"sk-estimator sk-toggleable\"><input class=\"sk-toggleable__control sk-hidden--visually\" id=\"sk-estimator-id-10\" type=\"checkbox\" ><label for=\"sk-estimator-id-10\" class=\"sk-toggleable__label sk-toggleable__label-arrow\">SimpleImputer</label><div class=\"sk-toggleable__content\"><pre>SimpleImputer(strategy=&#x27;most_frequent&#x27;)</pre></div></div></div></div></div></div><div class=\"sk-parallel-item\"><div class=\"sk-item\"><div class=\"sk-label-container\"><div class=\"sk-label sk-toggleable\"><input class=\"sk-toggleable__control sk-hidden--visually\" id=\"sk-estimator-id-11\" type=\"checkbox\" ><label for=\"sk-estimator-id-11\" class=\"sk-toggleable__label sk-toggleable__label-arrow\">remainder</label><div class=\"sk-toggleable__content\"><pre>[&#x27;CompanyName_B1&#x27;, &#x27;CompanyName_B2&#x27;, &#x27;CompanyName_B3&#x27;, &#x27;CompanyName_B4&#x27;, &#x27;CompanyName_B5&#x27;, &#x27;CompanyName_B6&#x27;, &#x27;CompanyName_B7&#x27;, &#x27;CompanyName_B8&#x27;, &#x27;Financial Department_D1&#x27;, &#x27;Financial Department_D10&#x27;, &#x27;Financial Department_D11&#x27;, &#x27;Financial Department_D12&#x27;, &#x27;Financial Department_D13&#x27;, &#x27;Financial Department_D14&#x27;, &#x27;Financial Department_D15&#x27;, &#x27;Financial Department_D16&#x27;, &#x27;Financial Department_D17&#x27;, &#x27;Financial Department_D18&#x27;, &#x27;Financial Department_D19&#x27;, &#x27;Financial Department_D2&#x27;, &#x27;Financial Department_D20&#x27;, &#x27;Financial Department_D21&#x27;, &#x27;Financial Department_D22&#x27;, &#x27;Financial Department_D23&#x27;, &#x27;Financial Department_D24&#x27;, &#x27;Financial Department_D25&#x27;, &#x27;Financial Department_D26&#x27;, &#x27;Financial Department_D3&#x27;, &#x27;Financial Department_D4&#x27;, &#x27;Financial Department_D5&#x27;, &#x27;Financial Department_D6&#x27;, &#x27;Financial Department_D7&#x27;, &#x27;Financial Department_D8&#x27;, &#x27;Financial Department_D9&#x27;, &#x27;Financial AccountGroup_C1&#x27;, &#x27;Financial AccountGroup_C10&#x27;, &#x27;Financial AccountGroup_C11&#x27;, &#x27;Financial AccountGroup_C12&#x27;, &#x27;Financial AccountGroup_C2&#x27;, &#x27;Financial AccountGroup_C3&#x27;, &#x27;Financial AccountGroup_C4&#x27;, &#x27;Financial AccountGroup_C5&#x27;, &#x27;Financial AccountGroup_C6&#x27;, &#x27;Financial AccountGroup_C7&#x27;, &#x27;Financial AccountGroup_C8&#x27;, &#x27;Financial AccountGroup_C9&#x27;, &#x27;VendorName_E1&#x27;, &#x27;VendorName_E10&#x27;, &#x27;VendorName_E100&#x27;, &#x27;VendorName_E1000&#x27;, &#x27;VendorName_E1001&#x27;, &#x27;VendorName_E1002&#x27;, &#x27;VendorName_E1003&#x27;, &#x27;VendorName_E1004&#x27;, &#x27;VendorName_E1005&#x27;, &#x27;VendorName_E1006&#x27;, &#x27;VendorName_E1007&#x27;, &#x27;VendorName_E1008&#x27;, &#x27;VendorName_E1009&#x27;, &#x27;VendorName_E101&#x27;, &#x27;VendorName_E1010&#x27;, &#x27;VendorName_E1011&#x27;, &#x27;VendorName_E1012&#x27;, &#x27;VendorName_E1013&#x27;, &#x27;VendorName_E1014&#x27;, &#x27;VendorName_E1015&#x27;, &#x27;VendorName_E1016&#x27;, &#x27;VendorName_E1017&#x27;, &#x27;VendorName_E1018&#x27;, &#x27;VendorName_E1019&#x27;, &#x27;VendorName_E102&#x27;, &#x27;VendorName_E1020&#x27;, &#x27;VendorName_E1021&#x27;, &#x27;VendorName_E1022&#x27;, &#x27;VendorName_E1023&#x27;, &#x27;VendorName_E1024&#x27;, &#x27;VendorName_E1025&#x27;, &#x27;VendorName_E1026&#x27;, &#x27;VendorName_E1027&#x27;, &#x27;VendorName_E1028&#x27;, &#x27;VendorName_E1029&#x27;, &#x27;VendorName_E103&#x27;, &#x27;VendorName_E1030&#x27;, &#x27;VendorName_E1031&#x27;, &#x27;VendorName_E1032&#x27;, &#x27;VendorName_E1033&#x27;, &#x27;VendorName_E1034&#x27;, &#x27;VendorName_E1035&#x27;, &#x27;VendorName_E1036&#x27;, &#x27;VendorName_E1037&#x27;, &#x27;VendorName_E1038&#x27;, &#x27;VendorName_E1039&#x27;, &#x27;VendorName_E104&#x27;, &#x27;VendorName_E1040&#x27;, &#x27;VendorName_E1041&#x27;, &#x27;VendorName_E1042&#x27;, &#x27;VendorName_E1043&#x27;, &#x27;VendorName_E1044&#x27;, &#x27;VendorName_E1045&#x27;, &#x27;VendorName_E1046&#x27;, &#x27;VendorName_E1047&#x27;, &#x27;VendorName_E1048&#x27;, &#x27;VendorName_E1049&#x27;, &#x27;VendorName_E105&#x27;, &#x27;VendorName_E1050&#x27;, &#x27;VendorName_E1051&#x27;, &#x27;VendorName_E1052&#x27;, &#x27;VendorName_E1053&#x27;, &#x27;VendorName_E1054&#x27;, &#x27;VendorName_E1055&#x27;, &#x27;VendorName_E1056&#x27;, &#x27;VendorName_E1057&#x27;, &#x27;VendorName_E1058&#x27;, &#x27;VendorName_E1059&#x27;, &#x27;VendorName_E106&#x27;, &#x27;VendorName_E1060&#x27;, &#x27;VendorName_E1061&#x27;, &#x27;VendorName_E1062&#x27;, &#x27;VendorName_E1063&#x27;, &#x27;VendorName_E1064&#x27;, &#x27;VendorName_E1065&#x27;, &#x27;VendorName_E1066&#x27;, &#x27;VendorName_E1067&#x27;, &#x27;VendorName_E1068&#x27;, &#x27;VendorName_E1069&#x27;, &#x27;VendorName_E107&#x27;, &#x27;VendorName_E1070&#x27;, &#x27;VendorName_E1071&#x27;, &#x27;VendorName_E1072&#x27;, &#x27;VendorName_E1073&#x27;, &#x27;VendorName_E1074&#x27;, &#x27;VendorName_E1075&#x27;, &#x27;VendorName_E1076&#x27;, &#x27;VendorName_E1077&#x27;, &#x27;VendorName_E1078&#x27;, &#x27;VendorName_E1079&#x27;, &#x27;VendorName_E108&#x27;, &#x27;VendorName_E1080&#x27;, &#x27;VendorName_E1081&#x27;, &#x27;VendorName_E1082&#x27;, &#x27;VendorName_E1083&#x27;, &#x27;VendorName_E1084&#x27;, &#x27;VendorName_E1085&#x27;, &#x27;VendorName_E1086&#x27;, &#x27;VendorName_E1087&#x27;, &#x27;VendorName_E1088&#x27;, &#x27;VendorName_E1089&#x27;, &#x27;VendorName_E109&#x27;, &#x27;VendorName_E1090&#x27;, &#x27;VendorName_E1091&#x27;, &#x27;VendorName_E1092&#x27;, &#x27;VendorName_E1093&#x27;, &#x27;VendorName_E1094&#x27;, &#x27;VendorName_E1095&#x27;, &#x27;VendorName_E1096&#x27;, &#x27;VendorName_E1097&#x27;, &#x27;VendorName_E1098&#x27;, &#x27;VendorName_E1099&#x27;, &#x27;VendorName_E11&#x27;, &#x27;VendorName_E110&#x27;, &#x27;VendorName_E1100&#x27;, &#x27;VendorName_E1101&#x27;, &#x27;VendorName_E1102&#x27;, &#x27;VendorName_E1103&#x27;, &#x27;VendorName_E1104&#x27;, &#x27;VendorName_E1105&#x27;, &#x27;VendorName_E1106&#x27;, &#x27;VendorName_E1107&#x27;, &#x27;VendorName_E1108&#x27;, &#x27;VendorName_E1109&#x27;, &#x27;VendorName_E111&#x27;, &#x27;VendorName_E1110&#x27;, &#x27;VendorName_E1111&#x27;, &#x27;VendorName_E1112&#x27;, &#x27;VendorName_E1113&#x27;, &#x27;VendorName_E1114&#x27;, &#x27;VendorName_E1115&#x27;, &#x27;VendorName_E1116&#x27;, &#x27;VendorName_E1117&#x27;, &#x27;VendorName_E1118&#x27;, &#x27;VendorName_E1119&#x27;, &#x27;VendorName_E112&#x27;, &#x27;VendorName_E1120&#x27;, &#x27;VendorName_E1121&#x27;, &#x27;VendorName_E1122&#x27;, &#x27;VendorName_E1123&#x27;, &#x27;VendorName_E1124&#x27;, &#x27;VendorName_E1125&#x27;, &#x27;VendorName_E1126&#x27;, &#x27;VendorName_E1127&#x27;, &#x27;VendorName_E1128&#x27;, &#x27;VendorName_E1129&#x27;, &#x27;VendorName_E113&#x27;, &#x27;VendorName_E1130&#x27;, &#x27;VendorName_E1131&#x27;, &#x27;VendorName_E1132&#x27;, &#x27;VendorName_E1133&#x27;, &#x27;VendorName_E1134&#x27;, &#x27;VendorName_E1135&#x27;, &#x27;VendorName_E1136&#x27;, &#x27;VendorName_E1137&#x27;, &#x27;VendorName_E1138&#x27;, &#x27;VendorName_E1139&#x27;, &#x27;VendorName_E114&#x27;, &#x27;VendorName_E1140&#x27;, &#x27;VendorName_E1141&#x27;, &#x27;VendorName_E1142&#x27;, &#x27;VendorName_E1143&#x27;, &#x27;VendorName_E1144&#x27;, &#x27;VendorName_E1145&#x27;, &#x27;VendorName_E1146&#x27;, &#x27;VendorName_E1147&#x27;, &#x27;VendorName_E1148&#x27;, &#x27;VendorName_E1149&#x27;, &#x27;VendorName_E115&#x27;, &#x27;VendorName_E1150&#x27;, &#x27;VendorName_E1151&#x27;, &#x27;VendorName_E1152&#x27;, &#x27;VendorName_E1153&#x27;, &#x27;VendorName_E1154&#x27;, &#x27;VendorName_E1155&#x27;, &#x27;VendorName_E1156&#x27;, &#x27;VendorName_E1157&#x27;, &#x27;VendorName_E1158&#x27;, &#x27;VendorName_E1159&#x27;, &#x27;VendorName_E116&#x27;, &#x27;VendorName_E1160&#x27;, &#x27;VendorName_E1161&#x27;, &#x27;VendorName_E1162&#x27;, &#x27;VendorName_E1163&#x27;, &#x27;VendorName_E1164&#x27;, &#x27;VendorName_E1165&#x27;, &#x27;VendorName_E1166&#x27;, &#x27;VendorName_E1167&#x27;, &#x27;VendorName_E1168&#x27;, &#x27;VendorName_E1169&#x27;, &#x27;VendorName_E117&#x27;, &#x27;VendorName_E1170&#x27;, &#x27;VendorName_E1171&#x27;, &#x27;VendorName_E1172&#x27;, &#x27;VendorName_E1173&#x27;, &#x27;VendorName_E1174&#x27;, &#x27;VendorName_E1175&#x27;, &#x27;VendorName_E1176&#x27;, &#x27;VendorName_E1177&#x27;, &#x27;VendorName_E1178&#x27;, &#x27;VendorName_E1179&#x27;, &#x27;VendorName_E118&#x27;, &#x27;VendorName_E1180&#x27;, &#x27;VendorName_E1181&#x27;, &#x27;VendorName_E1182&#x27;, &#x27;VendorName_E1183&#x27;, &#x27;VendorName_E1184&#x27;, &#x27;VendorName_E1185&#x27;, &#x27;VendorName_E1186&#x27;, &#x27;VendorName_E1187&#x27;, &#x27;VendorName_E1188&#x27;, &#x27;VendorName_E1189&#x27;, &#x27;VendorName_E119&#x27;, &#x27;VendorName_E1190&#x27;, &#x27;VendorName_E1191&#x27;, &#x27;VendorName_E1192&#x27;, &#x27;VendorName_E1193&#x27;, &#x27;VendorName_E1194&#x27;, &#x27;VendorName_E1195&#x27;, &#x27;VendorName_E1196&#x27;, &#x27;VendorName_E1197&#x27;, &#x27;VendorName_E1198&#x27;, &#x27;VendorName_E1199&#x27;, &#x27;VendorName_E12&#x27;, &#x27;VendorName_E120&#x27;, &#x27;VendorName_E1200&#x27;, &#x27;VendorName_E1201&#x27;, &#x27;VendorName_E1202&#x27;, &#x27;VendorName_E1203&#x27;, &#x27;VendorName_E1204&#x27;, &#x27;VendorName_E1205&#x27;, &#x27;VendorName_E1206&#x27;, &#x27;VendorName_E1207&#x27;, &#x27;VendorName_E1208&#x27;, &#x27;VendorName_E1209&#x27;, &#x27;VendorName_E121&#x27;, &#x27;VendorName_E1210&#x27;, &#x27;VendorName_E1211&#x27;, &#x27;VendorName_E1212&#x27;, &#x27;VendorName_E1213&#x27;, &#x27;VendorName_E1214&#x27;, &#x27;VendorName_E1215&#x27;, &#x27;VendorName_E1216&#x27;, &#x27;VendorName_E1217&#x27;, &#x27;VendorName_E1218&#x27;, &#x27;VendorName_E1219&#x27;, &#x27;VendorName_E122&#x27;, &#x27;VendorName_E1220&#x27;, &#x27;VendorName_E1221&#x27;, &#x27;VendorName_E1222&#x27;, &#x27;VendorName_E1223&#x27;, &#x27;VendorName_E1224&#x27;, &#x27;VendorName_E1225&#x27;, &#x27;VendorName_E1226&#x27;, &#x27;VendorName_E1227&#x27;, &#x27;VendorName_E1228&#x27;, &#x27;VendorName_E1229&#x27;, &#x27;VendorName_E123&#x27;, &#x27;VendorName_E1230&#x27;, &#x27;VendorName_E1231&#x27;, &#x27;VendorName_E1232&#x27;, &#x27;VendorName_E1233&#x27;, &#x27;VendorName_E1234&#x27;, &#x27;VendorName_E1235&#x27;, &#x27;VendorName_E1236&#x27;, &#x27;VendorName_E1237&#x27;, &#x27;VendorName_E1238&#x27;, &#x27;VendorName_E1239&#x27;, &#x27;VendorName_E124&#x27;, &#x27;VendorName_E1240&#x27;, &#x27;VendorName_E1241&#x27;, &#x27;VendorName_E1242&#x27;, &#x27;VendorName_E1243&#x27;, &#x27;VendorName_E1244&#x27;, &#x27;VendorName_E1245&#x27;, &#x27;VendorName_E1246&#x27;, &#x27;VendorName_E1247&#x27;, &#x27;VendorName_E1248&#x27;, &#x27;VendorName_E1249&#x27;, &#x27;VendorName_E125&#x27;, &#x27;VendorName_E1250&#x27;, &#x27;VendorName_E1251&#x27;, &#x27;VendorName_E1252&#x27;, &#x27;VendorName_E1253&#x27;, &#x27;VendorName_E1254&#x27;, &#x27;VendorName_E1255&#x27;, &#x27;VendorName_E1256&#x27;, &#x27;VendorName_E1257&#x27;, &#x27;VendorName_E1258&#x27;, &#x27;VendorName_E1259&#x27;, &#x27;VendorName_E126&#x27;, &#x27;VendorName_E1260&#x27;, &#x27;VendorName_E1261&#x27;, &#x27;VendorName_E1262&#x27;, &#x27;VendorName_E1263&#x27;, &#x27;VendorName_E1264&#x27;, &#x27;VendorName_E1265&#x27;, &#x27;VendorName_E1266&#x27;, &#x27;VendorName_E1267&#x27;, &#x27;VendorName_E1268&#x27;, &#x27;VendorName_E1269&#x27;, &#x27;VendorName_E127&#x27;, &#x27;VendorName_E1270&#x27;, &#x27;VendorName_E1271&#x27;, &#x27;VendorName_E1272&#x27;, &#x27;VendorName_E1273&#x27;, &#x27;VendorName_E1274&#x27;, &#x27;VendorName_E1275&#x27;, &#x27;VendorName_E1276&#x27;, &#x27;VendorName_E1277&#x27;, &#x27;VendorName_E1278&#x27;, &#x27;VendorName_E1279&#x27;, &#x27;VendorName_E128&#x27;, &#x27;VendorName_E1280&#x27;, &#x27;VendorName_E1281&#x27;, &#x27;VendorName_E1282&#x27;, &#x27;VendorName_E1283&#x27;, &#x27;VendorName_E1284&#x27;, &#x27;VendorName_E1285&#x27;, &#x27;VendorName_E1286&#x27;, &#x27;VendorName_E1287&#x27;, &#x27;VendorName_E1288&#x27;, &#x27;VendorName_E1289&#x27;, &#x27;VendorName_E129&#x27;, &#x27;VendorName_E1290&#x27;, &#x27;VendorName_E1291&#x27;, &#x27;VendorName_E1292&#x27;, &#x27;VendorName_E1293&#x27;, &#x27;VendorName_E1294&#x27;, &#x27;VendorName_E1295&#x27;, &#x27;VendorName_E1296&#x27;, &#x27;VendorName_E1297&#x27;, &#x27;VendorName_E1298&#x27;, &#x27;VendorName_E1299&#x27;, &#x27;VendorName_E13&#x27;, &#x27;VendorName_E130&#x27;, &#x27;VendorName_E1300&#x27;, &#x27;VendorName_E1301&#x27;, &#x27;VendorName_E1302&#x27;, &#x27;VendorName_E1303&#x27;, &#x27;VendorName_E1304&#x27;, &#x27;VendorName_E1305&#x27;, &#x27;VendorName_E1306&#x27;, &#x27;VendorName_E1307&#x27;, &#x27;VendorName_E1308&#x27;, &#x27;VendorName_E1309&#x27;, &#x27;VendorName_E131&#x27;, &#x27;VendorName_E1310&#x27;, &#x27;VendorName_E1311&#x27;, &#x27;VendorName_E1312&#x27;, &#x27;VendorName_E1313&#x27;, &#x27;VendorName_E1314&#x27;, &#x27;VendorName_E1315&#x27;, &#x27;VendorName_E1316&#x27;, &#x27;VendorName_E1317&#x27;, &#x27;VendorName_E1318&#x27;, &#x27;VendorName_E1319&#x27;, &#x27;VendorName_E132&#x27;, &#x27;VendorName_E1320&#x27;, &#x27;VendorName_E1321&#x27;, &#x27;VendorName_E1322&#x27;, &#x27;VendorName_E1323&#x27;, &#x27;VendorName_E1324&#x27;, &#x27;VendorName_E1325&#x27;, &#x27;VendorName_E1326&#x27;, &#x27;VendorName_E1327&#x27;, &#x27;VendorName_E1328&#x27;, &#x27;VendorName_E1329&#x27;, &#x27;VendorName_E133&#x27;, &#x27;VendorName_E1330&#x27;, &#x27;VendorName_E1331&#x27;, &#x27;VendorName_E1332&#x27;, &#x27;VendorName_E1333&#x27;, &#x27;VendorName_E1334&#x27;, &#x27;VendorName_E1335&#x27;, &#x27;VendorName_E1336&#x27;, &#x27;VendorName_E1337&#x27;, &#x27;VendorName_E1338&#x27;, &#x27;VendorName_E1339&#x27;, &#x27;VendorName_E134&#x27;, &#x27;VendorName_E1340&#x27;, &#x27;VendorName_E1341&#x27;, &#x27;VendorName_E1342&#x27;, &#x27;VendorName_E1343&#x27;, &#x27;VendorName_E1344&#x27;, &#x27;VendorName_E1345&#x27;, &#x27;VendorName_E1346&#x27;, &#x27;VendorName_E1347&#x27;, &#x27;VendorName_E1348&#x27;, &#x27;VendorName_E1349&#x27;, &#x27;VendorName_E135&#x27;, &#x27;VendorName_E1350&#x27;, &#x27;VendorName_E1351&#x27;, &#x27;VendorName_E1352&#x27;, &#x27;VendorName_E1353&#x27;, &#x27;VendorName_E1354&#x27;, &#x27;VendorName_E1355&#x27;, &#x27;VendorName_E1356&#x27;, &#x27;VendorName_E1357&#x27;, &#x27;VendorName_E1358&#x27;, &#x27;VendorName_E1359&#x27;, &#x27;VendorName_E136&#x27;, &#x27;VendorName_E1360&#x27;, &#x27;VendorName_E1361&#x27;, &#x27;VendorName_E1362&#x27;, &#x27;VendorName_E1363&#x27;, &#x27;VendorName_E1364&#x27;, &#x27;VendorName_E1365&#x27;, &#x27;VendorName_E1366&#x27;, &#x27;VendorName_E1367&#x27;, &#x27;VendorName_E1368&#x27;, &#x27;VendorName_E1369&#x27;, &#x27;VendorName_E137&#x27;, &#x27;VendorName_E1370&#x27;, &#x27;VendorName_E1371&#x27;, &#x27;VendorName_E1372&#x27;, &#x27;VendorName_E1373&#x27;, &#x27;VendorName_E1374&#x27;, &#x27;VendorName_E1375&#x27;, &#x27;VendorName_E1376&#x27;, &#x27;VendorName_E1377&#x27;, &#x27;VendorName_E1378&#x27;, &#x27;VendorName_E1379&#x27;, &#x27;VendorName_E138&#x27;, &#x27;VendorName_E1380&#x27;, &#x27;VendorName_E1381&#x27;, &#x27;VendorName_E1382&#x27;, &#x27;VendorName_E1383&#x27;, &#x27;VendorName_E1384&#x27;, &#x27;VendorName_E1385&#x27;, &#x27;VendorName_E1386&#x27;, &#x27;VendorName_E1387&#x27;, &#x27;VendorName_E1388&#x27;, &#x27;VendorName_E1389&#x27;, &#x27;VendorName_E139&#x27;, &#x27;VendorName_E1390&#x27;, &#x27;VendorName_E1391&#x27;, &#x27;VendorName_E1392&#x27;, &#x27;VendorName_E1393&#x27;, &#x27;VendorName_E1394&#x27;, &#x27;VendorName_E1395&#x27;, &#x27;VendorName_E1396&#x27;, &#x27;VendorName_E1397&#x27;, &#x27;VendorName_E1398&#x27;, &#x27;VendorName_E1399&#x27;, &#x27;VendorName_E14&#x27;, &#x27;VendorName_E140&#x27;, &#x27;VendorName_E1400&#x27;, &#x27;VendorName_E1401&#x27;, &#x27;VendorName_E1402&#x27;, &#x27;VendorName_E1403&#x27;, &#x27;VendorName_E1404&#x27;, &#x27;VendorName_E1405&#x27;, &#x27;VendorName_E1406&#x27;, &#x27;VendorName_E1407&#x27;, &#x27;VendorName_E1408&#x27;, &#x27;VendorName_E1409&#x27;, &#x27;VendorName_E141&#x27;, &#x27;VendorName_E1410&#x27;, &#x27;VendorName_E1411&#x27;, &#x27;VendorName_E1412&#x27;, &#x27;VendorName_E1413&#x27;, &#x27;VendorName_E1414&#x27;, &#x27;VendorName_E1415&#x27;, &#x27;VendorName_E1416&#x27;, &#x27;VendorName_E1417&#x27;, &#x27;VendorName_E1418&#x27;, &#x27;VendorName_E1419&#x27;, &#x27;VendorName_E142&#x27;, &#x27;VendorName_E1420&#x27;, &#x27;VendorName_E1421&#x27;, &#x27;VendorName_E1422&#x27;, &#x27;VendorName_E1423&#x27;, &#x27;VendorName_E1424&#x27;, &#x27;VendorName_E1425&#x27;, &#x27;VendorName_E1426&#x27;, &#x27;VendorName_E1427&#x27;, &#x27;VendorName_E1428&#x27;, &#x27;VendorName_E1429&#x27;, &#x27;VendorName_E143&#x27;, &#x27;VendorName_E1430&#x27;, &#x27;VendorName_E1431&#x27;, &#x27;VendorName_E1432&#x27;, &#x27;VendorName_E1433&#x27;, &#x27;VendorName_E1434&#x27;, &#x27;VendorName_E1435&#x27;, &#x27;VendorName_E1436&#x27;, &#x27;VendorName_E1437&#x27;, &#x27;VendorName_E1438&#x27;, &#x27;VendorName_E1439&#x27;, &#x27;VendorName_E144&#x27;, &#x27;VendorName_E1440&#x27;, &#x27;VendorName_E1441&#x27;, &#x27;VendorName_E1442&#x27;, &#x27;VendorName_E1443&#x27;, &#x27;VendorName_E1444&#x27;, &#x27;VendorName_E1445&#x27;, &#x27;VendorName_E1446&#x27;, &#x27;VendorName_E1447&#x27;, &#x27;VendorName_E1448&#x27;, &#x27;VendorName_E1449&#x27;, &#x27;VendorName_E145&#x27;, &#x27;VendorName_E1450&#x27;, &#x27;VendorName_E1451&#x27;, &#x27;VendorName_E1452&#x27;, &#x27;VendorName_E1453&#x27;, &#x27;VendorName_E1454&#x27;, &#x27;VendorName_E1455&#x27;, &#x27;VendorName_E1456&#x27;, &#x27;VendorName_E1457&#x27;, &#x27;VendorName_E1458&#x27;, &#x27;VendorName_E1459&#x27;, &#x27;VendorName_E146&#x27;, &#x27;VendorName_E1460&#x27;, &#x27;VendorName_E1461&#x27;, &#x27;VendorName_E1462&#x27;, &#x27;VendorName_E1463&#x27;, &#x27;VendorName_E1464&#x27;, &#x27;VendorName_E1465&#x27;, &#x27;VendorName_E1466&#x27;, &#x27;VendorName_E1467&#x27;, &#x27;VendorName_E1468&#x27;, &#x27;VendorName_E1469&#x27;, &#x27;VendorName_E147&#x27;, &#x27;VendorName_E1470&#x27;, &#x27;VendorName_E1471&#x27;, &#x27;VendorName_E1472&#x27;, &#x27;VendorName_E1473&#x27;, &#x27;VendorName_E1474&#x27;, &#x27;VendorName_E1475&#x27;, &#x27;VendorName_E1476&#x27;, &#x27;VendorName_E1477&#x27;, &#x27;VendorName_E1478&#x27;, &#x27;VendorName_E1479&#x27;, &#x27;VendorName_E148&#x27;, &#x27;VendorName_E1480&#x27;, &#x27;VendorName_E1481&#x27;, &#x27;VendorName_E1482&#x27;, &#x27;VendorName_E1483&#x27;, &#x27;VendorName_E1484&#x27;, &#x27;VendorName_E1485&#x27;, &#x27;VendorName_E1486&#x27;, &#x27;VendorName_E1487&#x27;, &#x27;VendorName_E1488&#x27;, &#x27;VendorName_E1489&#x27;, &#x27;VendorName_E149&#x27;, &#x27;VendorName_E1490&#x27;, &#x27;VendorName_E1491&#x27;, &#x27;VendorName_E1492&#x27;, &#x27;VendorName_E1493&#x27;, &#x27;VendorName_E1494&#x27;, &#x27;VendorName_E1495&#x27;, &#x27;VendorName_E1496&#x27;, &#x27;VendorName_E1497&#x27;, &#x27;VendorName_E1498&#x27;, &#x27;VendorName_E1499&#x27;, &#x27;VendorName_E15&#x27;, &#x27;VendorName_E150&#x27;, &#x27;VendorName_E1500&#x27;, &#x27;VendorName_E1501&#x27;, &#x27;VendorName_E1502&#x27;, &#x27;VendorName_E1503&#x27;, &#x27;VendorName_E1504&#x27;, &#x27;VendorName_E1505&#x27;, &#x27;VendorName_E1506&#x27;, &#x27;VendorName_E1507&#x27;, &#x27;VendorName_E1508&#x27;, &#x27;VendorName_E151&#x27;, &#x27;VendorName_E152&#x27;, &#x27;VendorName_E153&#x27;, &#x27;VendorName_E154&#x27;, &#x27;VendorName_E155&#x27;, &#x27;VendorName_E156&#x27;, &#x27;VendorName_E157&#x27;, &#x27;VendorName_E158&#x27;, &#x27;VendorName_E159&#x27;, &#x27;VendorName_E16&#x27;, &#x27;VendorName_E160&#x27;, &#x27;VendorName_E161&#x27;, &#x27;VendorName_E162&#x27;, &#x27;VendorName_E163&#x27;, &#x27;VendorName_E164&#x27;, &#x27;VendorName_E165&#x27;, &#x27;VendorName_E166&#x27;, &#x27;VendorName_E167&#x27;, &#x27;VendorName_E168&#x27;, &#x27;VendorName_E169&#x27;, &#x27;VendorName_E17&#x27;, &#x27;VendorName_E170&#x27;, &#x27;VendorName_E171&#x27;, &#x27;VendorName_E172&#x27;, &#x27;VendorName_E173&#x27;, &#x27;VendorName_E174&#x27;, &#x27;VendorName_E175&#x27;, &#x27;VendorName_E176&#x27;, &#x27;VendorName_E177&#x27;, &#x27;VendorName_E178&#x27;, &#x27;VendorName_E179&#x27;, &#x27;VendorName_E18&#x27;, &#x27;VendorName_E180&#x27;, &#x27;VendorName_E181&#x27;, &#x27;VendorName_E182&#x27;, &#x27;VendorName_E183&#x27;, &#x27;VendorName_E184&#x27;, &#x27;VendorName_E185&#x27;, &#x27;VendorName_E186&#x27;, &#x27;VendorName_E187&#x27;, &#x27;VendorName_E188&#x27;, &#x27;VendorName_E189&#x27;, &#x27;VendorName_E19&#x27;, &#x27;VendorName_E190&#x27;, &#x27;VendorName_E191&#x27;, &#x27;VendorName_E192&#x27;, &#x27;VendorName_E193&#x27;, &#x27;VendorName_E194&#x27;, &#x27;VendorName_E195&#x27;, &#x27;VendorName_E196&#x27;, &#x27;VendorName_E197&#x27;, &#x27;VendorName_E198&#x27;, &#x27;VendorName_E199&#x27;, &#x27;VendorName_E2&#x27;, &#x27;VendorName_E20&#x27;, &#x27;VendorName_E200&#x27;, &#x27;VendorName_E201&#x27;, &#x27;VendorName_E202&#x27;, &#x27;VendorName_E203&#x27;, &#x27;VendorName_E204&#x27;, &#x27;VendorName_E205&#x27;, &#x27;VendorName_E206&#x27;, &#x27;VendorName_E207&#x27;, &#x27;VendorName_E208&#x27;, &#x27;VendorName_E209&#x27;, &#x27;VendorName_E21&#x27;, &#x27;VendorName_E210&#x27;, &#x27;VendorName_E211&#x27;, &#x27;VendorName_E212&#x27;, &#x27;VendorName_E213&#x27;, &#x27;VendorName_E214&#x27;, &#x27;VendorName_E215&#x27;, &#x27;VendorName_E216&#x27;, &#x27;VendorName_E217&#x27;, &#x27;VendorName_E218&#x27;, &#x27;VendorName_E219&#x27;, &#x27;VendorName_E22&#x27;, &#x27;VendorName_E220&#x27;, &#x27;VendorName_E221&#x27;, &#x27;VendorName_E222&#x27;, &#x27;VendorName_E223&#x27;, &#x27;VendorName_E224&#x27;, &#x27;VendorName_E225&#x27;, &#x27;VendorName_E226&#x27;, &#x27;VendorName_E227&#x27;, &#x27;VendorName_E228&#x27;, &#x27;VendorName_E229&#x27;, &#x27;VendorName_E23&#x27;, &#x27;VendorName_E230&#x27;, &#x27;VendorName_E231&#x27;, &#x27;VendorName_E232&#x27;, &#x27;VendorName_E233&#x27;, &#x27;VendorName_E234&#x27;, &#x27;VendorName_E235&#x27;, &#x27;VendorName_E236&#x27;, &#x27;VendorName_E237&#x27;, &#x27;VendorName_E238&#x27;, &#x27;VendorName_E239&#x27;, &#x27;VendorName_E24&#x27;, &#x27;VendorName_E240&#x27;, &#x27;VendorName_E241&#x27;, &#x27;VendorName_E242&#x27;, &#x27;VendorName_E243&#x27;, &#x27;VendorName_E244&#x27;, &#x27;VendorName_E245&#x27;, &#x27;VendorName_E246&#x27;, &#x27;VendorName_E247&#x27;, &#x27;VendorName_E248&#x27;, &#x27;VendorName_E249&#x27;, &#x27;VendorName_E25&#x27;, &#x27;VendorName_E250&#x27;, &#x27;VendorName_E251&#x27;, &#x27;VendorName_E252&#x27;, &#x27;VendorName_E253&#x27;, &#x27;VendorName_E254&#x27;, &#x27;VendorName_E255&#x27;, &#x27;VendorName_E256&#x27;, &#x27;VendorName_E257&#x27;, &#x27;VendorName_E258&#x27;, &#x27;VendorName_E259&#x27;, &#x27;VendorName_E26&#x27;, &#x27;VendorName_E260&#x27;, &#x27;VendorName_E261&#x27;, &#x27;VendorName_E262&#x27;, &#x27;VendorName_E263&#x27;, &#x27;VendorName_E264&#x27;, &#x27;VendorName_E265&#x27;, &#x27;VendorName_E266&#x27;, &#x27;VendorName_E267&#x27;, &#x27;VendorName_E268&#x27;, &#x27;VendorName_E269&#x27;, &#x27;VendorName_E27&#x27;, &#x27;VendorName_E270&#x27;, &#x27;VendorName_E271&#x27;, &#x27;VendorName_E272&#x27;, &#x27;VendorName_E273&#x27;, &#x27;VendorName_E274&#x27;, &#x27;VendorName_E275&#x27;, &#x27;VendorName_E276&#x27;, &#x27;VendorName_E277&#x27;, &#x27;VendorName_E278&#x27;, &#x27;VendorName_E279&#x27;, &#x27;VendorName_E28&#x27;, &#x27;VendorName_E280&#x27;, &#x27;VendorName_E281&#x27;, &#x27;VendorName_E282&#x27;, &#x27;VendorName_E283&#x27;, &#x27;VendorName_E284&#x27;, &#x27;VendorName_E285&#x27;, &#x27;VendorName_E286&#x27;, &#x27;VendorName_E287&#x27;, &#x27;VendorName_E288&#x27;, &#x27;VendorName_E289&#x27;, &#x27;VendorName_E29&#x27;, &#x27;VendorName_E290&#x27;, &#x27;VendorName_E291&#x27;, &#x27;VendorName_E292&#x27;, &#x27;VendorName_E293&#x27;, &#x27;VendorName_E294&#x27;, &#x27;VendorName_E295&#x27;, &#x27;VendorName_E296&#x27;, &#x27;VendorName_E297&#x27;, &#x27;VendorName_E298&#x27;, &#x27;VendorName_E299&#x27;, &#x27;VendorName_E3&#x27;, &#x27;VendorName_E30&#x27;, &#x27;VendorName_E300&#x27;, &#x27;VendorName_E301&#x27;, &#x27;VendorName_E302&#x27;, &#x27;VendorName_E303&#x27;, &#x27;VendorName_E304&#x27;, &#x27;VendorName_E305&#x27;, &#x27;VendorName_E306&#x27;, &#x27;VendorName_E307&#x27;, &#x27;VendorName_E308&#x27;, &#x27;VendorName_E309&#x27;, &#x27;VendorName_E31&#x27;, &#x27;VendorName_E310&#x27;, &#x27;VendorName_E311&#x27;, &#x27;VendorName_E312&#x27;, &#x27;VendorName_E313&#x27;, &#x27;VendorName_E314&#x27;, &#x27;VendorName_E315&#x27;, &#x27;VendorName_E316&#x27;, &#x27;VendorName_E317&#x27;, &#x27;VendorName_E318&#x27;, &#x27;VendorName_E319&#x27;, &#x27;VendorName_E32&#x27;, &#x27;VendorName_E320&#x27;, &#x27;VendorName_E321&#x27;, &#x27;VendorName_E322&#x27;, &#x27;VendorName_E323&#x27;, &#x27;VendorName_E324&#x27;, &#x27;VendorName_E325&#x27;, &#x27;VendorName_E326&#x27;, &#x27;VendorName_E327&#x27;, &#x27;VendorName_E328&#x27;, &#x27;VendorName_E329&#x27;, &#x27;VendorName_E33&#x27;, &#x27;VendorName_E330&#x27;, &#x27;VendorName_E331&#x27;, &#x27;VendorName_E332&#x27;, &#x27;VendorName_E333&#x27;, &#x27;VendorName_E334&#x27;, &#x27;VendorName_E335&#x27;, &#x27;VendorName_E336&#x27;, &#x27;VendorName_E337&#x27;, &#x27;VendorName_E338&#x27;, &#x27;VendorName_E339&#x27;, &#x27;VendorName_E34&#x27;, &#x27;VendorName_E340&#x27;, &#x27;VendorName_E341&#x27;, &#x27;VendorName_E342&#x27;, &#x27;VendorName_E343&#x27;, &#x27;VendorName_E344&#x27;, &#x27;VendorName_E345&#x27;, &#x27;VendorName_E346&#x27;, &#x27;VendorName_E347&#x27;, &#x27;VendorName_E348&#x27;, &#x27;VendorName_E349&#x27;, &#x27;VendorName_E35&#x27;, &#x27;VendorName_E350&#x27;, &#x27;VendorName_E351&#x27;, &#x27;VendorName_E352&#x27;, &#x27;VendorName_E353&#x27;, &#x27;VendorName_E354&#x27;, &#x27;VendorName_E355&#x27;, &#x27;VendorName_E356&#x27;, &#x27;VendorName_E357&#x27;, &#x27;VendorName_E358&#x27;, &#x27;VendorName_E359&#x27;, &#x27;VendorName_E36&#x27;, &#x27;VendorName_E360&#x27;, &#x27;VendorName_E361&#x27;, &#x27;VendorName_E362&#x27;, &#x27;VendorName_E363&#x27;, &#x27;VendorName_E364&#x27;, &#x27;VendorName_E365&#x27;, &#x27;VendorName_E366&#x27;, &#x27;VendorName_E367&#x27;, &#x27;VendorName_E368&#x27;, &#x27;VendorName_E369&#x27;, &#x27;VendorName_E37&#x27;, &#x27;VendorName_E370&#x27;, &#x27;VendorName_E371&#x27;, &#x27;VendorName_E372&#x27;, &#x27;VendorName_E373&#x27;, &#x27;VendorName_E374&#x27;, &#x27;VendorName_E375&#x27;, &#x27;VendorName_E376&#x27;, &#x27;VendorName_E377&#x27;, &#x27;VendorName_E378&#x27;, &#x27;VendorName_E379&#x27;, &#x27;VendorName_E38&#x27;, &#x27;VendorName_E380&#x27;, &#x27;VendorName_E381&#x27;, &#x27;VendorName_E382&#x27;, &#x27;VendorName_E383&#x27;, &#x27;VendorName_E384&#x27;, &#x27;VendorName_E385&#x27;, &#x27;VendorName_E386&#x27;, &#x27;VendorName_E387&#x27;, &#x27;VendorName_E388&#x27;, &#x27;VendorName_E389&#x27;, &#x27;VendorName_E39&#x27;, &#x27;VendorName_E390&#x27;, &#x27;VendorName_E391&#x27;, &#x27;VendorName_E392&#x27;, &#x27;VendorName_E393&#x27;, &#x27;VendorName_E394&#x27;, &#x27;VendorName_E395&#x27;, &#x27;VendorName_E396&#x27;, &#x27;VendorName_E397&#x27;, &#x27;VendorName_E398&#x27;, &#x27;VendorName_E399&#x27;, &#x27;VendorName_E4&#x27;, &#x27;VendorName_E40&#x27;, &#x27;VendorName_E400&#x27;, &#x27;VendorName_E401&#x27;, &#x27;VendorName_E402&#x27;, &#x27;VendorName_E403&#x27;, &#x27;VendorName_E404&#x27;, &#x27;VendorName_E405&#x27;, &#x27;VendorName_E406&#x27;, &#x27;VendorName_E407&#x27;, &#x27;VendorName_E408&#x27;, &#x27;VendorName_E409&#x27;, &#x27;VendorName_E41&#x27;, &#x27;VendorName_E410&#x27;, &#x27;VendorName_E411&#x27;, &#x27;VendorName_E412&#x27;, &#x27;VendorName_E413&#x27;, &#x27;VendorName_E414&#x27;, &#x27;VendorName_E415&#x27;, &#x27;VendorName_E416&#x27;, &#x27;VendorName_E417&#x27;, &#x27;VendorName_E418&#x27;, &#x27;VendorName_E419&#x27;, &#x27;VendorName_E42&#x27;, &#x27;VendorName_E420&#x27;, &#x27;VendorName_E421&#x27;, &#x27;VendorName_E422&#x27;, &#x27;VendorName_E423&#x27;, &#x27;VendorName_E424&#x27;, &#x27;VendorName_E425&#x27;, &#x27;VendorName_E426&#x27;, &#x27;VendorName_E427&#x27;, &#x27;VendorName_E428&#x27;, &#x27;VendorName_E429&#x27;, &#x27;VendorName_E43&#x27;, &#x27;VendorName_E430&#x27;, &#x27;VendorName_E431&#x27;, &#x27;VendorName_E432&#x27;, &#x27;VendorName_E433&#x27;, &#x27;VendorName_E434&#x27;, &#x27;VendorName_E435&#x27;, &#x27;VendorName_E436&#x27;, &#x27;VendorName_E437&#x27;, &#x27;VendorName_E438&#x27;, &#x27;VendorName_E439&#x27;, &#x27;VendorName_E44&#x27;, &#x27;VendorName_E440&#x27;, &#x27;VendorName_E441&#x27;, &#x27;VendorName_E442&#x27;, &#x27;VendorName_E443&#x27;, &#x27;VendorName_E444&#x27;, &#x27;VendorName_E445&#x27;, &#x27;VendorName_E446&#x27;, &#x27;VendorName_E447&#x27;, &#x27;VendorName_E448&#x27;, &#x27;VendorName_E449&#x27;, &#x27;VendorName_E45&#x27;, &#x27;VendorName_E450&#x27;, &#x27;VendorName_E451&#x27;, &#x27;VendorName_E452&#x27;, &#x27;VendorName_E453&#x27;, &#x27;VendorName_E454&#x27;, &#x27;VendorName_E455&#x27;, &#x27;VendorName_E456&#x27;, &#x27;VendorName_E457&#x27;, &#x27;VendorName_E458&#x27;, &#x27;VendorName_E459&#x27;, &#x27;VendorName_E46&#x27;, &#x27;VendorName_E460&#x27;, &#x27;VendorName_E461&#x27;, &#x27;VendorName_E462&#x27;, &#x27;VendorName_E463&#x27;, &#x27;VendorName_E464&#x27;, &#x27;VendorName_E465&#x27;, &#x27;VendorName_E466&#x27;, &#x27;VendorName_E467&#x27;, &#x27;VendorName_E468&#x27;, &#x27;VendorName_E469&#x27;, &#x27;VendorName_E47&#x27;, &#x27;VendorName_E470&#x27;, &#x27;VendorName_E471&#x27;, &#x27;VendorName_E472&#x27;, &#x27;VendorName_E473&#x27;, &#x27;VendorName_E474&#x27;, &#x27;VendorName_E475&#x27;, &#x27;VendorName_E476&#x27;, &#x27;VendorName_E477&#x27;, &#x27;VendorName_E478&#x27;, &#x27;VendorName_E479&#x27;, &#x27;VendorName_E48&#x27;, &#x27;VendorName_E480&#x27;, &#x27;VendorName_E481&#x27;, &#x27;VendorName_E482&#x27;, &#x27;VendorName_E483&#x27;, &#x27;VendorName_E484&#x27;, &#x27;VendorName_E485&#x27;, &#x27;VendorName_E486&#x27;, &#x27;VendorName_E487&#x27;, &#x27;VendorName_E488&#x27;, &#x27;VendorName_E489&#x27;, &#x27;VendorName_E49&#x27;, &#x27;VendorName_E490&#x27;, &#x27;VendorName_E491&#x27;, &#x27;VendorName_E492&#x27;, &#x27;VendorName_E493&#x27;, &#x27;VendorName_E494&#x27;, &#x27;VendorName_E495&#x27;, &#x27;VendorName_E496&#x27;, &#x27;VendorName_E497&#x27;, &#x27;VendorName_E498&#x27;, &#x27;VendorName_E499&#x27;, &#x27;VendorName_E5&#x27;, &#x27;VendorName_E50&#x27;, &#x27;VendorName_E500&#x27;, &#x27;VendorName_E501&#x27;, &#x27;VendorName_E502&#x27;, &#x27;VendorName_E503&#x27;, &#x27;VendorName_E504&#x27;, &#x27;VendorName_E505&#x27;, &#x27;VendorName_E506&#x27;, &#x27;VendorName_E507&#x27;, &#x27;VendorName_E508&#x27;, &#x27;VendorName_E509&#x27;, &#x27;VendorName_E51&#x27;, &#x27;VendorName_E510&#x27;, &#x27;VendorName_E511&#x27;, &#x27;VendorName_E512&#x27;, &#x27;VendorName_E513&#x27;, &#x27;VendorName_E514&#x27;, &#x27;VendorName_E515&#x27;, &#x27;VendorName_E516&#x27;, &#x27;VendorName_E517&#x27;, &#x27;VendorName_E518&#x27;, &#x27;VendorName_E519&#x27;, &#x27;VendorName_E52&#x27;, &#x27;VendorName_E520&#x27;, &#x27;VendorName_E521&#x27;, &#x27;VendorName_E522&#x27;, &#x27;VendorName_E523&#x27;, &#x27;VendorName_E524&#x27;, &#x27;VendorName_E525&#x27;, &#x27;VendorName_E526&#x27;, &#x27;VendorName_E527&#x27;, &#x27;VendorName_E528&#x27;, &#x27;VendorName_E529&#x27;, &#x27;VendorName_E53&#x27;, &#x27;VendorName_E530&#x27;, &#x27;VendorName_E531&#x27;, &#x27;VendorName_E532&#x27;, &#x27;VendorName_E533&#x27;, &#x27;VendorName_E534&#x27;, &#x27;VendorName_E535&#x27;, &#x27;VendorName_E536&#x27;, &#x27;VendorName_E537&#x27;, &#x27;VendorName_E538&#x27;, &#x27;VendorName_E539&#x27;, &#x27;VendorName_E54&#x27;, &#x27;VendorName_E540&#x27;, &#x27;VendorName_E541&#x27;, &#x27;VendorName_E542&#x27;, &#x27;VendorName_E543&#x27;, &#x27;VendorName_E544&#x27;, &#x27;VendorName_E545&#x27;, &#x27;VendorName_E546&#x27;, &#x27;VendorName_E547&#x27;, &#x27;VendorName_E548&#x27;, &#x27;VendorName_E549&#x27;, &#x27;VendorName_E55&#x27;, &#x27;VendorName_E550&#x27;, &#x27;VendorName_E551&#x27;, &#x27;VendorName_E552&#x27;, &#x27;VendorName_E553&#x27;, &#x27;VendorName_E554&#x27;, &#x27;VendorName_E555&#x27;, &#x27;VendorName_E556&#x27;, &#x27;VendorName_E557&#x27;, &#x27;VendorName_E558&#x27;, &#x27;VendorName_E559&#x27;, &#x27;VendorName_E56&#x27;, &#x27;VendorName_E560&#x27;, &#x27;VendorName_E561&#x27;, &#x27;VendorName_E562&#x27;, &#x27;VendorName_E563&#x27;, &#x27;VendorName_E564&#x27;, &#x27;VendorName_E565&#x27;, &#x27;VendorName_E566&#x27;, &#x27;VendorName_E567&#x27;, &#x27;VendorName_E568&#x27;, &#x27;VendorName_E569&#x27;, &#x27;VendorName_E57&#x27;, &#x27;VendorName_E570&#x27;, &#x27;VendorName_E571&#x27;, &#x27;VendorName_E572&#x27;, &#x27;VendorName_E573&#x27;, &#x27;VendorName_E574&#x27;, &#x27;VendorName_E575&#x27;, &#x27;VendorName_E576&#x27;, &#x27;VendorName_E577&#x27;, &#x27;VendorName_E578&#x27;, &#x27;VendorName_E579&#x27;, &#x27;VendorName_E58&#x27;, &#x27;VendorName_E580&#x27;, &#x27;VendorName_E581&#x27;, &#x27;VendorName_E582&#x27;, &#x27;VendorName_E583&#x27;, &#x27;VendorName_E584&#x27;, &#x27;VendorName_E585&#x27;, &#x27;VendorName_E586&#x27;, &#x27;VendorName_E587&#x27;, &#x27;VendorName_E588&#x27;, &#x27;VendorName_E589&#x27;, &#x27;VendorName_E59&#x27;, &#x27;VendorName_E590&#x27;, &#x27;VendorName_E591&#x27;, &#x27;VendorName_E592&#x27;, &#x27;VendorName_E593&#x27;, &#x27;VendorName_E594&#x27;, &#x27;VendorName_E595&#x27;, &#x27;VendorName_E596&#x27;, &#x27;VendorName_E597&#x27;, &#x27;VendorName_E598&#x27;, &#x27;VendorName_E599&#x27;, &#x27;VendorName_E6&#x27;, &#x27;VendorName_E60&#x27;, &#x27;VendorName_E600&#x27;, &#x27;VendorName_E601&#x27;, &#x27;VendorName_E602&#x27;, &#x27;VendorName_E603&#x27;, &#x27;VendorName_E604&#x27;, &#x27;VendorName_E605&#x27;, &#x27;VendorName_E606&#x27;, &#x27;VendorName_E607&#x27;, &#x27;VendorName_E608&#x27;, &#x27;VendorName_E609&#x27;, &#x27;VendorName_E61&#x27;, &#x27;VendorName_E610&#x27;, &#x27;VendorName_E611&#x27;, &#x27;VendorName_E612&#x27;, &#x27;VendorName_E613&#x27;, &#x27;VendorName_E614&#x27;, &#x27;VendorName_E615&#x27;, &#x27;VendorName_E616&#x27;, &#x27;VendorName_E617&#x27;, &#x27;VendorName_E618&#x27;, &#x27;VendorName_E619&#x27;, &#x27;VendorName_E62&#x27;, &#x27;VendorName_E620&#x27;, &#x27;VendorName_E621&#x27;, &#x27;VendorName_E622&#x27;, &#x27;VendorName_E623&#x27;, &#x27;VendorName_E624&#x27;, &#x27;VendorName_E625&#x27;, &#x27;VendorName_E626&#x27;, &#x27;VendorName_E627&#x27;, &#x27;VendorName_E628&#x27;, &#x27;VendorName_E629&#x27;, &#x27;VendorName_E63&#x27;, &#x27;VendorName_E630&#x27;, &#x27;VendorName_E631&#x27;, &#x27;VendorName_E632&#x27;, &#x27;VendorName_E633&#x27;, &#x27;VendorName_E634&#x27;, &#x27;VendorName_E635&#x27;, &#x27;VendorName_E636&#x27;, &#x27;VendorName_E637&#x27;, &#x27;VendorName_E638&#x27;, &#x27;VendorName_E639&#x27;, &#x27;VendorName_E64&#x27;, &#x27;VendorName_E640&#x27;, &#x27;VendorName_E641&#x27;, &#x27;VendorName_E642&#x27;, &#x27;VendorName_E643&#x27;, &#x27;VendorName_E644&#x27;, &#x27;VendorName_E645&#x27;, &#x27;VendorName_E646&#x27;, &#x27;VendorName_E647&#x27;, &#x27;VendorName_E648&#x27;, &#x27;VendorName_E649&#x27;, &#x27;VendorName_E65&#x27;, &#x27;VendorName_E650&#x27;, &#x27;VendorName_E651&#x27;, &#x27;VendorName_E652&#x27;, &#x27;VendorName_E653&#x27;, &#x27;VendorName_E654&#x27;, &#x27;VendorName_E655&#x27;, &#x27;VendorName_E656&#x27;, &#x27;VendorName_E657&#x27;, &#x27;VendorName_E658&#x27;, &#x27;VendorName_E659&#x27;, &#x27;VendorName_E66&#x27;, &#x27;VendorName_E660&#x27;, &#x27;VendorName_E661&#x27;, &#x27;VendorName_E662&#x27;, &#x27;VendorName_E663&#x27;, &#x27;VendorName_E664&#x27;, &#x27;VendorName_E665&#x27;, &#x27;VendorName_E666&#x27;, &#x27;VendorName_E667&#x27;, &#x27;VendorName_E668&#x27;, &#x27;VendorName_E669&#x27;, &#x27;VendorName_E67&#x27;, &#x27;VendorName_E670&#x27;, &#x27;VendorName_E671&#x27;, &#x27;VendorName_E672&#x27;, &#x27;VendorName_E673&#x27;, &#x27;VendorName_E674&#x27;, &#x27;VendorName_E675&#x27;, &#x27;VendorName_E676&#x27;, &#x27;VendorName_E677&#x27;, &#x27;VendorName_E678&#x27;, &#x27;VendorName_E679&#x27;, &#x27;VendorName_E68&#x27;, &#x27;VendorName_E680&#x27;, &#x27;VendorName_E681&#x27;, &#x27;VendorName_E682&#x27;, &#x27;VendorName_E683&#x27;, &#x27;VendorName_E684&#x27;, &#x27;VendorName_E685&#x27;, &#x27;VendorName_E686&#x27;, &#x27;VendorName_E687&#x27;, &#x27;VendorName_E688&#x27;, &#x27;VendorName_E689&#x27;, &#x27;VendorName_E69&#x27;, &#x27;VendorName_E690&#x27;, &#x27;VendorName_E691&#x27;, &#x27;VendorName_E692&#x27;, &#x27;VendorName_E693&#x27;, &#x27;VendorName_E694&#x27;, &#x27;VendorName_E695&#x27;, &#x27;VendorName_E696&#x27;, &#x27;VendorName_E697&#x27;, &#x27;VendorName_E698&#x27;, &#x27;VendorName_E699&#x27;, &#x27;VendorName_E7&#x27;, &#x27;VendorName_E70&#x27;, &#x27;VendorName_E700&#x27;, &#x27;VendorName_E701&#x27;, &#x27;VendorName_E702&#x27;, &#x27;VendorName_E703&#x27;, &#x27;VendorName_E704&#x27;, &#x27;VendorName_E705&#x27;, &#x27;VendorName_E706&#x27;, &#x27;VendorName_E707&#x27;, &#x27;VendorName_E708&#x27;, &#x27;VendorName_E709&#x27;, &#x27;VendorName_E71&#x27;, &#x27;VendorName_E710&#x27;, &#x27;VendorName_E711&#x27;, &#x27;VendorName_E712&#x27;, &#x27;VendorName_E713&#x27;, &#x27;VendorName_E714&#x27;, &#x27;VendorName_E715&#x27;, &#x27;VendorName_E716&#x27;, &#x27;VendorName_E717&#x27;, &#x27;VendorName_E718&#x27;, &#x27;VendorName_E719&#x27;, &#x27;VendorName_E72&#x27;, &#x27;VendorName_E720&#x27;, &#x27;VendorName_E721&#x27;, &#x27;VendorName_E722&#x27;, &#x27;VendorName_E723&#x27;, &#x27;VendorName_E724&#x27;, &#x27;VendorName_E725&#x27;, &#x27;VendorName_E726&#x27;, &#x27;VendorName_E727&#x27;, &#x27;VendorName_E728&#x27;, &#x27;VendorName_E729&#x27;, &#x27;VendorName_E73&#x27;, &#x27;VendorName_E730&#x27;, &#x27;VendorName_E731&#x27;, &#x27;VendorName_E732&#x27;, &#x27;VendorName_E733&#x27;, &#x27;VendorName_E734&#x27;, &#x27;VendorName_E735&#x27;, &#x27;VendorName_E736&#x27;, &#x27;VendorName_E737&#x27;, &#x27;VendorName_E738&#x27;, &#x27;VendorName_E739&#x27;, &#x27;VendorName_E74&#x27;, &#x27;VendorName_E740&#x27;, &#x27;VendorName_E741&#x27;, &#x27;VendorName_E742&#x27;, &#x27;VendorName_E743&#x27;, &#x27;VendorName_E744&#x27;, &#x27;VendorName_E745&#x27;, &#x27;VendorName_E746&#x27;, &#x27;VendorName_E747&#x27;, &#x27;VendorName_E748&#x27;, &#x27;VendorName_E749&#x27;, &#x27;VendorName_E75&#x27;, &#x27;VendorName_E750&#x27;, &#x27;VendorName_E751&#x27;, &#x27;VendorName_E752&#x27;, &#x27;VendorName_E753&#x27;, &#x27;VendorName_E754&#x27;, &#x27;VendorName_E755&#x27;, &#x27;VendorName_E756&#x27;, &#x27;VendorName_E757&#x27;, &#x27;VendorName_E758&#x27;, &#x27;VendorName_E759&#x27;, &#x27;VendorName_E76&#x27;, &#x27;VendorName_E760&#x27;, &#x27;VendorName_E761&#x27;, &#x27;VendorName_E762&#x27;, &#x27;VendorName_E763&#x27;, &#x27;VendorName_E764&#x27;, &#x27;VendorName_E765&#x27;, &#x27;VendorName_E766&#x27;, &#x27;VendorName_E767&#x27;, &#x27;VendorName_E768&#x27;, &#x27;VendorName_E769&#x27;, &#x27;VendorName_E77&#x27;, &#x27;VendorName_E770&#x27;, &#x27;VendorName_E771&#x27;, &#x27;VendorName_E772&#x27;, &#x27;VendorName_E773&#x27;, &#x27;VendorName_E774&#x27;, &#x27;VendorName_E775&#x27;, &#x27;VendorName_E776&#x27;, &#x27;VendorName_E777&#x27;, &#x27;VendorName_E778&#x27;, &#x27;VendorName_E779&#x27;, &#x27;VendorName_E78&#x27;, &#x27;VendorName_E780&#x27;, &#x27;VendorName_E781&#x27;, &#x27;VendorName_E782&#x27;, &#x27;VendorName_E783&#x27;, &#x27;VendorName_E784&#x27;, &#x27;VendorName_E785&#x27;, &#x27;VendorName_E786&#x27;, &#x27;VendorName_E787&#x27;, &#x27;VendorName_E788&#x27;, &#x27;VendorName_E789&#x27;, &#x27;VendorName_E79&#x27;, &#x27;VendorName_E790&#x27;, &#x27;VendorName_E791&#x27;, &#x27;VendorName_E792&#x27;, &#x27;VendorName_E793&#x27;, &#x27;VendorName_E794&#x27;, &#x27;VendorName_E795&#x27;, &#x27;VendorName_E796&#x27;, &#x27;VendorName_E797&#x27;, &#x27;VendorName_E798&#x27;, &#x27;VendorName_E799&#x27;, &#x27;VendorName_E8&#x27;, &#x27;VendorName_E80&#x27;, &#x27;VendorName_E800&#x27;, &#x27;VendorName_E801&#x27;, &#x27;VendorName_E802&#x27;, &#x27;VendorName_E803&#x27;, &#x27;VendorName_E804&#x27;, &#x27;VendorName_E805&#x27;, &#x27;VendorName_E806&#x27;, &#x27;VendorName_E807&#x27;, &#x27;VendorName_E808&#x27;, &#x27;VendorName_E809&#x27;, &#x27;VendorName_E81&#x27;, &#x27;VendorName_E810&#x27;, &#x27;VendorName_E811&#x27;, &#x27;VendorName_E812&#x27;, &#x27;VendorName_E813&#x27;, &#x27;VendorName_E814&#x27;, &#x27;VendorName_E815&#x27;, &#x27;VendorName_E816&#x27;, &#x27;VendorName_E817&#x27;, &#x27;VendorName_E818&#x27;, &#x27;VendorName_E819&#x27;, &#x27;VendorName_E82&#x27;, &#x27;VendorName_E820&#x27;, &#x27;VendorName_E821&#x27;, &#x27;VendorName_E822&#x27;, &#x27;VendorName_E823&#x27;, &#x27;VendorName_E824&#x27;, &#x27;VendorName_E825&#x27;, &#x27;VendorName_E826&#x27;, &#x27;VendorName_E827&#x27;, &#x27;VendorName_E828&#x27;, &#x27;VendorName_E829&#x27;, &#x27;VendorName_E83&#x27;, &#x27;VendorName_E830&#x27;, &#x27;VendorName_E831&#x27;, &#x27;VendorName_E832&#x27;, &#x27;VendorName_E833&#x27;, &#x27;VendorName_E834&#x27;, &#x27;VendorName_E835&#x27;, &#x27;VendorName_E836&#x27;, &#x27;VendorName_E837&#x27;, &#x27;VendorName_E838&#x27;, &#x27;VendorName_E839&#x27;, &#x27;VendorName_E84&#x27;, &#x27;VendorName_E840&#x27;, &#x27;VendorName_E841&#x27;, &#x27;VendorName_E842&#x27;, &#x27;VendorName_E843&#x27;, &#x27;VendorName_E844&#x27;, &#x27;VendorName_E845&#x27;, &#x27;VendorName_E846&#x27;, &#x27;VendorName_E847&#x27;, &#x27;VendorName_E848&#x27;, &#x27;VendorName_E849&#x27;, &#x27;VendorName_E85&#x27;, &#x27;VendorName_E850&#x27;, &#x27;VendorName_E851&#x27;, &#x27;VendorName_E852&#x27;, &#x27;VendorName_E853&#x27;, &#x27;VendorName_E854&#x27;, &#x27;VendorName_E855&#x27;, &#x27;VendorName_E856&#x27;, &#x27;VendorName_E857&#x27;, &#x27;VendorName_E858&#x27;, &#x27;VendorName_E859&#x27;, &#x27;VendorName_E86&#x27;, &#x27;VendorName_E860&#x27;, &#x27;VendorName_E861&#x27;, &#x27;VendorName_E862&#x27;, &#x27;VendorName_E863&#x27;, &#x27;VendorName_E864&#x27;, &#x27;VendorName_E865&#x27;, &#x27;VendorName_E866&#x27;, &#x27;VendorName_E867&#x27;, &#x27;VendorName_E868&#x27;, &#x27;VendorName_E869&#x27;, &#x27;VendorName_E87&#x27;, &#x27;VendorName_E870&#x27;, &#x27;VendorName_E871&#x27;, &#x27;VendorName_E872&#x27;, &#x27;VendorName_E873&#x27;, &#x27;VendorName_E874&#x27;, &#x27;VendorName_E875&#x27;, &#x27;VendorName_E876&#x27;, &#x27;VendorName_E877&#x27;, &#x27;VendorName_E878&#x27;, &#x27;VendorName_E879&#x27;, &#x27;VendorName_E88&#x27;, &#x27;VendorName_E880&#x27;, &#x27;VendorName_E881&#x27;, &#x27;VendorName_E882&#x27;, &#x27;VendorName_E883&#x27;, &#x27;VendorName_E884&#x27;, &#x27;VendorName_E885&#x27;, &#x27;VendorName_E886&#x27;, &#x27;VendorName_E887&#x27;, &#x27;VendorName_E888&#x27;, &#x27;VendorName_E889&#x27;, &#x27;VendorName_E89&#x27;, &#x27;VendorName_E890&#x27;, &#x27;VendorName_E891&#x27;, &#x27;VendorName_E892&#x27;, &#x27;VendorName_E893&#x27;, &#x27;VendorName_E894&#x27;, &#x27;VendorName_E895&#x27;, &#x27;VendorName_E896&#x27;, &#x27;VendorName_E897&#x27;, &#x27;VendorName_E898&#x27;, &#x27;VendorName_E899&#x27;, &#x27;VendorName_E9&#x27;, &#x27;VendorName_E90&#x27;, &#x27;VendorName_E900&#x27;, &#x27;VendorName_E901&#x27;, &#x27;VendorName_E902&#x27;, &#x27;VendorName_E903&#x27;, &#x27;VendorName_E904&#x27;, &#x27;VendorName_E905&#x27;, &#x27;VendorName_E906&#x27;, &#x27;VendorName_E907&#x27;, &#x27;VendorName_E908&#x27;, &#x27;VendorName_E909&#x27;, &#x27;VendorName_E91&#x27;, &#x27;VendorName_E910&#x27;, &#x27;VendorName_E911&#x27;, &#x27;VendorName_E912&#x27;, &#x27;VendorName_E913&#x27;, &#x27;VendorName_E914&#x27;, &#x27;VendorName_E915&#x27;, &#x27;VendorName_E916&#x27;, &#x27;VendorName_E917&#x27;, &#x27;VendorName_E918&#x27;, &#x27;VendorName_E919&#x27;, &#x27;VendorName_E92&#x27;, &#x27;VendorName_E920&#x27;, &#x27;VendorName_E921&#x27;, &#x27;VendorName_E922&#x27;, &#x27;VendorName_E923&#x27;, &#x27;VendorName_E924&#x27;, &#x27;VendorName_E925&#x27;, &#x27;VendorName_E926&#x27;, &#x27;VendorName_E927&#x27;, &#x27;VendorName_E928&#x27;, &#x27;VendorName_E929&#x27;, &#x27;VendorName_E93&#x27;, &#x27;VendorName_E930&#x27;, &#x27;VendorName_E931&#x27;, &#x27;VendorName_E932&#x27;, &#x27;VendorName_E933&#x27;, &#x27;VendorName_E934&#x27;, &#x27;VendorName_E935&#x27;, &#x27;VendorName_E936&#x27;, &#x27;VendorName_E937&#x27;, &#x27;VendorName_E938&#x27;, &#x27;VendorName_E939&#x27;, &#x27;VendorName_E94&#x27;, &#x27;VendorName_E940&#x27;, &#x27;VendorName_E941&#x27;, &#x27;VendorName_E942&#x27;, &#x27;VendorName_E943&#x27;, &#x27;VendorName_E944&#x27;, &#x27;VendorName_E945&#x27;, &#x27;VendorName_E946&#x27;, &#x27;VendorName_E947&#x27;, &#x27;VendorName_E948&#x27;, &#x27;VendorName_E949&#x27;, &#x27;VendorName_E95&#x27;, &#x27;VendorName_E950&#x27;, &#x27;VendorName_E951&#x27;, &#x27;VendorName_E952&#x27;, &#x27;VendorName_E953&#x27;, &#x27;VendorName_E954&#x27;, &#x27;VendorName_E955&#x27;, &#x27;VendorName_E956&#x27;, &#x27;VendorName_E957&#x27;, &#x27;VendorName_E958&#x27;, &#x27;VendorName_E959&#x27;, &#x27;VendorName_E96&#x27;, &#x27;VendorName_E960&#x27;, &#x27;VendorName_E961&#x27;, &#x27;VendorName_E962&#x27;, &#x27;VendorName_E963&#x27;, &#x27;VendorName_E964&#x27;, &#x27;VendorName_E965&#x27;, &#x27;VendorName_E966&#x27;, &#x27;VendorName_E967&#x27;, &#x27;VendorName_E968&#x27;, &#x27;VendorName_E969&#x27;, &#x27;VendorName_E97&#x27;, &#x27;VendorName_E970&#x27;, &#x27;VendorName_E971&#x27;, &#x27;VendorName_E972&#x27;, &#x27;VendorName_E973&#x27;, &#x27;VendorName_E974&#x27;, &#x27;VendorName_E975&#x27;, &#x27;VendorName_E976&#x27;, &#x27;VendorName_E977&#x27;, &#x27;VendorName_E978&#x27;, &#x27;VendorName_E979&#x27;, &#x27;VendorName_E98&#x27;, &#x27;VendorName_E980&#x27;, &#x27;VendorName_E981&#x27;, &#x27;VendorName_E982&#x27;, &#x27;VendorName_E983&#x27;, &#x27;VendorName_E984&#x27;, &#x27;VendorName_E985&#x27;, &#x27;VendorName_E986&#x27;, &#x27;VendorName_E987&#x27;, &#x27;VendorName_E988&#x27;, &#x27;VendorName_E989&#x27;, &#x27;VendorName_E99&#x27;, &#x27;VendorName_E990&#x27;, &#x27;VendorName_E991&#x27;, &#x27;VendorName_E992&#x27;, &#x27;VendorName_E993&#x27;, &#x27;VendorName_E994&#x27;, &#x27;VendorName_E995&#x27;, &#x27;VendorName_E996&#x27;, &#x27;VendorName_E997&#x27;, &#x27;VendorName_E998&#x27;, &#x27;VendorName_E999&#x27;]</pre></div></div></div><div class=\"sk-serial\"><div class=\"sk-item\"><div class=\"sk-estimator sk-toggleable\"><input class=\"sk-toggleable__control sk-hidden--visually\" id=\"sk-estimator-id-12\" type=\"checkbox\" ><label for=\"sk-estimator-id-12\" class=\"sk-toggleable__label sk-toggleable__label-arrow\">passthrough</label><div class=\"sk-toggleable__content\"><pre>passthrough</pre></div></div></div></div></div></div></div></div><div class=\"sk-item sk-dashed-wrapped\"><div class=\"sk-label-container\"><div class=\"sk-label sk-toggleable\"><input class=\"sk-toggleable__control sk-hidden--visually\" id=\"sk-estimator-id-13\" type=\"checkbox\" ><label for=\"sk-estimator-id-13\" class=\"sk-toggleable__label sk-toggleable__label-arrow\">trf2: ColumnTransformer</label><div class=\"sk-toggleable__content\"><pre>ColumnTransformer(remainder=&#x27;passthrough&#x27;,\n",
       "                  transformers=[(&#x27;ohe_all_four&#x27;,\n",
       "                                 OneHotEncoder(handle_unknown=&#x27;ignore&#x27;,\n",
       "                                               sparse=False),\n",
       "                                 [0, 1, 2, 3])])</pre></div></div></div><div class=\"sk-parallel\"><div class=\"sk-parallel-item\"><div class=\"sk-item\"><div class=\"sk-label-container\"><div class=\"sk-label sk-toggleable\"><input class=\"sk-toggleable__control sk-hidden--visually\" id=\"sk-estimator-id-14\" type=\"checkbox\" ><label for=\"sk-estimator-id-14\" class=\"sk-toggleable__label sk-toggleable__label-arrow\">ohe_all_four</label><div class=\"sk-toggleable__content\"><pre>[0, 1, 2, 3]</pre></div></div></div><div class=\"sk-serial\"><div class=\"sk-item\"><div class=\"sk-estimator sk-toggleable\"><input class=\"sk-toggleable__control sk-hidden--visually\" id=\"sk-estimator-id-15\" type=\"checkbox\" ><label for=\"sk-estimator-id-15\" class=\"sk-toggleable__label sk-toggleable__label-arrow\">OneHotEncoder</label><div class=\"sk-toggleable__content\"><pre>OneHotEncoder(handle_unknown=&#x27;ignore&#x27;, sparse=False)</pre></div></div></div></div></div></div><div class=\"sk-parallel-item\"><div class=\"sk-item\"><div class=\"sk-label-container\"><div class=\"sk-label sk-toggleable\"><input class=\"sk-toggleable__control sk-hidden--visually\" id=\"sk-estimator-id-16\" type=\"checkbox\" ><label for=\"sk-estimator-id-16\" class=\"sk-toggleable__label sk-toggleable__label-arrow\">remainder</label><div class=\"sk-toggleable__content\"><pre>[4, 5, 6, 7, 8, 9, 10, 11, 12, 13, 14, 15, 16, 17, 18, 19, 20, 21, 22, 23, 24, 25, 26, 27, 28, 29, 30, 31, 32, 33, 34, 35, 36, 37, 38, 39, 40, 41, 42, 43, 44, 45, 46, 47, 48, 49, 50, 51, 52, 53, 54, 55, 56, 57, 58, 59, 60, 61, 62, 63, 64, 65, 66, 67, 68, 69, 70, 71, 72, 73, 74, 75, 76, 77, 78, 79, 80, 81, 82, 83, 84, 85, 86, 87, 88, 89, 90, 91, 92, 93, 94, 95, 96, 97, 98, 99, 100, 101, 102, 103, 104, 105, 106, 107, 108, 109, 110, 111, 112, 113, 114, 115, 116, 117, 118, 119, 120, 121, 122, 123, 124, 125, 126, 127, 128, 129, 130, 131, 132, 133, 134, 135, 136, 137, 138, 139, 140, 141, 142, 143, 144, 145, 146, 147, 148, 149, 150, 151, 152, 153, 154, 155, 156, 157, 158, 159, 160, 161, 162, 163, 164, 165, 166, 167, 168, 169, 170, 171, 172, 173, 174, 175, 176, 177, 178, 179, 180, 181, 182, 183, 184, 185, 186, 187, 188, 189, 190, 191, 192, 193, 194, 195, 196, 197, 198, 199, 200, 201, 202, 203, 204, 205, 206, 207, 208, 209, 210, 211, 212, 213, 214, 215, 216, 217, 218, 219, 220, 221, 222, 223, 224, 225, 226, 227, 228, 229, 230, 231, 232, 233, 234, 235, 236, 237, 238, 239, 240, 241, 242, 243, 244, 245, 246, 247, 248, 249, 250, 251, 252, 253, 254, 255, 256, 257, 258, 259, 260, 261, 262, 263, 264, 265, 266, 267, 268, 269, 270, 271, 272, 273, 274, 275, 276, 277, 278, 279, 280, 281, 282, 283, 284, 285, 286, 287, 288, 289, 290, 291, 292, 293, 294, 295, 296, 297, 298, 299, 300, 301, 302, 303, 304, 305, 306, 307, 308, 309, 310, 311, 312, 313, 314, 315, 316, 317, 318, 319, 320, 321, 322, 323, 324, 325, 326, 327, 328, 329, 330, 331, 332, 333, 334, 335, 336, 337, 338, 339, 340, 341, 342, 343, 344, 345, 346, 347, 348, 349, 350, 351, 352, 353, 354, 355, 356, 357, 358, 359, 360, 361, 362, 363, 364, 365, 366, 367, 368, 369, 370, 371, 372, 373, 374, 375, 376, 377, 378, 379, 380, 381, 382, 383, 384, 385, 386, 387, 388, 389, 390, 391, 392, 393, 394, 395, 396, 397, 398, 399, 400, 401, 402, 403, 404, 405, 406, 407, 408, 409, 410, 411, 412, 413, 414, 415, 416, 417, 418, 419, 420, 421, 422, 423, 424, 425, 426, 427, 428, 429, 430, 431, 432, 433, 434, 435, 436, 437, 438, 439, 440, 441, 442, 443, 444, 445, 446, 447, 448, 449, 450, 451, 452, 453, 454, 455, 456, 457, 458, 459, 460, 461, 462, 463, 464, 465, 466, 467, 468, 469, 470, 471, 472, 473, 474, 475, 476, 477, 478, 479, 480, 481, 482, 483, 484, 485, 486, 487, 488, 489, 490, 491, 492, 493, 494, 495, 496, 497, 498, 499, 500, 501, 502, 503, 504, 505, 506, 507, 508, 509, 510, 511, 512, 513, 514, 515, 516, 517, 518, 519, 520, 521, 522, 523, 524, 525, 526, 527, 528, 529, 530, 531, 532, 533, 534, 535, 536, 537, 538, 539, 540, 541, 542, 543, 544, 545, 546, 547, 548, 549, 550, 551, 552, 553, 554, 555, 556, 557, 558, 559, 560, 561, 562, 563, 564, 565, 566, 567, 568, 569, 570, 571, 572, 573, 574, 575, 576, 577, 578, 579, 580, 581, 582, 583, 584, 585, 586, 587, 588, 589, 590, 591, 592, 593, 594, 595, 596, 597, 598, 599, 600, 601, 602, 603, 604, 605, 606, 607, 608, 609, 610, 611, 612, 613, 614, 615, 616, 617, 618, 619, 620, 621, 622, 623, 624, 625, 626, 627, 628, 629, 630, 631, 632, 633, 634, 635, 636, 637, 638, 639, 640, 641, 642, 643, 644, 645, 646, 647, 648, 649, 650, 651, 652, 653, 654, 655, 656, 657, 658, 659, 660, 661, 662, 663, 664, 665, 666, 667, 668, 669, 670, 671, 672, 673, 674, 675, 676, 677, 678, 679, 680, 681, 682, 683, 684, 685, 686, 687, 688, 689, 690, 691, 692, 693, 694, 695, 696, 697, 698, 699, 700, 701, 702, 703, 704, 705, 706, 707, 708, 709, 710, 711, 712, 713, 714, 715, 716, 717, 718, 719, 720, 721, 722, 723, 724, 725, 726, 727, 728, 729, 730, 731, 732, 733, 734, 735, 736, 737, 738, 739, 740, 741, 742, 743, 744, 745, 746, 747, 748, 749, 750, 751, 752, 753, 754, 755, 756, 757, 758, 759, 760, 761, 762, 763, 764, 765, 766, 767, 768, 769, 770, 771, 772, 773, 774, 775, 776, 777, 778, 779, 780, 781, 782, 783, 784, 785, 786, 787, 788, 789, 790, 791, 792, 793, 794, 795, 796, 797, 798, 799, 800, 801, 802, 803, 804, 805, 806, 807, 808, 809, 810, 811, 812, 813, 814, 815, 816, 817, 818, 819, 820, 821, 822, 823, 824, 825, 826, 827, 828, 829, 830, 831, 832, 833, 834, 835, 836, 837, 838, 839, 840, 841, 842, 843, 844, 845, 846, 847, 848, 849, 850, 851, 852, 853, 854, 855, 856, 857, 858, 859, 860, 861, 862, 863, 864, 865, 866, 867, 868, 869, 870, 871, 872, 873, 874, 875, 876, 877, 878, 879, 880, 881, 882, 883, 884, 885, 886, 887, 888, 889, 890, 891, 892, 893, 894, 895, 896, 897, 898, 899, 900, 901, 902, 903, 904, 905, 906, 907, 908, 909, 910, 911, 912, 913, 914, 915, 916, 917, 918, 919, 920, 921, 922, 923, 924, 925, 926, 927, 928, 929, 930, 931, 932, 933, 934, 935, 936, 937, 938, 939, 940, 941, 942, 943, 944, 945, 946, 947, 948, 949, 950, 951, 952, 953, 954, 955, 956, 957, 958, 959, 960, 961, 962, 963, 964, 965, 966, 967, 968, 969, 970, 971, 972, 973, 974, 975, 976, 977, 978, 979, 980, 981, 982, 983, 984, 985, 986, 987, 988, 989, 990, 991, 992, 993, 994, 995, 996, 997, 998, 999, 1000, 1001, 1002, 1003, 1004, 1005, 1006, 1007, 1008, 1009, 1010, 1011, 1012, 1013, 1014, 1015, 1016, 1017, 1018, 1019, 1020, 1021, 1022, 1023, 1024, 1025, 1026, 1027, 1028, 1029, 1030, 1031, 1032, 1033, 1034, 1035, 1036, 1037, 1038, 1039, 1040, 1041, 1042, 1043, 1044, 1045, 1046, 1047, 1048, 1049, 1050, 1051, 1052, 1053, 1054, 1055, 1056, 1057, 1058, 1059, 1060, 1061, 1062, 1063, 1064, 1065, 1066, 1067, 1068, 1069, 1070, 1071, 1072, 1073, 1074, 1075, 1076, 1077, 1078, 1079, 1080, 1081, 1082, 1083, 1084, 1085, 1086, 1087, 1088, 1089, 1090, 1091, 1092, 1093, 1094, 1095, 1096, 1097, 1098, 1099, 1100, 1101, 1102, 1103, 1104, 1105, 1106, 1107, 1108, 1109, 1110, 1111, 1112, 1113, 1114, 1115, 1116, 1117, 1118, 1119, 1120, 1121, 1122, 1123, 1124, 1125, 1126, 1127, 1128, 1129, 1130, 1131, 1132, 1133, 1134, 1135, 1136, 1137, 1138, 1139, 1140, 1141, 1142, 1143, 1144, 1145, 1146, 1147, 1148, 1149, 1150, 1151, 1152, 1153, 1154, 1155, 1156, 1157, 1158, 1159, 1160, 1161, 1162, 1163, 1164, 1165, 1166, 1167, 1168, 1169, 1170, 1171, 1172, 1173, 1174, 1175, 1176, 1177, 1178, 1179, 1180, 1181, 1182, 1183, 1184, 1185, 1186, 1187, 1188, 1189, 1190, 1191, 1192, 1193, 1194, 1195, 1196, 1197, 1198, 1199, 1200, 1201, 1202, 1203, 1204, 1205, 1206, 1207, 1208, 1209, 1210, 1211, 1212, 1213, 1214, 1215, 1216, 1217, 1218, 1219, 1220, 1221, 1222, 1223, 1224, 1225, 1226, 1227, 1228, 1229, 1230, 1231, 1232, 1233, 1234, 1235, 1236, 1237, 1238, 1239, 1240, 1241, 1242, 1243, 1244, 1245, 1246, 1247, 1248, 1249, 1250, 1251, 1252, 1253, 1254, 1255, 1256, 1257, 1258, 1259, 1260, 1261, 1262, 1263, 1264, 1265, 1266, 1267, 1268, 1269, 1270, 1271, 1272, 1273, 1274, 1275, 1276, 1277, 1278, 1279, 1280, 1281, 1282, 1283, 1284, 1285, 1286, 1287, 1288, 1289, 1290, 1291, 1292, 1293, 1294, 1295, 1296, 1297, 1298, 1299, 1300, 1301, 1302, 1303, 1304, 1305, 1306, 1307, 1308, 1309, 1310, 1311, 1312, 1313, 1314, 1315, 1316, 1317, 1318, 1319, 1320, 1321, 1322, 1323, 1324, 1325, 1326, 1327, 1328, 1329, 1330, 1331, 1332, 1333, 1334, 1335, 1336, 1337, 1338, 1339, 1340, 1341, 1342, 1343, 1344, 1345, 1346, 1347, 1348, 1349, 1350, 1351, 1352, 1353, 1354, 1355, 1356, 1357, 1358, 1359, 1360, 1361, 1362, 1363, 1364, 1365, 1366, 1367, 1368, 1369, 1370, 1371, 1372, 1373, 1374, 1375, 1376, 1377, 1378, 1379, 1380, 1381, 1382, 1383, 1384, 1385, 1386, 1387, 1388, 1389, 1390, 1391, 1392, 1393, 1394, 1395, 1396, 1397, 1398, 1399, 1400, 1401, 1402, 1403, 1404, 1405, 1406, 1407, 1408, 1409, 1410, 1411, 1412, 1413, 1414, 1415, 1416, 1417, 1418, 1419, 1420, 1421, 1422, 1423, 1424, 1425, 1426, 1427, 1428, 1429, 1430, 1431, 1432, 1433, 1434, 1435, 1436, 1437, 1438, 1439, 1440, 1441, 1442, 1443, 1444, 1445, 1446, 1447, 1448, 1449, 1450, 1451, 1452, 1453, 1454, 1455, 1456, 1457, 1458, 1459, 1460, 1461, 1462, 1463, 1464, 1465, 1466, 1467, 1468, 1469, 1470, 1471, 1472, 1473, 1474, 1475, 1476, 1477, 1478, 1479, 1480, 1481, 1482, 1483, 1484, 1485, 1486, 1487, 1488, 1489, 1490, 1491, 1492, 1493, 1494, 1495, 1496, 1497, 1498, 1499, 1500, 1501, 1502, 1503, 1504, 1505, 1506, 1507, 1508, 1509, 1510, 1511, 1512, 1513, 1514, 1515, 1516, 1517, 1518, 1519, 1520, 1521, 1522, 1523, 1524, 1525, 1526, 1527, 1528, 1529, 1530, 1531, 1532, 1533, 1534, 1535, 1536, 1537, 1538, 1539, 1540, 1541, 1542, 1543, 1544, 1545, 1546, 1547, 1548, 1549, 1550, 1551, 1552, 1553, 1554, 1555, 1556, 1557]</pre></div></div></div><div class=\"sk-serial\"><div class=\"sk-item\"><div class=\"sk-estimator sk-toggleable\"><input class=\"sk-toggleable__control sk-hidden--visually\" id=\"sk-estimator-id-17\" type=\"checkbox\" ><label for=\"sk-estimator-id-17\" class=\"sk-toggleable__label sk-toggleable__label-arrow\">passthrough</label><div class=\"sk-toggleable__content\"><pre>passthrough</pre></div></div></div></div></div></div></div></div><div class=\"sk-item sk-dashed-wrapped\"><div class=\"sk-label-container\"><div class=\"sk-label sk-toggleable\"><input class=\"sk-toggleable__control sk-hidden--visually\" id=\"sk-estimator-id-18\" type=\"checkbox\" ><label for=\"sk-estimator-id-18\" class=\"sk-toggleable__label sk-toggleable__label-arrow\">trf3: ColumnTransformer</label><div class=\"sk-toggleable__content\"><pre>ColumnTransformer(transformers=[(&#x27;scale&#x27;, MinMaxScaler(),\n",
       "                                 slice(0, 1558, None))])</pre></div></div></div><div class=\"sk-parallel\"><div class=\"sk-parallel-item\"><div class=\"sk-item\"><div class=\"sk-label-container\"><div class=\"sk-label sk-toggleable\"><input class=\"sk-toggleable__control sk-hidden--visually\" id=\"sk-estimator-id-19\" type=\"checkbox\" ><label for=\"sk-estimator-id-19\" class=\"sk-toggleable__label sk-toggleable__label-arrow\">scale</label><div class=\"sk-toggleable__content\"><pre>slice(0, 1558, None)</pre></div></div></div><div class=\"sk-serial\"><div class=\"sk-item\"><div class=\"sk-estimator sk-toggleable\"><input class=\"sk-toggleable__control sk-hidden--visually\" id=\"sk-estimator-id-20\" type=\"checkbox\" ><label for=\"sk-estimator-id-20\" class=\"sk-toggleable__label sk-toggleable__label-arrow\">MinMaxScaler</label><div class=\"sk-toggleable__content\"><pre>MinMaxScaler()</pre></div></div></div></div></div></div></div></div><div class=\"sk-item\"><div class=\"sk-estimator sk-toggleable\"><input class=\"sk-toggleable__control sk-hidden--visually\" id=\"sk-estimator-id-21\" type=\"checkbox\" ><label for=\"sk-estimator-id-21\" class=\"sk-toggleable__label sk-toggleable__label-arrow\">SelectKBest</label><div class=\"sk-toggleable__content\"><pre>SelectKBest(k=7, score_func=&lt;function chi2 at 0x000001F84967E1F0&gt;)</pre></div></div></div><div class=\"sk-item\"><div class=\"sk-estimator sk-toggleable\"><input class=\"sk-toggleable__control sk-hidden--visually\" id=\"sk-estimator-id-22\" type=\"checkbox\" ><label for=\"sk-estimator-id-22\" class=\"sk-toggleable__label sk-toggleable__label-arrow\">DecisionTreeClassifier</label><div class=\"sk-toggleable__content\"><pre>DecisionTreeClassifier()</pre></div></div></div></div></div></div></div>"
      ],
      "text/plain": [
       "Pipeline(steps=[('trf1',\n",
       "                 ColumnTransformer(remainder='passthrough',\n",
       "                                   transformers=[('impute_companyname',\n",
       "                                                  SimpleImputer(strategy='most_frequent'),\n",
       "                                                  [0]),\n",
       "                                                 ('impute_financial_department',\n",
       "                                                  SimpleImputer(strategy='most_frequent'),\n",
       "                                                  [1]),\n",
       "                                                 ('impute_fincial_account_group',\n",
       "                                                  SimpleImputer(strategy='most_frequent'),\n",
       "                                                  [2]),\n",
       "                                                 ('impute_vendor_name',\n",
       "                                                  SimpleImputer(strategy='most...),\n",
       "                                                  [3])])),\n",
       "                ('trf2',\n",
       "                 ColumnTransformer(remainder='passthrough',\n",
       "                                   transformers=[('ohe_all_four',\n",
       "                                                  OneHotEncoder(handle_unknown='ignore',\n",
       "                                                                sparse=False),\n",
       "                                                  [0, 1, 2, 3])])),\n",
       "                ('trf3',\n",
       "                 ColumnTransformer(transformers=[('scale', MinMaxScaler(),\n",
       "                                                  slice(0, 1558, None))])),\n",
       "                ('trf4',\n",
       "                 SelectKBest(k=7,\n",
       "                             score_func=<function chi2 at 0x000001F84967E1F0>)),\n",
       "                ('trf5', DecisionTreeClassifier())])"
      ]
     },
     "execution_count": 67,
     "metadata": {},
     "output_type": "execute_result"
    }
   ],
   "source": [
    "pipe_dt.fit(x_train,y_train)"
   ]
  },
  {
   "cell_type": "code",
   "execution_count": 68,
   "id": "9f211032",
   "metadata": {},
   "outputs": [
    {
     "data": {
      "text/plain": [
       "array(['X1', 'X1', 'X1', ..., 'X1', 'X1', 'X1'], dtype=object)"
      ]
     },
     "execution_count": 68,
     "metadata": {},
     "output_type": "execute_result"
    }
   ],
   "source": [
    "pred  = pipe_dt.predict(x_test)\n",
    "pred"
   ]
  },
  {
   "cell_type": "code",
   "execution_count": 69,
   "id": "980772ea",
   "metadata": {},
   "outputs": [
    {
     "name": "stdout",
     "output_type": "stream",
     "text": [
      "[[  0 955   0   0   0]\n",
      " [  0 934   0   0   0]\n",
      " [  0 951   0   0   0]\n",
      " [  0 913   0  22   0]\n",
      " [  0 841   0   0  88]]\n",
      " The accuracy score for Decision Tree model is  : 0.22193877551020408\n",
      " The precision score for Decision Tree model is : 0.4366263375180286\n",
      " The recall score for Decision Tree model is    : 0.22193877551020408\n",
      " The f1 score for Decision Tree model is        : 0.11041092772299055\n"
     ]
    }
   ],
   "source": [
    "print(confusion_matrix(y_test, pred))\n",
    "\n",
    "print(\" The accuracy score for Decision Tree model is  :\", accuracy_score(y_test, pred))\n",
    "\n",
    "print(\" The precision score for Decision Tree model is :\" ,precision_score(y_test,pred,average='weighted'))\n",
    "print(\" The recall score for Decision Tree model is    :\",recall_score(y_test,pred,average='weighted'))\n",
    "\n",
    "print(\" The f1 score for Decision Tree model is        :\", f1_score(y_test, pred,average='weighted'))"
   ]
  },
  {
   "cell_type": "code",
   "execution_count": 70,
   "id": "a6101a11",
   "metadata": {},
   "outputs": [
    {
     "name": "stdout",
     "output_type": "stream",
     "text": [
      "              precision    recall  f1-score   support\n",
      "\n",
      "          X0       0.00      0.00      0.00       955\n",
      "          X1       0.20      1.00      0.34       934\n",
      "          X2       0.00      0.00      0.00       951\n",
      "          X3       1.00      0.02      0.05       935\n",
      "          X4       1.00      0.09      0.17       929\n",
      "\n",
      "    accuracy                           0.22      4704\n",
      "   macro avg       0.44      0.22      0.11      4704\n",
      "weighted avg       0.44      0.22      0.11      4704\n",
      "\n"
     ]
    }
   ],
   "source": [
    "\n",
    "print(classification_report(y_test,pred))"
   ]
  },
  {
   "cell_type": "markdown",
   "id": "c69dc5b9",
   "metadata": {},
   "source": [
    "Decsion tree is performing  badly which comes to know from precision, Recall and f1 score fro all categories.\n",
    "lets see how other algorithms perform on this acutely small amount of data."
   ]
  },
  {
   "cell_type": "code",
   "execution_count": null,
   "id": "d2f67785",
   "metadata": {},
   "outputs": [],
   "source": []
  },
  {
   "cell_type": "code",
   "execution_count": 71,
   "id": "7a96d831",
   "metadata": {},
   "outputs": [
    {
     "data": {
      "text/plain": [
       "array([0.2244898 , 0.22767857, 0.22480867, 0.22257653, 0.22130102])"
      ]
     },
     "execution_count": 71,
     "metadata": {},
     "output_type": "execute_result"
    }
   ],
   "source": [
    "from sklearn.model_selection import cross_val_score\n",
    "tree  = DecisionTreeClassifier()\n",
    "scores  = cross_val_score(pipe_dt,x_sm,y_sm, cv = 5, scoring  = 'accuracy')\n",
    "scores"
   ]
  },
  {
   "cell_type": "code",
   "execution_count": 72,
   "id": "496f7a44",
   "metadata": {},
   "outputs": [
    {
     "data": {
      "text/plain": [
       "0.22417091836734696"
      ]
     },
     "execution_count": 72,
     "metadata": {},
     "output_type": "execute_result"
    }
   ],
   "source": [
    "scores.mean()"
   ]
  },
  {
   "cell_type": "markdown",
   "id": "894e72a2",
   "metadata": {},
   "source": [
    "### 2. Model : Random Forest"
   ]
  },
  {
   "cell_type": "code",
   "execution_count": 73,
   "id": "7d877b0e",
   "metadata": {},
   "outputs": [],
   "source": [
    "trf1 = ColumnTransformer([('impute_companyname', SimpleImputer(strategy = 'most_frequent'),[0]),\n",
    "                          ('impute_financial_department', SimpleImputer(strategy = 'most_frequent'),[1]),\n",
    "                          ('impute_fincial_account_group', SimpleImputer(strategy = 'most_frequent'),[2]),\n",
    "                          ('impute_vendor_name', SimpleImputer(strategy = 'most_frequent'),[3])],\n",
    "                         remainder = 'passthrough')\n",
    "\n",
    "trf2 = ColumnTransformer([('ohe_all_four',OneHotEncoder(sparse = False,handle_unknown = 'ignore'),[0,1,2,3])],\n",
    "                        remainder = 'passthrough')\n",
    "\n",
    "trf3 = ColumnTransformer([('scale', MinMaxScaler(),slice(0,1558))\n",
    "                         ])\n",
    "\n",
    "trf4 = SelectKBest(score_func = chi2,k = 7)\n",
    "\n",
    "trf6 = RandomForestClassifier()\n",
    "\n",
    "pipe_rf = Pipeline([('trf1',trf1),\n",
    "                 ('trf2',trf2),\n",
    "                 ('trf3',trf3),\n",
    "                 ('trf4',trf4),\n",
    "                 ('trf6',trf6)])"
   ]
  },
  {
   "cell_type": "code",
   "execution_count": 74,
   "id": "50da31c2",
   "metadata": {},
   "outputs": [
    {
     "data": {
      "text/html": [
       "<style>#sk-container-id-2 {color: black;background-color: white;}#sk-container-id-2 pre{padding: 0;}#sk-container-id-2 div.sk-toggleable {background-color: white;}#sk-container-id-2 label.sk-toggleable__label {cursor: pointer;display: block;width: 100%;margin-bottom: 0;padding: 0.3em;box-sizing: border-box;text-align: center;}#sk-container-id-2 label.sk-toggleable__label-arrow:before {content: \"▸\";float: left;margin-right: 0.25em;color: #696969;}#sk-container-id-2 label.sk-toggleable__label-arrow:hover:before {color: black;}#sk-container-id-2 div.sk-estimator:hover label.sk-toggleable__label-arrow:before {color: black;}#sk-container-id-2 div.sk-toggleable__content {max-height: 0;max-width: 0;overflow: hidden;text-align: left;background-color: #f0f8ff;}#sk-container-id-2 div.sk-toggleable__content pre {margin: 0.2em;color: black;border-radius: 0.25em;background-color: #f0f8ff;}#sk-container-id-2 input.sk-toggleable__control:checked~div.sk-toggleable__content {max-height: 200px;max-width: 100%;overflow: auto;}#sk-container-id-2 input.sk-toggleable__control:checked~label.sk-toggleable__label-arrow:before {content: \"▾\";}#sk-container-id-2 div.sk-estimator input.sk-toggleable__control:checked~label.sk-toggleable__label {background-color: #d4ebff;}#sk-container-id-2 div.sk-label input.sk-toggleable__control:checked~label.sk-toggleable__label {background-color: #d4ebff;}#sk-container-id-2 input.sk-hidden--visually {border: 0;clip: rect(1px 1px 1px 1px);clip: rect(1px, 1px, 1px, 1px);height: 1px;margin: -1px;overflow: hidden;padding: 0;position: absolute;width: 1px;}#sk-container-id-2 div.sk-estimator {font-family: monospace;background-color: #f0f8ff;border: 1px dotted black;border-radius: 0.25em;box-sizing: border-box;margin-bottom: 0.5em;}#sk-container-id-2 div.sk-estimator:hover {background-color: #d4ebff;}#sk-container-id-2 div.sk-parallel-item::after {content: \"\";width: 100%;border-bottom: 1px solid gray;flex-grow: 1;}#sk-container-id-2 div.sk-label:hover label.sk-toggleable__label {background-color: #d4ebff;}#sk-container-id-2 div.sk-serial::before {content: \"\";position: absolute;border-left: 1px solid gray;box-sizing: border-box;top: 0;bottom: 0;left: 50%;z-index: 0;}#sk-container-id-2 div.sk-serial {display: flex;flex-direction: column;align-items: center;background-color: white;padding-right: 0.2em;padding-left: 0.2em;position: relative;}#sk-container-id-2 div.sk-item {position: relative;z-index: 1;}#sk-container-id-2 div.sk-parallel {display: flex;align-items: stretch;justify-content: center;background-color: white;position: relative;}#sk-container-id-2 div.sk-item::before, #sk-container-id-2 div.sk-parallel-item::before {content: \"\";position: absolute;border-left: 1px solid gray;box-sizing: border-box;top: 0;bottom: 0;left: 50%;z-index: -1;}#sk-container-id-2 div.sk-parallel-item {display: flex;flex-direction: column;z-index: 1;position: relative;background-color: white;}#sk-container-id-2 div.sk-parallel-item:first-child::after {align-self: flex-end;width: 50%;}#sk-container-id-2 div.sk-parallel-item:last-child::after {align-self: flex-start;width: 50%;}#sk-container-id-2 div.sk-parallel-item:only-child::after {width: 0;}#sk-container-id-2 div.sk-dashed-wrapped {border: 1px dashed gray;margin: 0 0.4em 0.5em 0.4em;box-sizing: border-box;padding-bottom: 0.4em;background-color: white;}#sk-container-id-2 div.sk-label label {font-family: monospace;font-weight: bold;display: inline-block;line-height: 1.2em;}#sk-container-id-2 div.sk-label-container {text-align: center;}#sk-container-id-2 div.sk-container {/* jupyter's `normalize.less` sets `[hidden] { display: none; }` but bootstrap.min.css set `[hidden] { display: none !important; }` so we also need the `!important` here to be able to override the default hidden behavior on the sphinx rendered scikit-learn.org. See: https://github.com/scikit-learn/scikit-learn/issues/21755 */display: inline-block !important;position: relative;}#sk-container-id-2 div.sk-text-repr-fallback {display: none;}</style><div id=\"sk-container-id-2\" class=\"sk-top-container\"><div class=\"sk-text-repr-fallback\"><pre>Pipeline(steps=[(&#x27;trf1&#x27;,\n",
       "                 ColumnTransformer(remainder=&#x27;passthrough&#x27;,\n",
       "                                   transformers=[(&#x27;impute_companyname&#x27;,\n",
       "                                                  SimpleImputer(strategy=&#x27;most_frequent&#x27;),\n",
       "                                                  [0]),\n",
       "                                                 (&#x27;impute_financial_department&#x27;,\n",
       "                                                  SimpleImputer(strategy=&#x27;most_frequent&#x27;),\n",
       "                                                  [1]),\n",
       "                                                 (&#x27;impute_fincial_account_group&#x27;,\n",
       "                                                  SimpleImputer(strategy=&#x27;most_frequent&#x27;),\n",
       "                                                  [2]),\n",
       "                                                 (&#x27;impute_vendor_name&#x27;,\n",
       "                                                  SimpleImputer(strategy=&#x27;most...),\n",
       "                                                  [3])])),\n",
       "                (&#x27;trf2&#x27;,\n",
       "                 ColumnTransformer(remainder=&#x27;passthrough&#x27;,\n",
       "                                   transformers=[(&#x27;ohe_all_four&#x27;,\n",
       "                                                  OneHotEncoder(handle_unknown=&#x27;ignore&#x27;,\n",
       "                                                                sparse=False),\n",
       "                                                  [0, 1, 2, 3])])),\n",
       "                (&#x27;trf3&#x27;,\n",
       "                 ColumnTransformer(transformers=[(&#x27;scale&#x27;, MinMaxScaler(),\n",
       "                                                  slice(0, 1558, None))])),\n",
       "                (&#x27;trf4&#x27;,\n",
       "                 SelectKBest(k=7,\n",
       "                             score_func=&lt;function chi2 at 0x000001F84967E1F0&gt;)),\n",
       "                (&#x27;trf6&#x27;, RandomForestClassifier())])</pre><b>In a Jupyter environment, please rerun this cell to show the HTML representation or trust the notebook. <br />On GitHub, the HTML representation is unable to render, please try loading this page with nbviewer.org.</b></div><div class=\"sk-container\" hidden><div class=\"sk-item sk-dashed-wrapped\"><div class=\"sk-label-container\"><div class=\"sk-label sk-toggleable\"><input class=\"sk-toggleable__control sk-hidden--visually\" id=\"sk-estimator-id-23\" type=\"checkbox\" ><label for=\"sk-estimator-id-23\" class=\"sk-toggleable__label sk-toggleable__label-arrow\">Pipeline</label><div class=\"sk-toggleable__content\"><pre>Pipeline(steps=[(&#x27;trf1&#x27;,\n",
       "                 ColumnTransformer(remainder=&#x27;passthrough&#x27;,\n",
       "                                   transformers=[(&#x27;impute_companyname&#x27;,\n",
       "                                                  SimpleImputer(strategy=&#x27;most_frequent&#x27;),\n",
       "                                                  [0]),\n",
       "                                                 (&#x27;impute_financial_department&#x27;,\n",
       "                                                  SimpleImputer(strategy=&#x27;most_frequent&#x27;),\n",
       "                                                  [1]),\n",
       "                                                 (&#x27;impute_fincial_account_group&#x27;,\n",
       "                                                  SimpleImputer(strategy=&#x27;most_frequent&#x27;),\n",
       "                                                  [2]),\n",
       "                                                 (&#x27;impute_vendor_name&#x27;,\n",
       "                                                  SimpleImputer(strategy=&#x27;most...),\n",
       "                                                  [3])])),\n",
       "                (&#x27;trf2&#x27;,\n",
       "                 ColumnTransformer(remainder=&#x27;passthrough&#x27;,\n",
       "                                   transformers=[(&#x27;ohe_all_four&#x27;,\n",
       "                                                  OneHotEncoder(handle_unknown=&#x27;ignore&#x27;,\n",
       "                                                                sparse=False),\n",
       "                                                  [0, 1, 2, 3])])),\n",
       "                (&#x27;trf3&#x27;,\n",
       "                 ColumnTransformer(transformers=[(&#x27;scale&#x27;, MinMaxScaler(),\n",
       "                                                  slice(0, 1558, None))])),\n",
       "                (&#x27;trf4&#x27;,\n",
       "                 SelectKBest(k=7,\n",
       "                             score_func=&lt;function chi2 at 0x000001F84967E1F0&gt;)),\n",
       "                (&#x27;trf6&#x27;, RandomForestClassifier())])</pre></div></div></div><div class=\"sk-serial\"><div class=\"sk-item sk-dashed-wrapped\"><div class=\"sk-label-container\"><div class=\"sk-label sk-toggleable\"><input class=\"sk-toggleable__control sk-hidden--visually\" id=\"sk-estimator-id-24\" type=\"checkbox\" ><label for=\"sk-estimator-id-24\" class=\"sk-toggleable__label sk-toggleable__label-arrow\">trf1: ColumnTransformer</label><div class=\"sk-toggleable__content\"><pre>ColumnTransformer(remainder=&#x27;passthrough&#x27;,\n",
       "                  transformers=[(&#x27;impute_companyname&#x27;,\n",
       "                                 SimpleImputer(strategy=&#x27;most_frequent&#x27;), [0]),\n",
       "                                (&#x27;impute_financial_department&#x27;,\n",
       "                                 SimpleImputer(strategy=&#x27;most_frequent&#x27;), [1]),\n",
       "                                (&#x27;impute_fincial_account_group&#x27;,\n",
       "                                 SimpleImputer(strategy=&#x27;most_frequent&#x27;), [2]),\n",
       "                                (&#x27;impute_vendor_name&#x27;,\n",
       "                                 SimpleImputer(strategy=&#x27;most_frequent&#x27;),\n",
       "                                 [3])])</pre></div></div></div><div class=\"sk-parallel\"><div class=\"sk-parallel-item\"><div class=\"sk-item\"><div class=\"sk-label-container\"><div class=\"sk-label sk-toggleable\"><input class=\"sk-toggleable__control sk-hidden--visually\" id=\"sk-estimator-id-25\" type=\"checkbox\" ><label for=\"sk-estimator-id-25\" class=\"sk-toggleable__label sk-toggleable__label-arrow\">impute_companyname</label><div class=\"sk-toggleable__content\"><pre>[0]</pre></div></div></div><div class=\"sk-serial\"><div class=\"sk-item\"><div class=\"sk-estimator sk-toggleable\"><input class=\"sk-toggleable__control sk-hidden--visually\" id=\"sk-estimator-id-26\" type=\"checkbox\" ><label for=\"sk-estimator-id-26\" class=\"sk-toggleable__label sk-toggleable__label-arrow\">SimpleImputer</label><div class=\"sk-toggleable__content\"><pre>SimpleImputer(strategy=&#x27;most_frequent&#x27;)</pre></div></div></div></div></div></div><div class=\"sk-parallel-item\"><div class=\"sk-item\"><div class=\"sk-label-container\"><div class=\"sk-label sk-toggleable\"><input class=\"sk-toggleable__control sk-hidden--visually\" id=\"sk-estimator-id-27\" type=\"checkbox\" ><label for=\"sk-estimator-id-27\" class=\"sk-toggleable__label sk-toggleable__label-arrow\">impute_financial_department</label><div class=\"sk-toggleable__content\"><pre>[1]</pre></div></div></div><div class=\"sk-serial\"><div class=\"sk-item\"><div class=\"sk-estimator sk-toggleable\"><input class=\"sk-toggleable__control sk-hidden--visually\" id=\"sk-estimator-id-28\" type=\"checkbox\" ><label for=\"sk-estimator-id-28\" class=\"sk-toggleable__label sk-toggleable__label-arrow\">SimpleImputer</label><div class=\"sk-toggleable__content\"><pre>SimpleImputer(strategy=&#x27;most_frequent&#x27;)</pre></div></div></div></div></div></div><div class=\"sk-parallel-item\"><div class=\"sk-item\"><div class=\"sk-label-container\"><div class=\"sk-label sk-toggleable\"><input class=\"sk-toggleable__control sk-hidden--visually\" id=\"sk-estimator-id-29\" type=\"checkbox\" ><label for=\"sk-estimator-id-29\" class=\"sk-toggleable__label sk-toggleable__label-arrow\">impute_fincial_account_group</label><div class=\"sk-toggleable__content\"><pre>[2]</pre></div></div></div><div class=\"sk-serial\"><div class=\"sk-item\"><div class=\"sk-estimator sk-toggleable\"><input class=\"sk-toggleable__control sk-hidden--visually\" id=\"sk-estimator-id-30\" type=\"checkbox\" ><label for=\"sk-estimator-id-30\" class=\"sk-toggleable__label sk-toggleable__label-arrow\">SimpleImputer</label><div class=\"sk-toggleable__content\"><pre>SimpleImputer(strategy=&#x27;most_frequent&#x27;)</pre></div></div></div></div></div></div><div class=\"sk-parallel-item\"><div class=\"sk-item\"><div class=\"sk-label-container\"><div class=\"sk-label sk-toggleable\"><input class=\"sk-toggleable__control sk-hidden--visually\" id=\"sk-estimator-id-31\" type=\"checkbox\" ><label for=\"sk-estimator-id-31\" class=\"sk-toggleable__label sk-toggleable__label-arrow\">impute_vendor_name</label><div class=\"sk-toggleable__content\"><pre>[3]</pre></div></div></div><div class=\"sk-serial\"><div class=\"sk-item\"><div class=\"sk-estimator sk-toggleable\"><input class=\"sk-toggleable__control sk-hidden--visually\" id=\"sk-estimator-id-32\" type=\"checkbox\" ><label for=\"sk-estimator-id-32\" class=\"sk-toggleable__label sk-toggleable__label-arrow\">SimpleImputer</label><div class=\"sk-toggleable__content\"><pre>SimpleImputer(strategy=&#x27;most_frequent&#x27;)</pre></div></div></div></div></div></div><div class=\"sk-parallel-item\"><div class=\"sk-item\"><div class=\"sk-label-container\"><div class=\"sk-label sk-toggleable\"><input class=\"sk-toggleable__control sk-hidden--visually\" id=\"sk-estimator-id-33\" type=\"checkbox\" ><label for=\"sk-estimator-id-33\" class=\"sk-toggleable__label sk-toggleable__label-arrow\">remainder</label><div class=\"sk-toggleable__content\"><pre>[&#x27;CompanyName_B1&#x27;, &#x27;CompanyName_B2&#x27;, &#x27;CompanyName_B3&#x27;, &#x27;CompanyName_B4&#x27;, &#x27;CompanyName_B5&#x27;, &#x27;CompanyName_B6&#x27;, &#x27;CompanyName_B7&#x27;, &#x27;CompanyName_B8&#x27;, &#x27;Financial Department_D1&#x27;, &#x27;Financial Department_D10&#x27;, &#x27;Financial Department_D11&#x27;, &#x27;Financial Department_D12&#x27;, &#x27;Financial Department_D13&#x27;, &#x27;Financial Department_D14&#x27;, &#x27;Financial Department_D15&#x27;, &#x27;Financial Department_D16&#x27;, &#x27;Financial Department_D17&#x27;, &#x27;Financial Department_D18&#x27;, &#x27;Financial Department_D19&#x27;, &#x27;Financial Department_D2&#x27;, &#x27;Financial Department_D20&#x27;, &#x27;Financial Department_D21&#x27;, &#x27;Financial Department_D22&#x27;, &#x27;Financial Department_D23&#x27;, &#x27;Financial Department_D24&#x27;, &#x27;Financial Department_D25&#x27;, &#x27;Financial Department_D26&#x27;, &#x27;Financial Department_D3&#x27;, &#x27;Financial Department_D4&#x27;, &#x27;Financial Department_D5&#x27;, &#x27;Financial Department_D6&#x27;, &#x27;Financial Department_D7&#x27;, &#x27;Financial Department_D8&#x27;, &#x27;Financial Department_D9&#x27;, &#x27;Financial AccountGroup_C1&#x27;, &#x27;Financial AccountGroup_C10&#x27;, &#x27;Financial AccountGroup_C11&#x27;, &#x27;Financial AccountGroup_C12&#x27;, &#x27;Financial AccountGroup_C2&#x27;, &#x27;Financial AccountGroup_C3&#x27;, &#x27;Financial AccountGroup_C4&#x27;, &#x27;Financial AccountGroup_C5&#x27;, &#x27;Financial AccountGroup_C6&#x27;, &#x27;Financial AccountGroup_C7&#x27;, &#x27;Financial AccountGroup_C8&#x27;, &#x27;Financial AccountGroup_C9&#x27;, &#x27;VendorName_E1&#x27;, &#x27;VendorName_E10&#x27;, &#x27;VendorName_E100&#x27;, &#x27;VendorName_E1000&#x27;, &#x27;VendorName_E1001&#x27;, &#x27;VendorName_E1002&#x27;, &#x27;VendorName_E1003&#x27;, &#x27;VendorName_E1004&#x27;, &#x27;VendorName_E1005&#x27;, &#x27;VendorName_E1006&#x27;, &#x27;VendorName_E1007&#x27;, &#x27;VendorName_E1008&#x27;, &#x27;VendorName_E1009&#x27;, &#x27;VendorName_E101&#x27;, &#x27;VendorName_E1010&#x27;, &#x27;VendorName_E1011&#x27;, &#x27;VendorName_E1012&#x27;, &#x27;VendorName_E1013&#x27;, &#x27;VendorName_E1014&#x27;, &#x27;VendorName_E1015&#x27;, &#x27;VendorName_E1016&#x27;, &#x27;VendorName_E1017&#x27;, &#x27;VendorName_E1018&#x27;, &#x27;VendorName_E1019&#x27;, &#x27;VendorName_E102&#x27;, &#x27;VendorName_E1020&#x27;, &#x27;VendorName_E1021&#x27;, &#x27;VendorName_E1022&#x27;, &#x27;VendorName_E1023&#x27;, &#x27;VendorName_E1024&#x27;, &#x27;VendorName_E1025&#x27;, &#x27;VendorName_E1026&#x27;, &#x27;VendorName_E1027&#x27;, &#x27;VendorName_E1028&#x27;, &#x27;VendorName_E1029&#x27;, &#x27;VendorName_E103&#x27;, &#x27;VendorName_E1030&#x27;, &#x27;VendorName_E1031&#x27;, &#x27;VendorName_E1032&#x27;, &#x27;VendorName_E1033&#x27;, &#x27;VendorName_E1034&#x27;, &#x27;VendorName_E1035&#x27;, &#x27;VendorName_E1036&#x27;, &#x27;VendorName_E1037&#x27;, &#x27;VendorName_E1038&#x27;, &#x27;VendorName_E1039&#x27;, &#x27;VendorName_E104&#x27;, &#x27;VendorName_E1040&#x27;, &#x27;VendorName_E1041&#x27;, &#x27;VendorName_E1042&#x27;, &#x27;VendorName_E1043&#x27;, &#x27;VendorName_E1044&#x27;, &#x27;VendorName_E1045&#x27;, &#x27;VendorName_E1046&#x27;, &#x27;VendorName_E1047&#x27;, &#x27;VendorName_E1048&#x27;, &#x27;VendorName_E1049&#x27;, &#x27;VendorName_E105&#x27;, &#x27;VendorName_E1050&#x27;, &#x27;VendorName_E1051&#x27;, &#x27;VendorName_E1052&#x27;, &#x27;VendorName_E1053&#x27;, &#x27;VendorName_E1054&#x27;, &#x27;VendorName_E1055&#x27;, &#x27;VendorName_E1056&#x27;, &#x27;VendorName_E1057&#x27;, &#x27;VendorName_E1058&#x27;, &#x27;VendorName_E1059&#x27;, &#x27;VendorName_E106&#x27;, &#x27;VendorName_E1060&#x27;, &#x27;VendorName_E1061&#x27;, &#x27;VendorName_E1062&#x27;, &#x27;VendorName_E1063&#x27;, &#x27;VendorName_E1064&#x27;, &#x27;VendorName_E1065&#x27;, &#x27;VendorName_E1066&#x27;, &#x27;VendorName_E1067&#x27;, &#x27;VendorName_E1068&#x27;, &#x27;VendorName_E1069&#x27;, &#x27;VendorName_E107&#x27;, &#x27;VendorName_E1070&#x27;, &#x27;VendorName_E1071&#x27;, &#x27;VendorName_E1072&#x27;, &#x27;VendorName_E1073&#x27;, &#x27;VendorName_E1074&#x27;, &#x27;VendorName_E1075&#x27;, &#x27;VendorName_E1076&#x27;, &#x27;VendorName_E1077&#x27;, &#x27;VendorName_E1078&#x27;, &#x27;VendorName_E1079&#x27;, &#x27;VendorName_E108&#x27;, &#x27;VendorName_E1080&#x27;, &#x27;VendorName_E1081&#x27;, &#x27;VendorName_E1082&#x27;, &#x27;VendorName_E1083&#x27;, &#x27;VendorName_E1084&#x27;, &#x27;VendorName_E1085&#x27;, &#x27;VendorName_E1086&#x27;, &#x27;VendorName_E1087&#x27;, &#x27;VendorName_E1088&#x27;, &#x27;VendorName_E1089&#x27;, &#x27;VendorName_E109&#x27;, &#x27;VendorName_E1090&#x27;, &#x27;VendorName_E1091&#x27;, &#x27;VendorName_E1092&#x27;, &#x27;VendorName_E1093&#x27;, &#x27;VendorName_E1094&#x27;, &#x27;VendorName_E1095&#x27;, &#x27;VendorName_E1096&#x27;, &#x27;VendorName_E1097&#x27;, &#x27;VendorName_E1098&#x27;, &#x27;VendorName_E1099&#x27;, &#x27;VendorName_E11&#x27;, &#x27;VendorName_E110&#x27;, &#x27;VendorName_E1100&#x27;, &#x27;VendorName_E1101&#x27;, &#x27;VendorName_E1102&#x27;, &#x27;VendorName_E1103&#x27;, &#x27;VendorName_E1104&#x27;, &#x27;VendorName_E1105&#x27;, &#x27;VendorName_E1106&#x27;, &#x27;VendorName_E1107&#x27;, &#x27;VendorName_E1108&#x27;, &#x27;VendorName_E1109&#x27;, &#x27;VendorName_E111&#x27;, &#x27;VendorName_E1110&#x27;, &#x27;VendorName_E1111&#x27;, &#x27;VendorName_E1112&#x27;, &#x27;VendorName_E1113&#x27;, &#x27;VendorName_E1114&#x27;, &#x27;VendorName_E1115&#x27;, &#x27;VendorName_E1116&#x27;, &#x27;VendorName_E1117&#x27;, &#x27;VendorName_E1118&#x27;, &#x27;VendorName_E1119&#x27;, &#x27;VendorName_E112&#x27;, &#x27;VendorName_E1120&#x27;, &#x27;VendorName_E1121&#x27;, &#x27;VendorName_E1122&#x27;, &#x27;VendorName_E1123&#x27;, &#x27;VendorName_E1124&#x27;, &#x27;VendorName_E1125&#x27;, &#x27;VendorName_E1126&#x27;, &#x27;VendorName_E1127&#x27;, &#x27;VendorName_E1128&#x27;, &#x27;VendorName_E1129&#x27;, &#x27;VendorName_E113&#x27;, &#x27;VendorName_E1130&#x27;, &#x27;VendorName_E1131&#x27;, &#x27;VendorName_E1132&#x27;, &#x27;VendorName_E1133&#x27;, &#x27;VendorName_E1134&#x27;, &#x27;VendorName_E1135&#x27;, &#x27;VendorName_E1136&#x27;, &#x27;VendorName_E1137&#x27;, &#x27;VendorName_E1138&#x27;, &#x27;VendorName_E1139&#x27;, &#x27;VendorName_E114&#x27;, &#x27;VendorName_E1140&#x27;, &#x27;VendorName_E1141&#x27;, &#x27;VendorName_E1142&#x27;, &#x27;VendorName_E1143&#x27;, &#x27;VendorName_E1144&#x27;, &#x27;VendorName_E1145&#x27;, &#x27;VendorName_E1146&#x27;, &#x27;VendorName_E1147&#x27;, &#x27;VendorName_E1148&#x27;, &#x27;VendorName_E1149&#x27;, &#x27;VendorName_E115&#x27;, &#x27;VendorName_E1150&#x27;, &#x27;VendorName_E1151&#x27;, &#x27;VendorName_E1152&#x27;, &#x27;VendorName_E1153&#x27;, &#x27;VendorName_E1154&#x27;, &#x27;VendorName_E1155&#x27;, &#x27;VendorName_E1156&#x27;, &#x27;VendorName_E1157&#x27;, &#x27;VendorName_E1158&#x27;, &#x27;VendorName_E1159&#x27;, &#x27;VendorName_E116&#x27;, &#x27;VendorName_E1160&#x27;, &#x27;VendorName_E1161&#x27;, &#x27;VendorName_E1162&#x27;, &#x27;VendorName_E1163&#x27;, &#x27;VendorName_E1164&#x27;, &#x27;VendorName_E1165&#x27;, &#x27;VendorName_E1166&#x27;, &#x27;VendorName_E1167&#x27;, &#x27;VendorName_E1168&#x27;, &#x27;VendorName_E1169&#x27;, &#x27;VendorName_E117&#x27;, &#x27;VendorName_E1170&#x27;, &#x27;VendorName_E1171&#x27;, &#x27;VendorName_E1172&#x27;, &#x27;VendorName_E1173&#x27;, &#x27;VendorName_E1174&#x27;, &#x27;VendorName_E1175&#x27;, &#x27;VendorName_E1176&#x27;, &#x27;VendorName_E1177&#x27;, &#x27;VendorName_E1178&#x27;, &#x27;VendorName_E1179&#x27;, &#x27;VendorName_E118&#x27;, &#x27;VendorName_E1180&#x27;, &#x27;VendorName_E1181&#x27;, &#x27;VendorName_E1182&#x27;, &#x27;VendorName_E1183&#x27;, &#x27;VendorName_E1184&#x27;, &#x27;VendorName_E1185&#x27;, &#x27;VendorName_E1186&#x27;, &#x27;VendorName_E1187&#x27;, &#x27;VendorName_E1188&#x27;, &#x27;VendorName_E1189&#x27;, &#x27;VendorName_E119&#x27;, &#x27;VendorName_E1190&#x27;, &#x27;VendorName_E1191&#x27;, &#x27;VendorName_E1192&#x27;, &#x27;VendorName_E1193&#x27;, &#x27;VendorName_E1194&#x27;, &#x27;VendorName_E1195&#x27;, &#x27;VendorName_E1196&#x27;, &#x27;VendorName_E1197&#x27;, &#x27;VendorName_E1198&#x27;, &#x27;VendorName_E1199&#x27;, &#x27;VendorName_E12&#x27;, &#x27;VendorName_E120&#x27;, &#x27;VendorName_E1200&#x27;, &#x27;VendorName_E1201&#x27;, &#x27;VendorName_E1202&#x27;, &#x27;VendorName_E1203&#x27;, &#x27;VendorName_E1204&#x27;, &#x27;VendorName_E1205&#x27;, &#x27;VendorName_E1206&#x27;, &#x27;VendorName_E1207&#x27;, &#x27;VendorName_E1208&#x27;, &#x27;VendorName_E1209&#x27;, &#x27;VendorName_E121&#x27;, &#x27;VendorName_E1210&#x27;, &#x27;VendorName_E1211&#x27;, &#x27;VendorName_E1212&#x27;, &#x27;VendorName_E1213&#x27;, &#x27;VendorName_E1214&#x27;, &#x27;VendorName_E1215&#x27;, &#x27;VendorName_E1216&#x27;, &#x27;VendorName_E1217&#x27;, &#x27;VendorName_E1218&#x27;, &#x27;VendorName_E1219&#x27;, &#x27;VendorName_E122&#x27;, &#x27;VendorName_E1220&#x27;, &#x27;VendorName_E1221&#x27;, &#x27;VendorName_E1222&#x27;, &#x27;VendorName_E1223&#x27;, &#x27;VendorName_E1224&#x27;, &#x27;VendorName_E1225&#x27;, &#x27;VendorName_E1226&#x27;, &#x27;VendorName_E1227&#x27;, &#x27;VendorName_E1228&#x27;, &#x27;VendorName_E1229&#x27;, &#x27;VendorName_E123&#x27;, &#x27;VendorName_E1230&#x27;, &#x27;VendorName_E1231&#x27;, &#x27;VendorName_E1232&#x27;, &#x27;VendorName_E1233&#x27;, &#x27;VendorName_E1234&#x27;, &#x27;VendorName_E1235&#x27;, &#x27;VendorName_E1236&#x27;, &#x27;VendorName_E1237&#x27;, &#x27;VendorName_E1238&#x27;, &#x27;VendorName_E1239&#x27;, &#x27;VendorName_E124&#x27;, &#x27;VendorName_E1240&#x27;, &#x27;VendorName_E1241&#x27;, &#x27;VendorName_E1242&#x27;, &#x27;VendorName_E1243&#x27;, &#x27;VendorName_E1244&#x27;, &#x27;VendorName_E1245&#x27;, &#x27;VendorName_E1246&#x27;, &#x27;VendorName_E1247&#x27;, &#x27;VendorName_E1248&#x27;, &#x27;VendorName_E1249&#x27;, &#x27;VendorName_E125&#x27;, &#x27;VendorName_E1250&#x27;, &#x27;VendorName_E1251&#x27;, &#x27;VendorName_E1252&#x27;, &#x27;VendorName_E1253&#x27;, &#x27;VendorName_E1254&#x27;, &#x27;VendorName_E1255&#x27;, &#x27;VendorName_E1256&#x27;, &#x27;VendorName_E1257&#x27;, &#x27;VendorName_E1258&#x27;, &#x27;VendorName_E1259&#x27;, &#x27;VendorName_E126&#x27;, &#x27;VendorName_E1260&#x27;, &#x27;VendorName_E1261&#x27;, &#x27;VendorName_E1262&#x27;, &#x27;VendorName_E1263&#x27;, &#x27;VendorName_E1264&#x27;, &#x27;VendorName_E1265&#x27;, &#x27;VendorName_E1266&#x27;, &#x27;VendorName_E1267&#x27;, &#x27;VendorName_E1268&#x27;, &#x27;VendorName_E1269&#x27;, &#x27;VendorName_E127&#x27;, &#x27;VendorName_E1270&#x27;, &#x27;VendorName_E1271&#x27;, &#x27;VendorName_E1272&#x27;, &#x27;VendorName_E1273&#x27;, &#x27;VendorName_E1274&#x27;, &#x27;VendorName_E1275&#x27;, &#x27;VendorName_E1276&#x27;, &#x27;VendorName_E1277&#x27;, &#x27;VendorName_E1278&#x27;, &#x27;VendorName_E1279&#x27;, &#x27;VendorName_E128&#x27;, &#x27;VendorName_E1280&#x27;, &#x27;VendorName_E1281&#x27;, &#x27;VendorName_E1282&#x27;, &#x27;VendorName_E1283&#x27;, &#x27;VendorName_E1284&#x27;, &#x27;VendorName_E1285&#x27;, &#x27;VendorName_E1286&#x27;, &#x27;VendorName_E1287&#x27;, &#x27;VendorName_E1288&#x27;, &#x27;VendorName_E1289&#x27;, &#x27;VendorName_E129&#x27;, &#x27;VendorName_E1290&#x27;, &#x27;VendorName_E1291&#x27;, &#x27;VendorName_E1292&#x27;, &#x27;VendorName_E1293&#x27;, &#x27;VendorName_E1294&#x27;, &#x27;VendorName_E1295&#x27;, &#x27;VendorName_E1296&#x27;, &#x27;VendorName_E1297&#x27;, &#x27;VendorName_E1298&#x27;, &#x27;VendorName_E1299&#x27;, &#x27;VendorName_E13&#x27;, &#x27;VendorName_E130&#x27;, &#x27;VendorName_E1300&#x27;, &#x27;VendorName_E1301&#x27;, &#x27;VendorName_E1302&#x27;, &#x27;VendorName_E1303&#x27;, &#x27;VendorName_E1304&#x27;, &#x27;VendorName_E1305&#x27;, &#x27;VendorName_E1306&#x27;, &#x27;VendorName_E1307&#x27;, &#x27;VendorName_E1308&#x27;, &#x27;VendorName_E1309&#x27;, &#x27;VendorName_E131&#x27;, &#x27;VendorName_E1310&#x27;, &#x27;VendorName_E1311&#x27;, &#x27;VendorName_E1312&#x27;, &#x27;VendorName_E1313&#x27;, &#x27;VendorName_E1314&#x27;, &#x27;VendorName_E1315&#x27;, &#x27;VendorName_E1316&#x27;, &#x27;VendorName_E1317&#x27;, &#x27;VendorName_E1318&#x27;, &#x27;VendorName_E1319&#x27;, &#x27;VendorName_E132&#x27;, &#x27;VendorName_E1320&#x27;, &#x27;VendorName_E1321&#x27;, &#x27;VendorName_E1322&#x27;, &#x27;VendorName_E1323&#x27;, &#x27;VendorName_E1324&#x27;, &#x27;VendorName_E1325&#x27;, &#x27;VendorName_E1326&#x27;, &#x27;VendorName_E1327&#x27;, &#x27;VendorName_E1328&#x27;, &#x27;VendorName_E1329&#x27;, &#x27;VendorName_E133&#x27;, &#x27;VendorName_E1330&#x27;, &#x27;VendorName_E1331&#x27;, &#x27;VendorName_E1332&#x27;, &#x27;VendorName_E1333&#x27;, &#x27;VendorName_E1334&#x27;, &#x27;VendorName_E1335&#x27;, &#x27;VendorName_E1336&#x27;, &#x27;VendorName_E1337&#x27;, &#x27;VendorName_E1338&#x27;, &#x27;VendorName_E1339&#x27;, &#x27;VendorName_E134&#x27;, &#x27;VendorName_E1340&#x27;, &#x27;VendorName_E1341&#x27;, &#x27;VendorName_E1342&#x27;, &#x27;VendorName_E1343&#x27;, &#x27;VendorName_E1344&#x27;, &#x27;VendorName_E1345&#x27;, &#x27;VendorName_E1346&#x27;, &#x27;VendorName_E1347&#x27;, &#x27;VendorName_E1348&#x27;, &#x27;VendorName_E1349&#x27;, &#x27;VendorName_E135&#x27;, &#x27;VendorName_E1350&#x27;, &#x27;VendorName_E1351&#x27;, &#x27;VendorName_E1352&#x27;, &#x27;VendorName_E1353&#x27;, &#x27;VendorName_E1354&#x27;, &#x27;VendorName_E1355&#x27;, &#x27;VendorName_E1356&#x27;, &#x27;VendorName_E1357&#x27;, &#x27;VendorName_E1358&#x27;, &#x27;VendorName_E1359&#x27;, &#x27;VendorName_E136&#x27;, &#x27;VendorName_E1360&#x27;, &#x27;VendorName_E1361&#x27;, &#x27;VendorName_E1362&#x27;, &#x27;VendorName_E1363&#x27;, &#x27;VendorName_E1364&#x27;, &#x27;VendorName_E1365&#x27;, &#x27;VendorName_E1366&#x27;, &#x27;VendorName_E1367&#x27;, &#x27;VendorName_E1368&#x27;, &#x27;VendorName_E1369&#x27;, &#x27;VendorName_E137&#x27;, &#x27;VendorName_E1370&#x27;, &#x27;VendorName_E1371&#x27;, &#x27;VendorName_E1372&#x27;, &#x27;VendorName_E1373&#x27;, &#x27;VendorName_E1374&#x27;, &#x27;VendorName_E1375&#x27;, &#x27;VendorName_E1376&#x27;, &#x27;VendorName_E1377&#x27;, &#x27;VendorName_E1378&#x27;, &#x27;VendorName_E1379&#x27;, &#x27;VendorName_E138&#x27;, &#x27;VendorName_E1380&#x27;, &#x27;VendorName_E1381&#x27;, &#x27;VendorName_E1382&#x27;, &#x27;VendorName_E1383&#x27;, &#x27;VendorName_E1384&#x27;, &#x27;VendorName_E1385&#x27;, &#x27;VendorName_E1386&#x27;, &#x27;VendorName_E1387&#x27;, &#x27;VendorName_E1388&#x27;, &#x27;VendorName_E1389&#x27;, &#x27;VendorName_E139&#x27;, &#x27;VendorName_E1390&#x27;, &#x27;VendorName_E1391&#x27;, &#x27;VendorName_E1392&#x27;, &#x27;VendorName_E1393&#x27;, &#x27;VendorName_E1394&#x27;, &#x27;VendorName_E1395&#x27;, &#x27;VendorName_E1396&#x27;, &#x27;VendorName_E1397&#x27;, &#x27;VendorName_E1398&#x27;, &#x27;VendorName_E1399&#x27;, &#x27;VendorName_E14&#x27;, &#x27;VendorName_E140&#x27;, &#x27;VendorName_E1400&#x27;, &#x27;VendorName_E1401&#x27;, &#x27;VendorName_E1402&#x27;, &#x27;VendorName_E1403&#x27;, &#x27;VendorName_E1404&#x27;, &#x27;VendorName_E1405&#x27;, &#x27;VendorName_E1406&#x27;, &#x27;VendorName_E1407&#x27;, &#x27;VendorName_E1408&#x27;, &#x27;VendorName_E1409&#x27;, &#x27;VendorName_E141&#x27;, &#x27;VendorName_E1410&#x27;, &#x27;VendorName_E1411&#x27;, &#x27;VendorName_E1412&#x27;, &#x27;VendorName_E1413&#x27;, &#x27;VendorName_E1414&#x27;, &#x27;VendorName_E1415&#x27;, &#x27;VendorName_E1416&#x27;, &#x27;VendorName_E1417&#x27;, &#x27;VendorName_E1418&#x27;, &#x27;VendorName_E1419&#x27;, &#x27;VendorName_E142&#x27;, &#x27;VendorName_E1420&#x27;, &#x27;VendorName_E1421&#x27;, &#x27;VendorName_E1422&#x27;, &#x27;VendorName_E1423&#x27;, &#x27;VendorName_E1424&#x27;, &#x27;VendorName_E1425&#x27;, &#x27;VendorName_E1426&#x27;, &#x27;VendorName_E1427&#x27;, &#x27;VendorName_E1428&#x27;, &#x27;VendorName_E1429&#x27;, &#x27;VendorName_E143&#x27;, &#x27;VendorName_E1430&#x27;, &#x27;VendorName_E1431&#x27;, &#x27;VendorName_E1432&#x27;, &#x27;VendorName_E1433&#x27;, &#x27;VendorName_E1434&#x27;, &#x27;VendorName_E1435&#x27;, &#x27;VendorName_E1436&#x27;, &#x27;VendorName_E1437&#x27;, &#x27;VendorName_E1438&#x27;, &#x27;VendorName_E1439&#x27;, &#x27;VendorName_E144&#x27;, &#x27;VendorName_E1440&#x27;, &#x27;VendorName_E1441&#x27;, &#x27;VendorName_E1442&#x27;, &#x27;VendorName_E1443&#x27;, &#x27;VendorName_E1444&#x27;, &#x27;VendorName_E1445&#x27;, &#x27;VendorName_E1446&#x27;, &#x27;VendorName_E1447&#x27;, &#x27;VendorName_E1448&#x27;, &#x27;VendorName_E1449&#x27;, &#x27;VendorName_E145&#x27;, &#x27;VendorName_E1450&#x27;, &#x27;VendorName_E1451&#x27;, &#x27;VendorName_E1452&#x27;, &#x27;VendorName_E1453&#x27;, &#x27;VendorName_E1454&#x27;, &#x27;VendorName_E1455&#x27;, &#x27;VendorName_E1456&#x27;, &#x27;VendorName_E1457&#x27;, &#x27;VendorName_E1458&#x27;, &#x27;VendorName_E1459&#x27;, &#x27;VendorName_E146&#x27;, &#x27;VendorName_E1460&#x27;, &#x27;VendorName_E1461&#x27;, &#x27;VendorName_E1462&#x27;, &#x27;VendorName_E1463&#x27;, &#x27;VendorName_E1464&#x27;, &#x27;VendorName_E1465&#x27;, &#x27;VendorName_E1466&#x27;, &#x27;VendorName_E1467&#x27;, &#x27;VendorName_E1468&#x27;, &#x27;VendorName_E1469&#x27;, &#x27;VendorName_E147&#x27;, &#x27;VendorName_E1470&#x27;, &#x27;VendorName_E1471&#x27;, &#x27;VendorName_E1472&#x27;, &#x27;VendorName_E1473&#x27;, &#x27;VendorName_E1474&#x27;, &#x27;VendorName_E1475&#x27;, &#x27;VendorName_E1476&#x27;, &#x27;VendorName_E1477&#x27;, &#x27;VendorName_E1478&#x27;, &#x27;VendorName_E1479&#x27;, &#x27;VendorName_E148&#x27;, &#x27;VendorName_E1480&#x27;, &#x27;VendorName_E1481&#x27;, &#x27;VendorName_E1482&#x27;, &#x27;VendorName_E1483&#x27;, &#x27;VendorName_E1484&#x27;, &#x27;VendorName_E1485&#x27;, &#x27;VendorName_E1486&#x27;, &#x27;VendorName_E1487&#x27;, &#x27;VendorName_E1488&#x27;, &#x27;VendorName_E1489&#x27;, &#x27;VendorName_E149&#x27;, &#x27;VendorName_E1490&#x27;, &#x27;VendorName_E1491&#x27;, &#x27;VendorName_E1492&#x27;, &#x27;VendorName_E1493&#x27;, &#x27;VendorName_E1494&#x27;, &#x27;VendorName_E1495&#x27;, &#x27;VendorName_E1496&#x27;, &#x27;VendorName_E1497&#x27;, &#x27;VendorName_E1498&#x27;, &#x27;VendorName_E1499&#x27;, &#x27;VendorName_E15&#x27;, &#x27;VendorName_E150&#x27;, &#x27;VendorName_E1500&#x27;, &#x27;VendorName_E1501&#x27;, &#x27;VendorName_E1502&#x27;, &#x27;VendorName_E1503&#x27;, &#x27;VendorName_E1504&#x27;, &#x27;VendorName_E1505&#x27;, &#x27;VendorName_E1506&#x27;, &#x27;VendorName_E1507&#x27;, &#x27;VendorName_E1508&#x27;, &#x27;VendorName_E151&#x27;, &#x27;VendorName_E152&#x27;, &#x27;VendorName_E153&#x27;, &#x27;VendorName_E154&#x27;, &#x27;VendorName_E155&#x27;, &#x27;VendorName_E156&#x27;, &#x27;VendorName_E157&#x27;, &#x27;VendorName_E158&#x27;, &#x27;VendorName_E159&#x27;, &#x27;VendorName_E16&#x27;, &#x27;VendorName_E160&#x27;, &#x27;VendorName_E161&#x27;, &#x27;VendorName_E162&#x27;, &#x27;VendorName_E163&#x27;, &#x27;VendorName_E164&#x27;, &#x27;VendorName_E165&#x27;, &#x27;VendorName_E166&#x27;, &#x27;VendorName_E167&#x27;, &#x27;VendorName_E168&#x27;, &#x27;VendorName_E169&#x27;, &#x27;VendorName_E17&#x27;, &#x27;VendorName_E170&#x27;, &#x27;VendorName_E171&#x27;, &#x27;VendorName_E172&#x27;, &#x27;VendorName_E173&#x27;, &#x27;VendorName_E174&#x27;, &#x27;VendorName_E175&#x27;, &#x27;VendorName_E176&#x27;, &#x27;VendorName_E177&#x27;, &#x27;VendorName_E178&#x27;, &#x27;VendorName_E179&#x27;, &#x27;VendorName_E18&#x27;, &#x27;VendorName_E180&#x27;, &#x27;VendorName_E181&#x27;, &#x27;VendorName_E182&#x27;, &#x27;VendorName_E183&#x27;, &#x27;VendorName_E184&#x27;, &#x27;VendorName_E185&#x27;, &#x27;VendorName_E186&#x27;, &#x27;VendorName_E187&#x27;, &#x27;VendorName_E188&#x27;, &#x27;VendorName_E189&#x27;, &#x27;VendorName_E19&#x27;, &#x27;VendorName_E190&#x27;, &#x27;VendorName_E191&#x27;, &#x27;VendorName_E192&#x27;, &#x27;VendorName_E193&#x27;, &#x27;VendorName_E194&#x27;, &#x27;VendorName_E195&#x27;, &#x27;VendorName_E196&#x27;, &#x27;VendorName_E197&#x27;, &#x27;VendorName_E198&#x27;, &#x27;VendorName_E199&#x27;, &#x27;VendorName_E2&#x27;, &#x27;VendorName_E20&#x27;, &#x27;VendorName_E200&#x27;, &#x27;VendorName_E201&#x27;, &#x27;VendorName_E202&#x27;, &#x27;VendorName_E203&#x27;, &#x27;VendorName_E204&#x27;, &#x27;VendorName_E205&#x27;, &#x27;VendorName_E206&#x27;, &#x27;VendorName_E207&#x27;, &#x27;VendorName_E208&#x27;, &#x27;VendorName_E209&#x27;, &#x27;VendorName_E21&#x27;, &#x27;VendorName_E210&#x27;, &#x27;VendorName_E211&#x27;, &#x27;VendorName_E212&#x27;, &#x27;VendorName_E213&#x27;, &#x27;VendorName_E214&#x27;, &#x27;VendorName_E215&#x27;, &#x27;VendorName_E216&#x27;, &#x27;VendorName_E217&#x27;, &#x27;VendorName_E218&#x27;, &#x27;VendorName_E219&#x27;, &#x27;VendorName_E22&#x27;, &#x27;VendorName_E220&#x27;, &#x27;VendorName_E221&#x27;, &#x27;VendorName_E222&#x27;, &#x27;VendorName_E223&#x27;, &#x27;VendorName_E224&#x27;, &#x27;VendorName_E225&#x27;, &#x27;VendorName_E226&#x27;, &#x27;VendorName_E227&#x27;, &#x27;VendorName_E228&#x27;, &#x27;VendorName_E229&#x27;, &#x27;VendorName_E23&#x27;, &#x27;VendorName_E230&#x27;, &#x27;VendorName_E231&#x27;, &#x27;VendorName_E232&#x27;, &#x27;VendorName_E233&#x27;, &#x27;VendorName_E234&#x27;, &#x27;VendorName_E235&#x27;, &#x27;VendorName_E236&#x27;, &#x27;VendorName_E237&#x27;, &#x27;VendorName_E238&#x27;, &#x27;VendorName_E239&#x27;, &#x27;VendorName_E24&#x27;, &#x27;VendorName_E240&#x27;, &#x27;VendorName_E241&#x27;, &#x27;VendorName_E242&#x27;, &#x27;VendorName_E243&#x27;, &#x27;VendorName_E244&#x27;, &#x27;VendorName_E245&#x27;, &#x27;VendorName_E246&#x27;, &#x27;VendorName_E247&#x27;, &#x27;VendorName_E248&#x27;, &#x27;VendorName_E249&#x27;, &#x27;VendorName_E25&#x27;, &#x27;VendorName_E250&#x27;, &#x27;VendorName_E251&#x27;, &#x27;VendorName_E252&#x27;, &#x27;VendorName_E253&#x27;, &#x27;VendorName_E254&#x27;, &#x27;VendorName_E255&#x27;, &#x27;VendorName_E256&#x27;, &#x27;VendorName_E257&#x27;, &#x27;VendorName_E258&#x27;, &#x27;VendorName_E259&#x27;, &#x27;VendorName_E26&#x27;, &#x27;VendorName_E260&#x27;, &#x27;VendorName_E261&#x27;, &#x27;VendorName_E262&#x27;, &#x27;VendorName_E263&#x27;, &#x27;VendorName_E264&#x27;, &#x27;VendorName_E265&#x27;, &#x27;VendorName_E266&#x27;, &#x27;VendorName_E267&#x27;, &#x27;VendorName_E268&#x27;, &#x27;VendorName_E269&#x27;, &#x27;VendorName_E27&#x27;, &#x27;VendorName_E270&#x27;, &#x27;VendorName_E271&#x27;, &#x27;VendorName_E272&#x27;, &#x27;VendorName_E273&#x27;, &#x27;VendorName_E274&#x27;, &#x27;VendorName_E275&#x27;, &#x27;VendorName_E276&#x27;, &#x27;VendorName_E277&#x27;, &#x27;VendorName_E278&#x27;, &#x27;VendorName_E279&#x27;, &#x27;VendorName_E28&#x27;, &#x27;VendorName_E280&#x27;, &#x27;VendorName_E281&#x27;, &#x27;VendorName_E282&#x27;, &#x27;VendorName_E283&#x27;, &#x27;VendorName_E284&#x27;, &#x27;VendorName_E285&#x27;, &#x27;VendorName_E286&#x27;, &#x27;VendorName_E287&#x27;, &#x27;VendorName_E288&#x27;, &#x27;VendorName_E289&#x27;, &#x27;VendorName_E29&#x27;, &#x27;VendorName_E290&#x27;, &#x27;VendorName_E291&#x27;, &#x27;VendorName_E292&#x27;, &#x27;VendorName_E293&#x27;, &#x27;VendorName_E294&#x27;, &#x27;VendorName_E295&#x27;, &#x27;VendorName_E296&#x27;, &#x27;VendorName_E297&#x27;, &#x27;VendorName_E298&#x27;, &#x27;VendorName_E299&#x27;, &#x27;VendorName_E3&#x27;, &#x27;VendorName_E30&#x27;, &#x27;VendorName_E300&#x27;, &#x27;VendorName_E301&#x27;, &#x27;VendorName_E302&#x27;, &#x27;VendorName_E303&#x27;, &#x27;VendorName_E304&#x27;, &#x27;VendorName_E305&#x27;, &#x27;VendorName_E306&#x27;, &#x27;VendorName_E307&#x27;, &#x27;VendorName_E308&#x27;, &#x27;VendorName_E309&#x27;, &#x27;VendorName_E31&#x27;, &#x27;VendorName_E310&#x27;, &#x27;VendorName_E311&#x27;, &#x27;VendorName_E312&#x27;, &#x27;VendorName_E313&#x27;, &#x27;VendorName_E314&#x27;, &#x27;VendorName_E315&#x27;, &#x27;VendorName_E316&#x27;, &#x27;VendorName_E317&#x27;, &#x27;VendorName_E318&#x27;, &#x27;VendorName_E319&#x27;, &#x27;VendorName_E32&#x27;, &#x27;VendorName_E320&#x27;, &#x27;VendorName_E321&#x27;, &#x27;VendorName_E322&#x27;, &#x27;VendorName_E323&#x27;, &#x27;VendorName_E324&#x27;, &#x27;VendorName_E325&#x27;, &#x27;VendorName_E326&#x27;, &#x27;VendorName_E327&#x27;, &#x27;VendorName_E328&#x27;, &#x27;VendorName_E329&#x27;, &#x27;VendorName_E33&#x27;, &#x27;VendorName_E330&#x27;, &#x27;VendorName_E331&#x27;, &#x27;VendorName_E332&#x27;, &#x27;VendorName_E333&#x27;, &#x27;VendorName_E334&#x27;, &#x27;VendorName_E335&#x27;, &#x27;VendorName_E336&#x27;, &#x27;VendorName_E337&#x27;, &#x27;VendorName_E338&#x27;, &#x27;VendorName_E339&#x27;, &#x27;VendorName_E34&#x27;, &#x27;VendorName_E340&#x27;, &#x27;VendorName_E341&#x27;, &#x27;VendorName_E342&#x27;, &#x27;VendorName_E343&#x27;, &#x27;VendorName_E344&#x27;, &#x27;VendorName_E345&#x27;, &#x27;VendorName_E346&#x27;, &#x27;VendorName_E347&#x27;, &#x27;VendorName_E348&#x27;, &#x27;VendorName_E349&#x27;, &#x27;VendorName_E35&#x27;, &#x27;VendorName_E350&#x27;, &#x27;VendorName_E351&#x27;, &#x27;VendorName_E352&#x27;, &#x27;VendorName_E353&#x27;, &#x27;VendorName_E354&#x27;, &#x27;VendorName_E355&#x27;, &#x27;VendorName_E356&#x27;, &#x27;VendorName_E357&#x27;, &#x27;VendorName_E358&#x27;, &#x27;VendorName_E359&#x27;, &#x27;VendorName_E36&#x27;, &#x27;VendorName_E360&#x27;, &#x27;VendorName_E361&#x27;, &#x27;VendorName_E362&#x27;, &#x27;VendorName_E363&#x27;, &#x27;VendorName_E364&#x27;, &#x27;VendorName_E365&#x27;, &#x27;VendorName_E366&#x27;, &#x27;VendorName_E367&#x27;, &#x27;VendorName_E368&#x27;, &#x27;VendorName_E369&#x27;, &#x27;VendorName_E37&#x27;, &#x27;VendorName_E370&#x27;, &#x27;VendorName_E371&#x27;, &#x27;VendorName_E372&#x27;, &#x27;VendorName_E373&#x27;, &#x27;VendorName_E374&#x27;, &#x27;VendorName_E375&#x27;, &#x27;VendorName_E376&#x27;, &#x27;VendorName_E377&#x27;, &#x27;VendorName_E378&#x27;, &#x27;VendorName_E379&#x27;, &#x27;VendorName_E38&#x27;, &#x27;VendorName_E380&#x27;, &#x27;VendorName_E381&#x27;, &#x27;VendorName_E382&#x27;, &#x27;VendorName_E383&#x27;, &#x27;VendorName_E384&#x27;, &#x27;VendorName_E385&#x27;, &#x27;VendorName_E386&#x27;, &#x27;VendorName_E387&#x27;, &#x27;VendorName_E388&#x27;, &#x27;VendorName_E389&#x27;, &#x27;VendorName_E39&#x27;, &#x27;VendorName_E390&#x27;, &#x27;VendorName_E391&#x27;, &#x27;VendorName_E392&#x27;, &#x27;VendorName_E393&#x27;, &#x27;VendorName_E394&#x27;, &#x27;VendorName_E395&#x27;, &#x27;VendorName_E396&#x27;, &#x27;VendorName_E397&#x27;, &#x27;VendorName_E398&#x27;, &#x27;VendorName_E399&#x27;, &#x27;VendorName_E4&#x27;, &#x27;VendorName_E40&#x27;, &#x27;VendorName_E400&#x27;, &#x27;VendorName_E401&#x27;, &#x27;VendorName_E402&#x27;, &#x27;VendorName_E403&#x27;, &#x27;VendorName_E404&#x27;, &#x27;VendorName_E405&#x27;, &#x27;VendorName_E406&#x27;, &#x27;VendorName_E407&#x27;, &#x27;VendorName_E408&#x27;, &#x27;VendorName_E409&#x27;, &#x27;VendorName_E41&#x27;, &#x27;VendorName_E410&#x27;, &#x27;VendorName_E411&#x27;, &#x27;VendorName_E412&#x27;, &#x27;VendorName_E413&#x27;, &#x27;VendorName_E414&#x27;, &#x27;VendorName_E415&#x27;, &#x27;VendorName_E416&#x27;, &#x27;VendorName_E417&#x27;, &#x27;VendorName_E418&#x27;, &#x27;VendorName_E419&#x27;, &#x27;VendorName_E42&#x27;, &#x27;VendorName_E420&#x27;, &#x27;VendorName_E421&#x27;, &#x27;VendorName_E422&#x27;, &#x27;VendorName_E423&#x27;, &#x27;VendorName_E424&#x27;, &#x27;VendorName_E425&#x27;, &#x27;VendorName_E426&#x27;, &#x27;VendorName_E427&#x27;, &#x27;VendorName_E428&#x27;, &#x27;VendorName_E429&#x27;, &#x27;VendorName_E43&#x27;, &#x27;VendorName_E430&#x27;, &#x27;VendorName_E431&#x27;, &#x27;VendorName_E432&#x27;, &#x27;VendorName_E433&#x27;, &#x27;VendorName_E434&#x27;, &#x27;VendorName_E435&#x27;, &#x27;VendorName_E436&#x27;, &#x27;VendorName_E437&#x27;, &#x27;VendorName_E438&#x27;, &#x27;VendorName_E439&#x27;, &#x27;VendorName_E44&#x27;, &#x27;VendorName_E440&#x27;, &#x27;VendorName_E441&#x27;, &#x27;VendorName_E442&#x27;, &#x27;VendorName_E443&#x27;, &#x27;VendorName_E444&#x27;, &#x27;VendorName_E445&#x27;, &#x27;VendorName_E446&#x27;, &#x27;VendorName_E447&#x27;, &#x27;VendorName_E448&#x27;, &#x27;VendorName_E449&#x27;, &#x27;VendorName_E45&#x27;, &#x27;VendorName_E450&#x27;, &#x27;VendorName_E451&#x27;, &#x27;VendorName_E452&#x27;, &#x27;VendorName_E453&#x27;, &#x27;VendorName_E454&#x27;, &#x27;VendorName_E455&#x27;, &#x27;VendorName_E456&#x27;, &#x27;VendorName_E457&#x27;, &#x27;VendorName_E458&#x27;, &#x27;VendorName_E459&#x27;, &#x27;VendorName_E46&#x27;, &#x27;VendorName_E460&#x27;, &#x27;VendorName_E461&#x27;, &#x27;VendorName_E462&#x27;, &#x27;VendorName_E463&#x27;, &#x27;VendorName_E464&#x27;, &#x27;VendorName_E465&#x27;, &#x27;VendorName_E466&#x27;, &#x27;VendorName_E467&#x27;, &#x27;VendorName_E468&#x27;, &#x27;VendorName_E469&#x27;, &#x27;VendorName_E47&#x27;, &#x27;VendorName_E470&#x27;, &#x27;VendorName_E471&#x27;, &#x27;VendorName_E472&#x27;, &#x27;VendorName_E473&#x27;, &#x27;VendorName_E474&#x27;, &#x27;VendorName_E475&#x27;, &#x27;VendorName_E476&#x27;, &#x27;VendorName_E477&#x27;, &#x27;VendorName_E478&#x27;, &#x27;VendorName_E479&#x27;, &#x27;VendorName_E48&#x27;, &#x27;VendorName_E480&#x27;, &#x27;VendorName_E481&#x27;, &#x27;VendorName_E482&#x27;, &#x27;VendorName_E483&#x27;, &#x27;VendorName_E484&#x27;, &#x27;VendorName_E485&#x27;, &#x27;VendorName_E486&#x27;, &#x27;VendorName_E487&#x27;, &#x27;VendorName_E488&#x27;, &#x27;VendorName_E489&#x27;, &#x27;VendorName_E49&#x27;, &#x27;VendorName_E490&#x27;, &#x27;VendorName_E491&#x27;, &#x27;VendorName_E492&#x27;, &#x27;VendorName_E493&#x27;, &#x27;VendorName_E494&#x27;, &#x27;VendorName_E495&#x27;, &#x27;VendorName_E496&#x27;, &#x27;VendorName_E497&#x27;, &#x27;VendorName_E498&#x27;, &#x27;VendorName_E499&#x27;, &#x27;VendorName_E5&#x27;, &#x27;VendorName_E50&#x27;, &#x27;VendorName_E500&#x27;, &#x27;VendorName_E501&#x27;, &#x27;VendorName_E502&#x27;, &#x27;VendorName_E503&#x27;, &#x27;VendorName_E504&#x27;, &#x27;VendorName_E505&#x27;, &#x27;VendorName_E506&#x27;, &#x27;VendorName_E507&#x27;, &#x27;VendorName_E508&#x27;, &#x27;VendorName_E509&#x27;, &#x27;VendorName_E51&#x27;, &#x27;VendorName_E510&#x27;, &#x27;VendorName_E511&#x27;, &#x27;VendorName_E512&#x27;, &#x27;VendorName_E513&#x27;, &#x27;VendorName_E514&#x27;, &#x27;VendorName_E515&#x27;, &#x27;VendorName_E516&#x27;, &#x27;VendorName_E517&#x27;, &#x27;VendorName_E518&#x27;, &#x27;VendorName_E519&#x27;, &#x27;VendorName_E52&#x27;, &#x27;VendorName_E520&#x27;, &#x27;VendorName_E521&#x27;, &#x27;VendorName_E522&#x27;, &#x27;VendorName_E523&#x27;, &#x27;VendorName_E524&#x27;, &#x27;VendorName_E525&#x27;, &#x27;VendorName_E526&#x27;, &#x27;VendorName_E527&#x27;, &#x27;VendorName_E528&#x27;, &#x27;VendorName_E529&#x27;, &#x27;VendorName_E53&#x27;, &#x27;VendorName_E530&#x27;, &#x27;VendorName_E531&#x27;, &#x27;VendorName_E532&#x27;, &#x27;VendorName_E533&#x27;, &#x27;VendorName_E534&#x27;, &#x27;VendorName_E535&#x27;, &#x27;VendorName_E536&#x27;, &#x27;VendorName_E537&#x27;, &#x27;VendorName_E538&#x27;, &#x27;VendorName_E539&#x27;, &#x27;VendorName_E54&#x27;, &#x27;VendorName_E540&#x27;, &#x27;VendorName_E541&#x27;, &#x27;VendorName_E542&#x27;, &#x27;VendorName_E543&#x27;, &#x27;VendorName_E544&#x27;, &#x27;VendorName_E545&#x27;, &#x27;VendorName_E546&#x27;, &#x27;VendorName_E547&#x27;, &#x27;VendorName_E548&#x27;, &#x27;VendorName_E549&#x27;, &#x27;VendorName_E55&#x27;, &#x27;VendorName_E550&#x27;, &#x27;VendorName_E551&#x27;, &#x27;VendorName_E552&#x27;, &#x27;VendorName_E553&#x27;, &#x27;VendorName_E554&#x27;, &#x27;VendorName_E555&#x27;, &#x27;VendorName_E556&#x27;, &#x27;VendorName_E557&#x27;, &#x27;VendorName_E558&#x27;, &#x27;VendorName_E559&#x27;, &#x27;VendorName_E56&#x27;, &#x27;VendorName_E560&#x27;, &#x27;VendorName_E561&#x27;, &#x27;VendorName_E562&#x27;, &#x27;VendorName_E563&#x27;, &#x27;VendorName_E564&#x27;, &#x27;VendorName_E565&#x27;, &#x27;VendorName_E566&#x27;, &#x27;VendorName_E567&#x27;, &#x27;VendorName_E568&#x27;, &#x27;VendorName_E569&#x27;, &#x27;VendorName_E57&#x27;, &#x27;VendorName_E570&#x27;, &#x27;VendorName_E571&#x27;, &#x27;VendorName_E572&#x27;, &#x27;VendorName_E573&#x27;, &#x27;VendorName_E574&#x27;, &#x27;VendorName_E575&#x27;, &#x27;VendorName_E576&#x27;, &#x27;VendorName_E577&#x27;, &#x27;VendorName_E578&#x27;, &#x27;VendorName_E579&#x27;, &#x27;VendorName_E58&#x27;, &#x27;VendorName_E580&#x27;, &#x27;VendorName_E581&#x27;, &#x27;VendorName_E582&#x27;, &#x27;VendorName_E583&#x27;, &#x27;VendorName_E584&#x27;, &#x27;VendorName_E585&#x27;, &#x27;VendorName_E586&#x27;, &#x27;VendorName_E587&#x27;, &#x27;VendorName_E588&#x27;, &#x27;VendorName_E589&#x27;, &#x27;VendorName_E59&#x27;, &#x27;VendorName_E590&#x27;, &#x27;VendorName_E591&#x27;, &#x27;VendorName_E592&#x27;, &#x27;VendorName_E593&#x27;, &#x27;VendorName_E594&#x27;, &#x27;VendorName_E595&#x27;, &#x27;VendorName_E596&#x27;, &#x27;VendorName_E597&#x27;, &#x27;VendorName_E598&#x27;, &#x27;VendorName_E599&#x27;, &#x27;VendorName_E6&#x27;, &#x27;VendorName_E60&#x27;, &#x27;VendorName_E600&#x27;, &#x27;VendorName_E601&#x27;, &#x27;VendorName_E602&#x27;, &#x27;VendorName_E603&#x27;, &#x27;VendorName_E604&#x27;, &#x27;VendorName_E605&#x27;, &#x27;VendorName_E606&#x27;, &#x27;VendorName_E607&#x27;, &#x27;VendorName_E608&#x27;, &#x27;VendorName_E609&#x27;, &#x27;VendorName_E61&#x27;, &#x27;VendorName_E610&#x27;, &#x27;VendorName_E611&#x27;, &#x27;VendorName_E612&#x27;, &#x27;VendorName_E613&#x27;, &#x27;VendorName_E614&#x27;, &#x27;VendorName_E615&#x27;, &#x27;VendorName_E616&#x27;, &#x27;VendorName_E617&#x27;, &#x27;VendorName_E618&#x27;, &#x27;VendorName_E619&#x27;, &#x27;VendorName_E62&#x27;, &#x27;VendorName_E620&#x27;, &#x27;VendorName_E621&#x27;, &#x27;VendorName_E622&#x27;, &#x27;VendorName_E623&#x27;, &#x27;VendorName_E624&#x27;, &#x27;VendorName_E625&#x27;, &#x27;VendorName_E626&#x27;, &#x27;VendorName_E627&#x27;, &#x27;VendorName_E628&#x27;, &#x27;VendorName_E629&#x27;, &#x27;VendorName_E63&#x27;, &#x27;VendorName_E630&#x27;, &#x27;VendorName_E631&#x27;, &#x27;VendorName_E632&#x27;, &#x27;VendorName_E633&#x27;, &#x27;VendorName_E634&#x27;, &#x27;VendorName_E635&#x27;, &#x27;VendorName_E636&#x27;, &#x27;VendorName_E637&#x27;, &#x27;VendorName_E638&#x27;, &#x27;VendorName_E639&#x27;, &#x27;VendorName_E64&#x27;, &#x27;VendorName_E640&#x27;, &#x27;VendorName_E641&#x27;, &#x27;VendorName_E642&#x27;, &#x27;VendorName_E643&#x27;, &#x27;VendorName_E644&#x27;, &#x27;VendorName_E645&#x27;, &#x27;VendorName_E646&#x27;, &#x27;VendorName_E647&#x27;, &#x27;VendorName_E648&#x27;, &#x27;VendorName_E649&#x27;, &#x27;VendorName_E65&#x27;, &#x27;VendorName_E650&#x27;, &#x27;VendorName_E651&#x27;, &#x27;VendorName_E652&#x27;, &#x27;VendorName_E653&#x27;, &#x27;VendorName_E654&#x27;, &#x27;VendorName_E655&#x27;, &#x27;VendorName_E656&#x27;, &#x27;VendorName_E657&#x27;, &#x27;VendorName_E658&#x27;, &#x27;VendorName_E659&#x27;, &#x27;VendorName_E66&#x27;, &#x27;VendorName_E660&#x27;, &#x27;VendorName_E661&#x27;, &#x27;VendorName_E662&#x27;, &#x27;VendorName_E663&#x27;, &#x27;VendorName_E664&#x27;, &#x27;VendorName_E665&#x27;, &#x27;VendorName_E666&#x27;, &#x27;VendorName_E667&#x27;, &#x27;VendorName_E668&#x27;, &#x27;VendorName_E669&#x27;, &#x27;VendorName_E67&#x27;, &#x27;VendorName_E670&#x27;, &#x27;VendorName_E671&#x27;, &#x27;VendorName_E672&#x27;, &#x27;VendorName_E673&#x27;, &#x27;VendorName_E674&#x27;, &#x27;VendorName_E675&#x27;, &#x27;VendorName_E676&#x27;, &#x27;VendorName_E677&#x27;, &#x27;VendorName_E678&#x27;, &#x27;VendorName_E679&#x27;, &#x27;VendorName_E68&#x27;, &#x27;VendorName_E680&#x27;, &#x27;VendorName_E681&#x27;, &#x27;VendorName_E682&#x27;, &#x27;VendorName_E683&#x27;, &#x27;VendorName_E684&#x27;, &#x27;VendorName_E685&#x27;, &#x27;VendorName_E686&#x27;, &#x27;VendorName_E687&#x27;, &#x27;VendorName_E688&#x27;, &#x27;VendorName_E689&#x27;, &#x27;VendorName_E69&#x27;, &#x27;VendorName_E690&#x27;, &#x27;VendorName_E691&#x27;, &#x27;VendorName_E692&#x27;, &#x27;VendorName_E693&#x27;, &#x27;VendorName_E694&#x27;, &#x27;VendorName_E695&#x27;, &#x27;VendorName_E696&#x27;, &#x27;VendorName_E697&#x27;, &#x27;VendorName_E698&#x27;, &#x27;VendorName_E699&#x27;, &#x27;VendorName_E7&#x27;, &#x27;VendorName_E70&#x27;, &#x27;VendorName_E700&#x27;, &#x27;VendorName_E701&#x27;, &#x27;VendorName_E702&#x27;, &#x27;VendorName_E703&#x27;, &#x27;VendorName_E704&#x27;, &#x27;VendorName_E705&#x27;, &#x27;VendorName_E706&#x27;, &#x27;VendorName_E707&#x27;, &#x27;VendorName_E708&#x27;, &#x27;VendorName_E709&#x27;, &#x27;VendorName_E71&#x27;, &#x27;VendorName_E710&#x27;, &#x27;VendorName_E711&#x27;, &#x27;VendorName_E712&#x27;, &#x27;VendorName_E713&#x27;, &#x27;VendorName_E714&#x27;, &#x27;VendorName_E715&#x27;, &#x27;VendorName_E716&#x27;, &#x27;VendorName_E717&#x27;, &#x27;VendorName_E718&#x27;, &#x27;VendorName_E719&#x27;, &#x27;VendorName_E72&#x27;, &#x27;VendorName_E720&#x27;, &#x27;VendorName_E721&#x27;, &#x27;VendorName_E722&#x27;, &#x27;VendorName_E723&#x27;, &#x27;VendorName_E724&#x27;, &#x27;VendorName_E725&#x27;, &#x27;VendorName_E726&#x27;, &#x27;VendorName_E727&#x27;, &#x27;VendorName_E728&#x27;, &#x27;VendorName_E729&#x27;, &#x27;VendorName_E73&#x27;, &#x27;VendorName_E730&#x27;, &#x27;VendorName_E731&#x27;, &#x27;VendorName_E732&#x27;, &#x27;VendorName_E733&#x27;, &#x27;VendorName_E734&#x27;, &#x27;VendorName_E735&#x27;, &#x27;VendorName_E736&#x27;, &#x27;VendorName_E737&#x27;, &#x27;VendorName_E738&#x27;, &#x27;VendorName_E739&#x27;, &#x27;VendorName_E74&#x27;, &#x27;VendorName_E740&#x27;, &#x27;VendorName_E741&#x27;, &#x27;VendorName_E742&#x27;, &#x27;VendorName_E743&#x27;, &#x27;VendorName_E744&#x27;, &#x27;VendorName_E745&#x27;, &#x27;VendorName_E746&#x27;, &#x27;VendorName_E747&#x27;, &#x27;VendorName_E748&#x27;, &#x27;VendorName_E749&#x27;, &#x27;VendorName_E75&#x27;, &#x27;VendorName_E750&#x27;, &#x27;VendorName_E751&#x27;, &#x27;VendorName_E752&#x27;, &#x27;VendorName_E753&#x27;, &#x27;VendorName_E754&#x27;, &#x27;VendorName_E755&#x27;, &#x27;VendorName_E756&#x27;, &#x27;VendorName_E757&#x27;, &#x27;VendorName_E758&#x27;, &#x27;VendorName_E759&#x27;, &#x27;VendorName_E76&#x27;, &#x27;VendorName_E760&#x27;, &#x27;VendorName_E761&#x27;, &#x27;VendorName_E762&#x27;, &#x27;VendorName_E763&#x27;, &#x27;VendorName_E764&#x27;, &#x27;VendorName_E765&#x27;, &#x27;VendorName_E766&#x27;, &#x27;VendorName_E767&#x27;, &#x27;VendorName_E768&#x27;, &#x27;VendorName_E769&#x27;, &#x27;VendorName_E77&#x27;, &#x27;VendorName_E770&#x27;, &#x27;VendorName_E771&#x27;, &#x27;VendorName_E772&#x27;, &#x27;VendorName_E773&#x27;, &#x27;VendorName_E774&#x27;, &#x27;VendorName_E775&#x27;, &#x27;VendorName_E776&#x27;, &#x27;VendorName_E777&#x27;, &#x27;VendorName_E778&#x27;, &#x27;VendorName_E779&#x27;, &#x27;VendorName_E78&#x27;, &#x27;VendorName_E780&#x27;, &#x27;VendorName_E781&#x27;, &#x27;VendorName_E782&#x27;, &#x27;VendorName_E783&#x27;, &#x27;VendorName_E784&#x27;, &#x27;VendorName_E785&#x27;, &#x27;VendorName_E786&#x27;, &#x27;VendorName_E787&#x27;, &#x27;VendorName_E788&#x27;, &#x27;VendorName_E789&#x27;, &#x27;VendorName_E79&#x27;, &#x27;VendorName_E790&#x27;, &#x27;VendorName_E791&#x27;, &#x27;VendorName_E792&#x27;, &#x27;VendorName_E793&#x27;, &#x27;VendorName_E794&#x27;, &#x27;VendorName_E795&#x27;, &#x27;VendorName_E796&#x27;, &#x27;VendorName_E797&#x27;, &#x27;VendorName_E798&#x27;, &#x27;VendorName_E799&#x27;, &#x27;VendorName_E8&#x27;, &#x27;VendorName_E80&#x27;, &#x27;VendorName_E800&#x27;, &#x27;VendorName_E801&#x27;, &#x27;VendorName_E802&#x27;, &#x27;VendorName_E803&#x27;, &#x27;VendorName_E804&#x27;, &#x27;VendorName_E805&#x27;, &#x27;VendorName_E806&#x27;, &#x27;VendorName_E807&#x27;, &#x27;VendorName_E808&#x27;, &#x27;VendorName_E809&#x27;, &#x27;VendorName_E81&#x27;, &#x27;VendorName_E810&#x27;, &#x27;VendorName_E811&#x27;, &#x27;VendorName_E812&#x27;, &#x27;VendorName_E813&#x27;, &#x27;VendorName_E814&#x27;, &#x27;VendorName_E815&#x27;, &#x27;VendorName_E816&#x27;, &#x27;VendorName_E817&#x27;, &#x27;VendorName_E818&#x27;, &#x27;VendorName_E819&#x27;, &#x27;VendorName_E82&#x27;, &#x27;VendorName_E820&#x27;, &#x27;VendorName_E821&#x27;, &#x27;VendorName_E822&#x27;, &#x27;VendorName_E823&#x27;, &#x27;VendorName_E824&#x27;, &#x27;VendorName_E825&#x27;, &#x27;VendorName_E826&#x27;, &#x27;VendorName_E827&#x27;, &#x27;VendorName_E828&#x27;, &#x27;VendorName_E829&#x27;, &#x27;VendorName_E83&#x27;, &#x27;VendorName_E830&#x27;, &#x27;VendorName_E831&#x27;, &#x27;VendorName_E832&#x27;, &#x27;VendorName_E833&#x27;, &#x27;VendorName_E834&#x27;, &#x27;VendorName_E835&#x27;, &#x27;VendorName_E836&#x27;, &#x27;VendorName_E837&#x27;, &#x27;VendorName_E838&#x27;, &#x27;VendorName_E839&#x27;, &#x27;VendorName_E84&#x27;, &#x27;VendorName_E840&#x27;, &#x27;VendorName_E841&#x27;, &#x27;VendorName_E842&#x27;, &#x27;VendorName_E843&#x27;, &#x27;VendorName_E844&#x27;, &#x27;VendorName_E845&#x27;, &#x27;VendorName_E846&#x27;, &#x27;VendorName_E847&#x27;, &#x27;VendorName_E848&#x27;, &#x27;VendorName_E849&#x27;, &#x27;VendorName_E85&#x27;, &#x27;VendorName_E850&#x27;, &#x27;VendorName_E851&#x27;, &#x27;VendorName_E852&#x27;, &#x27;VendorName_E853&#x27;, &#x27;VendorName_E854&#x27;, &#x27;VendorName_E855&#x27;, &#x27;VendorName_E856&#x27;, &#x27;VendorName_E857&#x27;, &#x27;VendorName_E858&#x27;, &#x27;VendorName_E859&#x27;, &#x27;VendorName_E86&#x27;, &#x27;VendorName_E860&#x27;, &#x27;VendorName_E861&#x27;, &#x27;VendorName_E862&#x27;, &#x27;VendorName_E863&#x27;, &#x27;VendorName_E864&#x27;, &#x27;VendorName_E865&#x27;, &#x27;VendorName_E866&#x27;, &#x27;VendorName_E867&#x27;, &#x27;VendorName_E868&#x27;, &#x27;VendorName_E869&#x27;, &#x27;VendorName_E87&#x27;, &#x27;VendorName_E870&#x27;, &#x27;VendorName_E871&#x27;, &#x27;VendorName_E872&#x27;, &#x27;VendorName_E873&#x27;, &#x27;VendorName_E874&#x27;, &#x27;VendorName_E875&#x27;, &#x27;VendorName_E876&#x27;, &#x27;VendorName_E877&#x27;, &#x27;VendorName_E878&#x27;, &#x27;VendorName_E879&#x27;, &#x27;VendorName_E88&#x27;, &#x27;VendorName_E880&#x27;, &#x27;VendorName_E881&#x27;, &#x27;VendorName_E882&#x27;, &#x27;VendorName_E883&#x27;, &#x27;VendorName_E884&#x27;, &#x27;VendorName_E885&#x27;, &#x27;VendorName_E886&#x27;, &#x27;VendorName_E887&#x27;, &#x27;VendorName_E888&#x27;, &#x27;VendorName_E889&#x27;, &#x27;VendorName_E89&#x27;, &#x27;VendorName_E890&#x27;, &#x27;VendorName_E891&#x27;, &#x27;VendorName_E892&#x27;, &#x27;VendorName_E893&#x27;, &#x27;VendorName_E894&#x27;, &#x27;VendorName_E895&#x27;, &#x27;VendorName_E896&#x27;, &#x27;VendorName_E897&#x27;, &#x27;VendorName_E898&#x27;, &#x27;VendorName_E899&#x27;, &#x27;VendorName_E9&#x27;, &#x27;VendorName_E90&#x27;, &#x27;VendorName_E900&#x27;, &#x27;VendorName_E901&#x27;, &#x27;VendorName_E902&#x27;, &#x27;VendorName_E903&#x27;, &#x27;VendorName_E904&#x27;, &#x27;VendorName_E905&#x27;, &#x27;VendorName_E906&#x27;, &#x27;VendorName_E907&#x27;, &#x27;VendorName_E908&#x27;, &#x27;VendorName_E909&#x27;, &#x27;VendorName_E91&#x27;, &#x27;VendorName_E910&#x27;, &#x27;VendorName_E911&#x27;, &#x27;VendorName_E912&#x27;, &#x27;VendorName_E913&#x27;, &#x27;VendorName_E914&#x27;, &#x27;VendorName_E915&#x27;, &#x27;VendorName_E916&#x27;, &#x27;VendorName_E917&#x27;, &#x27;VendorName_E918&#x27;, &#x27;VendorName_E919&#x27;, &#x27;VendorName_E92&#x27;, &#x27;VendorName_E920&#x27;, &#x27;VendorName_E921&#x27;, &#x27;VendorName_E922&#x27;, &#x27;VendorName_E923&#x27;, &#x27;VendorName_E924&#x27;, &#x27;VendorName_E925&#x27;, &#x27;VendorName_E926&#x27;, &#x27;VendorName_E927&#x27;, &#x27;VendorName_E928&#x27;, &#x27;VendorName_E929&#x27;, &#x27;VendorName_E93&#x27;, &#x27;VendorName_E930&#x27;, &#x27;VendorName_E931&#x27;, &#x27;VendorName_E932&#x27;, &#x27;VendorName_E933&#x27;, &#x27;VendorName_E934&#x27;, &#x27;VendorName_E935&#x27;, &#x27;VendorName_E936&#x27;, &#x27;VendorName_E937&#x27;, &#x27;VendorName_E938&#x27;, &#x27;VendorName_E939&#x27;, &#x27;VendorName_E94&#x27;, &#x27;VendorName_E940&#x27;, &#x27;VendorName_E941&#x27;, &#x27;VendorName_E942&#x27;, &#x27;VendorName_E943&#x27;, &#x27;VendorName_E944&#x27;, &#x27;VendorName_E945&#x27;, &#x27;VendorName_E946&#x27;, &#x27;VendorName_E947&#x27;, &#x27;VendorName_E948&#x27;, &#x27;VendorName_E949&#x27;, &#x27;VendorName_E95&#x27;, &#x27;VendorName_E950&#x27;, &#x27;VendorName_E951&#x27;, &#x27;VendorName_E952&#x27;, &#x27;VendorName_E953&#x27;, &#x27;VendorName_E954&#x27;, &#x27;VendorName_E955&#x27;, &#x27;VendorName_E956&#x27;, &#x27;VendorName_E957&#x27;, &#x27;VendorName_E958&#x27;, &#x27;VendorName_E959&#x27;, &#x27;VendorName_E96&#x27;, &#x27;VendorName_E960&#x27;, &#x27;VendorName_E961&#x27;, &#x27;VendorName_E962&#x27;, &#x27;VendorName_E963&#x27;, &#x27;VendorName_E964&#x27;, &#x27;VendorName_E965&#x27;, &#x27;VendorName_E966&#x27;, &#x27;VendorName_E967&#x27;, &#x27;VendorName_E968&#x27;, &#x27;VendorName_E969&#x27;, &#x27;VendorName_E97&#x27;, &#x27;VendorName_E970&#x27;, &#x27;VendorName_E971&#x27;, &#x27;VendorName_E972&#x27;, &#x27;VendorName_E973&#x27;, &#x27;VendorName_E974&#x27;, &#x27;VendorName_E975&#x27;, &#x27;VendorName_E976&#x27;, &#x27;VendorName_E977&#x27;, &#x27;VendorName_E978&#x27;, &#x27;VendorName_E979&#x27;, &#x27;VendorName_E98&#x27;, &#x27;VendorName_E980&#x27;, &#x27;VendorName_E981&#x27;, &#x27;VendorName_E982&#x27;, &#x27;VendorName_E983&#x27;, &#x27;VendorName_E984&#x27;, &#x27;VendorName_E985&#x27;, &#x27;VendorName_E986&#x27;, &#x27;VendorName_E987&#x27;, &#x27;VendorName_E988&#x27;, &#x27;VendorName_E989&#x27;, &#x27;VendorName_E99&#x27;, &#x27;VendorName_E990&#x27;, &#x27;VendorName_E991&#x27;, &#x27;VendorName_E992&#x27;, &#x27;VendorName_E993&#x27;, &#x27;VendorName_E994&#x27;, &#x27;VendorName_E995&#x27;, &#x27;VendorName_E996&#x27;, &#x27;VendorName_E997&#x27;, &#x27;VendorName_E998&#x27;, &#x27;VendorName_E999&#x27;]</pre></div></div></div><div class=\"sk-serial\"><div class=\"sk-item\"><div class=\"sk-estimator sk-toggleable\"><input class=\"sk-toggleable__control sk-hidden--visually\" id=\"sk-estimator-id-34\" type=\"checkbox\" ><label for=\"sk-estimator-id-34\" class=\"sk-toggleable__label sk-toggleable__label-arrow\">passthrough</label><div class=\"sk-toggleable__content\"><pre>passthrough</pre></div></div></div></div></div></div></div></div><div class=\"sk-item sk-dashed-wrapped\"><div class=\"sk-label-container\"><div class=\"sk-label sk-toggleable\"><input class=\"sk-toggleable__control sk-hidden--visually\" id=\"sk-estimator-id-35\" type=\"checkbox\" ><label for=\"sk-estimator-id-35\" class=\"sk-toggleable__label sk-toggleable__label-arrow\">trf2: ColumnTransformer</label><div class=\"sk-toggleable__content\"><pre>ColumnTransformer(remainder=&#x27;passthrough&#x27;,\n",
       "                  transformers=[(&#x27;ohe_all_four&#x27;,\n",
       "                                 OneHotEncoder(handle_unknown=&#x27;ignore&#x27;,\n",
       "                                               sparse=False),\n",
       "                                 [0, 1, 2, 3])])</pre></div></div></div><div class=\"sk-parallel\"><div class=\"sk-parallel-item\"><div class=\"sk-item\"><div class=\"sk-label-container\"><div class=\"sk-label sk-toggleable\"><input class=\"sk-toggleable__control sk-hidden--visually\" id=\"sk-estimator-id-36\" type=\"checkbox\" ><label for=\"sk-estimator-id-36\" class=\"sk-toggleable__label sk-toggleable__label-arrow\">ohe_all_four</label><div class=\"sk-toggleable__content\"><pre>[0, 1, 2, 3]</pre></div></div></div><div class=\"sk-serial\"><div class=\"sk-item\"><div class=\"sk-estimator sk-toggleable\"><input class=\"sk-toggleable__control sk-hidden--visually\" id=\"sk-estimator-id-37\" type=\"checkbox\" ><label for=\"sk-estimator-id-37\" class=\"sk-toggleable__label sk-toggleable__label-arrow\">OneHotEncoder</label><div class=\"sk-toggleable__content\"><pre>OneHotEncoder(handle_unknown=&#x27;ignore&#x27;, sparse=False)</pre></div></div></div></div></div></div><div class=\"sk-parallel-item\"><div class=\"sk-item\"><div class=\"sk-label-container\"><div class=\"sk-label sk-toggleable\"><input class=\"sk-toggleable__control sk-hidden--visually\" id=\"sk-estimator-id-38\" type=\"checkbox\" ><label for=\"sk-estimator-id-38\" class=\"sk-toggleable__label sk-toggleable__label-arrow\">remainder</label><div class=\"sk-toggleable__content\"><pre>[4, 5, 6, 7, 8, 9, 10, 11, 12, 13, 14, 15, 16, 17, 18, 19, 20, 21, 22, 23, 24, 25, 26, 27, 28, 29, 30, 31, 32, 33, 34, 35, 36, 37, 38, 39, 40, 41, 42, 43, 44, 45, 46, 47, 48, 49, 50, 51, 52, 53, 54, 55, 56, 57, 58, 59, 60, 61, 62, 63, 64, 65, 66, 67, 68, 69, 70, 71, 72, 73, 74, 75, 76, 77, 78, 79, 80, 81, 82, 83, 84, 85, 86, 87, 88, 89, 90, 91, 92, 93, 94, 95, 96, 97, 98, 99, 100, 101, 102, 103, 104, 105, 106, 107, 108, 109, 110, 111, 112, 113, 114, 115, 116, 117, 118, 119, 120, 121, 122, 123, 124, 125, 126, 127, 128, 129, 130, 131, 132, 133, 134, 135, 136, 137, 138, 139, 140, 141, 142, 143, 144, 145, 146, 147, 148, 149, 150, 151, 152, 153, 154, 155, 156, 157, 158, 159, 160, 161, 162, 163, 164, 165, 166, 167, 168, 169, 170, 171, 172, 173, 174, 175, 176, 177, 178, 179, 180, 181, 182, 183, 184, 185, 186, 187, 188, 189, 190, 191, 192, 193, 194, 195, 196, 197, 198, 199, 200, 201, 202, 203, 204, 205, 206, 207, 208, 209, 210, 211, 212, 213, 214, 215, 216, 217, 218, 219, 220, 221, 222, 223, 224, 225, 226, 227, 228, 229, 230, 231, 232, 233, 234, 235, 236, 237, 238, 239, 240, 241, 242, 243, 244, 245, 246, 247, 248, 249, 250, 251, 252, 253, 254, 255, 256, 257, 258, 259, 260, 261, 262, 263, 264, 265, 266, 267, 268, 269, 270, 271, 272, 273, 274, 275, 276, 277, 278, 279, 280, 281, 282, 283, 284, 285, 286, 287, 288, 289, 290, 291, 292, 293, 294, 295, 296, 297, 298, 299, 300, 301, 302, 303, 304, 305, 306, 307, 308, 309, 310, 311, 312, 313, 314, 315, 316, 317, 318, 319, 320, 321, 322, 323, 324, 325, 326, 327, 328, 329, 330, 331, 332, 333, 334, 335, 336, 337, 338, 339, 340, 341, 342, 343, 344, 345, 346, 347, 348, 349, 350, 351, 352, 353, 354, 355, 356, 357, 358, 359, 360, 361, 362, 363, 364, 365, 366, 367, 368, 369, 370, 371, 372, 373, 374, 375, 376, 377, 378, 379, 380, 381, 382, 383, 384, 385, 386, 387, 388, 389, 390, 391, 392, 393, 394, 395, 396, 397, 398, 399, 400, 401, 402, 403, 404, 405, 406, 407, 408, 409, 410, 411, 412, 413, 414, 415, 416, 417, 418, 419, 420, 421, 422, 423, 424, 425, 426, 427, 428, 429, 430, 431, 432, 433, 434, 435, 436, 437, 438, 439, 440, 441, 442, 443, 444, 445, 446, 447, 448, 449, 450, 451, 452, 453, 454, 455, 456, 457, 458, 459, 460, 461, 462, 463, 464, 465, 466, 467, 468, 469, 470, 471, 472, 473, 474, 475, 476, 477, 478, 479, 480, 481, 482, 483, 484, 485, 486, 487, 488, 489, 490, 491, 492, 493, 494, 495, 496, 497, 498, 499, 500, 501, 502, 503, 504, 505, 506, 507, 508, 509, 510, 511, 512, 513, 514, 515, 516, 517, 518, 519, 520, 521, 522, 523, 524, 525, 526, 527, 528, 529, 530, 531, 532, 533, 534, 535, 536, 537, 538, 539, 540, 541, 542, 543, 544, 545, 546, 547, 548, 549, 550, 551, 552, 553, 554, 555, 556, 557, 558, 559, 560, 561, 562, 563, 564, 565, 566, 567, 568, 569, 570, 571, 572, 573, 574, 575, 576, 577, 578, 579, 580, 581, 582, 583, 584, 585, 586, 587, 588, 589, 590, 591, 592, 593, 594, 595, 596, 597, 598, 599, 600, 601, 602, 603, 604, 605, 606, 607, 608, 609, 610, 611, 612, 613, 614, 615, 616, 617, 618, 619, 620, 621, 622, 623, 624, 625, 626, 627, 628, 629, 630, 631, 632, 633, 634, 635, 636, 637, 638, 639, 640, 641, 642, 643, 644, 645, 646, 647, 648, 649, 650, 651, 652, 653, 654, 655, 656, 657, 658, 659, 660, 661, 662, 663, 664, 665, 666, 667, 668, 669, 670, 671, 672, 673, 674, 675, 676, 677, 678, 679, 680, 681, 682, 683, 684, 685, 686, 687, 688, 689, 690, 691, 692, 693, 694, 695, 696, 697, 698, 699, 700, 701, 702, 703, 704, 705, 706, 707, 708, 709, 710, 711, 712, 713, 714, 715, 716, 717, 718, 719, 720, 721, 722, 723, 724, 725, 726, 727, 728, 729, 730, 731, 732, 733, 734, 735, 736, 737, 738, 739, 740, 741, 742, 743, 744, 745, 746, 747, 748, 749, 750, 751, 752, 753, 754, 755, 756, 757, 758, 759, 760, 761, 762, 763, 764, 765, 766, 767, 768, 769, 770, 771, 772, 773, 774, 775, 776, 777, 778, 779, 780, 781, 782, 783, 784, 785, 786, 787, 788, 789, 790, 791, 792, 793, 794, 795, 796, 797, 798, 799, 800, 801, 802, 803, 804, 805, 806, 807, 808, 809, 810, 811, 812, 813, 814, 815, 816, 817, 818, 819, 820, 821, 822, 823, 824, 825, 826, 827, 828, 829, 830, 831, 832, 833, 834, 835, 836, 837, 838, 839, 840, 841, 842, 843, 844, 845, 846, 847, 848, 849, 850, 851, 852, 853, 854, 855, 856, 857, 858, 859, 860, 861, 862, 863, 864, 865, 866, 867, 868, 869, 870, 871, 872, 873, 874, 875, 876, 877, 878, 879, 880, 881, 882, 883, 884, 885, 886, 887, 888, 889, 890, 891, 892, 893, 894, 895, 896, 897, 898, 899, 900, 901, 902, 903, 904, 905, 906, 907, 908, 909, 910, 911, 912, 913, 914, 915, 916, 917, 918, 919, 920, 921, 922, 923, 924, 925, 926, 927, 928, 929, 930, 931, 932, 933, 934, 935, 936, 937, 938, 939, 940, 941, 942, 943, 944, 945, 946, 947, 948, 949, 950, 951, 952, 953, 954, 955, 956, 957, 958, 959, 960, 961, 962, 963, 964, 965, 966, 967, 968, 969, 970, 971, 972, 973, 974, 975, 976, 977, 978, 979, 980, 981, 982, 983, 984, 985, 986, 987, 988, 989, 990, 991, 992, 993, 994, 995, 996, 997, 998, 999, 1000, 1001, 1002, 1003, 1004, 1005, 1006, 1007, 1008, 1009, 1010, 1011, 1012, 1013, 1014, 1015, 1016, 1017, 1018, 1019, 1020, 1021, 1022, 1023, 1024, 1025, 1026, 1027, 1028, 1029, 1030, 1031, 1032, 1033, 1034, 1035, 1036, 1037, 1038, 1039, 1040, 1041, 1042, 1043, 1044, 1045, 1046, 1047, 1048, 1049, 1050, 1051, 1052, 1053, 1054, 1055, 1056, 1057, 1058, 1059, 1060, 1061, 1062, 1063, 1064, 1065, 1066, 1067, 1068, 1069, 1070, 1071, 1072, 1073, 1074, 1075, 1076, 1077, 1078, 1079, 1080, 1081, 1082, 1083, 1084, 1085, 1086, 1087, 1088, 1089, 1090, 1091, 1092, 1093, 1094, 1095, 1096, 1097, 1098, 1099, 1100, 1101, 1102, 1103, 1104, 1105, 1106, 1107, 1108, 1109, 1110, 1111, 1112, 1113, 1114, 1115, 1116, 1117, 1118, 1119, 1120, 1121, 1122, 1123, 1124, 1125, 1126, 1127, 1128, 1129, 1130, 1131, 1132, 1133, 1134, 1135, 1136, 1137, 1138, 1139, 1140, 1141, 1142, 1143, 1144, 1145, 1146, 1147, 1148, 1149, 1150, 1151, 1152, 1153, 1154, 1155, 1156, 1157, 1158, 1159, 1160, 1161, 1162, 1163, 1164, 1165, 1166, 1167, 1168, 1169, 1170, 1171, 1172, 1173, 1174, 1175, 1176, 1177, 1178, 1179, 1180, 1181, 1182, 1183, 1184, 1185, 1186, 1187, 1188, 1189, 1190, 1191, 1192, 1193, 1194, 1195, 1196, 1197, 1198, 1199, 1200, 1201, 1202, 1203, 1204, 1205, 1206, 1207, 1208, 1209, 1210, 1211, 1212, 1213, 1214, 1215, 1216, 1217, 1218, 1219, 1220, 1221, 1222, 1223, 1224, 1225, 1226, 1227, 1228, 1229, 1230, 1231, 1232, 1233, 1234, 1235, 1236, 1237, 1238, 1239, 1240, 1241, 1242, 1243, 1244, 1245, 1246, 1247, 1248, 1249, 1250, 1251, 1252, 1253, 1254, 1255, 1256, 1257, 1258, 1259, 1260, 1261, 1262, 1263, 1264, 1265, 1266, 1267, 1268, 1269, 1270, 1271, 1272, 1273, 1274, 1275, 1276, 1277, 1278, 1279, 1280, 1281, 1282, 1283, 1284, 1285, 1286, 1287, 1288, 1289, 1290, 1291, 1292, 1293, 1294, 1295, 1296, 1297, 1298, 1299, 1300, 1301, 1302, 1303, 1304, 1305, 1306, 1307, 1308, 1309, 1310, 1311, 1312, 1313, 1314, 1315, 1316, 1317, 1318, 1319, 1320, 1321, 1322, 1323, 1324, 1325, 1326, 1327, 1328, 1329, 1330, 1331, 1332, 1333, 1334, 1335, 1336, 1337, 1338, 1339, 1340, 1341, 1342, 1343, 1344, 1345, 1346, 1347, 1348, 1349, 1350, 1351, 1352, 1353, 1354, 1355, 1356, 1357, 1358, 1359, 1360, 1361, 1362, 1363, 1364, 1365, 1366, 1367, 1368, 1369, 1370, 1371, 1372, 1373, 1374, 1375, 1376, 1377, 1378, 1379, 1380, 1381, 1382, 1383, 1384, 1385, 1386, 1387, 1388, 1389, 1390, 1391, 1392, 1393, 1394, 1395, 1396, 1397, 1398, 1399, 1400, 1401, 1402, 1403, 1404, 1405, 1406, 1407, 1408, 1409, 1410, 1411, 1412, 1413, 1414, 1415, 1416, 1417, 1418, 1419, 1420, 1421, 1422, 1423, 1424, 1425, 1426, 1427, 1428, 1429, 1430, 1431, 1432, 1433, 1434, 1435, 1436, 1437, 1438, 1439, 1440, 1441, 1442, 1443, 1444, 1445, 1446, 1447, 1448, 1449, 1450, 1451, 1452, 1453, 1454, 1455, 1456, 1457, 1458, 1459, 1460, 1461, 1462, 1463, 1464, 1465, 1466, 1467, 1468, 1469, 1470, 1471, 1472, 1473, 1474, 1475, 1476, 1477, 1478, 1479, 1480, 1481, 1482, 1483, 1484, 1485, 1486, 1487, 1488, 1489, 1490, 1491, 1492, 1493, 1494, 1495, 1496, 1497, 1498, 1499, 1500, 1501, 1502, 1503, 1504, 1505, 1506, 1507, 1508, 1509, 1510, 1511, 1512, 1513, 1514, 1515, 1516, 1517, 1518, 1519, 1520, 1521, 1522, 1523, 1524, 1525, 1526, 1527, 1528, 1529, 1530, 1531, 1532, 1533, 1534, 1535, 1536, 1537, 1538, 1539, 1540, 1541, 1542, 1543, 1544, 1545, 1546, 1547, 1548, 1549, 1550, 1551, 1552, 1553, 1554, 1555, 1556, 1557]</pre></div></div></div><div class=\"sk-serial\"><div class=\"sk-item\"><div class=\"sk-estimator sk-toggleable\"><input class=\"sk-toggleable__control sk-hidden--visually\" id=\"sk-estimator-id-39\" type=\"checkbox\" ><label for=\"sk-estimator-id-39\" class=\"sk-toggleable__label sk-toggleable__label-arrow\">passthrough</label><div class=\"sk-toggleable__content\"><pre>passthrough</pre></div></div></div></div></div></div></div></div><div class=\"sk-item sk-dashed-wrapped\"><div class=\"sk-label-container\"><div class=\"sk-label sk-toggleable\"><input class=\"sk-toggleable__control sk-hidden--visually\" id=\"sk-estimator-id-40\" type=\"checkbox\" ><label for=\"sk-estimator-id-40\" class=\"sk-toggleable__label sk-toggleable__label-arrow\">trf3: ColumnTransformer</label><div class=\"sk-toggleable__content\"><pre>ColumnTransformer(transformers=[(&#x27;scale&#x27;, MinMaxScaler(),\n",
       "                                 slice(0, 1558, None))])</pre></div></div></div><div class=\"sk-parallel\"><div class=\"sk-parallel-item\"><div class=\"sk-item\"><div class=\"sk-label-container\"><div class=\"sk-label sk-toggleable\"><input class=\"sk-toggleable__control sk-hidden--visually\" id=\"sk-estimator-id-41\" type=\"checkbox\" ><label for=\"sk-estimator-id-41\" class=\"sk-toggleable__label sk-toggleable__label-arrow\">scale</label><div class=\"sk-toggleable__content\"><pre>slice(0, 1558, None)</pre></div></div></div><div class=\"sk-serial\"><div class=\"sk-item\"><div class=\"sk-estimator sk-toggleable\"><input class=\"sk-toggleable__control sk-hidden--visually\" id=\"sk-estimator-id-42\" type=\"checkbox\" ><label for=\"sk-estimator-id-42\" class=\"sk-toggleable__label sk-toggleable__label-arrow\">MinMaxScaler</label><div class=\"sk-toggleable__content\"><pre>MinMaxScaler()</pre></div></div></div></div></div></div></div></div><div class=\"sk-item\"><div class=\"sk-estimator sk-toggleable\"><input class=\"sk-toggleable__control sk-hidden--visually\" id=\"sk-estimator-id-43\" type=\"checkbox\" ><label for=\"sk-estimator-id-43\" class=\"sk-toggleable__label sk-toggleable__label-arrow\">SelectKBest</label><div class=\"sk-toggleable__content\"><pre>SelectKBest(k=7, score_func=&lt;function chi2 at 0x000001F84967E1F0&gt;)</pre></div></div></div><div class=\"sk-item\"><div class=\"sk-estimator sk-toggleable\"><input class=\"sk-toggleable__control sk-hidden--visually\" id=\"sk-estimator-id-44\" type=\"checkbox\" ><label for=\"sk-estimator-id-44\" class=\"sk-toggleable__label sk-toggleable__label-arrow\">RandomForestClassifier</label><div class=\"sk-toggleable__content\"><pre>RandomForestClassifier()</pre></div></div></div></div></div></div></div>"
      ],
      "text/plain": [
       "Pipeline(steps=[('trf1',\n",
       "                 ColumnTransformer(remainder='passthrough',\n",
       "                                   transformers=[('impute_companyname',\n",
       "                                                  SimpleImputer(strategy='most_frequent'),\n",
       "                                                  [0]),\n",
       "                                                 ('impute_financial_department',\n",
       "                                                  SimpleImputer(strategy='most_frequent'),\n",
       "                                                  [1]),\n",
       "                                                 ('impute_fincial_account_group',\n",
       "                                                  SimpleImputer(strategy='most_frequent'),\n",
       "                                                  [2]),\n",
       "                                                 ('impute_vendor_name',\n",
       "                                                  SimpleImputer(strategy='most...),\n",
       "                                                  [3])])),\n",
       "                ('trf2',\n",
       "                 ColumnTransformer(remainder='passthrough',\n",
       "                                   transformers=[('ohe_all_four',\n",
       "                                                  OneHotEncoder(handle_unknown='ignore',\n",
       "                                                                sparse=False),\n",
       "                                                  [0, 1, 2, 3])])),\n",
       "                ('trf3',\n",
       "                 ColumnTransformer(transformers=[('scale', MinMaxScaler(),\n",
       "                                                  slice(0, 1558, None))])),\n",
       "                ('trf4',\n",
       "                 SelectKBest(k=7,\n",
       "                             score_func=<function chi2 at 0x000001F84967E1F0>)),\n",
       "                ('trf6', RandomForestClassifier())])"
      ]
     },
     "execution_count": 74,
     "metadata": {},
     "output_type": "execute_result"
    }
   ],
   "source": [
    "pipe_rf.fit(x_train, y_train)"
   ]
  },
  {
   "cell_type": "code",
   "execution_count": 75,
   "id": "04cc85fb",
   "metadata": {},
   "outputs": [],
   "source": [
    "prediction = pipe_rf.predict(x_test)"
   ]
  },
  {
   "cell_type": "code",
   "execution_count": 76,
   "id": "3e1838e1",
   "metadata": {},
   "outputs": [
    {
     "name": "stdout",
     "output_type": "stream",
     "text": [
      "The accuracy score for random forest model is   : 0.22193877551020408\n",
      "The precision score for random forest model is  : 0.4366263375180286\n",
      "The recall score for random forest model is     : 0.22193877551020408\n",
      "The f1 score for random forest model is         : 0.11041092772299055\n",
      "The confusion matrix : \n",
      "  [[  0 955   0   0   0]\n",
      " [  0 934   0   0   0]\n",
      " [  0 951   0   0   0]\n",
      " [  0 913   0  22   0]\n",
      " [  0 841   0   0  88]]\n"
     ]
    }
   ],
   "source": [
    "print( \"The accuracy score for random forest model is   :\",  accuracy_score(y_test,prediction))\n",
    "print( \"The precision score for random forest model is  :\",  precision_score(y_test,prediction,average='weighted'))\n",
    "\n",
    "print( \"The recall score for random forest model is     :\", recall_score(y_test,prediction,average='weighted'))\n",
    "print( \"The f1 score for random forest model is         :\", f1_score(y_test, prediction,average='weighted'))\n",
    "\n",
    "print (\"The confusion matrix : \\n \", confusion_matrix(y_test, prediction))"
   ]
  },
  {
   "cell_type": "code",
   "execution_count": 77,
   "id": "a27ec6c7",
   "metadata": {},
   "outputs": [
    {
     "name": "stdout",
     "output_type": "stream",
     "text": [
      "              precision    recall  f1-score   support\n",
      "\n",
      "          X0       0.00      0.00      0.00       955\n",
      "          X1       0.20      1.00      0.34       934\n",
      "          X2       0.00      0.00      0.00       951\n",
      "          X3       1.00      0.02      0.05       935\n",
      "          X4       1.00      0.09      0.17       929\n",
      "\n",
      "    accuracy                           0.22      4704\n",
      "   macro avg       0.44      0.22      0.11      4704\n",
      "weighted avg       0.44      0.22      0.11      4704\n",
      "\n"
     ]
    }
   ],
   "source": [
    "\n",
    "print(classification_report(y_test,prediction))"
   ]
  },
  {
   "cell_type": "code",
   "execution_count": 78,
   "id": "35a4c860",
   "metadata": {},
   "outputs": [
    {
     "data": {
      "text/plain": [
       "dict_keys(['explained_variance', 'r2', 'max_error', 'matthews_corrcoef', 'neg_median_absolute_error', 'neg_mean_absolute_error', 'neg_mean_absolute_percentage_error', 'neg_mean_squared_error', 'neg_mean_squared_log_error', 'neg_root_mean_squared_error', 'neg_mean_poisson_deviance', 'neg_mean_gamma_deviance', 'accuracy', 'top_k_accuracy', 'roc_auc', 'roc_auc_ovr', 'roc_auc_ovo', 'roc_auc_ovr_weighted', 'roc_auc_ovo_weighted', 'balanced_accuracy', 'average_precision', 'neg_log_loss', 'neg_brier_score', 'adjusted_rand_score', 'rand_score', 'homogeneity_score', 'completeness_score', 'v_measure_score', 'mutual_info_score', 'adjusted_mutual_info_score', 'normalized_mutual_info_score', 'fowlkes_mallows_score', 'precision', 'precision_macro', 'precision_micro', 'precision_samples', 'precision_weighted', 'recall', 'recall_macro', 'recall_micro', 'recall_samples', 'recall_weighted', 'f1', 'f1_macro', 'f1_micro', 'f1_samples', 'f1_weighted', 'jaccard', 'jaccard_macro', 'jaccard_micro', 'jaccard_samples', 'jaccard_weighted'])"
      ]
     },
     "execution_count": 78,
     "metadata": {},
     "output_type": "execute_result"
    }
   ],
   "source": [
    "from sklearn.metrics import SCORERS\n",
    "(SCORERS.keys())"
   ]
  },
  {
   "cell_type": "code",
   "execution_count": 79,
   "id": "78dfddbd",
   "metadata": {},
   "outputs": [
    {
     "data": {
      "text/plain": [
       "array([0.11433084, 0.12003398, 0.11419032, 0.10999111, 0.10771326])"
      ]
     },
     "execution_count": 79,
     "metadata": {},
     "output_type": "execute_result"
    }
   ],
   "source": [
    "trf6 = RandomForestClassifier()\n",
    "scores_rfc  = cross_val_score(pipe_rf,x_sm,y_sm, cv = 5, scoring  = 'f1_weighted')\n",
    "scores_rfc"
   ]
  },
  {
   "cell_type": "code",
   "execution_count": 80,
   "id": "5344f1ba",
   "metadata": {},
   "outputs": [
    {
     "data": {
      "text/plain": [
       "0.11325190112267033"
      ]
     },
     "execution_count": 80,
     "metadata": {},
     "output_type": "execute_result"
    }
   ],
   "source": [
    "scores_rfc.mean()"
   ]
  },
  {
   "cell_type": "markdown",
   "id": "154d57c3",
   "metadata": {},
   "source": [
    " Random Forest : Hyperparameter Tunning"
   ]
  },
  {
   "cell_type": "code",
   "execution_count": 81,
   "id": "f1f6595b",
   "metadata": {},
   "outputs": [],
   "source": [
    "\n",
    "n_estimators  = [20,40,60]\n",
    "\n",
    "max_features =[0.2,0.6,0.8]\n",
    "\n",
    "max_depth  = [2,8,None]\n",
    "\n",
    "max_samples  = [0.5,0.75,1]"
   ]
  },
  {
   "cell_type": "code",
   "execution_count": 82,
   "id": "e96b6855",
   "metadata": {},
   "outputs": [
    {
     "name": "stdout",
     "output_type": "stream",
     "text": [
      "{'n_estimators': [20, 40, 60], 'max_features': [0.2, 0.6, 0.8], 'max_depth': [2, 8, None], 'max_samples': [0.5, 0.75, 1]}\n"
     ]
    }
   ],
   "source": [
    "param_grid  = {'n_estimators': n_estimators,\n",
    "                'max_features' : max_features,\n",
    "               'max_depth'   : max_depth,\n",
    "               'max_samples' : max_samples\n",
    "              }\n",
    "print(param_grid)"
   ]
  },
  {
   "cell_type": "code",
   "execution_count": 83,
   "id": "df6144ce",
   "metadata": {},
   "outputs": [],
   "source": [
    "rf = RandomForestClassifier()\n"
   ]
  },
  {
   "cell_type": "code",
   "execution_count": 84,
   "id": "13c70ba3",
   "metadata": {},
   "outputs": [
    {
     "data": {
      "text/plain": [
       "'\\nrfc_grid  = GridSearchCV(estimator= rf,\\n                        param_grid  = param_grid,\\n                        verbose = 2,\\n                        n_jobs  = -1)\\n'"
      ]
     },
     "execution_count": 84,
     "metadata": {},
     "output_type": "execute_result"
    }
   ],
   "source": [
    "\n",
    "rfc_grid  = GridSearchCV(estimator= rf,\n",
    "                        param_grid  = param_grid,\n",
    "                        verbose = 2,\n",
    "                        n_jobs  = -1)\n",
    "\n"
   ]
  },
  {
   "cell_type": "code",
   "execution_count": 85,
   "id": "6b6ca027",
   "metadata": {},
   "outputs": [
    {
     "data": {
      "text/plain": [
       "'\\nrfc_grid.fit(x_train, y_train)\\n'"
      ]
     },
     "execution_count": 85,
     "metadata": {},
     "output_type": "execute_result"
    }
   ],
   "source": [
    "\n",
    "rfc_grid.fit(x_train, y_train)\n"
   ]
  },
  {
   "cell_type": "code",
   "execution_count": 86,
   "id": "75a60d48",
   "metadata": {},
   "outputs": [
    {
     "data": {
      "text/plain": [
       "'\\nrfc_grid.best_params_\\n'"
      ]
     },
     "execution_count": 86,
     "metadata": {},
     "output_type": "execute_result"
    }
   ],
   "source": [
    "\n",
    "rfc_grid.best_params_\n"
   ]
  },
  {
   "cell_type": "code",
   "execution_count": 87,
   "id": "287bc569",
   "metadata": {
    "scrolled": true
   },
   "outputs": [
    {
     "data": {
      "text/plain": [
       "'\\nrfc_grid.best_score_\\n'"
      ]
     },
     "execution_count": 87,
     "metadata": {},
     "output_type": "execute_result"
    }
   ],
   "source": [
    "\n",
    "rfc_grid.best_score_\n"
   ]
  },
  {
   "cell_type": "code",
   "execution_count": 88,
   "id": "a5298c86",
   "metadata": {},
   "outputs": [
    {
     "name": "stdout",
     "output_type": "stream",
     "text": [
      "The accuracy score for random forest model is  : 0.22193877551020408\n",
      "The precision score for random forest model is : 0.4366263375180286\n",
      "The recall score for random forest model is    : 0.22193877551020408\n",
      "The f1 score for random forest model is        : 0.11041092772299055\n",
      "The confusion matrix \n",
      "  [[  0 955   0   0   0]\n",
      " [  0 934   0   0   0]\n",
      " [  0 951   0   0   0]\n",
      " [  0 913   0  22   0]\n",
      " [  0 841   0   0  88]]\n"
     ]
    }
   ],
   "source": [
    "trf6 = RandomForestClassifier(max_depth=None,max_features= 0.8,max_samples= 0.75,n_estimators= 60, random_state =2)\n",
    "pipe_rf.fit(x_train,y_train)\n",
    "rf_pred = pipe_rf.predict(x_test)\n",
    "\n",
    "print( \"The accuracy score for random forest model is  :\",  accuracy_score(y_test,rf_pred ))\n",
    "print( \"The precision score for random forest model is :\",  precision_score(y_test,rf_pred ,average='weighted'))\n",
    "\n",
    "print( \"The recall score for random forest model is    :\", recall_score(y_test,rf_pred ,average='weighted'))\n",
    "print( \"The f1 score for random forest model is        :\", f1_score(y_test,rf_pred ,average='weighted'))\n",
    "\n",
    "print (\"The confusion matrix \\n \", confusion_matrix(y_test,rf_pred ))"
   ]
  },
  {
   "cell_type": "markdown",
   "id": "2a1ccbf4",
   "metadata": {},
   "source": [
    "#### 3. Model : Gradientboost classifier"
   ]
  },
  {
   "cell_type": "code",
   "execution_count": 89,
   "id": "d74794ef",
   "metadata": {},
   "outputs": [],
   "source": [
    "\n",
    "trf1 = ColumnTransformer([('impute_companyname', SimpleImputer(strategy = 'most_frequent'),[0]),\n",
    "                          ('impute_financial_department', SimpleImputer(strategy = 'most_frequent'),[1]),\n",
    "                          ('impute_fincial_account_group', SimpleImputer(strategy = 'most_frequent'),[2]),\n",
    "                          ('impute_vendor_name', SimpleImputer(strategy = 'most_frequent'),[3])],\n",
    "                         remainder = 'passthrough')\n",
    "\n",
    "trf2 = ColumnTransformer([('ohe_all_four',OneHotEncoder(sparse = False,handle_unknown = 'ignore'),[0,1,2,3])],\n",
    "                        remainder = 'passthrough')\n",
    "\n",
    "trf3 = ColumnTransformer([('scale', MinMaxScaler(),slice(0,1558))\n",
    "                         ])\n",
    "\n",
    "trf4 = SelectKBest(score_func = chi2,k = 7)\n",
    "\n",
    "trf7 =  GradientBoostingClassifier()\n",
    "\n",
    "pipe_gb = Pipeline([('trf1',trf1),\n",
    "                 ('trf2',trf2),\n",
    "                 ('trf3',trf3),\n",
    "                 ('trf4',trf4),\n",
    "                 ('trf7',trf7)])\n",
    "\n",
    "pipe_gb.fit(x_train, y_train)\n",
    "gbc_pred = pipe_gb.predict(x_test)\n"
   ]
  },
  {
   "cell_type": "code",
   "execution_count": 90,
   "id": "863154d8",
   "metadata": {},
   "outputs": [
    {
     "data": {
      "text/plain": [
       "array(['X1', 'X1', 'X1', ..., 'X1', 'X1', 'X1'], dtype=object)"
      ]
     },
     "execution_count": 90,
     "metadata": {},
     "output_type": "execute_result"
    }
   ],
   "source": [
    "gbc_pred"
   ]
  },
  {
   "cell_type": "code",
   "execution_count": 91,
   "id": "82eab767",
   "metadata": {
    "scrolled": false
   },
   "outputs": [
    {
     "name": "stdout",
     "output_type": "stream",
     "text": [
      "the accuracy score for Gradient Boosing calssifier model is  : 0.22193877551020408\n",
      "the precision score for Gradient Boosing calssifier model is : 0.4366263375180286\n",
      "the recall score for Gradient Boosing calssifier model is    : 0.22193877551020408\n",
      "the f1 score for Gradient Boosing calssifier model is        : 0.11041092772299055\n",
      "the confusion matrix for GBC model is \n",
      "  [[  0 955   0   0   0]\n",
      " [  0 934   0   0   0]\n",
      " [  0 951   0   0   0]\n",
      " [  0 913   0  22   0]\n",
      " [  0 841   0   0  88]]\n"
     ]
    }
   ],
   "source": [
    "print( \"the accuracy score for Gradient Boosing calssifier model is  :\",  accuracy_score(y_test, gbc_pred))\n",
    "print( \"the precision score for Gradient Boosing calssifier model is :\",  precision_score(y_test, gbc_pred,average='weighted'))\n",
    "\n",
    "print( \"the recall score for Gradient Boosing calssifier model is    :\",  recall_score(y_test, gbc_pred,average='weighted'))\n",
    "print( \"the f1 score for Gradient Boosing calssifier model is        :\",  f1_score(y_test, gbc_pred,average='weighted'))\n",
    "\n",
    "print (\"the confusion matrix for GBC model is \\n \", confusion_matrix(y_test, gbc_pred))"
   ]
  },
  {
   "cell_type": "markdown",
   "id": "35d34d15",
   "metadata": {},
   "source": [
    " Gradientboost: Hyperparameter Tunning"
   ]
  },
  {
   "cell_type": "code",
   "execution_count": 92,
   "id": "7be202fe",
   "metadata": {},
   "outputs": [],
   "source": [
    "n_estimators =[20,40,]\n",
    "\n",
    "max_depth  =  [2,6]\n",
    "\n",
    "max_features = [0.2,0.4]"
   ]
  },
  {
   "cell_type": "code",
   "execution_count": 93,
   "id": "6a2725c1",
   "metadata": {},
   "outputs": [
    {
     "name": "stdout",
     "output_type": "stream",
     "text": [
      "{'n_estimators': [20, 40], 'max_depth': [2, 6], 'max_features': [0.2, 0.4]}\n"
     ]
    }
   ],
   "source": [
    "para_grid ={ 'n_estimators' :n_estimators,\n",
    "            \n",
    "             'max_depth'    : max_depth,\n",
    "            \n",
    "             'max_features': max_features\n",
    "           }\n",
    "print(para_grid)"
   ]
  },
  {
   "cell_type": "code",
   "execution_count": 94,
   "id": "604484d5",
   "metadata": {},
   "outputs": [
    {
     "data": {
      "text/plain": [
       "'\\ngb = GradientBoostingClassifier()\\ngb_grid = GridSearchCV(estimator = gb,\\n                      param_grid=para_grid,\\n                      n_jobs = -1)\\ngb_grid.fit(x_train,y_train)\\n'"
      ]
     },
     "execution_count": 94,
     "metadata": {},
     "output_type": "execute_result"
    }
   ],
   "source": [
    "\n",
    "gb = GradientBoostingClassifier()\n",
    "gb_grid = GridSearchCV(estimator = gb,\n",
    "                      param_grid=para_grid,\n",
    "                      n_jobs = -1)\n",
    "gb_grid.fit(x_train,y_train)\n",
    "\n"
   ]
  },
  {
   "cell_type": "code",
   "execution_count": 95,
   "id": "f77a4a7c",
   "metadata": {},
   "outputs": [
    {
     "data": {
      "text/plain": [
       "'\\ngb_grid.best_params_\\n'"
      ]
     },
     "execution_count": 95,
     "metadata": {},
     "output_type": "execute_result"
    }
   ],
   "source": [
    "\n",
    "gb_grid.best_params_\n"
   ]
  },
  {
   "cell_type": "code",
   "execution_count": 96,
   "id": "5251d10b",
   "metadata": {},
   "outputs": [],
   "source": [
    "trf7 = GradientBoostingClassifier(max_depth= 6, max_features= 0.4, n_estimators= 40)\n",
    "pipe_gb.fit(x_train, y_train)\n",
    "gb_pred =pipe_gb.predict(x_test)"
   ]
  },
  {
   "cell_type": "code",
   "execution_count": 97,
   "id": "672fc5c6",
   "metadata": {},
   "outputs": [
    {
     "name": "stdout",
     "output_type": "stream",
     "text": [
      "the accuracy score for Gradient Boosing calssifier model is  : 0.22193877551020408\n",
      "the precision score for Gradient Boosing calssifier model is : 0.4366263375180286\n",
      "the recall score for Gradient Boosing calssifier model is    : 0.22193877551020408\n",
      "the f1 score for Gradient Boosing calssifier model is        : 0.11041092772299055\n",
      "the confusion matrix for GBC model is \n",
      "  [[  0 955   0   0   0]\n",
      " [  0 934   0   0   0]\n",
      " [  0 951   0   0   0]\n",
      " [  0 913   0  22   0]\n",
      " [  0 841   0   0  88]]\n"
     ]
    }
   ],
   "source": [
    "print( \"the accuracy score for Gradient Boosing calssifier model is  :\",  accuracy_score(y_test, gb_pred))\n",
    "\n",
    "print( \"the precision score for Gradient Boosing calssifier model is :\",  precision_score(y_test, gb_pred,average='weighted'))\n",
    "print( \"the recall score for Gradient Boosing calssifier model is    :\",  recall_score(y_test, gb_pred,average='weighted'))\n",
    "\n",
    "print( \"the f1 score for Gradient Boosing calssifier model is        :\",  f1_score(y_test, gb_pred,average='weighted'))\n",
    "print (\"the confusion matrix for GBC model is \\n \", confusion_matrix(y_test, gb_pred))"
   ]
  },
  {
   "cell_type": "markdown",
   "id": "6530ad3b",
   "metadata": {},
   "source": [
    "#### 4. model : XGBoost \n",
    "    "
   ]
  },
  {
   "cell_type": "code",
   "execution_count": 98,
   "id": "e6153950",
   "metadata": {},
   "outputs": [],
   "source": [
    "\n",
    "trf1 = ColumnTransformer([('impute_companyname', SimpleImputer(strategy = 'most_frequent'),[0]),\n",
    "                          ('impute_financial_department', SimpleImputer(strategy = 'most_frequent'),[1]),\n",
    "                          ('impute_fincial_account_group', SimpleImputer(strategy = 'most_frequent'),[2]),\n",
    "                          ('impute_vendor_name', SimpleImputer(strategy = 'most_frequent'),[3])],\n",
    "                         remainder = 'passthrough')\n",
    "\n",
    "trf2 = ColumnTransformer([('ohe_all_four',OneHotEncoder(sparse = False,handle_unknown = 'ignore'),[0,1,2,3])],\n",
    "                        remainder = 'passthrough')\n",
    "\n",
    "trf3 = ColumnTransformer([('scale', MinMaxScaler(),slice(0,1558))\n",
    "                         ])\n",
    "\n",
    "trf4 = SelectKBest(score_func = chi2,k = 7)\n",
    "\n",
    "trf8 = XGBClassifier()\n",
    "\n",
    "pipe_xgb = Pipeline([('trf1',trf1),\n",
    "                 ('trf2',trf2),\n",
    "                 ('trf3',trf3),\n",
    "                 ('trf4',trf4),\n",
    "                 ('trf8',trf8)])"
   ]
  },
  {
   "cell_type": "code",
   "execution_count": 99,
   "id": "8e8e7831",
   "metadata": {},
   "outputs": [
    {
     "name": "stdout",
     "output_type": "stream",
     "text": [
      "[19:16:37] WARNING: C:/Users/Administrator/workspace/xgboost-win64_release_1.5.1/src/learner.cc:1115: Starting in XGBoost 1.3.0, the default evaluation metric used with the objective 'multi:softprob' was changed from 'merror' to 'mlogloss'. Explicitly set eval_metric if you'd like to restore the old behavior.\n"
     ]
    },
    {
     "data": {
      "text/html": [
       "<style>#sk-container-id-3 {color: black;background-color: white;}#sk-container-id-3 pre{padding: 0;}#sk-container-id-3 div.sk-toggleable {background-color: white;}#sk-container-id-3 label.sk-toggleable__label {cursor: pointer;display: block;width: 100%;margin-bottom: 0;padding: 0.3em;box-sizing: border-box;text-align: center;}#sk-container-id-3 label.sk-toggleable__label-arrow:before {content: \"▸\";float: left;margin-right: 0.25em;color: #696969;}#sk-container-id-3 label.sk-toggleable__label-arrow:hover:before {color: black;}#sk-container-id-3 div.sk-estimator:hover label.sk-toggleable__label-arrow:before {color: black;}#sk-container-id-3 div.sk-toggleable__content {max-height: 0;max-width: 0;overflow: hidden;text-align: left;background-color: #f0f8ff;}#sk-container-id-3 div.sk-toggleable__content pre {margin: 0.2em;color: black;border-radius: 0.25em;background-color: #f0f8ff;}#sk-container-id-3 input.sk-toggleable__control:checked~div.sk-toggleable__content {max-height: 200px;max-width: 100%;overflow: auto;}#sk-container-id-3 input.sk-toggleable__control:checked~label.sk-toggleable__label-arrow:before {content: \"▾\";}#sk-container-id-3 div.sk-estimator input.sk-toggleable__control:checked~label.sk-toggleable__label {background-color: #d4ebff;}#sk-container-id-3 div.sk-label input.sk-toggleable__control:checked~label.sk-toggleable__label {background-color: #d4ebff;}#sk-container-id-3 input.sk-hidden--visually {border: 0;clip: rect(1px 1px 1px 1px);clip: rect(1px, 1px, 1px, 1px);height: 1px;margin: -1px;overflow: hidden;padding: 0;position: absolute;width: 1px;}#sk-container-id-3 div.sk-estimator {font-family: monospace;background-color: #f0f8ff;border: 1px dotted black;border-radius: 0.25em;box-sizing: border-box;margin-bottom: 0.5em;}#sk-container-id-3 div.sk-estimator:hover {background-color: #d4ebff;}#sk-container-id-3 div.sk-parallel-item::after {content: \"\";width: 100%;border-bottom: 1px solid gray;flex-grow: 1;}#sk-container-id-3 div.sk-label:hover label.sk-toggleable__label {background-color: #d4ebff;}#sk-container-id-3 div.sk-serial::before {content: \"\";position: absolute;border-left: 1px solid gray;box-sizing: border-box;top: 0;bottom: 0;left: 50%;z-index: 0;}#sk-container-id-3 div.sk-serial {display: flex;flex-direction: column;align-items: center;background-color: white;padding-right: 0.2em;padding-left: 0.2em;position: relative;}#sk-container-id-3 div.sk-item {position: relative;z-index: 1;}#sk-container-id-3 div.sk-parallel {display: flex;align-items: stretch;justify-content: center;background-color: white;position: relative;}#sk-container-id-3 div.sk-item::before, #sk-container-id-3 div.sk-parallel-item::before {content: \"\";position: absolute;border-left: 1px solid gray;box-sizing: border-box;top: 0;bottom: 0;left: 50%;z-index: -1;}#sk-container-id-3 div.sk-parallel-item {display: flex;flex-direction: column;z-index: 1;position: relative;background-color: white;}#sk-container-id-3 div.sk-parallel-item:first-child::after {align-self: flex-end;width: 50%;}#sk-container-id-3 div.sk-parallel-item:last-child::after {align-self: flex-start;width: 50%;}#sk-container-id-3 div.sk-parallel-item:only-child::after {width: 0;}#sk-container-id-3 div.sk-dashed-wrapped {border: 1px dashed gray;margin: 0 0.4em 0.5em 0.4em;box-sizing: border-box;padding-bottom: 0.4em;background-color: white;}#sk-container-id-3 div.sk-label label {font-family: monospace;font-weight: bold;display: inline-block;line-height: 1.2em;}#sk-container-id-3 div.sk-label-container {text-align: center;}#sk-container-id-3 div.sk-container {/* jupyter's `normalize.less` sets `[hidden] { display: none; }` but bootstrap.min.css set `[hidden] { display: none !important; }` so we also need the `!important` here to be able to override the default hidden behavior on the sphinx rendered scikit-learn.org. See: https://github.com/scikit-learn/scikit-learn/issues/21755 */display: inline-block !important;position: relative;}#sk-container-id-3 div.sk-text-repr-fallback {display: none;}</style><div id=\"sk-container-id-3\" class=\"sk-top-container\"><div class=\"sk-text-repr-fallback\"><pre>Pipeline(steps=[(&#x27;trf1&#x27;,\n",
       "                 ColumnTransformer(remainder=&#x27;passthrough&#x27;,\n",
       "                                   transformers=[(&#x27;impute_companyname&#x27;,\n",
       "                                                  SimpleImputer(strategy=&#x27;most_frequent&#x27;),\n",
       "                                                  [0]),\n",
       "                                                 (&#x27;impute_financial_department&#x27;,\n",
       "                                                  SimpleImputer(strategy=&#x27;most_frequent&#x27;),\n",
       "                                                  [1]),\n",
       "                                                 (&#x27;impute_fincial_account_group&#x27;,\n",
       "                                                  SimpleImputer(strategy=&#x27;most_frequent&#x27;),\n",
       "                                                  [2]),\n",
       "                                                 (&#x27;impute_vendor_name&#x27;,\n",
       "                                                  SimpleImputer(strategy=&#x27;most...\n",
       "                               interaction_constraints=&#x27;&#x27;,\n",
       "                               learning_rate=0.300000012, max_delta_step=0,\n",
       "                               max_depth=6, min_child_weight=1, missing=nan,\n",
       "                               monotone_constraints=&#x27;()&#x27;, n_estimators=100,\n",
       "                               n_jobs=4, num_parallel_tree=1,\n",
       "                               objective=&#x27;multi:softprob&#x27;, predictor=&#x27;auto&#x27;,\n",
       "                               random_state=0, reg_alpha=0, reg_lambda=1,\n",
       "                               scale_pos_weight=None, subsample=1,\n",
       "                               tree_method=&#x27;exact&#x27;, validate_parameters=1,\n",
       "                               verbosity=None))])</pre><b>In a Jupyter environment, please rerun this cell to show the HTML representation or trust the notebook. <br />On GitHub, the HTML representation is unable to render, please try loading this page with nbviewer.org.</b></div><div class=\"sk-container\" hidden><div class=\"sk-item sk-dashed-wrapped\"><div class=\"sk-label-container\"><div class=\"sk-label sk-toggleable\"><input class=\"sk-toggleable__control sk-hidden--visually\" id=\"sk-estimator-id-45\" type=\"checkbox\" ><label for=\"sk-estimator-id-45\" class=\"sk-toggleable__label sk-toggleable__label-arrow\">Pipeline</label><div class=\"sk-toggleable__content\"><pre>Pipeline(steps=[(&#x27;trf1&#x27;,\n",
       "                 ColumnTransformer(remainder=&#x27;passthrough&#x27;,\n",
       "                                   transformers=[(&#x27;impute_companyname&#x27;,\n",
       "                                                  SimpleImputer(strategy=&#x27;most_frequent&#x27;),\n",
       "                                                  [0]),\n",
       "                                                 (&#x27;impute_financial_department&#x27;,\n",
       "                                                  SimpleImputer(strategy=&#x27;most_frequent&#x27;),\n",
       "                                                  [1]),\n",
       "                                                 (&#x27;impute_fincial_account_group&#x27;,\n",
       "                                                  SimpleImputer(strategy=&#x27;most_frequent&#x27;),\n",
       "                                                  [2]),\n",
       "                                                 (&#x27;impute_vendor_name&#x27;,\n",
       "                                                  SimpleImputer(strategy=&#x27;most...\n",
       "                               interaction_constraints=&#x27;&#x27;,\n",
       "                               learning_rate=0.300000012, max_delta_step=0,\n",
       "                               max_depth=6, min_child_weight=1, missing=nan,\n",
       "                               monotone_constraints=&#x27;()&#x27;, n_estimators=100,\n",
       "                               n_jobs=4, num_parallel_tree=1,\n",
       "                               objective=&#x27;multi:softprob&#x27;, predictor=&#x27;auto&#x27;,\n",
       "                               random_state=0, reg_alpha=0, reg_lambda=1,\n",
       "                               scale_pos_weight=None, subsample=1,\n",
       "                               tree_method=&#x27;exact&#x27;, validate_parameters=1,\n",
       "                               verbosity=None))])</pre></div></div></div><div class=\"sk-serial\"><div class=\"sk-item sk-dashed-wrapped\"><div class=\"sk-label-container\"><div class=\"sk-label sk-toggleable\"><input class=\"sk-toggleable__control sk-hidden--visually\" id=\"sk-estimator-id-46\" type=\"checkbox\" ><label for=\"sk-estimator-id-46\" class=\"sk-toggleable__label sk-toggleable__label-arrow\">trf1: ColumnTransformer</label><div class=\"sk-toggleable__content\"><pre>ColumnTransformer(remainder=&#x27;passthrough&#x27;,\n",
       "                  transformers=[(&#x27;impute_companyname&#x27;,\n",
       "                                 SimpleImputer(strategy=&#x27;most_frequent&#x27;), [0]),\n",
       "                                (&#x27;impute_financial_department&#x27;,\n",
       "                                 SimpleImputer(strategy=&#x27;most_frequent&#x27;), [1]),\n",
       "                                (&#x27;impute_fincial_account_group&#x27;,\n",
       "                                 SimpleImputer(strategy=&#x27;most_frequent&#x27;), [2]),\n",
       "                                (&#x27;impute_vendor_name&#x27;,\n",
       "                                 SimpleImputer(strategy=&#x27;most_frequent&#x27;),\n",
       "                                 [3])])</pre></div></div></div><div class=\"sk-parallel\"><div class=\"sk-parallel-item\"><div class=\"sk-item\"><div class=\"sk-label-container\"><div class=\"sk-label sk-toggleable\"><input class=\"sk-toggleable__control sk-hidden--visually\" id=\"sk-estimator-id-47\" type=\"checkbox\" ><label for=\"sk-estimator-id-47\" class=\"sk-toggleable__label sk-toggleable__label-arrow\">impute_companyname</label><div class=\"sk-toggleable__content\"><pre>[0]</pre></div></div></div><div class=\"sk-serial\"><div class=\"sk-item\"><div class=\"sk-estimator sk-toggleable\"><input class=\"sk-toggleable__control sk-hidden--visually\" id=\"sk-estimator-id-48\" type=\"checkbox\" ><label for=\"sk-estimator-id-48\" class=\"sk-toggleable__label sk-toggleable__label-arrow\">SimpleImputer</label><div class=\"sk-toggleable__content\"><pre>SimpleImputer(strategy=&#x27;most_frequent&#x27;)</pre></div></div></div></div></div></div><div class=\"sk-parallel-item\"><div class=\"sk-item\"><div class=\"sk-label-container\"><div class=\"sk-label sk-toggleable\"><input class=\"sk-toggleable__control sk-hidden--visually\" id=\"sk-estimator-id-49\" type=\"checkbox\" ><label for=\"sk-estimator-id-49\" class=\"sk-toggleable__label sk-toggleable__label-arrow\">impute_financial_department</label><div class=\"sk-toggleable__content\"><pre>[1]</pre></div></div></div><div class=\"sk-serial\"><div class=\"sk-item\"><div class=\"sk-estimator sk-toggleable\"><input class=\"sk-toggleable__control sk-hidden--visually\" id=\"sk-estimator-id-50\" type=\"checkbox\" ><label for=\"sk-estimator-id-50\" class=\"sk-toggleable__label sk-toggleable__label-arrow\">SimpleImputer</label><div class=\"sk-toggleable__content\"><pre>SimpleImputer(strategy=&#x27;most_frequent&#x27;)</pre></div></div></div></div></div></div><div class=\"sk-parallel-item\"><div class=\"sk-item\"><div class=\"sk-label-container\"><div class=\"sk-label sk-toggleable\"><input class=\"sk-toggleable__control sk-hidden--visually\" id=\"sk-estimator-id-51\" type=\"checkbox\" ><label for=\"sk-estimator-id-51\" class=\"sk-toggleable__label sk-toggleable__label-arrow\">impute_fincial_account_group</label><div class=\"sk-toggleable__content\"><pre>[2]</pre></div></div></div><div class=\"sk-serial\"><div class=\"sk-item\"><div class=\"sk-estimator sk-toggleable\"><input class=\"sk-toggleable__control sk-hidden--visually\" id=\"sk-estimator-id-52\" type=\"checkbox\" ><label for=\"sk-estimator-id-52\" class=\"sk-toggleable__label sk-toggleable__label-arrow\">SimpleImputer</label><div class=\"sk-toggleable__content\"><pre>SimpleImputer(strategy=&#x27;most_frequent&#x27;)</pre></div></div></div></div></div></div><div class=\"sk-parallel-item\"><div class=\"sk-item\"><div class=\"sk-label-container\"><div class=\"sk-label sk-toggleable\"><input class=\"sk-toggleable__control sk-hidden--visually\" id=\"sk-estimator-id-53\" type=\"checkbox\" ><label for=\"sk-estimator-id-53\" class=\"sk-toggleable__label sk-toggleable__label-arrow\">impute_vendor_name</label><div class=\"sk-toggleable__content\"><pre>[3]</pre></div></div></div><div class=\"sk-serial\"><div class=\"sk-item\"><div class=\"sk-estimator sk-toggleable\"><input class=\"sk-toggleable__control sk-hidden--visually\" id=\"sk-estimator-id-54\" type=\"checkbox\" ><label for=\"sk-estimator-id-54\" class=\"sk-toggleable__label sk-toggleable__label-arrow\">SimpleImputer</label><div class=\"sk-toggleable__content\"><pre>SimpleImputer(strategy=&#x27;most_frequent&#x27;)</pre></div></div></div></div></div></div><div class=\"sk-parallel-item\"><div class=\"sk-item\"><div class=\"sk-label-container\"><div class=\"sk-label sk-toggleable\"><input class=\"sk-toggleable__control sk-hidden--visually\" id=\"sk-estimator-id-55\" type=\"checkbox\" ><label for=\"sk-estimator-id-55\" class=\"sk-toggleable__label sk-toggleable__label-arrow\">remainder</label><div class=\"sk-toggleable__content\"><pre>[&#x27;CompanyName_B1&#x27;, &#x27;CompanyName_B2&#x27;, &#x27;CompanyName_B3&#x27;, &#x27;CompanyName_B4&#x27;, &#x27;CompanyName_B5&#x27;, &#x27;CompanyName_B6&#x27;, &#x27;CompanyName_B7&#x27;, &#x27;CompanyName_B8&#x27;, &#x27;Financial Department_D1&#x27;, &#x27;Financial Department_D10&#x27;, &#x27;Financial Department_D11&#x27;, &#x27;Financial Department_D12&#x27;, &#x27;Financial Department_D13&#x27;, &#x27;Financial Department_D14&#x27;, &#x27;Financial Department_D15&#x27;, &#x27;Financial Department_D16&#x27;, &#x27;Financial Department_D17&#x27;, &#x27;Financial Department_D18&#x27;, &#x27;Financial Department_D19&#x27;, &#x27;Financial Department_D2&#x27;, &#x27;Financial Department_D20&#x27;, &#x27;Financial Department_D21&#x27;, &#x27;Financial Department_D22&#x27;, &#x27;Financial Department_D23&#x27;, &#x27;Financial Department_D24&#x27;, &#x27;Financial Department_D25&#x27;, &#x27;Financial Department_D26&#x27;, &#x27;Financial Department_D3&#x27;, &#x27;Financial Department_D4&#x27;, &#x27;Financial Department_D5&#x27;, &#x27;Financial Department_D6&#x27;, &#x27;Financial Department_D7&#x27;, &#x27;Financial Department_D8&#x27;, &#x27;Financial Department_D9&#x27;, &#x27;Financial AccountGroup_C1&#x27;, &#x27;Financial AccountGroup_C10&#x27;, &#x27;Financial AccountGroup_C11&#x27;, &#x27;Financial AccountGroup_C12&#x27;, &#x27;Financial AccountGroup_C2&#x27;, &#x27;Financial AccountGroup_C3&#x27;, &#x27;Financial AccountGroup_C4&#x27;, &#x27;Financial AccountGroup_C5&#x27;, &#x27;Financial AccountGroup_C6&#x27;, &#x27;Financial AccountGroup_C7&#x27;, &#x27;Financial AccountGroup_C8&#x27;, &#x27;Financial AccountGroup_C9&#x27;, &#x27;VendorName_E1&#x27;, &#x27;VendorName_E10&#x27;, &#x27;VendorName_E100&#x27;, &#x27;VendorName_E1000&#x27;, &#x27;VendorName_E1001&#x27;, &#x27;VendorName_E1002&#x27;, &#x27;VendorName_E1003&#x27;, &#x27;VendorName_E1004&#x27;, &#x27;VendorName_E1005&#x27;, &#x27;VendorName_E1006&#x27;, &#x27;VendorName_E1007&#x27;, &#x27;VendorName_E1008&#x27;, &#x27;VendorName_E1009&#x27;, &#x27;VendorName_E101&#x27;, &#x27;VendorName_E1010&#x27;, &#x27;VendorName_E1011&#x27;, &#x27;VendorName_E1012&#x27;, &#x27;VendorName_E1013&#x27;, &#x27;VendorName_E1014&#x27;, &#x27;VendorName_E1015&#x27;, &#x27;VendorName_E1016&#x27;, &#x27;VendorName_E1017&#x27;, &#x27;VendorName_E1018&#x27;, &#x27;VendorName_E1019&#x27;, &#x27;VendorName_E102&#x27;, &#x27;VendorName_E1020&#x27;, &#x27;VendorName_E1021&#x27;, &#x27;VendorName_E1022&#x27;, &#x27;VendorName_E1023&#x27;, &#x27;VendorName_E1024&#x27;, &#x27;VendorName_E1025&#x27;, &#x27;VendorName_E1026&#x27;, &#x27;VendorName_E1027&#x27;, &#x27;VendorName_E1028&#x27;, &#x27;VendorName_E1029&#x27;, &#x27;VendorName_E103&#x27;, &#x27;VendorName_E1030&#x27;, &#x27;VendorName_E1031&#x27;, &#x27;VendorName_E1032&#x27;, &#x27;VendorName_E1033&#x27;, &#x27;VendorName_E1034&#x27;, &#x27;VendorName_E1035&#x27;, &#x27;VendorName_E1036&#x27;, &#x27;VendorName_E1037&#x27;, &#x27;VendorName_E1038&#x27;, &#x27;VendorName_E1039&#x27;, &#x27;VendorName_E104&#x27;, &#x27;VendorName_E1040&#x27;, &#x27;VendorName_E1041&#x27;, &#x27;VendorName_E1042&#x27;, &#x27;VendorName_E1043&#x27;, &#x27;VendorName_E1044&#x27;, &#x27;VendorName_E1045&#x27;, &#x27;VendorName_E1046&#x27;, &#x27;VendorName_E1047&#x27;, &#x27;VendorName_E1048&#x27;, &#x27;VendorName_E1049&#x27;, &#x27;VendorName_E105&#x27;, &#x27;VendorName_E1050&#x27;, &#x27;VendorName_E1051&#x27;, &#x27;VendorName_E1052&#x27;, &#x27;VendorName_E1053&#x27;, &#x27;VendorName_E1054&#x27;, &#x27;VendorName_E1055&#x27;, &#x27;VendorName_E1056&#x27;, &#x27;VendorName_E1057&#x27;, &#x27;VendorName_E1058&#x27;, &#x27;VendorName_E1059&#x27;, &#x27;VendorName_E106&#x27;, &#x27;VendorName_E1060&#x27;, &#x27;VendorName_E1061&#x27;, &#x27;VendorName_E1062&#x27;, &#x27;VendorName_E1063&#x27;, &#x27;VendorName_E1064&#x27;, &#x27;VendorName_E1065&#x27;, &#x27;VendorName_E1066&#x27;, &#x27;VendorName_E1067&#x27;, &#x27;VendorName_E1068&#x27;, &#x27;VendorName_E1069&#x27;, &#x27;VendorName_E107&#x27;, &#x27;VendorName_E1070&#x27;, &#x27;VendorName_E1071&#x27;, &#x27;VendorName_E1072&#x27;, &#x27;VendorName_E1073&#x27;, &#x27;VendorName_E1074&#x27;, &#x27;VendorName_E1075&#x27;, &#x27;VendorName_E1076&#x27;, &#x27;VendorName_E1077&#x27;, &#x27;VendorName_E1078&#x27;, &#x27;VendorName_E1079&#x27;, &#x27;VendorName_E108&#x27;, &#x27;VendorName_E1080&#x27;, &#x27;VendorName_E1081&#x27;, &#x27;VendorName_E1082&#x27;, &#x27;VendorName_E1083&#x27;, &#x27;VendorName_E1084&#x27;, &#x27;VendorName_E1085&#x27;, &#x27;VendorName_E1086&#x27;, &#x27;VendorName_E1087&#x27;, &#x27;VendorName_E1088&#x27;, &#x27;VendorName_E1089&#x27;, &#x27;VendorName_E109&#x27;, &#x27;VendorName_E1090&#x27;, &#x27;VendorName_E1091&#x27;, &#x27;VendorName_E1092&#x27;, &#x27;VendorName_E1093&#x27;, &#x27;VendorName_E1094&#x27;, &#x27;VendorName_E1095&#x27;, &#x27;VendorName_E1096&#x27;, &#x27;VendorName_E1097&#x27;, &#x27;VendorName_E1098&#x27;, &#x27;VendorName_E1099&#x27;, &#x27;VendorName_E11&#x27;, &#x27;VendorName_E110&#x27;, &#x27;VendorName_E1100&#x27;, &#x27;VendorName_E1101&#x27;, &#x27;VendorName_E1102&#x27;, &#x27;VendorName_E1103&#x27;, &#x27;VendorName_E1104&#x27;, &#x27;VendorName_E1105&#x27;, &#x27;VendorName_E1106&#x27;, &#x27;VendorName_E1107&#x27;, &#x27;VendorName_E1108&#x27;, &#x27;VendorName_E1109&#x27;, &#x27;VendorName_E111&#x27;, &#x27;VendorName_E1110&#x27;, &#x27;VendorName_E1111&#x27;, &#x27;VendorName_E1112&#x27;, &#x27;VendorName_E1113&#x27;, &#x27;VendorName_E1114&#x27;, &#x27;VendorName_E1115&#x27;, &#x27;VendorName_E1116&#x27;, &#x27;VendorName_E1117&#x27;, &#x27;VendorName_E1118&#x27;, &#x27;VendorName_E1119&#x27;, &#x27;VendorName_E112&#x27;, &#x27;VendorName_E1120&#x27;, &#x27;VendorName_E1121&#x27;, &#x27;VendorName_E1122&#x27;, &#x27;VendorName_E1123&#x27;, &#x27;VendorName_E1124&#x27;, &#x27;VendorName_E1125&#x27;, &#x27;VendorName_E1126&#x27;, &#x27;VendorName_E1127&#x27;, &#x27;VendorName_E1128&#x27;, &#x27;VendorName_E1129&#x27;, &#x27;VendorName_E113&#x27;, &#x27;VendorName_E1130&#x27;, &#x27;VendorName_E1131&#x27;, &#x27;VendorName_E1132&#x27;, &#x27;VendorName_E1133&#x27;, &#x27;VendorName_E1134&#x27;, &#x27;VendorName_E1135&#x27;, &#x27;VendorName_E1136&#x27;, &#x27;VendorName_E1137&#x27;, &#x27;VendorName_E1138&#x27;, &#x27;VendorName_E1139&#x27;, &#x27;VendorName_E114&#x27;, &#x27;VendorName_E1140&#x27;, &#x27;VendorName_E1141&#x27;, &#x27;VendorName_E1142&#x27;, &#x27;VendorName_E1143&#x27;, &#x27;VendorName_E1144&#x27;, &#x27;VendorName_E1145&#x27;, &#x27;VendorName_E1146&#x27;, &#x27;VendorName_E1147&#x27;, &#x27;VendorName_E1148&#x27;, &#x27;VendorName_E1149&#x27;, &#x27;VendorName_E115&#x27;, &#x27;VendorName_E1150&#x27;, &#x27;VendorName_E1151&#x27;, &#x27;VendorName_E1152&#x27;, &#x27;VendorName_E1153&#x27;, &#x27;VendorName_E1154&#x27;, &#x27;VendorName_E1155&#x27;, &#x27;VendorName_E1156&#x27;, &#x27;VendorName_E1157&#x27;, &#x27;VendorName_E1158&#x27;, &#x27;VendorName_E1159&#x27;, &#x27;VendorName_E116&#x27;, &#x27;VendorName_E1160&#x27;, &#x27;VendorName_E1161&#x27;, &#x27;VendorName_E1162&#x27;, &#x27;VendorName_E1163&#x27;, &#x27;VendorName_E1164&#x27;, &#x27;VendorName_E1165&#x27;, &#x27;VendorName_E1166&#x27;, &#x27;VendorName_E1167&#x27;, &#x27;VendorName_E1168&#x27;, &#x27;VendorName_E1169&#x27;, &#x27;VendorName_E117&#x27;, &#x27;VendorName_E1170&#x27;, &#x27;VendorName_E1171&#x27;, &#x27;VendorName_E1172&#x27;, &#x27;VendorName_E1173&#x27;, &#x27;VendorName_E1174&#x27;, &#x27;VendorName_E1175&#x27;, &#x27;VendorName_E1176&#x27;, &#x27;VendorName_E1177&#x27;, &#x27;VendorName_E1178&#x27;, &#x27;VendorName_E1179&#x27;, &#x27;VendorName_E118&#x27;, &#x27;VendorName_E1180&#x27;, &#x27;VendorName_E1181&#x27;, &#x27;VendorName_E1182&#x27;, &#x27;VendorName_E1183&#x27;, &#x27;VendorName_E1184&#x27;, &#x27;VendorName_E1185&#x27;, &#x27;VendorName_E1186&#x27;, &#x27;VendorName_E1187&#x27;, &#x27;VendorName_E1188&#x27;, &#x27;VendorName_E1189&#x27;, &#x27;VendorName_E119&#x27;, &#x27;VendorName_E1190&#x27;, &#x27;VendorName_E1191&#x27;, &#x27;VendorName_E1192&#x27;, &#x27;VendorName_E1193&#x27;, &#x27;VendorName_E1194&#x27;, &#x27;VendorName_E1195&#x27;, &#x27;VendorName_E1196&#x27;, &#x27;VendorName_E1197&#x27;, &#x27;VendorName_E1198&#x27;, &#x27;VendorName_E1199&#x27;, &#x27;VendorName_E12&#x27;, &#x27;VendorName_E120&#x27;, &#x27;VendorName_E1200&#x27;, &#x27;VendorName_E1201&#x27;, &#x27;VendorName_E1202&#x27;, &#x27;VendorName_E1203&#x27;, &#x27;VendorName_E1204&#x27;, &#x27;VendorName_E1205&#x27;, &#x27;VendorName_E1206&#x27;, &#x27;VendorName_E1207&#x27;, &#x27;VendorName_E1208&#x27;, &#x27;VendorName_E1209&#x27;, &#x27;VendorName_E121&#x27;, &#x27;VendorName_E1210&#x27;, &#x27;VendorName_E1211&#x27;, &#x27;VendorName_E1212&#x27;, &#x27;VendorName_E1213&#x27;, &#x27;VendorName_E1214&#x27;, &#x27;VendorName_E1215&#x27;, &#x27;VendorName_E1216&#x27;, &#x27;VendorName_E1217&#x27;, &#x27;VendorName_E1218&#x27;, &#x27;VendorName_E1219&#x27;, &#x27;VendorName_E122&#x27;, &#x27;VendorName_E1220&#x27;, &#x27;VendorName_E1221&#x27;, &#x27;VendorName_E1222&#x27;, &#x27;VendorName_E1223&#x27;, &#x27;VendorName_E1224&#x27;, &#x27;VendorName_E1225&#x27;, &#x27;VendorName_E1226&#x27;, &#x27;VendorName_E1227&#x27;, &#x27;VendorName_E1228&#x27;, &#x27;VendorName_E1229&#x27;, &#x27;VendorName_E123&#x27;, &#x27;VendorName_E1230&#x27;, &#x27;VendorName_E1231&#x27;, &#x27;VendorName_E1232&#x27;, &#x27;VendorName_E1233&#x27;, &#x27;VendorName_E1234&#x27;, &#x27;VendorName_E1235&#x27;, &#x27;VendorName_E1236&#x27;, &#x27;VendorName_E1237&#x27;, &#x27;VendorName_E1238&#x27;, &#x27;VendorName_E1239&#x27;, &#x27;VendorName_E124&#x27;, &#x27;VendorName_E1240&#x27;, &#x27;VendorName_E1241&#x27;, &#x27;VendorName_E1242&#x27;, &#x27;VendorName_E1243&#x27;, &#x27;VendorName_E1244&#x27;, &#x27;VendorName_E1245&#x27;, &#x27;VendorName_E1246&#x27;, &#x27;VendorName_E1247&#x27;, &#x27;VendorName_E1248&#x27;, &#x27;VendorName_E1249&#x27;, &#x27;VendorName_E125&#x27;, &#x27;VendorName_E1250&#x27;, &#x27;VendorName_E1251&#x27;, &#x27;VendorName_E1252&#x27;, &#x27;VendorName_E1253&#x27;, &#x27;VendorName_E1254&#x27;, &#x27;VendorName_E1255&#x27;, &#x27;VendorName_E1256&#x27;, &#x27;VendorName_E1257&#x27;, &#x27;VendorName_E1258&#x27;, &#x27;VendorName_E1259&#x27;, &#x27;VendorName_E126&#x27;, &#x27;VendorName_E1260&#x27;, &#x27;VendorName_E1261&#x27;, &#x27;VendorName_E1262&#x27;, &#x27;VendorName_E1263&#x27;, &#x27;VendorName_E1264&#x27;, &#x27;VendorName_E1265&#x27;, &#x27;VendorName_E1266&#x27;, &#x27;VendorName_E1267&#x27;, &#x27;VendorName_E1268&#x27;, &#x27;VendorName_E1269&#x27;, &#x27;VendorName_E127&#x27;, &#x27;VendorName_E1270&#x27;, &#x27;VendorName_E1271&#x27;, &#x27;VendorName_E1272&#x27;, &#x27;VendorName_E1273&#x27;, &#x27;VendorName_E1274&#x27;, &#x27;VendorName_E1275&#x27;, &#x27;VendorName_E1276&#x27;, &#x27;VendorName_E1277&#x27;, &#x27;VendorName_E1278&#x27;, &#x27;VendorName_E1279&#x27;, &#x27;VendorName_E128&#x27;, &#x27;VendorName_E1280&#x27;, &#x27;VendorName_E1281&#x27;, &#x27;VendorName_E1282&#x27;, &#x27;VendorName_E1283&#x27;, &#x27;VendorName_E1284&#x27;, &#x27;VendorName_E1285&#x27;, &#x27;VendorName_E1286&#x27;, &#x27;VendorName_E1287&#x27;, &#x27;VendorName_E1288&#x27;, &#x27;VendorName_E1289&#x27;, &#x27;VendorName_E129&#x27;, &#x27;VendorName_E1290&#x27;, &#x27;VendorName_E1291&#x27;, &#x27;VendorName_E1292&#x27;, &#x27;VendorName_E1293&#x27;, &#x27;VendorName_E1294&#x27;, &#x27;VendorName_E1295&#x27;, &#x27;VendorName_E1296&#x27;, &#x27;VendorName_E1297&#x27;, &#x27;VendorName_E1298&#x27;, &#x27;VendorName_E1299&#x27;, &#x27;VendorName_E13&#x27;, &#x27;VendorName_E130&#x27;, &#x27;VendorName_E1300&#x27;, &#x27;VendorName_E1301&#x27;, &#x27;VendorName_E1302&#x27;, &#x27;VendorName_E1303&#x27;, &#x27;VendorName_E1304&#x27;, &#x27;VendorName_E1305&#x27;, &#x27;VendorName_E1306&#x27;, &#x27;VendorName_E1307&#x27;, &#x27;VendorName_E1308&#x27;, &#x27;VendorName_E1309&#x27;, &#x27;VendorName_E131&#x27;, &#x27;VendorName_E1310&#x27;, &#x27;VendorName_E1311&#x27;, &#x27;VendorName_E1312&#x27;, &#x27;VendorName_E1313&#x27;, &#x27;VendorName_E1314&#x27;, &#x27;VendorName_E1315&#x27;, &#x27;VendorName_E1316&#x27;, &#x27;VendorName_E1317&#x27;, &#x27;VendorName_E1318&#x27;, &#x27;VendorName_E1319&#x27;, &#x27;VendorName_E132&#x27;, &#x27;VendorName_E1320&#x27;, &#x27;VendorName_E1321&#x27;, &#x27;VendorName_E1322&#x27;, &#x27;VendorName_E1323&#x27;, &#x27;VendorName_E1324&#x27;, &#x27;VendorName_E1325&#x27;, &#x27;VendorName_E1326&#x27;, &#x27;VendorName_E1327&#x27;, &#x27;VendorName_E1328&#x27;, &#x27;VendorName_E1329&#x27;, &#x27;VendorName_E133&#x27;, &#x27;VendorName_E1330&#x27;, &#x27;VendorName_E1331&#x27;, &#x27;VendorName_E1332&#x27;, &#x27;VendorName_E1333&#x27;, &#x27;VendorName_E1334&#x27;, &#x27;VendorName_E1335&#x27;, &#x27;VendorName_E1336&#x27;, &#x27;VendorName_E1337&#x27;, &#x27;VendorName_E1338&#x27;, &#x27;VendorName_E1339&#x27;, &#x27;VendorName_E134&#x27;, &#x27;VendorName_E1340&#x27;, &#x27;VendorName_E1341&#x27;, &#x27;VendorName_E1342&#x27;, &#x27;VendorName_E1343&#x27;, &#x27;VendorName_E1344&#x27;, &#x27;VendorName_E1345&#x27;, &#x27;VendorName_E1346&#x27;, &#x27;VendorName_E1347&#x27;, &#x27;VendorName_E1348&#x27;, &#x27;VendorName_E1349&#x27;, &#x27;VendorName_E135&#x27;, &#x27;VendorName_E1350&#x27;, &#x27;VendorName_E1351&#x27;, &#x27;VendorName_E1352&#x27;, &#x27;VendorName_E1353&#x27;, &#x27;VendorName_E1354&#x27;, &#x27;VendorName_E1355&#x27;, &#x27;VendorName_E1356&#x27;, &#x27;VendorName_E1357&#x27;, &#x27;VendorName_E1358&#x27;, &#x27;VendorName_E1359&#x27;, &#x27;VendorName_E136&#x27;, &#x27;VendorName_E1360&#x27;, &#x27;VendorName_E1361&#x27;, &#x27;VendorName_E1362&#x27;, &#x27;VendorName_E1363&#x27;, &#x27;VendorName_E1364&#x27;, &#x27;VendorName_E1365&#x27;, &#x27;VendorName_E1366&#x27;, &#x27;VendorName_E1367&#x27;, &#x27;VendorName_E1368&#x27;, &#x27;VendorName_E1369&#x27;, &#x27;VendorName_E137&#x27;, &#x27;VendorName_E1370&#x27;, &#x27;VendorName_E1371&#x27;, &#x27;VendorName_E1372&#x27;, &#x27;VendorName_E1373&#x27;, &#x27;VendorName_E1374&#x27;, &#x27;VendorName_E1375&#x27;, &#x27;VendorName_E1376&#x27;, &#x27;VendorName_E1377&#x27;, &#x27;VendorName_E1378&#x27;, &#x27;VendorName_E1379&#x27;, &#x27;VendorName_E138&#x27;, &#x27;VendorName_E1380&#x27;, &#x27;VendorName_E1381&#x27;, &#x27;VendorName_E1382&#x27;, &#x27;VendorName_E1383&#x27;, &#x27;VendorName_E1384&#x27;, &#x27;VendorName_E1385&#x27;, &#x27;VendorName_E1386&#x27;, &#x27;VendorName_E1387&#x27;, &#x27;VendorName_E1388&#x27;, &#x27;VendorName_E1389&#x27;, &#x27;VendorName_E139&#x27;, &#x27;VendorName_E1390&#x27;, &#x27;VendorName_E1391&#x27;, &#x27;VendorName_E1392&#x27;, &#x27;VendorName_E1393&#x27;, &#x27;VendorName_E1394&#x27;, &#x27;VendorName_E1395&#x27;, &#x27;VendorName_E1396&#x27;, &#x27;VendorName_E1397&#x27;, &#x27;VendorName_E1398&#x27;, &#x27;VendorName_E1399&#x27;, &#x27;VendorName_E14&#x27;, &#x27;VendorName_E140&#x27;, &#x27;VendorName_E1400&#x27;, &#x27;VendorName_E1401&#x27;, &#x27;VendorName_E1402&#x27;, &#x27;VendorName_E1403&#x27;, &#x27;VendorName_E1404&#x27;, &#x27;VendorName_E1405&#x27;, &#x27;VendorName_E1406&#x27;, &#x27;VendorName_E1407&#x27;, &#x27;VendorName_E1408&#x27;, &#x27;VendorName_E1409&#x27;, &#x27;VendorName_E141&#x27;, &#x27;VendorName_E1410&#x27;, &#x27;VendorName_E1411&#x27;, &#x27;VendorName_E1412&#x27;, &#x27;VendorName_E1413&#x27;, &#x27;VendorName_E1414&#x27;, &#x27;VendorName_E1415&#x27;, &#x27;VendorName_E1416&#x27;, &#x27;VendorName_E1417&#x27;, &#x27;VendorName_E1418&#x27;, &#x27;VendorName_E1419&#x27;, &#x27;VendorName_E142&#x27;, &#x27;VendorName_E1420&#x27;, &#x27;VendorName_E1421&#x27;, &#x27;VendorName_E1422&#x27;, &#x27;VendorName_E1423&#x27;, &#x27;VendorName_E1424&#x27;, &#x27;VendorName_E1425&#x27;, &#x27;VendorName_E1426&#x27;, &#x27;VendorName_E1427&#x27;, &#x27;VendorName_E1428&#x27;, &#x27;VendorName_E1429&#x27;, &#x27;VendorName_E143&#x27;, &#x27;VendorName_E1430&#x27;, &#x27;VendorName_E1431&#x27;, &#x27;VendorName_E1432&#x27;, &#x27;VendorName_E1433&#x27;, &#x27;VendorName_E1434&#x27;, &#x27;VendorName_E1435&#x27;, &#x27;VendorName_E1436&#x27;, &#x27;VendorName_E1437&#x27;, &#x27;VendorName_E1438&#x27;, &#x27;VendorName_E1439&#x27;, &#x27;VendorName_E144&#x27;, &#x27;VendorName_E1440&#x27;, &#x27;VendorName_E1441&#x27;, &#x27;VendorName_E1442&#x27;, &#x27;VendorName_E1443&#x27;, &#x27;VendorName_E1444&#x27;, &#x27;VendorName_E1445&#x27;, &#x27;VendorName_E1446&#x27;, &#x27;VendorName_E1447&#x27;, &#x27;VendorName_E1448&#x27;, &#x27;VendorName_E1449&#x27;, &#x27;VendorName_E145&#x27;, &#x27;VendorName_E1450&#x27;, &#x27;VendorName_E1451&#x27;, &#x27;VendorName_E1452&#x27;, &#x27;VendorName_E1453&#x27;, &#x27;VendorName_E1454&#x27;, &#x27;VendorName_E1455&#x27;, &#x27;VendorName_E1456&#x27;, &#x27;VendorName_E1457&#x27;, &#x27;VendorName_E1458&#x27;, &#x27;VendorName_E1459&#x27;, &#x27;VendorName_E146&#x27;, &#x27;VendorName_E1460&#x27;, &#x27;VendorName_E1461&#x27;, &#x27;VendorName_E1462&#x27;, &#x27;VendorName_E1463&#x27;, &#x27;VendorName_E1464&#x27;, &#x27;VendorName_E1465&#x27;, &#x27;VendorName_E1466&#x27;, &#x27;VendorName_E1467&#x27;, &#x27;VendorName_E1468&#x27;, &#x27;VendorName_E1469&#x27;, &#x27;VendorName_E147&#x27;, &#x27;VendorName_E1470&#x27;, &#x27;VendorName_E1471&#x27;, &#x27;VendorName_E1472&#x27;, &#x27;VendorName_E1473&#x27;, &#x27;VendorName_E1474&#x27;, &#x27;VendorName_E1475&#x27;, &#x27;VendorName_E1476&#x27;, &#x27;VendorName_E1477&#x27;, &#x27;VendorName_E1478&#x27;, &#x27;VendorName_E1479&#x27;, &#x27;VendorName_E148&#x27;, &#x27;VendorName_E1480&#x27;, &#x27;VendorName_E1481&#x27;, &#x27;VendorName_E1482&#x27;, &#x27;VendorName_E1483&#x27;, &#x27;VendorName_E1484&#x27;, &#x27;VendorName_E1485&#x27;, &#x27;VendorName_E1486&#x27;, &#x27;VendorName_E1487&#x27;, &#x27;VendorName_E1488&#x27;, &#x27;VendorName_E1489&#x27;, &#x27;VendorName_E149&#x27;, &#x27;VendorName_E1490&#x27;, &#x27;VendorName_E1491&#x27;, &#x27;VendorName_E1492&#x27;, &#x27;VendorName_E1493&#x27;, &#x27;VendorName_E1494&#x27;, &#x27;VendorName_E1495&#x27;, &#x27;VendorName_E1496&#x27;, &#x27;VendorName_E1497&#x27;, &#x27;VendorName_E1498&#x27;, &#x27;VendorName_E1499&#x27;, &#x27;VendorName_E15&#x27;, &#x27;VendorName_E150&#x27;, &#x27;VendorName_E1500&#x27;, &#x27;VendorName_E1501&#x27;, &#x27;VendorName_E1502&#x27;, &#x27;VendorName_E1503&#x27;, &#x27;VendorName_E1504&#x27;, &#x27;VendorName_E1505&#x27;, &#x27;VendorName_E1506&#x27;, &#x27;VendorName_E1507&#x27;, &#x27;VendorName_E1508&#x27;, &#x27;VendorName_E151&#x27;, &#x27;VendorName_E152&#x27;, &#x27;VendorName_E153&#x27;, &#x27;VendorName_E154&#x27;, &#x27;VendorName_E155&#x27;, &#x27;VendorName_E156&#x27;, &#x27;VendorName_E157&#x27;, &#x27;VendorName_E158&#x27;, &#x27;VendorName_E159&#x27;, &#x27;VendorName_E16&#x27;, &#x27;VendorName_E160&#x27;, &#x27;VendorName_E161&#x27;, &#x27;VendorName_E162&#x27;, &#x27;VendorName_E163&#x27;, &#x27;VendorName_E164&#x27;, &#x27;VendorName_E165&#x27;, &#x27;VendorName_E166&#x27;, &#x27;VendorName_E167&#x27;, &#x27;VendorName_E168&#x27;, &#x27;VendorName_E169&#x27;, &#x27;VendorName_E17&#x27;, &#x27;VendorName_E170&#x27;, &#x27;VendorName_E171&#x27;, &#x27;VendorName_E172&#x27;, &#x27;VendorName_E173&#x27;, &#x27;VendorName_E174&#x27;, &#x27;VendorName_E175&#x27;, &#x27;VendorName_E176&#x27;, &#x27;VendorName_E177&#x27;, &#x27;VendorName_E178&#x27;, &#x27;VendorName_E179&#x27;, &#x27;VendorName_E18&#x27;, &#x27;VendorName_E180&#x27;, &#x27;VendorName_E181&#x27;, &#x27;VendorName_E182&#x27;, &#x27;VendorName_E183&#x27;, &#x27;VendorName_E184&#x27;, &#x27;VendorName_E185&#x27;, &#x27;VendorName_E186&#x27;, &#x27;VendorName_E187&#x27;, &#x27;VendorName_E188&#x27;, &#x27;VendorName_E189&#x27;, &#x27;VendorName_E19&#x27;, &#x27;VendorName_E190&#x27;, &#x27;VendorName_E191&#x27;, &#x27;VendorName_E192&#x27;, &#x27;VendorName_E193&#x27;, &#x27;VendorName_E194&#x27;, &#x27;VendorName_E195&#x27;, &#x27;VendorName_E196&#x27;, &#x27;VendorName_E197&#x27;, &#x27;VendorName_E198&#x27;, &#x27;VendorName_E199&#x27;, &#x27;VendorName_E2&#x27;, &#x27;VendorName_E20&#x27;, &#x27;VendorName_E200&#x27;, &#x27;VendorName_E201&#x27;, &#x27;VendorName_E202&#x27;, &#x27;VendorName_E203&#x27;, &#x27;VendorName_E204&#x27;, &#x27;VendorName_E205&#x27;, &#x27;VendorName_E206&#x27;, &#x27;VendorName_E207&#x27;, &#x27;VendorName_E208&#x27;, &#x27;VendorName_E209&#x27;, &#x27;VendorName_E21&#x27;, &#x27;VendorName_E210&#x27;, &#x27;VendorName_E211&#x27;, &#x27;VendorName_E212&#x27;, &#x27;VendorName_E213&#x27;, &#x27;VendorName_E214&#x27;, &#x27;VendorName_E215&#x27;, &#x27;VendorName_E216&#x27;, &#x27;VendorName_E217&#x27;, &#x27;VendorName_E218&#x27;, &#x27;VendorName_E219&#x27;, &#x27;VendorName_E22&#x27;, &#x27;VendorName_E220&#x27;, &#x27;VendorName_E221&#x27;, &#x27;VendorName_E222&#x27;, &#x27;VendorName_E223&#x27;, &#x27;VendorName_E224&#x27;, &#x27;VendorName_E225&#x27;, &#x27;VendorName_E226&#x27;, &#x27;VendorName_E227&#x27;, &#x27;VendorName_E228&#x27;, &#x27;VendorName_E229&#x27;, &#x27;VendorName_E23&#x27;, &#x27;VendorName_E230&#x27;, &#x27;VendorName_E231&#x27;, &#x27;VendorName_E232&#x27;, &#x27;VendorName_E233&#x27;, &#x27;VendorName_E234&#x27;, &#x27;VendorName_E235&#x27;, &#x27;VendorName_E236&#x27;, &#x27;VendorName_E237&#x27;, &#x27;VendorName_E238&#x27;, &#x27;VendorName_E239&#x27;, &#x27;VendorName_E24&#x27;, &#x27;VendorName_E240&#x27;, &#x27;VendorName_E241&#x27;, &#x27;VendorName_E242&#x27;, &#x27;VendorName_E243&#x27;, &#x27;VendorName_E244&#x27;, &#x27;VendorName_E245&#x27;, &#x27;VendorName_E246&#x27;, &#x27;VendorName_E247&#x27;, &#x27;VendorName_E248&#x27;, &#x27;VendorName_E249&#x27;, &#x27;VendorName_E25&#x27;, &#x27;VendorName_E250&#x27;, &#x27;VendorName_E251&#x27;, &#x27;VendorName_E252&#x27;, &#x27;VendorName_E253&#x27;, &#x27;VendorName_E254&#x27;, &#x27;VendorName_E255&#x27;, &#x27;VendorName_E256&#x27;, &#x27;VendorName_E257&#x27;, &#x27;VendorName_E258&#x27;, &#x27;VendorName_E259&#x27;, &#x27;VendorName_E26&#x27;, &#x27;VendorName_E260&#x27;, &#x27;VendorName_E261&#x27;, &#x27;VendorName_E262&#x27;, &#x27;VendorName_E263&#x27;, &#x27;VendorName_E264&#x27;, &#x27;VendorName_E265&#x27;, &#x27;VendorName_E266&#x27;, &#x27;VendorName_E267&#x27;, &#x27;VendorName_E268&#x27;, &#x27;VendorName_E269&#x27;, &#x27;VendorName_E27&#x27;, &#x27;VendorName_E270&#x27;, &#x27;VendorName_E271&#x27;, &#x27;VendorName_E272&#x27;, &#x27;VendorName_E273&#x27;, &#x27;VendorName_E274&#x27;, &#x27;VendorName_E275&#x27;, &#x27;VendorName_E276&#x27;, &#x27;VendorName_E277&#x27;, &#x27;VendorName_E278&#x27;, &#x27;VendorName_E279&#x27;, &#x27;VendorName_E28&#x27;, &#x27;VendorName_E280&#x27;, &#x27;VendorName_E281&#x27;, &#x27;VendorName_E282&#x27;, &#x27;VendorName_E283&#x27;, &#x27;VendorName_E284&#x27;, &#x27;VendorName_E285&#x27;, &#x27;VendorName_E286&#x27;, &#x27;VendorName_E287&#x27;, &#x27;VendorName_E288&#x27;, &#x27;VendorName_E289&#x27;, &#x27;VendorName_E29&#x27;, &#x27;VendorName_E290&#x27;, &#x27;VendorName_E291&#x27;, &#x27;VendorName_E292&#x27;, &#x27;VendorName_E293&#x27;, &#x27;VendorName_E294&#x27;, &#x27;VendorName_E295&#x27;, &#x27;VendorName_E296&#x27;, &#x27;VendorName_E297&#x27;, &#x27;VendorName_E298&#x27;, &#x27;VendorName_E299&#x27;, &#x27;VendorName_E3&#x27;, &#x27;VendorName_E30&#x27;, &#x27;VendorName_E300&#x27;, &#x27;VendorName_E301&#x27;, &#x27;VendorName_E302&#x27;, &#x27;VendorName_E303&#x27;, &#x27;VendorName_E304&#x27;, &#x27;VendorName_E305&#x27;, &#x27;VendorName_E306&#x27;, &#x27;VendorName_E307&#x27;, &#x27;VendorName_E308&#x27;, &#x27;VendorName_E309&#x27;, &#x27;VendorName_E31&#x27;, &#x27;VendorName_E310&#x27;, &#x27;VendorName_E311&#x27;, &#x27;VendorName_E312&#x27;, &#x27;VendorName_E313&#x27;, &#x27;VendorName_E314&#x27;, &#x27;VendorName_E315&#x27;, &#x27;VendorName_E316&#x27;, &#x27;VendorName_E317&#x27;, &#x27;VendorName_E318&#x27;, &#x27;VendorName_E319&#x27;, &#x27;VendorName_E32&#x27;, &#x27;VendorName_E320&#x27;, &#x27;VendorName_E321&#x27;, &#x27;VendorName_E322&#x27;, &#x27;VendorName_E323&#x27;, &#x27;VendorName_E324&#x27;, &#x27;VendorName_E325&#x27;, &#x27;VendorName_E326&#x27;, &#x27;VendorName_E327&#x27;, &#x27;VendorName_E328&#x27;, &#x27;VendorName_E329&#x27;, &#x27;VendorName_E33&#x27;, &#x27;VendorName_E330&#x27;, &#x27;VendorName_E331&#x27;, &#x27;VendorName_E332&#x27;, &#x27;VendorName_E333&#x27;, &#x27;VendorName_E334&#x27;, &#x27;VendorName_E335&#x27;, &#x27;VendorName_E336&#x27;, &#x27;VendorName_E337&#x27;, &#x27;VendorName_E338&#x27;, &#x27;VendorName_E339&#x27;, &#x27;VendorName_E34&#x27;, &#x27;VendorName_E340&#x27;, &#x27;VendorName_E341&#x27;, &#x27;VendorName_E342&#x27;, &#x27;VendorName_E343&#x27;, &#x27;VendorName_E344&#x27;, &#x27;VendorName_E345&#x27;, &#x27;VendorName_E346&#x27;, &#x27;VendorName_E347&#x27;, &#x27;VendorName_E348&#x27;, &#x27;VendorName_E349&#x27;, &#x27;VendorName_E35&#x27;, &#x27;VendorName_E350&#x27;, &#x27;VendorName_E351&#x27;, &#x27;VendorName_E352&#x27;, &#x27;VendorName_E353&#x27;, &#x27;VendorName_E354&#x27;, &#x27;VendorName_E355&#x27;, &#x27;VendorName_E356&#x27;, &#x27;VendorName_E357&#x27;, &#x27;VendorName_E358&#x27;, &#x27;VendorName_E359&#x27;, &#x27;VendorName_E36&#x27;, &#x27;VendorName_E360&#x27;, &#x27;VendorName_E361&#x27;, &#x27;VendorName_E362&#x27;, &#x27;VendorName_E363&#x27;, &#x27;VendorName_E364&#x27;, &#x27;VendorName_E365&#x27;, &#x27;VendorName_E366&#x27;, &#x27;VendorName_E367&#x27;, &#x27;VendorName_E368&#x27;, &#x27;VendorName_E369&#x27;, &#x27;VendorName_E37&#x27;, &#x27;VendorName_E370&#x27;, &#x27;VendorName_E371&#x27;, &#x27;VendorName_E372&#x27;, &#x27;VendorName_E373&#x27;, &#x27;VendorName_E374&#x27;, &#x27;VendorName_E375&#x27;, &#x27;VendorName_E376&#x27;, &#x27;VendorName_E377&#x27;, &#x27;VendorName_E378&#x27;, &#x27;VendorName_E379&#x27;, &#x27;VendorName_E38&#x27;, &#x27;VendorName_E380&#x27;, &#x27;VendorName_E381&#x27;, &#x27;VendorName_E382&#x27;, &#x27;VendorName_E383&#x27;, &#x27;VendorName_E384&#x27;, &#x27;VendorName_E385&#x27;, &#x27;VendorName_E386&#x27;, &#x27;VendorName_E387&#x27;, &#x27;VendorName_E388&#x27;, &#x27;VendorName_E389&#x27;, &#x27;VendorName_E39&#x27;, &#x27;VendorName_E390&#x27;, &#x27;VendorName_E391&#x27;, &#x27;VendorName_E392&#x27;, &#x27;VendorName_E393&#x27;, &#x27;VendorName_E394&#x27;, &#x27;VendorName_E395&#x27;, &#x27;VendorName_E396&#x27;, &#x27;VendorName_E397&#x27;, &#x27;VendorName_E398&#x27;, &#x27;VendorName_E399&#x27;, &#x27;VendorName_E4&#x27;, &#x27;VendorName_E40&#x27;, &#x27;VendorName_E400&#x27;, &#x27;VendorName_E401&#x27;, &#x27;VendorName_E402&#x27;, &#x27;VendorName_E403&#x27;, &#x27;VendorName_E404&#x27;, &#x27;VendorName_E405&#x27;, &#x27;VendorName_E406&#x27;, &#x27;VendorName_E407&#x27;, &#x27;VendorName_E408&#x27;, &#x27;VendorName_E409&#x27;, &#x27;VendorName_E41&#x27;, &#x27;VendorName_E410&#x27;, &#x27;VendorName_E411&#x27;, &#x27;VendorName_E412&#x27;, &#x27;VendorName_E413&#x27;, &#x27;VendorName_E414&#x27;, &#x27;VendorName_E415&#x27;, &#x27;VendorName_E416&#x27;, &#x27;VendorName_E417&#x27;, &#x27;VendorName_E418&#x27;, &#x27;VendorName_E419&#x27;, &#x27;VendorName_E42&#x27;, &#x27;VendorName_E420&#x27;, &#x27;VendorName_E421&#x27;, &#x27;VendorName_E422&#x27;, &#x27;VendorName_E423&#x27;, &#x27;VendorName_E424&#x27;, &#x27;VendorName_E425&#x27;, &#x27;VendorName_E426&#x27;, &#x27;VendorName_E427&#x27;, &#x27;VendorName_E428&#x27;, &#x27;VendorName_E429&#x27;, &#x27;VendorName_E43&#x27;, &#x27;VendorName_E430&#x27;, &#x27;VendorName_E431&#x27;, &#x27;VendorName_E432&#x27;, &#x27;VendorName_E433&#x27;, &#x27;VendorName_E434&#x27;, &#x27;VendorName_E435&#x27;, &#x27;VendorName_E436&#x27;, &#x27;VendorName_E437&#x27;, &#x27;VendorName_E438&#x27;, &#x27;VendorName_E439&#x27;, &#x27;VendorName_E44&#x27;, &#x27;VendorName_E440&#x27;, &#x27;VendorName_E441&#x27;, &#x27;VendorName_E442&#x27;, &#x27;VendorName_E443&#x27;, &#x27;VendorName_E444&#x27;, &#x27;VendorName_E445&#x27;, &#x27;VendorName_E446&#x27;, &#x27;VendorName_E447&#x27;, &#x27;VendorName_E448&#x27;, &#x27;VendorName_E449&#x27;, &#x27;VendorName_E45&#x27;, &#x27;VendorName_E450&#x27;, &#x27;VendorName_E451&#x27;, &#x27;VendorName_E452&#x27;, &#x27;VendorName_E453&#x27;, &#x27;VendorName_E454&#x27;, &#x27;VendorName_E455&#x27;, &#x27;VendorName_E456&#x27;, &#x27;VendorName_E457&#x27;, &#x27;VendorName_E458&#x27;, &#x27;VendorName_E459&#x27;, &#x27;VendorName_E46&#x27;, &#x27;VendorName_E460&#x27;, &#x27;VendorName_E461&#x27;, &#x27;VendorName_E462&#x27;, &#x27;VendorName_E463&#x27;, &#x27;VendorName_E464&#x27;, &#x27;VendorName_E465&#x27;, &#x27;VendorName_E466&#x27;, &#x27;VendorName_E467&#x27;, &#x27;VendorName_E468&#x27;, &#x27;VendorName_E469&#x27;, &#x27;VendorName_E47&#x27;, &#x27;VendorName_E470&#x27;, &#x27;VendorName_E471&#x27;, &#x27;VendorName_E472&#x27;, &#x27;VendorName_E473&#x27;, &#x27;VendorName_E474&#x27;, &#x27;VendorName_E475&#x27;, &#x27;VendorName_E476&#x27;, &#x27;VendorName_E477&#x27;, &#x27;VendorName_E478&#x27;, &#x27;VendorName_E479&#x27;, &#x27;VendorName_E48&#x27;, &#x27;VendorName_E480&#x27;, &#x27;VendorName_E481&#x27;, &#x27;VendorName_E482&#x27;, &#x27;VendorName_E483&#x27;, &#x27;VendorName_E484&#x27;, &#x27;VendorName_E485&#x27;, &#x27;VendorName_E486&#x27;, &#x27;VendorName_E487&#x27;, &#x27;VendorName_E488&#x27;, &#x27;VendorName_E489&#x27;, &#x27;VendorName_E49&#x27;, &#x27;VendorName_E490&#x27;, &#x27;VendorName_E491&#x27;, &#x27;VendorName_E492&#x27;, &#x27;VendorName_E493&#x27;, &#x27;VendorName_E494&#x27;, &#x27;VendorName_E495&#x27;, &#x27;VendorName_E496&#x27;, &#x27;VendorName_E497&#x27;, &#x27;VendorName_E498&#x27;, &#x27;VendorName_E499&#x27;, &#x27;VendorName_E5&#x27;, &#x27;VendorName_E50&#x27;, &#x27;VendorName_E500&#x27;, &#x27;VendorName_E501&#x27;, &#x27;VendorName_E502&#x27;, &#x27;VendorName_E503&#x27;, &#x27;VendorName_E504&#x27;, &#x27;VendorName_E505&#x27;, &#x27;VendorName_E506&#x27;, &#x27;VendorName_E507&#x27;, &#x27;VendorName_E508&#x27;, &#x27;VendorName_E509&#x27;, &#x27;VendorName_E51&#x27;, &#x27;VendorName_E510&#x27;, &#x27;VendorName_E511&#x27;, &#x27;VendorName_E512&#x27;, &#x27;VendorName_E513&#x27;, &#x27;VendorName_E514&#x27;, &#x27;VendorName_E515&#x27;, &#x27;VendorName_E516&#x27;, &#x27;VendorName_E517&#x27;, &#x27;VendorName_E518&#x27;, &#x27;VendorName_E519&#x27;, &#x27;VendorName_E52&#x27;, &#x27;VendorName_E520&#x27;, &#x27;VendorName_E521&#x27;, &#x27;VendorName_E522&#x27;, &#x27;VendorName_E523&#x27;, &#x27;VendorName_E524&#x27;, &#x27;VendorName_E525&#x27;, &#x27;VendorName_E526&#x27;, &#x27;VendorName_E527&#x27;, &#x27;VendorName_E528&#x27;, &#x27;VendorName_E529&#x27;, &#x27;VendorName_E53&#x27;, &#x27;VendorName_E530&#x27;, &#x27;VendorName_E531&#x27;, &#x27;VendorName_E532&#x27;, &#x27;VendorName_E533&#x27;, &#x27;VendorName_E534&#x27;, &#x27;VendorName_E535&#x27;, &#x27;VendorName_E536&#x27;, &#x27;VendorName_E537&#x27;, &#x27;VendorName_E538&#x27;, &#x27;VendorName_E539&#x27;, &#x27;VendorName_E54&#x27;, &#x27;VendorName_E540&#x27;, &#x27;VendorName_E541&#x27;, &#x27;VendorName_E542&#x27;, &#x27;VendorName_E543&#x27;, &#x27;VendorName_E544&#x27;, &#x27;VendorName_E545&#x27;, &#x27;VendorName_E546&#x27;, &#x27;VendorName_E547&#x27;, &#x27;VendorName_E548&#x27;, &#x27;VendorName_E549&#x27;, &#x27;VendorName_E55&#x27;, &#x27;VendorName_E550&#x27;, &#x27;VendorName_E551&#x27;, &#x27;VendorName_E552&#x27;, &#x27;VendorName_E553&#x27;, &#x27;VendorName_E554&#x27;, &#x27;VendorName_E555&#x27;, &#x27;VendorName_E556&#x27;, &#x27;VendorName_E557&#x27;, &#x27;VendorName_E558&#x27;, &#x27;VendorName_E559&#x27;, &#x27;VendorName_E56&#x27;, &#x27;VendorName_E560&#x27;, &#x27;VendorName_E561&#x27;, &#x27;VendorName_E562&#x27;, &#x27;VendorName_E563&#x27;, &#x27;VendorName_E564&#x27;, &#x27;VendorName_E565&#x27;, &#x27;VendorName_E566&#x27;, &#x27;VendorName_E567&#x27;, &#x27;VendorName_E568&#x27;, &#x27;VendorName_E569&#x27;, &#x27;VendorName_E57&#x27;, &#x27;VendorName_E570&#x27;, &#x27;VendorName_E571&#x27;, &#x27;VendorName_E572&#x27;, &#x27;VendorName_E573&#x27;, &#x27;VendorName_E574&#x27;, &#x27;VendorName_E575&#x27;, &#x27;VendorName_E576&#x27;, &#x27;VendorName_E577&#x27;, &#x27;VendorName_E578&#x27;, &#x27;VendorName_E579&#x27;, &#x27;VendorName_E58&#x27;, &#x27;VendorName_E580&#x27;, &#x27;VendorName_E581&#x27;, &#x27;VendorName_E582&#x27;, &#x27;VendorName_E583&#x27;, &#x27;VendorName_E584&#x27;, &#x27;VendorName_E585&#x27;, &#x27;VendorName_E586&#x27;, &#x27;VendorName_E587&#x27;, &#x27;VendorName_E588&#x27;, &#x27;VendorName_E589&#x27;, &#x27;VendorName_E59&#x27;, &#x27;VendorName_E590&#x27;, &#x27;VendorName_E591&#x27;, &#x27;VendorName_E592&#x27;, &#x27;VendorName_E593&#x27;, &#x27;VendorName_E594&#x27;, &#x27;VendorName_E595&#x27;, &#x27;VendorName_E596&#x27;, &#x27;VendorName_E597&#x27;, &#x27;VendorName_E598&#x27;, &#x27;VendorName_E599&#x27;, &#x27;VendorName_E6&#x27;, &#x27;VendorName_E60&#x27;, &#x27;VendorName_E600&#x27;, &#x27;VendorName_E601&#x27;, &#x27;VendorName_E602&#x27;, &#x27;VendorName_E603&#x27;, &#x27;VendorName_E604&#x27;, &#x27;VendorName_E605&#x27;, &#x27;VendorName_E606&#x27;, &#x27;VendorName_E607&#x27;, &#x27;VendorName_E608&#x27;, &#x27;VendorName_E609&#x27;, &#x27;VendorName_E61&#x27;, &#x27;VendorName_E610&#x27;, &#x27;VendorName_E611&#x27;, &#x27;VendorName_E612&#x27;, &#x27;VendorName_E613&#x27;, &#x27;VendorName_E614&#x27;, &#x27;VendorName_E615&#x27;, &#x27;VendorName_E616&#x27;, &#x27;VendorName_E617&#x27;, &#x27;VendorName_E618&#x27;, &#x27;VendorName_E619&#x27;, &#x27;VendorName_E62&#x27;, &#x27;VendorName_E620&#x27;, &#x27;VendorName_E621&#x27;, &#x27;VendorName_E622&#x27;, &#x27;VendorName_E623&#x27;, &#x27;VendorName_E624&#x27;, &#x27;VendorName_E625&#x27;, &#x27;VendorName_E626&#x27;, &#x27;VendorName_E627&#x27;, &#x27;VendorName_E628&#x27;, &#x27;VendorName_E629&#x27;, &#x27;VendorName_E63&#x27;, &#x27;VendorName_E630&#x27;, &#x27;VendorName_E631&#x27;, &#x27;VendorName_E632&#x27;, &#x27;VendorName_E633&#x27;, &#x27;VendorName_E634&#x27;, &#x27;VendorName_E635&#x27;, &#x27;VendorName_E636&#x27;, &#x27;VendorName_E637&#x27;, &#x27;VendorName_E638&#x27;, &#x27;VendorName_E639&#x27;, &#x27;VendorName_E64&#x27;, &#x27;VendorName_E640&#x27;, &#x27;VendorName_E641&#x27;, &#x27;VendorName_E642&#x27;, &#x27;VendorName_E643&#x27;, &#x27;VendorName_E644&#x27;, &#x27;VendorName_E645&#x27;, &#x27;VendorName_E646&#x27;, &#x27;VendorName_E647&#x27;, &#x27;VendorName_E648&#x27;, &#x27;VendorName_E649&#x27;, &#x27;VendorName_E65&#x27;, &#x27;VendorName_E650&#x27;, &#x27;VendorName_E651&#x27;, &#x27;VendorName_E652&#x27;, &#x27;VendorName_E653&#x27;, &#x27;VendorName_E654&#x27;, &#x27;VendorName_E655&#x27;, &#x27;VendorName_E656&#x27;, &#x27;VendorName_E657&#x27;, &#x27;VendorName_E658&#x27;, &#x27;VendorName_E659&#x27;, &#x27;VendorName_E66&#x27;, &#x27;VendorName_E660&#x27;, &#x27;VendorName_E661&#x27;, &#x27;VendorName_E662&#x27;, &#x27;VendorName_E663&#x27;, &#x27;VendorName_E664&#x27;, &#x27;VendorName_E665&#x27;, &#x27;VendorName_E666&#x27;, &#x27;VendorName_E667&#x27;, &#x27;VendorName_E668&#x27;, &#x27;VendorName_E669&#x27;, &#x27;VendorName_E67&#x27;, &#x27;VendorName_E670&#x27;, &#x27;VendorName_E671&#x27;, &#x27;VendorName_E672&#x27;, &#x27;VendorName_E673&#x27;, &#x27;VendorName_E674&#x27;, &#x27;VendorName_E675&#x27;, &#x27;VendorName_E676&#x27;, &#x27;VendorName_E677&#x27;, &#x27;VendorName_E678&#x27;, &#x27;VendorName_E679&#x27;, &#x27;VendorName_E68&#x27;, &#x27;VendorName_E680&#x27;, &#x27;VendorName_E681&#x27;, &#x27;VendorName_E682&#x27;, &#x27;VendorName_E683&#x27;, &#x27;VendorName_E684&#x27;, &#x27;VendorName_E685&#x27;, &#x27;VendorName_E686&#x27;, &#x27;VendorName_E687&#x27;, &#x27;VendorName_E688&#x27;, &#x27;VendorName_E689&#x27;, &#x27;VendorName_E69&#x27;, &#x27;VendorName_E690&#x27;, &#x27;VendorName_E691&#x27;, &#x27;VendorName_E692&#x27;, &#x27;VendorName_E693&#x27;, &#x27;VendorName_E694&#x27;, &#x27;VendorName_E695&#x27;, &#x27;VendorName_E696&#x27;, &#x27;VendorName_E697&#x27;, &#x27;VendorName_E698&#x27;, &#x27;VendorName_E699&#x27;, &#x27;VendorName_E7&#x27;, &#x27;VendorName_E70&#x27;, &#x27;VendorName_E700&#x27;, &#x27;VendorName_E701&#x27;, &#x27;VendorName_E702&#x27;, &#x27;VendorName_E703&#x27;, &#x27;VendorName_E704&#x27;, &#x27;VendorName_E705&#x27;, &#x27;VendorName_E706&#x27;, &#x27;VendorName_E707&#x27;, &#x27;VendorName_E708&#x27;, &#x27;VendorName_E709&#x27;, &#x27;VendorName_E71&#x27;, &#x27;VendorName_E710&#x27;, &#x27;VendorName_E711&#x27;, &#x27;VendorName_E712&#x27;, &#x27;VendorName_E713&#x27;, &#x27;VendorName_E714&#x27;, &#x27;VendorName_E715&#x27;, &#x27;VendorName_E716&#x27;, &#x27;VendorName_E717&#x27;, &#x27;VendorName_E718&#x27;, &#x27;VendorName_E719&#x27;, &#x27;VendorName_E72&#x27;, &#x27;VendorName_E720&#x27;, &#x27;VendorName_E721&#x27;, &#x27;VendorName_E722&#x27;, &#x27;VendorName_E723&#x27;, &#x27;VendorName_E724&#x27;, &#x27;VendorName_E725&#x27;, &#x27;VendorName_E726&#x27;, &#x27;VendorName_E727&#x27;, &#x27;VendorName_E728&#x27;, &#x27;VendorName_E729&#x27;, &#x27;VendorName_E73&#x27;, &#x27;VendorName_E730&#x27;, &#x27;VendorName_E731&#x27;, &#x27;VendorName_E732&#x27;, &#x27;VendorName_E733&#x27;, &#x27;VendorName_E734&#x27;, &#x27;VendorName_E735&#x27;, &#x27;VendorName_E736&#x27;, &#x27;VendorName_E737&#x27;, &#x27;VendorName_E738&#x27;, &#x27;VendorName_E739&#x27;, &#x27;VendorName_E74&#x27;, &#x27;VendorName_E740&#x27;, &#x27;VendorName_E741&#x27;, &#x27;VendorName_E742&#x27;, &#x27;VendorName_E743&#x27;, &#x27;VendorName_E744&#x27;, &#x27;VendorName_E745&#x27;, &#x27;VendorName_E746&#x27;, &#x27;VendorName_E747&#x27;, &#x27;VendorName_E748&#x27;, &#x27;VendorName_E749&#x27;, &#x27;VendorName_E75&#x27;, &#x27;VendorName_E750&#x27;, &#x27;VendorName_E751&#x27;, &#x27;VendorName_E752&#x27;, &#x27;VendorName_E753&#x27;, &#x27;VendorName_E754&#x27;, &#x27;VendorName_E755&#x27;, &#x27;VendorName_E756&#x27;, &#x27;VendorName_E757&#x27;, &#x27;VendorName_E758&#x27;, &#x27;VendorName_E759&#x27;, &#x27;VendorName_E76&#x27;, &#x27;VendorName_E760&#x27;, &#x27;VendorName_E761&#x27;, &#x27;VendorName_E762&#x27;, &#x27;VendorName_E763&#x27;, &#x27;VendorName_E764&#x27;, &#x27;VendorName_E765&#x27;, &#x27;VendorName_E766&#x27;, &#x27;VendorName_E767&#x27;, &#x27;VendorName_E768&#x27;, &#x27;VendorName_E769&#x27;, &#x27;VendorName_E77&#x27;, &#x27;VendorName_E770&#x27;, &#x27;VendorName_E771&#x27;, &#x27;VendorName_E772&#x27;, &#x27;VendorName_E773&#x27;, &#x27;VendorName_E774&#x27;, &#x27;VendorName_E775&#x27;, &#x27;VendorName_E776&#x27;, &#x27;VendorName_E777&#x27;, &#x27;VendorName_E778&#x27;, &#x27;VendorName_E779&#x27;, &#x27;VendorName_E78&#x27;, &#x27;VendorName_E780&#x27;, &#x27;VendorName_E781&#x27;, &#x27;VendorName_E782&#x27;, &#x27;VendorName_E783&#x27;, &#x27;VendorName_E784&#x27;, &#x27;VendorName_E785&#x27;, &#x27;VendorName_E786&#x27;, &#x27;VendorName_E787&#x27;, &#x27;VendorName_E788&#x27;, &#x27;VendorName_E789&#x27;, &#x27;VendorName_E79&#x27;, &#x27;VendorName_E790&#x27;, &#x27;VendorName_E791&#x27;, &#x27;VendorName_E792&#x27;, &#x27;VendorName_E793&#x27;, &#x27;VendorName_E794&#x27;, &#x27;VendorName_E795&#x27;, &#x27;VendorName_E796&#x27;, &#x27;VendorName_E797&#x27;, &#x27;VendorName_E798&#x27;, &#x27;VendorName_E799&#x27;, &#x27;VendorName_E8&#x27;, &#x27;VendorName_E80&#x27;, &#x27;VendorName_E800&#x27;, &#x27;VendorName_E801&#x27;, &#x27;VendorName_E802&#x27;, &#x27;VendorName_E803&#x27;, &#x27;VendorName_E804&#x27;, &#x27;VendorName_E805&#x27;, &#x27;VendorName_E806&#x27;, &#x27;VendorName_E807&#x27;, &#x27;VendorName_E808&#x27;, &#x27;VendorName_E809&#x27;, &#x27;VendorName_E81&#x27;, &#x27;VendorName_E810&#x27;, &#x27;VendorName_E811&#x27;, &#x27;VendorName_E812&#x27;, &#x27;VendorName_E813&#x27;, &#x27;VendorName_E814&#x27;, &#x27;VendorName_E815&#x27;, &#x27;VendorName_E816&#x27;, &#x27;VendorName_E817&#x27;, &#x27;VendorName_E818&#x27;, &#x27;VendorName_E819&#x27;, &#x27;VendorName_E82&#x27;, &#x27;VendorName_E820&#x27;, &#x27;VendorName_E821&#x27;, &#x27;VendorName_E822&#x27;, &#x27;VendorName_E823&#x27;, &#x27;VendorName_E824&#x27;, &#x27;VendorName_E825&#x27;, &#x27;VendorName_E826&#x27;, &#x27;VendorName_E827&#x27;, &#x27;VendorName_E828&#x27;, &#x27;VendorName_E829&#x27;, &#x27;VendorName_E83&#x27;, &#x27;VendorName_E830&#x27;, &#x27;VendorName_E831&#x27;, &#x27;VendorName_E832&#x27;, &#x27;VendorName_E833&#x27;, &#x27;VendorName_E834&#x27;, &#x27;VendorName_E835&#x27;, &#x27;VendorName_E836&#x27;, &#x27;VendorName_E837&#x27;, &#x27;VendorName_E838&#x27;, &#x27;VendorName_E839&#x27;, &#x27;VendorName_E84&#x27;, &#x27;VendorName_E840&#x27;, &#x27;VendorName_E841&#x27;, &#x27;VendorName_E842&#x27;, &#x27;VendorName_E843&#x27;, &#x27;VendorName_E844&#x27;, &#x27;VendorName_E845&#x27;, &#x27;VendorName_E846&#x27;, &#x27;VendorName_E847&#x27;, &#x27;VendorName_E848&#x27;, &#x27;VendorName_E849&#x27;, &#x27;VendorName_E85&#x27;, &#x27;VendorName_E850&#x27;, &#x27;VendorName_E851&#x27;, &#x27;VendorName_E852&#x27;, &#x27;VendorName_E853&#x27;, &#x27;VendorName_E854&#x27;, &#x27;VendorName_E855&#x27;, &#x27;VendorName_E856&#x27;, &#x27;VendorName_E857&#x27;, &#x27;VendorName_E858&#x27;, &#x27;VendorName_E859&#x27;, &#x27;VendorName_E86&#x27;, &#x27;VendorName_E860&#x27;, &#x27;VendorName_E861&#x27;, &#x27;VendorName_E862&#x27;, &#x27;VendorName_E863&#x27;, &#x27;VendorName_E864&#x27;, &#x27;VendorName_E865&#x27;, &#x27;VendorName_E866&#x27;, &#x27;VendorName_E867&#x27;, &#x27;VendorName_E868&#x27;, &#x27;VendorName_E869&#x27;, &#x27;VendorName_E87&#x27;, &#x27;VendorName_E870&#x27;, &#x27;VendorName_E871&#x27;, &#x27;VendorName_E872&#x27;, &#x27;VendorName_E873&#x27;, &#x27;VendorName_E874&#x27;, &#x27;VendorName_E875&#x27;, &#x27;VendorName_E876&#x27;, &#x27;VendorName_E877&#x27;, &#x27;VendorName_E878&#x27;, &#x27;VendorName_E879&#x27;, &#x27;VendorName_E88&#x27;, &#x27;VendorName_E880&#x27;, &#x27;VendorName_E881&#x27;, &#x27;VendorName_E882&#x27;, &#x27;VendorName_E883&#x27;, &#x27;VendorName_E884&#x27;, &#x27;VendorName_E885&#x27;, &#x27;VendorName_E886&#x27;, &#x27;VendorName_E887&#x27;, &#x27;VendorName_E888&#x27;, &#x27;VendorName_E889&#x27;, &#x27;VendorName_E89&#x27;, &#x27;VendorName_E890&#x27;, &#x27;VendorName_E891&#x27;, &#x27;VendorName_E892&#x27;, &#x27;VendorName_E893&#x27;, &#x27;VendorName_E894&#x27;, &#x27;VendorName_E895&#x27;, &#x27;VendorName_E896&#x27;, &#x27;VendorName_E897&#x27;, &#x27;VendorName_E898&#x27;, &#x27;VendorName_E899&#x27;, &#x27;VendorName_E9&#x27;, &#x27;VendorName_E90&#x27;, &#x27;VendorName_E900&#x27;, &#x27;VendorName_E901&#x27;, &#x27;VendorName_E902&#x27;, &#x27;VendorName_E903&#x27;, &#x27;VendorName_E904&#x27;, &#x27;VendorName_E905&#x27;, &#x27;VendorName_E906&#x27;, &#x27;VendorName_E907&#x27;, &#x27;VendorName_E908&#x27;, &#x27;VendorName_E909&#x27;, &#x27;VendorName_E91&#x27;, &#x27;VendorName_E910&#x27;, &#x27;VendorName_E911&#x27;, &#x27;VendorName_E912&#x27;, &#x27;VendorName_E913&#x27;, &#x27;VendorName_E914&#x27;, &#x27;VendorName_E915&#x27;, &#x27;VendorName_E916&#x27;, &#x27;VendorName_E917&#x27;, &#x27;VendorName_E918&#x27;, &#x27;VendorName_E919&#x27;, &#x27;VendorName_E92&#x27;, &#x27;VendorName_E920&#x27;, &#x27;VendorName_E921&#x27;, &#x27;VendorName_E922&#x27;, &#x27;VendorName_E923&#x27;, &#x27;VendorName_E924&#x27;, &#x27;VendorName_E925&#x27;, &#x27;VendorName_E926&#x27;, &#x27;VendorName_E927&#x27;, &#x27;VendorName_E928&#x27;, &#x27;VendorName_E929&#x27;, &#x27;VendorName_E93&#x27;, &#x27;VendorName_E930&#x27;, &#x27;VendorName_E931&#x27;, &#x27;VendorName_E932&#x27;, &#x27;VendorName_E933&#x27;, &#x27;VendorName_E934&#x27;, &#x27;VendorName_E935&#x27;, &#x27;VendorName_E936&#x27;, &#x27;VendorName_E937&#x27;, &#x27;VendorName_E938&#x27;, &#x27;VendorName_E939&#x27;, &#x27;VendorName_E94&#x27;, &#x27;VendorName_E940&#x27;, &#x27;VendorName_E941&#x27;, &#x27;VendorName_E942&#x27;, &#x27;VendorName_E943&#x27;, &#x27;VendorName_E944&#x27;, &#x27;VendorName_E945&#x27;, &#x27;VendorName_E946&#x27;, &#x27;VendorName_E947&#x27;, &#x27;VendorName_E948&#x27;, &#x27;VendorName_E949&#x27;, &#x27;VendorName_E95&#x27;, &#x27;VendorName_E950&#x27;, &#x27;VendorName_E951&#x27;, &#x27;VendorName_E952&#x27;, &#x27;VendorName_E953&#x27;, &#x27;VendorName_E954&#x27;, &#x27;VendorName_E955&#x27;, &#x27;VendorName_E956&#x27;, &#x27;VendorName_E957&#x27;, &#x27;VendorName_E958&#x27;, &#x27;VendorName_E959&#x27;, &#x27;VendorName_E96&#x27;, &#x27;VendorName_E960&#x27;, &#x27;VendorName_E961&#x27;, &#x27;VendorName_E962&#x27;, &#x27;VendorName_E963&#x27;, &#x27;VendorName_E964&#x27;, &#x27;VendorName_E965&#x27;, &#x27;VendorName_E966&#x27;, &#x27;VendorName_E967&#x27;, &#x27;VendorName_E968&#x27;, &#x27;VendorName_E969&#x27;, &#x27;VendorName_E97&#x27;, &#x27;VendorName_E970&#x27;, &#x27;VendorName_E971&#x27;, &#x27;VendorName_E972&#x27;, &#x27;VendorName_E973&#x27;, &#x27;VendorName_E974&#x27;, &#x27;VendorName_E975&#x27;, &#x27;VendorName_E976&#x27;, &#x27;VendorName_E977&#x27;, &#x27;VendorName_E978&#x27;, &#x27;VendorName_E979&#x27;, &#x27;VendorName_E98&#x27;, &#x27;VendorName_E980&#x27;, &#x27;VendorName_E981&#x27;, &#x27;VendorName_E982&#x27;, &#x27;VendorName_E983&#x27;, &#x27;VendorName_E984&#x27;, &#x27;VendorName_E985&#x27;, &#x27;VendorName_E986&#x27;, &#x27;VendorName_E987&#x27;, &#x27;VendorName_E988&#x27;, &#x27;VendorName_E989&#x27;, &#x27;VendorName_E99&#x27;, &#x27;VendorName_E990&#x27;, &#x27;VendorName_E991&#x27;, &#x27;VendorName_E992&#x27;, &#x27;VendorName_E993&#x27;, &#x27;VendorName_E994&#x27;, &#x27;VendorName_E995&#x27;, &#x27;VendorName_E996&#x27;, &#x27;VendorName_E997&#x27;, &#x27;VendorName_E998&#x27;, &#x27;VendorName_E999&#x27;]</pre></div></div></div><div class=\"sk-serial\"><div class=\"sk-item\"><div class=\"sk-estimator sk-toggleable\"><input class=\"sk-toggleable__control sk-hidden--visually\" id=\"sk-estimator-id-56\" type=\"checkbox\" ><label for=\"sk-estimator-id-56\" class=\"sk-toggleable__label sk-toggleable__label-arrow\">passthrough</label><div class=\"sk-toggleable__content\"><pre>passthrough</pre></div></div></div></div></div></div></div></div><div class=\"sk-item sk-dashed-wrapped\"><div class=\"sk-label-container\"><div class=\"sk-label sk-toggleable\"><input class=\"sk-toggleable__control sk-hidden--visually\" id=\"sk-estimator-id-57\" type=\"checkbox\" ><label for=\"sk-estimator-id-57\" class=\"sk-toggleable__label sk-toggleable__label-arrow\">trf2: ColumnTransformer</label><div class=\"sk-toggleable__content\"><pre>ColumnTransformer(remainder=&#x27;passthrough&#x27;,\n",
       "                  transformers=[(&#x27;ohe_all_four&#x27;,\n",
       "                                 OneHotEncoder(handle_unknown=&#x27;ignore&#x27;,\n",
       "                                               sparse=False),\n",
       "                                 [0, 1, 2, 3])])</pre></div></div></div><div class=\"sk-parallel\"><div class=\"sk-parallel-item\"><div class=\"sk-item\"><div class=\"sk-label-container\"><div class=\"sk-label sk-toggleable\"><input class=\"sk-toggleable__control sk-hidden--visually\" id=\"sk-estimator-id-58\" type=\"checkbox\" ><label for=\"sk-estimator-id-58\" class=\"sk-toggleable__label sk-toggleable__label-arrow\">ohe_all_four</label><div class=\"sk-toggleable__content\"><pre>[0, 1, 2, 3]</pre></div></div></div><div class=\"sk-serial\"><div class=\"sk-item\"><div class=\"sk-estimator sk-toggleable\"><input class=\"sk-toggleable__control sk-hidden--visually\" id=\"sk-estimator-id-59\" type=\"checkbox\" ><label for=\"sk-estimator-id-59\" class=\"sk-toggleable__label sk-toggleable__label-arrow\">OneHotEncoder</label><div class=\"sk-toggleable__content\"><pre>OneHotEncoder(handle_unknown=&#x27;ignore&#x27;, sparse=False)</pre></div></div></div></div></div></div><div class=\"sk-parallel-item\"><div class=\"sk-item\"><div class=\"sk-label-container\"><div class=\"sk-label sk-toggleable\"><input class=\"sk-toggleable__control sk-hidden--visually\" id=\"sk-estimator-id-60\" type=\"checkbox\" ><label for=\"sk-estimator-id-60\" class=\"sk-toggleable__label sk-toggleable__label-arrow\">remainder</label><div class=\"sk-toggleable__content\"><pre>[4, 5, 6, 7, 8, 9, 10, 11, 12, 13, 14, 15, 16, 17, 18, 19, 20, 21, 22, 23, 24, 25, 26, 27, 28, 29, 30, 31, 32, 33, 34, 35, 36, 37, 38, 39, 40, 41, 42, 43, 44, 45, 46, 47, 48, 49, 50, 51, 52, 53, 54, 55, 56, 57, 58, 59, 60, 61, 62, 63, 64, 65, 66, 67, 68, 69, 70, 71, 72, 73, 74, 75, 76, 77, 78, 79, 80, 81, 82, 83, 84, 85, 86, 87, 88, 89, 90, 91, 92, 93, 94, 95, 96, 97, 98, 99, 100, 101, 102, 103, 104, 105, 106, 107, 108, 109, 110, 111, 112, 113, 114, 115, 116, 117, 118, 119, 120, 121, 122, 123, 124, 125, 126, 127, 128, 129, 130, 131, 132, 133, 134, 135, 136, 137, 138, 139, 140, 141, 142, 143, 144, 145, 146, 147, 148, 149, 150, 151, 152, 153, 154, 155, 156, 157, 158, 159, 160, 161, 162, 163, 164, 165, 166, 167, 168, 169, 170, 171, 172, 173, 174, 175, 176, 177, 178, 179, 180, 181, 182, 183, 184, 185, 186, 187, 188, 189, 190, 191, 192, 193, 194, 195, 196, 197, 198, 199, 200, 201, 202, 203, 204, 205, 206, 207, 208, 209, 210, 211, 212, 213, 214, 215, 216, 217, 218, 219, 220, 221, 222, 223, 224, 225, 226, 227, 228, 229, 230, 231, 232, 233, 234, 235, 236, 237, 238, 239, 240, 241, 242, 243, 244, 245, 246, 247, 248, 249, 250, 251, 252, 253, 254, 255, 256, 257, 258, 259, 260, 261, 262, 263, 264, 265, 266, 267, 268, 269, 270, 271, 272, 273, 274, 275, 276, 277, 278, 279, 280, 281, 282, 283, 284, 285, 286, 287, 288, 289, 290, 291, 292, 293, 294, 295, 296, 297, 298, 299, 300, 301, 302, 303, 304, 305, 306, 307, 308, 309, 310, 311, 312, 313, 314, 315, 316, 317, 318, 319, 320, 321, 322, 323, 324, 325, 326, 327, 328, 329, 330, 331, 332, 333, 334, 335, 336, 337, 338, 339, 340, 341, 342, 343, 344, 345, 346, 347, 348, 349, 350, 351, 352, 353, 354, 355, 356, 357, 358, 359, 360, 361, 362, 363, 364, 365, 366, 367, 368, 369, 370, 371, 372, 373, 374, 375, 376, 377, 378, 379, 380, 381, 382, 383, 384, 385, 386, 387, 388, 389, 390, 391, 392, 393, 394, 395, 396, 397, 398, 399, 400, 401, 402, 403, 404, 405, 406, 407, 408, 409, 410, 411, 412, 413, 414, 415, 416, 417, 418, 419, 420, 421, 422, 423, 424, 425, 426, 427, 428, 429, 430, 431, 432, 433, 434, 435, 436, 437, 438, 439, 440, 441, 442, 443, 444, 445, 446, 447, 448, 449, 450, 451, 452, 453, 454, 455, 456, 457, 458, 459, 460, 461, 462, 463, 464, 465, 466, 467, 468, 469, 470, 471, 472, 473, 474, 475, 476, 477, 478, 479, 480, 481, 482, 483, 484, 485, 486, 487, 488, 489, 490, 491, 492, 493, 494, 495, 496, 497, 498, 499, 500, 501, 502, 503, 504, 505, 506, 507, 508, 509, 510, 511, 512, 513, 514, 515, 516, 517, 518, 519, 520, 521, 522, 523, 524, 525, 526, 527, 528, 529, 530, 531, 532, 533, 534, 535, 536, 537, 538, 539, 540, 541, 542, 543, 544, 545, 546, 547, 548, 549, 550, 551, 552, 553, 554, 555, 556, 557, 558, 559, 560, 561, 562, 563, 564, 565, 566, 567, 568, 569, 570, 571, 572, 573, 574, 575, 576, 577, 578, 579, 580, 581, 582, 583, 584, 585, 586, 587, 588, 589, 590, 591, 592, 593, 594, 595, 596, 597, 598, 599, 600, 601, 602, 603, 604, 605, 606, 607, 608, 609, 610, 611, 612, 613, 614, 615, 616, 617, 618, 619, 620, 621, 622, 623, 624, 625, 626, 627, 628, 629, 630, 631, 632, 633, 634, 635, 636, 637, 638, 639, 640, 641, 642, 643, 644, 645, 646, 647, 648, 649, 650, 651, 652, 653, 654, 655, 656, 657, 658, 659, 660, 661, 662, 663, 664, 665, 666, 667, 668, 669, 670, 671, 672, 673, 674, 675, 676, 677, 678, 679, 680, 681, 682, 683, 684, 685, 686, 687, 688, 689, 690, 691, 692, 693, 694, 695, 696, 697, 698, 699, 700, 701, 702, 703, 704, 705, 706, 707, 708, 709, 710, 711, 712, 713, 714, 715, 716, 717, 718, 719, 720, 721, 722, 723, 724, 725, 726, 727, 728, 729, 730, 731, 732, 733, 734, 735, 736, 737, 738, 739, 740, 741, 742, 743, 744, 745, 746, 747, 748, 749, 750, 751, 752, 753, 754, 755, 756, 757, 758, 759, 760, 761, 762, 763, 764, 765, 766, 767, 768, 769, 770, 771, 772, 773, 774, 775, 776, 777, 778, 779, 780, 781, 782, 783, 784, 785, 786, 787, 788, 789, 790, 791, 792, 793, 794, 795, 796, 797, 798, 799, 800, 801, 802, 803, 804, 805, 806, 807, 808, 809, 810, 811, 812, 813, 814, 815, 816, 817, 818, 819, 820, 821, 822, 823, 824, 825, 826, 827, 828, 829, 830, 831, 832, 833, 834, 835, 836, 837, 838, 839, 840, 841, 842, 843, 844, 845, 846, 847, 848, 849, 850, 851, 852, 853, 854, 855, 856, 857, 858, 859, 860, 861, 862, 863, 864, 865, 866, 867, 868, 869, 870, 871, 872, 873, 874, 875, 876, 877, 878, 879, 880, 881, 882, 883, 884, 885, 886, 887, 888, 889, 890, 891, 892, 893, 894, 895, 896, 897, 898, 899, 900, 901, 902, 903, 904, 905, 906, 907, 908, 909, 910, 911, 912, 913, 914, 915, 916, 917, 918, 919, 920, 921, 922, 923, 924, 925, 926, 927, 928, 929, 930, 931, 932, 933, 934, 935, 936, 937, 938, 939, 940, 941, 942, 943, 944, 945, 946, 947, 948, 949, 950, 951, 952, 953, 954, 955, 956, 957, 958, 959, 960, 961, 962, 963, 964, 965, 966, 967, 968, 969, 970, 971, 972, 973, 974, 975, 976, 977, 978, 979, 980, 981, 982, 983, 984, 985, 986, 987, 988, 989, 990, 991, 992, 993, 994, 995, 996, 997, 998, 999, 1000, 1001, 1002, 1003, 1004, 1005, 1006, 1007, 1008, 1009, 1010, 1011, 1012, 1013, 1014, 1015, 1016, 1017, 1018, 1019, 1020, 1021, 1022, 1023, 1024, 1025, 1026, 1027, 1028, 1029, 1030, 1031, 1032, 1033, 1034, 1035, 1036, 1037, 1038, 1039, 1040, 1041, 1042, 1043, 1044, 1045, 1046, 1047, 1048, 1049, 1050, 1051, 1052, 1053, 1054, 1055, 1056, 1057, 1058, 1059, 1060, 1061, 1062, 1063, 1064, 1065, 1066, 1067, 1068, 1069, 1070, 1071, 1072, 1073, 1074, 1075, 1076, 1077, 1078, 1079, 1080, 1081, 1082, 1083, 1084, 1085, 1086, 1087, 1088, 1089, 1090, 1091, 1092, 1093, 1094, 1095, 1096, 1097, 1098, 1099, 1100, 1101, 1102, 1103, 1104, 1105, 1106, 1107, 1108, 1109, 1110, 1111, 1112, 1113, 1114, 1115, 1116, 1117, 1118, 1119, 1120, 1121, 1122, 1123, 1124, 1125, 1126, 1127, 1128, 1129, 1130, 1131, 1132, 1133, 1134, 1135, 1136, 1137, 1138, 1139, 1140, 1141, 1142, 1143, 1144, 1145, 1146, 1147, 1148, 1149, 1150, 1151, 1152, 1153, 1154, 1155, 1156, 1157, 1158, 1159, 1160, 1161, 1162, 1163, 1164, 1165, 1166, 1167, 1168, 1169, 1170, 1171, 1172, 1173, 1174, 1175, 1176, 1177, 1178, 1179, 1180, 1181, 1182, 1183, 1184, 1185, 1186, 1187, 1188, 1189, 1190, 1191, 1192, 1193, 1194, 1195, 1196, 1197, 1198, 1199, 1200, 1201, 1202, 1203, 1204, 1205, 1206, 1207, 1208, 1209, 1210, 1211, 1212, 1213, 1214, 1215, 1216, 1217, 1218, 1219, 1220, 1221, 1222, 1223, 1224, 1225, 1226, 1227, 1228, 1229, 1230, 1231, 1232, 1233, 1234, 1235, 1236, 1237, 1238, 1239, 1240, 1241, 1242, 1243, 1244, 1245, 1246, 1247, 1248, 1249, 1250, 1251, 1252, 1253, 1254, 1255, 1256, 1257, 1258, 1259, 1260, 1261, 1262, 1263, 1264, 1265, 1266, 1267, 1268, 1269, 1270, 1271, 1272, 1273, 1274, 1275, 1276, 1277, 1278, 1279, 1280, 1281, 1282, 1283, 1284, 1285, 1286, 1287, 1288, 1289, 1290, 1291, 1292, 1293, 1294, 1295, 1296, 1297, 1298, 1299, 1300, 1301, 1302, 1303, 1304, 1305, 1306, 1307, 1308, 1309, 1310, 1311, 1312, 1313, 1314, 1315, 1316, 1317, 1318, 1319, 1320, 1321, 1322, 1323, 1324, 1325, 1326, 1327, 1328, 1329, 1330, 1331, 1332, 1333, 1334, 1335, 1336, 1337, 1338, 1339, 1340, 1341, 1342, 1343, 1344, 1345, 1346, 1347, 1348, 1349, 1350, 1351, 1352, 1353, 1354, 1355, 1356, 1357, 1358, 1359, 1360, 1361, 1362, 1363, 1364, 1365, 1366, 1367, 1368, 1369, 1370, 1371, 1372, 1373, 1374, 1375, 1376, 1377, 1378, 1379, 1380, 1381, 1382, 1383, 1384, 1385, 1386, 1387, 1388, 1389, 1390, 1391, 1392, 1393, 1394, 1395, 1396, 1397, 1398, 1399, 1400, 1401, 1402, 1403, 1404, 1405, 1406, 1407, 1408, 1409, 1410, 1411, 1412, 1413, 1414, 1415, 1416, 1417, 1418, 1419, 1420, 1421, 1422, 1423, 1424, 1425, 1426, 1427, 1428, 1429, 1430, 1431, 1432, 1433, 1434, 1435, 1436, 1437, 1438, 1439, 1440, 1441, 1442, 1443, 1444, 1445, 1446, 1447, 1448, 1449, 1450, 1451, 1452, 1453, 1454, 1455, 1456, 1457, 1458, 1459, 1460, 1461, 1462, 1463, 1464, 1465, 1466, 1467, 1468, 1469, 1470, 1471, 1472, 1473, 1474, 1475, 1476, 1477, 1478, 1479, 1480, 1481, 1482, 1483, 1484, 1485, 1486, 1487, 1488, 1489, 1490, 1491, 1492, 1493, 1494, 1495, 1496, 1497, 1498, 1499, 1500, 1501, 1502, 1503, 1504, 1505, 1506, 1507, 1508, 1509, 1510, 1511, 1512, 1513, 1514, 1515, 1516, 1517, 1518, 1519, 1520, 1521, 1522, 1523, 1524, 1525, 1526, 1527, 1528, 1529, 1530, 1531, 1532, 1533, 1534, 1535, 1536, 1537, 1538, 1539, 1540, 1541, 1542, 1543, 1544, 1545, 1546, 1547, 1548, 1549, 1550, 1551, 1552, 1553, 1554, 1555, 1556, 1557]</pre></div></div></div><div class=\"sk-serial\"><div class=\"sk-item\"><div class=\"sk-estimator sk-toggleable\"><input class=\"sk-toggleable__control sk-hidden--visually\" id=\"sk-estimator-id-61\" type=\"checkbox\" ><label for=\"sk-estimator-id-61\" class=\"sk-toggleable__label sk-toggleable__label-arrow\">passthrough</label><div class=\"sk-toggleable__content\"><pre>passthrough</pre></div></div></div></div></div></div></div></div><div class=\"sk-item sk-dashed-wrapped\"><div class=\"sk-label-container\"><div class=\"sk-label sk-toggleable\"><input class=\"sk-toggleable__control sk-hidden--visually\" id=\"sk-estimator-id-62\" type=\"checkbox\" ><label for=\"sk-estimator-id-62\" class=\"sk-toggleable__label sk-toggleable__label-arrow\">trf3: ColumnTransformer</label><div class=\"sk-toggleable__content\"><pre>ColumnTransformer(transformers=[(&#x27;scale&#x27;, MinMaxScaler(),\n",
       "                                 slice(0, 1558, None))])</pre></div></div></div><div class=\"sk-parallel\"><div class=\"sk-parallel-item\"><div class=\"sk-item\"><div class=\"sk-label-container\"><div class=\"sk-label sk-toggleable\"><input class=\"sk-toggleable__control sk-hidden--visually\" id=\"sk-estimator-id-63\" type=\"checkbox\" ><label for=\"sk-estimator-id-63\" class=\"sk-toggleable__label sk-toggleable__label-arrow\">scale</label><div class=\"sk-toggleable__content\"><pre>slice(0, 1558, None)</pre></div></div></div><div class=\"sk-serial\"><div class=\"sk-item\"><div class=\"sk-estimator sk-toggleable\"><input class=\"sk-toggleable__control sk-hidden--visually\" id=\"sk-estimator-id-64\" type=\"checkbox\" ><label for=\"sk-estimator-id-64\" class=\"sk-toggleable__label sk-toggleable__label-arrow\">MinMaxScaler</label><div class=\"sk-toggleable__content\"><pre>MinMaxScaler()</pre></div></div></div></div></div></div></div></div><div class=\"sk-item\"><div class=\"sk-estimator sk-toggleable\"><input class=\"sk-toggleable__control sk-hidden--visually\" id=\"sk-estimator-id-65\" type=\"checkbox\" ><label for=\"sk-estimator-id-65\" class=\"sk-toggleable__label sk-toggleable__label-arrow\">SelectKBest</label><div class=\"sk-toggleable__content\"><pre>SelectKBest(k=7, score_func=&lt;function chi2 at 0x000001F84967E1F0&gt;)</pre></div></div></div><div class=\"sk-item\"><div class=\"sk-estimator sk-toggleable\"><input class=\"sk-toggleable__control sk-hidden--visually\" id=\"sk-estimator-id-66\" type=\"checkbox\" ><label for=\"sk-estimator-id-66\" class=\"sk-toggleable__label sk-toggleable__label-arrow\">XGBClassifier</label><div class=\"sk-toggleable__content\"><pre>XGBClassifier(base_score=0.5, booster=&#x27;gbtree&#x27;, colsample_bylevel=1,\n",
       "              colsample_bynode=1, colsample_bytree=1, enable_categorical=False,\n",
       "              gamma=0, gpu_id=-1, importance_type=None,\n",
       "              interaction_constraints=&#x27;&#x27;, learning_rate=0.300000012,\n",
       "              max_delta_step=0, max_depth=6, min_child_weight=1, missing=nan,\n",
       "              monotone_constraints=&#x27;()&#x27;, n_estimators=100, n_jobs=4,\n",
       "              num_parallel_tree=1, objective=&#x27;multi:softprob&#x27;, predictor=&#x27;auto&#x27;,\n",
       "              random_state=0, reg_alpha=0, reg_lambda=1, scale_pos_weight=None,\n",
       "              subsample=1, tree_method=&#x27;exact&#x27;, validate_parameters=1,\n",
       "              verbosity=None)</pre></div></div></div></div></div></div></div>"
      ],
      "text/plain": [
       "Pipeline(steps=[('trf1',\n",
       "                 ColumnTransformer(remainder='passthrough',\n",
       "                                   transformers=[('impute_companyname',\n",
       "                                                  SimpleImputer(strategy='most_frequent'),\n",
       "                                                  [0]),\n",
       "                                                 ('impute_financial_department',\n",
       "                                                  SimpleImputer(strategy='most_frequent'),\n",
       "                                                  [1]),\n",
       "                                                 ('impute_fincial_account_group',\n",
       "                                                  SimpleImputer(strategy='most_frequent'),\n",
       "                                                  [2]),\n",
       "                                                 ('impute_vendor_name',\n",
       "                                                  SimpleImputer(strategy='most...\n",
       "                               interaction_constraints='',\n",
       "                               learning_rate=0.300000012, max_delta_step=0,\n",
       "                               max_depth=6, min_child_weight=1, missing=nan,\n",
       "                               monotone_constraints='()', n_estimators=100,\n",
       "                               n_jobs=4, num_parallel_tree=1,\n",
       "                               objective='multi:softprob', predictor='auto',\n",
       "                               random_state=0, reg_alpha=0, reg_lambda=1,\n",
       "                               scale_pos_weight=None, subsample=1,\n",
       "                               tree_method='exact', validate_parameters=1,\n",
       "                               verbosity=None))])"
      ]
     },
     "execution_count": 99,
     "metadata": {},
     "output_type": "execute_result"
    }
   ],
   "source": [
    "pipe_xgb.fit(x_train, y_train)"
   ]
  },
  {
   "cell_type": "code",
   "execution_count": 100,
   "id": "9f7002d3",
   "metadata": {},
   "outputs": [],
   "source": [
    "xgb_pred = pipe_xgb.predict(x_test)"
   ]
  },
  {
   "cell_type": "code",
   "execution_count": 101,
   "id": "3946ce4f",
   "metadata": {},
   "outputs": [
    {
     "name": "stdout",
     "output_type": "stream",
     "text": [
      "The accuracy score for XGBCcalssifier model is : 0.22193877551020408\n",
      "The precision score forXGBCcalssifier model is : 0.4366263375180286\n",
      "The recall score for XGBCcalssifier model is   : 0.22193877551020408\n",
      "The f1 score for XGBCcalssifier model is       : 0.11041092772299055\n",
      "The confusion matrix for XGBCcalssifier model is:\n",
      " [[  0 955   0   0   0]\n",
      " [  0 934   0   0   0]\n",
      " [  0 951   0   0   0]\n",
      " [  0 913   0  22   0]\n",
      " [  0 841   0   0  88]]\n"
     ]
    }
   ],
   "source": [
    "print( \"The accuracy score for XGBCcalssifier model is :\",  accuracy_score(y_test, xgb_pred))\n",
    "print( \"The precision score forXGBCcalssifier model is :\",  precision_score(y_test, xgb_pred,average='weighted'))\n",
    "\n",
    "print( \"The recall score for XGBCcalssifier model is   :\",  recall_score(y_test, xgb_pred,average='weighted'))\n",
    "print( \"The f1 score for XGBCcalssifier model is       :\",  f1_score(y_test,xgb_pred,average='weighted'))\n",
    "\n",
    "print (\"The confusion matrix for XGBCcalssifier model is:\\n\", confusion_matrix(y_test,xgb_pred))"
   ]
  },
  {
   "cell_type": "markdown",
   "id": "f41a4174",
   "metadata": {},
   "source": [
    "XGBoost : HyperParameter Tunning"
   ]
  },
  {
   "cell_type": "code",
   "execution_count": 102,
   "id": "6fc42821",
   "metadata": {},
   "outputs": [],
   "source": [
    "# randimoised search cv\n",
    "\n",
    "n_estimators = [20,40,60,100]\n",
    "\n",
    "max_features =[0.2,0.4,0.6]\n",
    "\n",
    "max_depth = [2,8,None]\n",
    "\n",
    "max_samples = [0.25,0.4,0.8,1.0]\n",
    "\n",
    "min_samples_split = [2,5]"
   ]
  },
  {
   "cell_type": "code",
   "execution_count": 103,
   "id": "7211b9c3",
   "metadata": {},
   "outputs": [
    {
     "name": "stdout",
     "output_type": "stream",
     "text": [
      "{'n_estimators': [20, 40, 60, 100], 'max_features': [0.2, 0.4, 0.6], 'max_depth': [2, 8, None], 'max_samples': [0.25, 0.4, 0.8, 1.0], 'min_samples_split': [2, 5]}\n"
     ]
    }
   ],
   "source": [
    "\n",
    "param_grid ={'n_estimators': n_estimators,\n",
    "             'max_features': max_features,\n",
    "             'max_depth'   : max_depth,\n",
    "              'max_samples' : max_samples,\n",
    "             'min_samples_split' : min_samples_split, \n",
    "            }\n",
    "print(param_grid)\n",
    "\n",
    "xgb  = XGBClassifier()\n",
    "\n"
   ]
  },
  {
   "cell_type": "code",
   "execution_count": 104,
   "id": "20c295f9",
   "metadata": {},
   "outputs": [
    {
     "data": {
      "text/plain": [
       "'\\nxgb_grid = GridSearchCV(estimator = xgb,\\n                      param_grid=param_grid,\\n                      n_jobs = -1)\\nxgb_grid.fit(x_train,y_train)\\n\\n\\nxgb_grid.best_params_\\n'"
      ]
     },
     "execution_count": 104,
     "metadata": {},
     "output_type": "execute_result"
    }
   ],
   "source": [
    "\n",
    "xgb_grid = GridSearchCV(estimator = xgb,\n",
    "                      param_grid=param_grid,\n",
    "                      n_jobs = -1)\n",
    "xgb_grid.fit(x_train,y_train)\n",
    "\n",
    "\n",
    "xgb_grid.best_params_\n",
    "\n"
   ]
  },
  {
   "cell_type": "code",
   "execution_count": 105,
   "id": "6865c4bc",
   "metadata": {},
   "outputs": [
    {
     "name": "stdout",
     "output_type": "stream",
     "text": [
      "[19:16:49] WARNING: C:/Users/Administrator/workspace/xgboost-win64_release_1.5.1/src/learner.cc:1115: Starting in XGBoost 1.3.0, the default evaluation metric used with the objective 'multi:softprob' was changed from 'merror' to 'mlogloss'. Explicitly set eval_metric if you'd like to restore the old behavior.\n"
     ]
    }
   ],
   "source": [
    "trf8  = XGBClassifier(n_estimators= 60,min_samples_split= 5,min_samples_leaf= 2,max_samples= 0.8,max_features= 0.2,\n",
    "                     max_depth= None)\n",
    "pipe_xgb.fit(x_train,y_train)\n",
    "xgb_prediction = pipe_xgb.predict(x_test)\n"
   ]
  },
  {
   "cell_type": "code",
   "execution_count": 106,
   "id": "22391277",
   "metadata": {},
   "outputs": [
    {
     "name": "stdout",
     "output_type": "stream",
     "text": [
      "The accuracy score for XGBCcalssifier model is : 0.22193877551020408\n",
      "The precision score forXGBCcalssifier model is : 0.4366263375180286\n",
      "The recall score for XGBCcalssifier model is   : 0.22193877551020408\n",
      "The f1 score for XGBCcalssifier model is       : 0.11041092772299055\n",
      "The confusion matrix for XGBCcalssifier model is:\n",
      " [[  0 955   0   0   0]\n",
      " [  0 934   0   0   0]\n",
      " [  0 951   0   0   0]\n",
      " [  0 913   0  22   0]\n",
      " [  0 841   0   0  88]]\n"
     ]
    }
   ],
   "source": [
    "print( \"The accuracy score for XGBCcalssifier model is :\",  accuracy_score(y_test, xgb_prediction))\n",
    "print( \"The precision score forXGBCcalssifier model is :\",  precision_score(y_test, xgb_prediction,average='weighted'))\n",
    "\n",
    "print( \"The recall score for XGBCcalssifier model is   :\",  recall_score(y_test, xgb_prediction,average='weighted'))\n",
    "print( \"The f1 score for XGBCcalssifier model is       :\",  f1_score(y_test,xgb_prediction,average='weighted'))\n",
    "\n",
    "print (\"The confusion matrix for XGBCcalssifier model is:\\n\", confusion_matrix(y_test,xgb_prediction))"
   ]
  },
  {
   "cell_type": "markdown",
   "id": "63c52db8",
   "metadata": {},
   "source": [
    "#### Conclusion:\n",
    "It is quite evident from performace metrics of all Estimators that how critical the amount of data for prediction.Even after increasing quantity of minority class by SMOTE and Hyperparameter optimization accurcay was pretty same."
   ]
  },
  {
   "cell_type": "markdown",
   "id": "95df55d7",
   "metadata": {},
   "source": [
    "Prediction:"
   ]
  },
  {
   "cell_type": "code",
   "execution_count": 107,
   "id": "5f3eed74",
   "metadata": {},
   "outputs": [
    {
     "data": {
      "text/plain": [
       "array(['X1', 'X1', 'X1', ..., 'X1', 'X1', 'X1'], dtype=object)"
      ]
     },
     "execution_count": 107,
     "metadata": {},
     "output_type": "execute_result"
    }
   ],
   "source": [
    "final_prediction  = pipe_xgb.predict(test_data)\n",
    "final_prediction "
   ]
  },
  {
   "cell_type": "code",
   "execution_count": 108,
   "id": "ade760ed",
   "metadata": {},
   "outputs": [
    {
     "data": {
      "text/html": [
       "<div>\n",
       "<style scoped>\n",
       "    .dataframe tbody tr th:only-of-type {\n",
       "        vertical-align: middle;\n",
       "    }\n",
       "\n",
       "    .dataframe tbody tr th {\n",
       "        vertical-align: top;\n",
       "    }\n",
       "\n",
       "    .dataframe thead th {\n",
       "        text-align: right;\n",
       "    }\n",
       "</style>\n",
       "<table border=\"1\" class=\"dataframe\">\n",
       "  <thead>\n",
       "    <tr style=\"text-align: right;\">\n",
       "      <th></th>\n",
       "      <th>Category</th>\n",
       "    </tr>\n",
       "  </thead>\n",
       "  <tbody>\n",
       "    <tr>\n",
       "      <th>0</th>\n",
       "      <td>X1</td>\n",
       "    </tr>\n",
       "    <tr>\n",
       "      <th>1</th>\n",
       "      <td>X1</td>\n",
       "    </tr>\n",
       "    <tr>\n",
       "      <th>2</th>\n",
       "      <td>X1</td>\n",
       "    </tr>\n",
       "    <tr>\n",
       "      <th>3</th>\n",
       "      <td>X1</td>\n",
       "    </tr>\n",
       "    <tr>\n",
       "      <th>4</th>\n",
       "      <td>X1</td>\n",
       "    </tr>\n",
       "    <tr>\n",
       "      <th>...</th>\n",
       "      <td>...</td>\n",
       "    </tr>\n",
       "    <tr>\n",
       "      <th>1020</th>\n",
       "      <td>X1</td>\n",
       "    </tr>\n",
       "    <tr>\n",
       "      <th>1021</th>\n",
       "      <td>X1</td>\n",
       "    </tr>\n",
       "    <tr>\n",
       "      <th>1022</th>\n",
       "      <td>X1</td>\n",
       "    </tr>\n",
       "    <tr>\n",
       "      <th>1023</th>\n",
       "      <td>X1</td>\n",
       "    </tr>\n",
       "    <tr>\n",
       "      <th>1024</th>\n",
       "      <td>X1</td>\n",
       "    </tr>\n",
       "  </tbody>\n",
       "</table>\n",
       "<p>1025 rows × 1 columns</p>\n",
       "</div>"
      ],
      "text/plain": [
       "     Category\n",
       "0          X1\n",
       "1          X1\n",
       "2          X1\n",
       "3          X1\n",
       "4          X1\n",
       "...       ...\n",
       "1020       X1\n",
       "1021       X1\n",
       "1022       X1\n",
       "1023       X1\n",
       "1024       X1\n",
       "\n",
       "[1025 rows x 1 columns]"
      ]
     },
     "execution_count": 108,
     "metadata": {},
     "output_type": "execute_result"
    }
   ],
   "source": [
    "submission  =pd.DataFrame()\n",
    "submission['Category'] = final_prediction \n",
    "submission"
   ]
  },
  {
   "cell_type": "code",
   "execution_count": 109,
   "id": "3f3fb1d6",
   "metadata": {},
   "outputs": [],
   "source": [
    "import pickle\n",
    "pickle.dump(pipe_xgb,open('model_save','wb'))"
   ]
  },
  {
   "cell_type": "code",
   "execution_count": 110,
   "id": "efdc7b14",
   "metadata": {},
   "outputs": [
    {
     "data": {
      "text/plain": [
       "array(['X1', 'X1', 'X1', ..., 'X1', 'X1', 'X1'], dtype=object)"
      ]
     },
     "execution_count": 110,
     "metadata": {},
     "output_type": "execute_result"
    }
   ],
   "source": [
    "loded_model  = pickle.load(open('model_save', 'rb'))\n",
    "loded_model.predict(test_data)\n",
    "\n"
   ]
  },
  {
   "cell_type": "code",
   "execution_count": null,
   "id": "9cb58cee",
   "metadata": {},
   "outputs": [],
   "source": []
  }
 ],
 "metadata": {
  "kernelspec": {
   "display_name": "Python 3 (ipykernel)",
   "language": "python",
   "name": "python3"
  },
  "language_info": {
   "codemirror_mode": {
    "name": "ipython",
    "version": 3
   },
   "file_extension": ".py",
   "mimetype": "text/x-python",
   "name": "python",
   "nbconvert_exporter": "python",
   "pygments_lexer": "ipython3",
   "version": "3.9.7"
  }
 },
 "nbformat": 4,
 "nbformat_minor": 5
}
